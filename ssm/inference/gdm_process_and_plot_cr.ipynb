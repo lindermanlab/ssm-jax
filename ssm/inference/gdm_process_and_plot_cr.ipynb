{
 "cells": [
  {
   "cell_type": "code",
   "execution_count": 1,
   "id": "4eda5018",
   "metadata": {},
   "outputs": [
    {
     "data": {
      "text/html": [
       "<style>.container { width:80% !important; }</style>"
      ],
      "text/plain": [
       "<IPython.core.display.HTML object>"
      ]
     },
     "metadata": {},
     "output_type": "display_data"
    }
   ],
   "source": [
    "import torch\n",
    "import timeit\n",
    "import matplotlib.pyplot as plt\n",
    "import numpy as np\n",
    "\n",
    "from pprint import pprint\n",
    "from copy import deepcopy as dc\n",
    "\n",
    "from matplotlib import rc\n",
    "from matplotlib.font_manager import FontProperties\n",
    "\n",
    "# Put Matplotlib into notebook mode and change the font.\n",
    "# If LaTeX x MatPlotLib is not configured on your machine, then comment this section.\n",
    "# %matplotlib notebook\n",
    "rc('font',**{'family':'serif',\n",
    "             'serif':['Palatino'], \n",
    "             'size': 8,})\n",
    "rc('text', usetex=True)\n",
    "\n",
    "# Change the dimensions of the notebook to fit window,\n",
    "from IPython.core.display import display, HTML\n",
    "display(HTML(\"<style>.container { width:80% !important; }</style>\"))\n",
    "\n",
    "import pandas as pd \n",
    "import wandb\n",
    "api = wandb.Api()\n",
    "\n",
    "from pathlib import Path\n",
    "home = str(Path.home())\n",
    "\n",
    "# Define the standard plotting colours.\n",
    "color_names = [\n",
    "    \"tab:blue\",\n",
    "    \"tab:orange\",\n",
    "    \"tab:green\",\n",
    "    \"tab:red\",\n",
    "    \"tab:purple\",\n",
    "    \"tab:brown\",\n",
    "    \"tab:pink\",\n",
    "    \"tab:gray\",\n",
    "    \"tab:olive\",\n",
    "    \"tab:cyan\"\n",
    "] * 10\n",
    "\n",
    "# Some other colour / visual settings.\n",
    "fill_alpha = 0.2\n",
    "main_line_width = 1.0\n",
    "edge_alpha = 0.5\n",
    "\n",
    "# Paper and figure size.\n",
    "column_width = 3.25  # INCHES.\n",
    "\n",
    "fig_size_onecol = [column_width * 1.00,  # Width.\n",
    "                   column_width * 0.60]  # Height.\n",
    "\n",
    "fig_size_hlfcol = [column_width * 0.48,  # Width. \n",
    "                   column_width * 0.60]  # Height.\n",
    "\n",
    "fig_size_twocol = [column_width * 2.00,  # Width. \n",
    "                   column_width * 0.60]  # Height.\n",
    "\n",
    "label_gen = lambda __str, __i=0: __str if __i == 0 else None"
   ]
  },
  {
   "cell_type": "markdown",
   "id": "55c8fff7",
   "metadata": {},
   "source": [
    "# Get individual run."
   ]
  },
  {
   "cell_type": "code",
   "execution_count": 14,
   "id": "773468e5",
   "metadata": {},
   "outputs": [],
   "source": [
    "def get_experiment_from_wandb(project, exp_tag, exp_key=None, exp_val=None):\n",
    "\n",
    "    print(exp_tag)\n",
    "    column_names = ''\n",
    "    \n",
    "    # Grab all the runs.\n",
    "    runs = api.runs(project, timeout=19)\n",
    "    filtered_runs = []\n",
    "    filtered_histories = []\n",
    "    for _run in runs: \n",
    "        try:\n",
    "            # if _run.config['group'] == exp_tag:\n",
    "            if _run.group == exp_tag:\n",
    "                filtered_runs.append(_run)\n",
    "                _hist = _run.history(samples=99999999)\n",
    "                filtered_histories.append(_hist)  # Run with some token large number to grab all the samples.  Can be very slow.\n",
    "                column_names = _hist.columns\n",
    "        except:\n",
    "            pass\n",
    "    print(len(filtered_runs))\n",
    "    \n",
    "    # Throw and error if there were no runs.\n",
    "    if len(filtered_runs) == 0:\n",
    "        raise RuntimeError(\"No experiments found.  Check the exp_tag.\")\n",
    "\n",
    "\n",
    "    # Now re-grab the runs and make sure they all share keys.\n",
    "    key_runs = api.runs(project)\n",
    "    keys = []\n",
    "    for _run in key_runs: \n",
    "        try:\n",
    "            if _run.group == exp_tag:\n",
    "                keys.append(_run.scan_history().__next__().keys())\n",
    "        except Exception as err:\n",
    "            pass\n",
    "\n",
    "    # print(keys)\n",
    "    assert all([keys[0] == _k for _k in keys]), 'Keys are not shared.'\n",
    "    \n",
    "    # Go and get everything.\n",
    "    values = []\n",
    "    lengths = []\n",
    "    for _hist in filtered_histories:\n",
    "        _values = []\n",
    "        for _v in _hist:\n",
    "            _values.append(_v)\n",
    "        values.append(_values)\n",
    "        lengths.append(len(_values))\n",
    "    min_Length = np.min(lengths)\n",
    "        \n",
    "    return values, min_Length, filtered_histories, column_names\n"
   ]
  },
  {
   "cell_type": "code",
   "execution_count": 3,
   "id": "6945c2bd",
   "metadata": {},
   "outputs": [
    {
     "name": "stdout",
     "output_type": "stream",
     "text": [
      "gdm-cr-v2-0-0-fivo-aux\n",
      "25\n",
      "gdm-cr-v2-0-0-fivo-aux-sgr\n",
      "25\n",
      "'Keys:'\n",
      "['step',\n",
      " 'params_p_true.dynamics_bias',\n",
      " 'params_p_pred.dynamics_bias',\n",
      " 'upc.mean.bpf_true',\n",
      " 'upc.mean.fivo',\n",
      " '_step',\n",
      " 'params_q_pred.head_mean_fn_bias',\n",
      " 'upc.uq.fivo',\n",
      " 'upc.uq.bpf_true',\n",
      " 'params_r_pred.head_mean_fn_kernel',\n",
      " 'upc.median.bpf_true',\n",
      " 'params_r_pred.head_mean_fn_bias',\n",
      " 'params_q_pred.head_mean_fn_kernel',\n",
      " 'upc.lq.fivo',\n",
      " 'small_lml.mean.em_true',\n",
      " 'params_r_pred.head_log_var_fn_bias_(EXP)',\n",
      " 'upc.lq.bpf_true',\n",
      " 'params_q_pred.head_log_var_fn_bias_(EXP)',\n",
      " 'upc.median.fivo',\n",
      " 'upc.variance.bpf_true',\n",
      " 'upc.variance.fivo',\n",
      " '_runtime',\n",
      " 'small_fivo_bound',\n",
      " 'small_lml.mean.fivo',\n",
      " 'small_lml.variance.bpf_true',\n",
      " 'epoch',\n",
      " 'expected_kl.fivo',\n",
      " 'small_lml.mean.bpf_true',\n",
      " 'pred_fivo_bound',\n",
      " 'pred_lml',\n",
      " 'expected_kl.bpf_true',\n",
      " '_timestamp',\n",
      " 'small_lml.variance.fivo',\n",
      " 'true_lml']\n"
     ]
    }
   ],
   "source": [
    "# filtered_histories = run.history(samples=99999999)  # Run with some token large number to grab all the samples.  Can be very slow.\n",
    "# filtered_histories = [_r.scan_history() for _r in filtered_runs]  # Default to using fewer samples.\n",
    "\n",
    "plot_styles = ['-', '--', ':', '-.'] * 10\n",
    "\n",
    "# Project is specified by <entity/project-name>\n",
    "project = \"andrewwarrington/fivo-aux-beta\"\n",
    "\n",
    "exp_tag = ['gdm-cr-v2-0-0-fivo-aux', 'gdm-cr-v2-0-0-fivo-aux-sgr']\n",
    "exp_label = ['FIVO-AUX', 'FIVO-AUX-SGR']\n",
    "save_tag = 'a-gdm-cr-v2-0'\n",
    "\n",
    "filtered_histories = []\n",
    "column_names = None\n",
    "for _tag in exp_tag:\n",
    "    _, _, _filtered_histories, column_names = get_experiment_from_wandb(project, _tag)\n",
    "    filtered_histories.append(_filtered_histories)\n",
    "\n",
    "pprint(\"Keys:\")\n",
    "pprint(list(filtered_histories[0][0].keys()))\n"
   ]
  },
  {
   "cell_type": "code",
   "execution_count": 5,
   "id": "0ab7a9bf",
   "metadata": {},
   "outputs": [
    {
     "name": "stdout",
     "output_type": "stream",
     "text": [
      "Having optimization steps shown.\n"
     ]
    },
    {
     "data": {
      "image/png": "[encoded data removed]",
      "text/plain": [
       "<Figure size 234x140.4 with 1 Axes>"
      ]
     },
     "metadata": {
      "needs_background": "light"
     },
     "output_type": "display_data"
    }
   ],
   "source": [
    "# NOTE - we store the true lml in this field.\n",
    "# NOTE - these should all evalaute to the same quantity. TODO\n",
    "# NOTE - maybe shift this to use true_lml\n",
    "\n",
    "true_loss_key = 'small_lml.mean.bpf_true'\n",
    "fivo_aux_key = 'small_lml.mean.fivo'\n",
    "\n",
    "# Get the loss.\n",
    "# True loss.\n",
    "true_lml = np.log(np.mean(np.exp([_h.get(true_loss_key) for _h in filtered_histories[0]])))\n",
    "\n",
    "# Fivo aux.\n",
    "fivo_aux_lml = []\n",
    "for _j in range(len(filtered_histories[0])):\n",
    "    fivo_aux_lml.append(np.stack(filtered_histories[0][_j].get(fivo_aux_key).values.squeeze()))\n",
    "fivo_aux_lml = np.stack(fivo_aux_lml).squeeze()\n",
    "fivo_aux_lml_mu = np.quantile(fivo_aux_lml, 0.50, axis=0)\n",
    "fivo_aux_lml_lq = np.quantile(fivo_aux_lml, 0.25, axis=0)\n",
    "fivo_aux_lml_uq = np.quantile(fivo_aux_lml, 0.75, axis=0)\n",
    "\n",
    "# Fivo aux sgr.\n",
    "fivo_aux_sgr_lml = []\n",
    "for _j in range(len(filtered_histories[1])):\n",
    "    fivo_aux_sgr_lml.append(np.stack(filtered_histories[1][_j].get(fivo_aux_key).values.squeeze()))\n",
    "fivo_aux_sgr_lml = np.stack(fivo_aux_sgr_lml).squeeze()\n",
    "fivo_aux_sgr_lml_mu = np.quantile(fivo_aux_sgr_lml, 0.50, axis=0)\n",
    "fivo_aux_sgr_lml_lq = np.quantile(fivo_aux_sgr_lml, 0.25, axis=0)\n",
    "fivo_aux_sgr_lml_uq = np.quantile(fivo_aux_sgr_lml, 0.75, axis=0)\n",
    "\n",
    "# Set up the x points.\n",
    "x = filtered_histories[0][0].get('step').values.squeeze()\n",
    "\n",
    "# Build the figure.\n",
    "f = plt.figure(figsize=fig_size_onecol)\n",
    "\n",
    "# Plot the stuff.\n",
    "plt.plot(x, fivo_aux_lml_mu, c=color_names[0], label='FIVO-Aux')\n",
    "plt.fill_between(x, fivo_aux_lml_lq, fivo_aux_lml_uq, color=color_names[0], alpha=fill_alpha)\n",
    "\n",
    "plt.plot(x, fivo_aux_sgr_lml_mu, c=color_names[1], label='FIVO-Aux-SGR')\n",
    "plt.fill_between(x, fivo_aux_sgr_lml_lq, fivo_aux_sgr_lml_uq, color=color_names[1], alpha=fill_alpha)\n",
    "\n",
    "plt.plot([np.min(x), np.max(x)], [true_lml, true_lml], c='k', linestyle='--', linewidth=main_line_width, label='True value')\n",
    "\n",
    "# Set up x axis.\n",
    "plt.xlim([0, np.max(x) / 2.0])  # NOTE - halving the optimization steps.\n",
    "print('Halving optimization steps shown.')\n",
    "plt.xlabel('Optimization step, $i$')\n",
    "\n",
    "# Set up y axis.\n",
    "plt.ylabel(r'NLL')\n",
    "\n",
    "# Set up legend.\n",
    "plt.legend()\n",
    "\n",
    "# Do menial stuff.\n",
    "plt.grid(True)\n",
    "# plt.tight_layout()\n",
    "plt.yscale('log')\n",
    "\n",
    "xpad = 0.2\n",
    "ypad = 0.2\n",
    "plt.gca().set_position((xpad, ypad, 1-xpad-0.05, 1-ypad-0.02))\n",
    "\n",
    "# Save out.\n",
    "plt.draw()\n",
    "plt.savefig(home + '/Downloads/{}_loss'.format(save_tag).replace('.', '-') + '.pdf')\n"
   ]
  },
  {
   "cell_type": "code",
   "execution_count": 6,
   "id": "4e966395",
   "metadata": {},
   "outputs": [
    {
     "data": {
      "image/png": "[encoded data removed]",
      "text/plain": [
       "<Figure size 234x140.4 with 1 Axes>"
      ]
     },
     "metadata": {
      "needs_background": "light"
     },
     "output_type": "display_data"
    }
   ],
   "source": [
    "true_param_key = 'params_p_true.dynamics_bias'\n",
    "fivo_param_key = 'params_p_pred.dynamics_bias'\n",
    "\n",
    "# Get the params.\n",
    "# True param.\n",
    "true_param = np.mean(filtered_histories[0][0].get(true_param_key))\n",
    "\n",
    "# Fivo aux.\n",
    "fivo_aux_param = []\n",
    "for _j in range(len(filtered_histories[0])):\n",
    "    fivo_aux_param.append(np.stack(filtered_histories[0][_j].get(fivo_param_key).values.squeeze()))\n",
    "fivo_aux_param = np.stack(fivo_aux_param).squeeze()\n",
    "fivo_aux_param_mu = np.quantile(fivo_aux_param, 0.50, axis=0)\n",
    "fivo_aux_param_lq = np.quantile(fivo_aux_param, 0.25, axis=0)\n",
    "fivo_aux_param_uq = np.quantile(fivo_aux_param, 0.75, axis=0)\n",
    "\n",
    "# Fivo aux sgr.\n",
    "fivo_aux_sgr_param = []\n",
    "for _j in range(len(filtered_histories[1])):\n",
    "    fivo_aux_sgr_param.append(np.stack(filtered_histories[1][_j].get(fivo_param_key).values.squeeze()))\n",
    "fivo_aux_sgr_param = np.stack(fivo_aux_sgr_param).squeeze()\n",
    "fivo_aux_sgr_param_mu = np.quantile(fivo_aux_sgr_param, 0.50, axis=0)\n",
    "fivo_aux_sgr_param_lq = np.quantile(fivo_aux_sgr_param, 0.25, axis=0)\n",
    "fivo_aux_sgr_param_uq = np.quantile(fivo_aux_sgr_param, 0.75, axis=0)\n",
    "\n",
    "# Set up the x points.\n",
    "x = filtered_histories[0][0].get('step').values.squeeze()\n",
    "\n",
    "# Build the figure.\n",
    "f = plt.figure(figsize=fig_size_onecol)\n",
    "\n",
    "# Plot the stuff.\n",
    "plt.plot(x, fivo_aux_param_mu, c=color_names[0], label=exp_label[0])\n",
    "plt.fill_between(x, fivo_aux_param_lq, fivo_aux_param_uq, color=color_names[0], alpha=fill_alpha)\n",
    "\n",
    "plt.plot(x, fivo_aux_sgr_param_mu, c=color_names[1], label=exp_label[1])\n",
    "plt.fill_between(x, fivo_aux_sgr_param_lq, fivo_aux_sgr_param_uq, color=color_names[1], alpha=fill_alpha)\n",
    "\n",
    "plt.plot([np.min(x), np.max(x)], [true_param, true_param], c='k', linestyle='--', linewidth=main_line_width, label='True value')\n",
    "\n",
    "# Set up x axis.\n",
    "plt.xlim([0, np.max(x)])\n",
    "plt.xlabel('Optimization step, $i$')\n",
    "\n",
    "# Set up y axis.\n",
    "plt.ylabel(r'$\\theta_i$')\n",
    "# plt.yscale('symlog')\n",
    "\n",
    "# Set up legend.\n",
    "plt.legend()\n",
    "\n",
    "# Do menial stuff.\n",
    "plt.grid(True)\n",
    "plt.tight_layout()\n",
    "\n",
    "# Save out.\n",
    "plt.savefig(home + '/Downloads/{}_param'.format(save_tag).replace('.', '-') + '.pdf')\n",
    "\n"
   ]
  },
  {
   "cell_type": "code",
   "execution_count": 7,
   "id": "8fe495a6",
   "metadata": {},
   "outputs": [
    {
     "data": {
      "image/png": "[encoded data removed]",
      "text/plain": [
       "<Figure size 112.32x140.4 with 1 Axes>"
      ]
     },
     "metadata": {
      "needs_background": "light"
     },
     "output_type": "display_data"
    },
    {
     "data": {
      "image/png": "[encoded data removed]",
      "text/plain": [
       "<Figure size 112.32x140.4 with 1 Axes>"
      ]
     },
     "metadata": {
      "needs_background": "light"
     },
     "output_type": "display_data"
    },
    {
     "data": {
      "image/png": "[encoded data removed]",
      "text/plain": [
       "<Figure size 112.32x140.4 with 1 Axes>"
      ]
     },
     "metadata": {
      "needs_background": "light"
     },
     "output_type": "display_data"
    },
    {
     "data": {
      "image/png": "[encoded data removed]",
      "text/plain": [
       "<Figure size 112.32x140.4 with 1 Axes>"
      ]
     },
     "metadata": {
      "needs_background": "light"
     },
     "output_type": "display_data"
    }
   ],
   "source": [
    "n_opt_evals = len(filtered_histories[0][0].get(true_param_key))\n",
    "T = 10\n",
    "t = np.arange(1, T+1)  # There are ten time steps.\n",
    "\n",
    "## Proposal.\n",
    "\n",
    "keys = [#'params_q_pred.head_mean_fn_kernel',   # TODO - need to make this able to deal with multiple params.\n",
    "        'params_q_pred.head_mean_fn_bias', \n",
    "        'params_q_pred.head_log_var_fn_bias_(EXP)']\n",
    "\n",
    "true_vals = [#np.ones((n_opt_evals, )),\n",
    "             np.zeros((n_opt_evals, )),\n",
    "             (T - t + 1) / (T - t + 2)]\n",
    "\n",
    "for _j, _e in enumerate(exp_tag):\n",
    "    for _i, _k in enumerate(keys):\n",
    "        # Get the param.\n",
    "        # True.\n",
    "        true_param = true_vals[_i]\n",
    "\n",
    "        # Fivo aux.\n",
    "        fivo_aux_param = []\n",
    "        for __j in range(len(filtered_histories[_j])):\n",
    "            fivo_aux_param.append(np.stack(filtered_histories[_j][__j].get(_k).values.squeeze()))\n",
    "        fivo_aux_param = np.stack(fivo_aux_param).squeeze()\n",
    "        fivo_aux_param_mu = np.quantile(fivo_aux_param, 0.50, axis=0)\n",
    "        fivo_aux_param_lq = np.quantile(fivo_aux_param, 0.25, axis=0)\n",
    "        fivo_aux_param_uq = np.quantile(fivo_aux_param, 0.75, axis=0)\n",
    "\n",
    "        # Set up the x points.\n",
    "        x = filtered_histories[0][0].get('step').values.squeeze()\n",
    "\n",
    "        # Build the figure.\n",
    "        fig = plt.figure(figsize=fig_size_hlfcol)\n",
    "\n",
    "        # Plot the stuff.\n",
    "        for __i, (_m, _l, _u) in enumerate(zip(fivo_aux_param_mu.T, fivo_aux_param_lq.T, fivo_aux_param_uq.T)):\n",
    "            plt.plot(x, _m, c=color_names[__i], label=label_gen(exp_label[_j], __i))\n",
    "            plt.fill_between(x, _l, _u, alpha=fill_alpha, facecolor=color_names[__i])\n",
    "\n",
    "            plt.plot([np.min(x), np.max(x)], [true_param[__i], true_param[__i]], c=color_names[__i], linestyle='--', linewidth=main_line_width, label=label_gen('True value', __i))\n",
    "\n",
    "        plt.grid(True)\n",
    "\n",
    "        # Set up x axis.\n",
    "        plt.xlim([0, np.max(x)])\n",
    "        plt.xlabel('Optimization step, $i$')\n",
    "        # plt.xscale('log')\n",
    "\n",
    "        # Set up y axis.\n",
    "        plt.ylabel(r'$\\phi_i$')\n",
    "        # plt.yscale('symlog')\n",
    "\n",
    "        # # Set up legend.\n",
    "        # plt.legend()\n",
    "\n",
    "        # # Do menial stuff.\n",
    "        # plt.tight_layout()\n",
    "        \n",
    "        xpad = 0.3\n",
    "        ypad = 0.3\n",
    "        plt.gca().set_position((xpad, ypad, 1-xpad-0.05, 1-ypad-0.02))\n",
    "        \n",
    "        # Save out.\n",
    "        plt.draw()\n",
    "        plt.savefig(home + '/Downloads/{}_q_{}_{}'.format(save_tag, _e, _k).replace('.', '-') + '.pdf')\n",
    "\n",
    "\n"
   ]
  },
  {
   "cell_type": "code",
   "execution_count": 8,
   "id": "24539727",
   "metadata": {},
   "outputs": [
    {
     "name": "stdout",
     "output_type": "stream",
     "text": [
      "Having optimization steps shown.\n",
      "Having optimization steps shown.\n",
      "Having optimization steps shown.\n",
      "Having optimization steps shown.\n"
     ]
    },
    {
     "data": {
      "image/png": "[encoded data removed]",
      "text/plain": [
       "<Figure size 112.32x104.4 with 1 Axes>"
      ]
     },
     "metadata": {
      "needs_background": "light"
     },
     "output_type": "display_data"
    },
    {
     "data": {
      "image/png": "[encoded data removed]",
      "text/plain": [
       "<Figure size 112.32x104.4 with 1 Axes>"
      ]
     },
     "metadata": {
      "needs_background": "light"
     },
     "output_type": "display_data"
    },
    {
     "data": {
      "image/png": "[encoded data removed]",
      "text/plain": [
       "<Figure size 112.32x104.4 with 1 Axes>"
      ]
     },
     "metadata": {
      "needs_background": "light"
     },
     "output_type": "display_data"
    },
    {
     "data": {
      "image/png": "[encoded data removed]",
      "text/plain": [
       "<Figure size 112.32x104.4 with 1 Axes>"
      ]
     },
     "metadata": {
      "needs_background": "light"
     },
     "output_type": "display_data"
    }
   ],
   "source": [
    "n_opt_evals = len(filtered_histories[0][0].get(true_param_key))\n",
    "T = 10\n",
    "t = np.arange(1, T+1)  # There are ten time steps.\n",
    "\n",
    "## Proposal.\n",
    "\n",
    "keys = [#'params_q_pred.head_mean_fn_kernel',   # TODO - need to make this able to deal with multiple params.\n",
    "        'params_r_pred.head_mean_fn_bias', \n",
    "        'params_r_pred.head_log_var_fn_bias_(EXP)']\n",
    "\n",
    "true_vals = [#np.ones((n_opt_evals, )),\n",
    "             np.zeros((n_opt_evals, )),\n",
    "             list(reversed(np.arange(2, T+1)))]\n",
    "\n",
    "for _j, _e in enumerate(exp_tag):\n",
    "    for _i, _k in enumerate(keys):\n",
    "        # Get the param.\n",
    "        # True.\n",
    "        true_param = true_vals[_i]\n",
    "\n",
    "        # Fivo aux.\n",
    "        fivo_aux_param = []\n",
    "        for __j in range(len(filtered_histories[_j])):\n",
    "            fivo_aux_param.append(np.stack(filtered_histories[_j][__j].get(_k).values.squeeze()))\n",
    "        fivo_aux_param = np.stack(fivo_aux_param).squeeze()\n",
    "        fivo_aux_param_mu = np.quantile(fivo_aux_param, 0.50, axis=0)\n",
    "        fivo_aux_param_lq = np.quantile(fivo_aux_param, 0.25, axis=0)\n",
    "        fivo_aux_param_uq = np.quantile(fivo_aux_param, 0.75, axis=0)\n",
    "\n",
    "        # Set up the x points.\n",
    "        x = filtered_histories[0][0].get('step').values.squeeze()\n",
    "\n",
    "        # Build the figure.\n",
    "        fig = plt.figure(figsize=[fig_size_hlfcol[0], fig_size_hlfcol[1] - 0.5])\n",
    "\n",
    "        # Plot the stuff.\n",
    "        for __i, (_m, _l, _u) in enumerate(zip(fivo_aux_param_mu.T, fivo_aux_param_lq.T, fivo_aux_param_uq.T)):\n",
    "            plt.plot(x, _m, c=color_names[__i], label=label_gen(exp_label[_j], __i))\n",
    "            plt.fill_between(x, _l, _u, alpha=fill_alpha, facecolor=color_names[__i])\n",
    "\n",
    "            plt.plot([np.min(x), np.max(x)], [true_param[__i], true_param[__i]], c=color_names[__i], linestyle='--', linewidth=main_line_width, label=label_gen('True value', __i))\n",
    "            \n",
    "        plt.grid(True)\n",
    "\n",
    "        # Set up x axis.\n",
    "        plt.xlim([0, np.max(x) / 2.0])  # NOTE - halving the optimization steps.\n",
    "        print('Having optimization steps shown.')\n",
    "        plt.xlabel('Optimization step, $i$')\n",
    "        # plt.xscale('log')\n",
    "        \n",
    "        # Set up y axis.\n",
    "        plt.ylabel(r'$\\psi_i$')\n",
    "        # plt.yscale('symlog')\n",
    "\n",
    "        # # Set up legend.\n",
    "        # plt.legend()\n",
    "\n",
    "        # # Do menial stuff.\n",
    "        # plt.tight_layout()\n",
    "        \n",
    "        xpad = 0.3\n",
    "        ypad = 0.3\n",
    "        plt.gca().set_position((xpad, ypad, 1-xpad-0.05, 1-ypad-0.02))\n",
    "        \n",
    "        # Save out.\n",
    "        plt.draw()\n",
    "        plt.savefig(home + '/Downloads/{}_r_{}_{}'.format(save_tag, _e, _k).replace('.', '-') + '.pdf')\n",
    "\n",
    "\n",
    "\n"
   ]
  },
  {
   "cell_type": "code",
   "execution_count": 11,
   "id": "4329dd4d",
   "metadata": {},
   "outputs": [
    {
     "data": {
      "image/png": "[encoded data removed]",
      "text/plain": [
       "<Figure size 234x140.4 with 1 Axes>"
      ]
     },
     "metadata": {
      "needs_background": "light"
     },
     "output_type": "display_data"
    }
   ],
   "source": [
    "true_kl_key = 'expected_kl.bpf_true'\n",
    "fivo_kl_key = 'expected_kl.fivo'\n",
    "\n",
    "# Get the KLs.\n",
    "\n",
    "# Fivo aux.\n",
    "true_kl = []\n",
    "for _j in range(len(filtered_histories[0])):\n",
    "    true_kl.append(np.stack(filtered_histories[0][_j].get(true_kl_key).values.squeeze()))\n",
    "true_kl = np.stack(true_kl).squeeze()\n",
    "true_kl_mu = np.quantile(true_kl, 0.50, axis=0)\n",
    "true_kl_lq = np.quantile(true_kl, 0.25, axis=0)\n",
    "true_kl_uq = np.quantile(true_kl, 0.75, axis=0)\n",
    "\n",
    "# Fivo aux sgr.\n",
    "fivo_aux_sgr_kl = []\n",
    "for _j in range(len(filtered_histories[1])):\n",
    "    fivo_aux_sgr_kl.append(np.stack(filtered_histories[1][_j].get(fivo_kl_key).values.squeeze()))\n",
    "fivo_aux_sgr_kl = np.stack(fivo_aux_sgr_lml).squeeze()\n",
    "fivo_aux_sgr_kl_mu = np.quantile(fivo_aux_sgr_kl, 0.50, axis=0)\n",
    "fivo_aux_sgr_kl_lq = np.quantile(fivo_aux_sgr_kl, 0.25, axis=0)\n",
    "fivo_aux_sgr_kl_uq = np.quantile(fivo_aux_sgr_kl, 0.75, axis=0)\n",
    "\n",
    "# Set up the x points.\n",
    "x = filtered_histories[0][0].get('step').values.squeeze()\n",
    "\n",
    "# Build the figure.\n",
    "f = plt.figure(figsize=fig_size_onecol)\n",
    "\n",
    "# Plot the stuff.\n",
    "plt.plot(x, true_kl_mu, c=color_names[0], label='BPF')\n",
    "plt.fill_between(x, true_kl_lq, true_kl_uq, color=color_names[0], alpha=fill_alpha)\n",
    "\n",
    "plt.plot(x, fivo_aux_sgr_kl_mu, c=color_names[1], label='FIVO-Aux-SGR')\n",
    "plt.fill_between(x, fivo_aux_sgr_kl_lq, fivo_aux_sgr_kl_uq, color=color_names[1], alpha=fill_alpha)\n",
    "\n",
    "# plt.plot([np.min(x), np.max(x)], [true_lml, true_lml], c='k', linestyle='--', linewidth=main_line_width, label='True value')\n",
    "\n",
    "# Set up x axis.\n",
    "plt.xlim([0, np.max(x)])\n",
    "plt.xlabel('Optimization step, $i$')\n",
    "\n",
    "# Set up y axis.\n",
    "plt.ylabel(r'$\\mathbb{KL}[p || q]$')\n",
    "\n",
    "# Set up legend.\n",
    "plt.legend()\n",
    "\n",
    "# Do menial stuff.\n",
    "plt.grid(True)\n",
    "plt.tight_layout()\n",
    "plt.yscale('log')\n",
    "\n",
    "# Save out.\n",
    "plt.savefig(home + '/Downloads/{}_KL'.format(save_tag).replace('.', '-') + '.pdf')\n",
    "\n"
   ]
  },
  {
   "cell_type": "code",
   "execution_count": 21,
   "id": "90f6dec6",
   "metadata": {},
   "outputs": [
    {
     "data": {
      "image/png": "[encoded data removed]",
      "text/plain": [
       "<Figure size 234x140.4 with 1 Axes>"
      ]
     },
     "metadata": {
      "needs_background": "light"
     },
     "output_type": "display_data"
    }
   ],
   "source": [
    "true_upc_key = 'upc.median.bpf_true'\n",
    "fivo_upc_key = 'upc.median.fivo'\n",
    "\n",
    "# Get the KLs.\n",
    "\n",
    "# Fivo aux.\n",
    "true_kl = []\n",
    "for _j in range(len(filtered_histories[0])):\n",
    "    true_kl.append(np.stack(filtered_histories[0][_j].get(true_kl_key).values.squeeze()))\n",
    "true_kl = np.stack(true_kl).squeeze()\n",
    "true_kl_mu = np.quantile(true_kl, 0.50, axis=0)\n",
    "true_kl_lq = np.quantile(true_kl, 0.25, axis=0)\n",
    "true_kl_uq = np.quantile(true_kl, 0.75, axis=0)\n",
    "\n",
    "# Fivo aux sgr.\n",
    "fivo_aux_sgr_kl = []\n",
    "for _j in range(len(filtered_histories[1])):\n",
    "    fivo_aux_sgr_kl.append(np.stack(filtered_histories[1][_j].get(fivo_kl_key).values.squeeze()))\n",
    "fivo_aux_sgr_kl = np.stack(fivo_aux_sgr_lml).squeeze()\n",
    "fivo_aux_sgr_kl_mu = np.quantile(fivo_aux_sgr_kl, 0.50, axis=0)\n",
    "fivo_aux_sgr_kl_lq = np.quantile(fivo_aux_sgr_kl, 0.25, axis=0)\n",
    "fivo_aux_sgr_kl_uq = np.quantile(fivo_aux_sgr_kl, 0.75, axis=0)\n",
    "\n",
    "# Set up the x points.\n",
    "x = filtered_histories[0][0].get('step').values.squeeze()\n",
    "\n",
    "# Build the figure.\n",
    "f = plt.figure(figsize=fig_size_onecol)\n",
    "\n",
    "# Plot the stuff.\n",
    "plt.plot(x, true_kl_mu, c=color_names[0], label='BPF')\n",
    "plt.fill_between(x, true_kl_lq, true_kl_uq, color=color_names[0], alpha=fill_alpha)\n",
    "\n",
    "plt.plot(x, fivo_aux_sgr_kl_mu, c=color_names[1], label='FIVO-Aux-SGR')\n",
    "plt.fill_between(x, fivo_aux_sgr_kl_lq, fivo_aux_sgr_kl_uq, color=color_names[1], alpha=fill_alpha)\n",
    "\n",
    "# plt.plot([np.min(x), np.max(x)], [true_lml, true_lml], c='k', linestyle='--', linewidth=main_line_width, label='True value')\n",
    "\n",
    "# Set up x axis.\n",
    "plt.xlim([0, np.max(x)])\n",
    "plt.xlabel('Optimization step, $i$')\n",
    "\n",
    "# Set up y axis.\n",
    "plt.ylabel(r'\\#unique particles at t')\n",
    "\n",
    "# Set up legend.\n",
    "plt.legend()\n",
    "\n",
    "# Do menial stuff.\n",
    "plt.grid(True)\n",
    "plt.tight_layout()\n",
    "plt.yscale('log')\n",
    "\n",
    "# Save out.\n",
    "plt.savefig(home + '/Downloads/{}_UPC'.format(save_tag).replace('.', '-') + '.pdf')\n",
    "\n",
    "\n"
   ]
  },
  {
   "cell_type": "markdown",
   "id": "30618c44",
   "metadata": {},
   "source": [
    "# Comparison of methods"
   ]
  },
  {
   "cell_type": "code",
   "execution_count": 13,
   "id": "af024ffe",
   "metadata": {},
   "outputs": [
    {
     "name": "stdout",
     "output_type": "stream",
     "text": [
      "gdm-cr-v2-0-0-bpf-sgr\n"
     ]
    },
    {
     "name": "stderr",
     "output_type": "stream",
     "text": [
      "\u001b[34m\u001b[1mwandb\u001b[0m: \u001b[33mWARNING\u001b[0m A graphql request initiated by the public wandb API timed out (timeout=9 sec). Create a new API with an integer timeout larger than 9, e.g., `api = wandb.Api(timeout=19)` to increase the graphql timeout.\n"
     ]
    },
    {
     "name": "stdout",
     "output_type": "stream",
     "text": [
      "25\n",
      "gdm-cr-v2-0-0-fivo\n",
      "25\n",
      "gdm-cr-v2-0-0-fivo-aux-sgr\n",
      "25\n",
      "'Keys:'\n",
      "['step',\n",
      " 'params_p_true.dynamics_bias',\n",
      " 'params_p_pred.dynamics_bias',\n",
      " 'upc.mean.bpf_true',\n",
      " 'upc.mean.fivo',\n",
      " '_step',\n",
      " 'upc.uq.fivo',\n",
      " 'upc.uq.bpf_true',\n",
      " 'upc.median.bpf_true',\n",
      " 'upc.lq.fivo',\n",
      " 'small_lml.mean.em_true',\n",
      " 'params_r_pred',\n",
      " 'upc.lq.bpf_true',\n",
      " 'upc.median.fivo',\n",
      " 'params_q_pred',\n",
      " 'upc.variance.bpf_true',\n",
      " 'upc.variance.fivo',\n",
      " '_runtime',\n",
      " 'small_fivo_bound',\n",
      " 'small_lml.mean.fivo',\n",
      " 'small_lml.variance.bpf_true',\n",
      " 'epoch',\n",
      " 'expected_kl.fivo',\n",
      " 'small_lml.mean.bpf_true',\n",
      " 'pred_fivo_bound',\n",
      " 'pred_lml',\n",
      " 'expected_kl.bpf_true',\n",
      " '_timestamp',\n",
      " 'small_lml.variance.fivo',\n",
      " 'true_lml']\n"
     ]
    }
   ],
   "source": [
    "exp_tag = ['gdm-cr-v2-0-0-bpf-sgr', 'gdm-cr-v2-0-0-fivo', 'gdm-cr-v2-0-0-fivo-aux-sgr']\n",
    "exp_label = ['Bootstrap-SGR', 'FIVO', 'FIVO-AUX-SGR']\n",
    "save_tag = 'b-gdm-cr-v2-0'\n",
    "\n",
    "filtered_histories = []\n",
    "column_names = None\n",
    "for _tag in exp_tag:\n",
    "    _, _, _filtered_histories, column_names = get_experiment_from_wandb(project, _tag)\n",
    "    filtered_histories.append(_filtered_histories)\n",
    "\n",
    "pprint(\"Keys:\")\n",
    "pprint(list(filtered_histories[0][0].keys()))"
   ]
  },
  {
   "cell_type": "code",
   "execution_count": 15,
   "id": "50869291",
   "metadata": {},
   "outputs": [
    {
     "name": "stdout",
     "output_type": "stream",
     "text": [
      "Having optimization steps shown.\n"
     ]
    },
    {
     "data": {
      "image/png": "[encoded data removed]",
      "text/plain": [
       "<Figure size 234x140.4 with 1 Axes>"
      ]
     },
     "metadata": {
      "needs_background": "light"
     },
     "output_type": "display_data"
    }
   ],
   "source": [
    "# NOTE - we store the true lml in this field.\n",
    "# NOTE - these should all evalaute to the same quantity. TODO\n",
    "# NOTE - maybe shift this to use true_lml\n",
    "\n",
    "bpf_key = 'small_lml.variance.bpf_true'\n",
    "fivo_key = 'small_lml.variance.fivo'\n",
    "\n",
    "# BPF.\n",
    "bpf_lml_var = []\n",
    "for _j in range(len(filtered_histories[1])):\n",
    "    bpf_lml_var.append(np.stack(filtered_histories[1][_j].get(bpf_key).values.squeeze()))\n",
    "bpf_lml_var = np.stack(bpf_lml_var).squeeze()\n",
    "bpf_lml_var_mu = np.quantile(bpf_lml_var, 0.50, axis=0)\n",
    "bpf_lml_var_lq = np.quantile(bpf_lml_var, 0.25, axis=0)\n",
    "bpf_lml_var_uq = np.quantile(bpf_lml_var, 0.75, axis=0)\n",
    "\n",
    "# Fivo.\n",
    "fivo_lml_var = []\n",
    "for _j in range(len(filtered_histories[1])):\n",
    "    fivo_lml_var.append(np.stack(filtered_histories[1][_j].get(fivo_key).values.squeeze()))\n",
    "fivo_lml_var = np.stack(fivo_lml_var).squeeze()\n",
    "fivo_lml_var_mu = np.quantile(fivo_lml_var, 0.50, axis=0)\n",
    "fivo_lml_var_lq = np.quantile(fivo_lml_var, 0.25, axis=0)\n",
    "fivo_lml_var_uq = np.quantile(fivo_lml_var, 0.75, axis=0)\n",
    "\n",
    "# Fivo aux sgr.\n",
    "fivo_aux_sgr_lml_var = []\n",
    "for _j in range(len(filtered_histories[2])):\n",
    "    fivo_aux_sgr_lml_var.append(np.stack(filtered_histories[2][_j].get(fivo_key).values.squeeze()))\n",
    "fivo_aux_sgr_lml_var = np.stack(fivo_aux_sgr_lml_var).squeeze()\n",
    "fivo_aux_sgr_lml_var_mu = np.quantile(fivo_aux_sgr_lml_var, 0.50, axis=0)\n",
    "fivo_aux_sgr_lml_var_lq = np.quantile(fivo_aux_sgr_lml_var, 0.25, axis=0)\n",
    "fivo_aux_sgr_lml_var_uq = np.quantile(fivo_aux_sgr_lml_var, 0.75, axis=0)\n",
    "\n",
    "# Set up the x points.\n",
    "x = filtered_histories[0][0].get('step').values.squeeze()\n",
    "\n",
    "# Build the figure.\n",
    "f = plt.figure(figsize=fig_size_onecol)\n",
    "\n",
    "# Plot the stuff.\n",
    "plt.plot(x, bpf_lml_var_mu, c=color_names[2], label='BPF')\n",
    "plt.fill_between(x, bpf_lml_var_lq, bpf_lml_var_uq, color=color_names[2], alpha=fill_alpha)\n",
    "\n",
    "plt.plot(x, fivo_lml_var_mu, c=color_names[0], label='FIVO')\n",
    "plt.fill_between(x, fivo_lml_var_lq, fivo_lml_var_uq, color=color_names[0], alpha=fill_alpha)\n",
    "\n",
    "plt.plot(x, fivo_aux_sgr_lml_var_mu, c=color_names[1], label='FIVO-AUX-SGR')\n",
    "plt.fill_between(x, fivo_aux_sgr_lml_var_lq, fivo_aux_sgr_lml_var_uq, color=color_names[1], alpha=fill_alpha)\n",
    "\n",
    "# Set up x axis.\n",
    "plt.xlim([0, np.max(x) / 2.0])  # NOTE - halving the optimization steps.\n",
    "print('Having optimization steps shown.')\n",
    "plt.xlabel('Optimization step, $i$')\n",
    "\n",
    "# Set up y axis.\n",
    "plt.ylabel(r'$\\mathbb{V}[NLL]$')\n",
    "\n",
    "# Set up legend.\n",
    "plt.legend()\n",
    "\n",
    "# Do menial stuff.\n",
    "plt.grid(True)\n",
    "# plt.tight_layout()\n",
    "plt.yscale('log')\n",
    "\n",
    "xpad = 0.2\n",
    "ypad = 0.2\n",
    "plt.gca().set_position((xpad, ypad, 1-xpad-0.05, 1-ypad-0.02))\n",
    "\n",
    "# Save out.\n",
    "plt.draw()\n",
    "plt.savefig(home + '/Downloads/{}_nll_var'.format(save_tag).replace('.', '-') + '.pdf')\n",
    "\n"
   ]
  },
  {
   "cell_type": "code",
   "execution_count": 25,
   "id": "5909f2c9",
   "metadata": {},
   "outputs": [
    {
     "name": "stdout",
     "output_type": "stream",
     "text": [
      "Halving optimization steps shown.\n"
     ]
    },
    {
     "data": {
      "image/png": "[encoded data removed]",
      "text/plain": [
       "<Figure size 234x140.4 with 1 Axes>"
      ]
     },
     "metadata": {
      "needs_background": "light"
     },
     "output_type": "display_data"
    }
   ],
   "source": [
    "# NOTE - we store the true lml in this field.\n",
    "# NOTE - these should all evalaute to the same quantity. TODO\n",
    "# NOTE - maybe shift this to use true_lml\n",
    "\n",
    "bpf_key = 'upc.mean.bpf_true'\n",
    "fivo_key = 'upc.mean.fivo'\n",
    "\n",
    "# BPF.\n",
    "bpf_upc = []\n",
    "for _j in range(len(filtered_histories[1])):\n",
    "    bpf_upc.append(np.stack(filtered_histories[1][_j].get(bpf_key).values.squeeze()).mean(axis=1))\n",
    "bpf_upc = np.stack(bpf_upc).squeeze()\n",
    "bpf_upc_mu = np.quantile(bpf_upc, 0.50, axis=0)\n",
    "bpf_upc_lq = np.quantile(bpf_upc, 0.25, axis=0)\n",
    "bpf_upc_uq = np.quantile(bpf_upc, 0.75, axis=0)\n",
    "\n",
    "# Fivo.\n",
    "fivo_upc = []\n",
    "for _j in range(len(filtered_histories[1])):\n",
    "    fivo_upc.append(np.stack(filtered_histories[1][_j].get(fivo_key).values.squeeze()).mean(axis=1))\n",
    "fivo_upc = np.stack(fivo_upc).squeeze()\n",
    "fivo_upc_mu = np.quantile(fivo_upc, 0.50, axis=0)\n",
    "fivo_upc_lq = np.quantile(fivo_upc, 0.25, axis=0)\n",
    "fivo_upc_uq = np.quantile(fivo_upc, 0.75, axis=0)\n",
    "\n",
    "# Fivo aux sgr.\n",
    "fivo_aux_sgr_upc = []\n",
    "for _j in range(len(filtered_histories[2])):\n",
    "    fivo_aux_sgr_upc.append(np.stack(filtered_histories[2][_j].get(fivo_key).values.squeeze()).mean(axis=1))\n",
    "fivo_aux_sgr_upc = np.stack(fivo_aux_sgr_upc).squeeze()\n",
    "fivo_aux_sgr_upc_mu = np.quantile(fivo_aux_sgr_upc, 0.50, axis=0)\n",
    "fivo_aux_sgr_upc_lq = np.quantile(fivo_aux_sgr_upc, 0.25, axis=0)\n",
    "fivo_aux_sgr_upc_uq = np.quantile(fivo_aux_sgr_upc, 0.75, axis=0)\n",
    "\n",
    "# Set up the x points.\n",
    "x = filtered_histories[0][0].get('step').values.squeeze()\n",
    "\n",
    "# Build the figure.\n",
    "f = plt.figure(figsize=fig_size_onecol)\n",
    "\n",
    "# Plot the stuff.\n",
    "plt.plot(x, bpf_upc_mu, c=color_names[2], label='BPF')\n",
    "plt.fill_between(x, bpf_upc_lq, bpf_upc_uq, color=color_names[2], alpha=fill_alpha)\n",
    "\n",
    "plt.plot(x, fivo_upc_mu, c=color_names[0], label='FIVO')\n",
    "plt.fill_between(x, fivo_upc_lq, fivo_upc_uq, color=color_names[0], alpha=fill_alpha)\n",
    "\n",
    "plt.plot(x, fivo_aux_sgr_upc_mu, c=color_names[1], label='FIVO-AUX-SGR')\n",
    "plt.fill_between(x, fivo_aux_sgr_upc_lq, fivo_aux_sgr_upc_uq, color=color_names[1], alpha=fill_alpha)\n",
    "\n",
    "# Set up x axis.\n",
    "plt.xlim([0, np.max(x) / 2.0])  # NOTE - halving the optimization steps.\n",
    "print('Halving optimization steps shown.')\n",
    "plt.xlabel('Optimization step, $i$')\n",
    "\n",
    "# Set up y axis.\n",
    "plt.ylabel(r'\\# unique particles at t')\n",
    "\n",
    "# Set up legend.\n",
    "plt.legend()\n",
    "\n",
    "# Do menial stuff.\n",
    "plt.grid(True)\n",
    "\n",
    "xpad = 0.2\n",
    "ypad = 0.2\n",
    "plt.gca().set_position((xpad, ypad, 1-xpad-0.05, 1-ypad-0.02))\n",
    "\n",
    "# Save out.\n",
    "plt.draw()\n",
    "plt.savefig(home + '/Downloads/{}_EX_UPC'.format(save_tag).replace('.', '-') + '.pdf')\n",
    "\n",
    "\n"
   ]
  },
  {
   "cell_type": "code",
   "execution_count": 32,
   "id": "588463af",
   "metadata": {},
   "outputs": [
    {
     "data": {
      "image/png": "[encoded data removed]",
      "text/plain": [
       "<Figure size 234x140.4 with 1 Axes>"
      ]
     },
     "metadata": {
      "needs_background": "light"
     },
     "output_type": "display_data"
    }
   ],
   "source": [
    "# NOTE - we store the true lml in this field.\n",
    "# NOTE - these should all evalaute to the same quantity. TODO\n",
    "# NOTE - maybe shift this to use true_lml\n",
    "\n",
    "bpf_key = 'upc.mean.bpf_true'\n",
    "fivo_key = 'upc.mean.fivo'\n",
    "\n",
    "# BPF.\n",
    "bpf_upc = []\n",
    "for _j in range(len(filtered_histories[1])):\n",
    "    bpf_upc.append(np.stack(filtered_histories[1][_j].get(bpf_key).values.squeeze())[-1])\n",
    "bpf_upc = np.stack(bpf_upc).squeeze()\n",
    "bpf_upc_mu = np.quantile(bpf_upc, 0.50, axis=0)\n",
    "bpf_upc_lq = np.quantile(bpf_upc, 0.25, axis=0)\n",
    "bpf_upc_uq = np.quantile(bpf_upc, 0.75, axis=0)\n",
    "\n",
    "# Fivo.\n",
    "fivo_upc = []\n",
    "for _j in range(len(filtered_histories[1])):\n",
    "    fivo_upc.append(np.stack(filtered_histories[1][_j].get(fivo_key).values.squeeze())[-1])\n",
    "fivo_upc = np.stack(fivo_upc).squeeze()\n",
    "fivo_upc_mu = np.quantile(fivo_upc, 0.50, axis=0)\n",
    "fivo_upc_lq = np.quantile(fivo_upc, 0.25, axis=0)\n",
    "fivo_upc_uq = np.quantile(fivo_upc, 0.75, axis=0)\n",
    "\n",
    "# Fivo aux sgr.\n",
    "fivo_aux_sgr_upc = []\n",
    "for _j in range(len(filtered_histories[2])):\n",
    "    fivo_aux_sgr_upc.append(np.stack(filtered_histories[2][_j].get(fivo_key).values.squeeze())[-1])\n",
    "fivo_aux_sgr_upc = np.stack(fivo_aux_sgr_upc).squeeze()\n",
    "fivo_aux_sgr_upc_mu = np.quantile(fivo_aux_sgr_upc, 0.50, axis=0)\n",
    "fivo_aux_sgr_upc_lq = np.quantile(fivo_aux_sgr_upc, 0.25, axis=0)\n",
    "fivo_aux_sgr_upc_uq = np.quantile(fivo_aux_sgr_upc, 0.75, axis=0)\n",
    "\n",
    "# Set up the x points.\n",
    "x = np.arange(len(bpf_upc_mu))\n",
    "\n",
    "# Build the figure.\n",
    "f = plt.figure(figsize=fig_size_onecol)\n",
    "\n",
    "# Plot the stuff.\n",
    "plt.plot(x, bpf_upc_mu, c=color_names[2], label='BPF')\n",
    "plt.fill_between(x, bpf_upc_lq, bpf_upc_uq, color=color_names[2], alpha=fill_alpha)\n",
    "\n",
    "plt.plot(x, fivo_upc_mu, c=color_names[0], label='FIVO')\n",
    "plt.fill_between(x, fivo_upc_lq, fivo_upc_uq, color=color_names[0], alpha=fill_alpha)\n",
    "\n",
    "plt.plot(x, fivo_aux_sgr_upc_mu, c=color_names[1], label='FIVO-AUX-SGR')\n",
    "plt.fill_between(x, fivo_aux_sgr_upc_lq, fivo_aux_sgr_upc_uq, color=color_names[1], alpha=fill_alpha)\n",
    "\n",
    "# Set up x axis.\n",
    "plt.xlim([0, np.max(x)])\n",
    "plt.xlabel('Optimization step, $i$')\n",
    "plt.xticks(x)\n",
    "\n",
    "# Set up y axis.\n",
    "plt.ylabel(r'\\# unique particles at t')\n",
    "\n",
    "# Set up legend.\n",
    "plt.legend()\n",
    "\n",
    "# Do menial stuff.\n",
    "plt.grid(True)\n",
    "\n",
    "xpad = 0.2\n",
    "ypad = 0.2\n",
    "plt.gca().set_position((xpad, ypad, 1-xpad-0.05, 1-ypad-0.02))\n",
    "\n",
    "# Save out.\n",
    "plt.draw()\n",
    "plt.savefig(home + '/Downloads/{}_UPC'.format(save_tag).replace('.', '-') + '.pdf')\n"
   ]
  },
  {
   "cell_type": "code",
   "execution_count": 33,
   "id": "d30825c4",
   "metadata": {},
   "outputs": [
    {
     "data": {
      "text/plain": [
       "array([3.79999995, 3.79999995, 3.79999995, 3.79999995, 3.79999995,\n",
       "       3.79999995, 3.79999995, 3.79999995, 3.79999995, 3.79999995])"
      ]
     },
     "execution_count": 33,
     "metadata": {},
     "output_type": "execute_result"
    }
   ],
   "source": [
    "bpf_upc_mu"
   ]
  },
  {
   "cell_type": "markdown",
   "id": "0eb30064",
   "metadata": {},
   "source": [
    "# OLD CODE."
   ]
  },
  {
   "cell_type": "code",
   "execution_count": null,
   "id": "67d05a36",
   "metadata": {},
   "outputs": [],
   "source": [
    "# # OLD-ISH CODE FOR USING SUBPLOTS.\n",
    "\n",
    "# n_opt_evals = len(filtered_histories[0][0].get(true_param_key))\n",
    "# T = 10\n",
    "# t = np.arange(1, T+1)  # There are ten time steps.\n",
    "\n",
    "# ## Proposal.\n",
    "\n",
    "# keys = [#'params_q_pred.head_mean_fn_kernel',   # TODO - need to make this able to deal with multiple params.\n",
    "#         'params_q_pred.head_mean_fn_bias', \n",
    "#         'params_q_pred.head_log_var_fn_bias_(EXP)']\n",
    "\n",
    "# true_vals = [#np.ones((n_opt_evals, )),\n",
    "#              np.zeros((n_opt_evals, )),\n",
    "#              (T - t + 1) / (T - t + 2)]\n",
    "\n",
    "# for _i, _k in enumerate(keys):\n",
    "#     # Get the param.\n",
    "#     # True.\n",
    "#     true_param = true_vals[_i]\n",
    "\n",
    "#     # Fivo aux.\n",
    "#     fivo_aux_param = []\n",
    "#     for _j in range(len(filtered_histories[0])):\n",
    "#         fivo_aux_param.append(np.stack(filtered_histories[0][_j].get(_k).values.squeeze()))\n",
    "#     fivo_aux_param = np.stack(fivo_aux_param).squeeze()\n",
    "#     fivo_aux_param_mu = np.quantile(fivo_aux_param, 0.50, axis=0)\n",
    "#     fivo_aux_param_lq = np.quantile(fivo_aux_param, 0.25, axis=0)\n",
    "#     fivo_aux_param_uq = np.quantile(fivo_aux_param, 0.75, axis=0)\n",
    "\n",
    "#     # Fivo aux sgr.\n",
    "#     fivo_aux_sgr_param = []\n",
    "#     for _j in range(len(filtered_histories[1])):\n",
    "#         fivo_aux_sgr_param.append(np.stack(filtered_histories[1][_j].get(_k).values.squeeze()))\n",
    "#     fivo_aux_sgr_param = np.stack(fivo_aux_sgr_param).squeeze()\n",
    "#     fivo_aux_sgr_param_mu = np.quantile(fivo_aux_sgr_param, 0.50, axis=0)\n",
    "#     fivo_aux_sgr_param_lq = np.quantile(fivo_aux_sgr_param, 0.25, axis=0)\n",
    "#     fivo_aux_sgr_param_uq = np.quantile(fivo_aux_sgr_param, 0.75, axis=0)\n",
    "\n",
    "#     # Set up the x points.\n",
    "#     x = filtered_histories[0][0].get('step').values.squeeze()\n",
    "\n",
    "#     # Build the figure.\n",
    "#     fig, axes = plt.subplots(1, 5, figsize=fig_size_twocol, sharex=True, sharey=True, squeeze=True)\n",
    "\n",
    "#     # Plot the stuff.\n",
    "#     for _ax_idx, _i in enumerate([0, 2, 4, 6, 8]):\n",
    "#         axes[_ax_idx].plot(x, fivo_aux_param_mu[:, _i], c=color_names[0], label='FIVO-Aux')\n",
    "#         axes[_ax_idx].fill_between(x, fivo_aux_param_lq[:, _i], fivo_aux_param_uq[:, _i], color=color_names[0], alpha=fill_alpha)\n",
    "\n",
    "#         axes[_ax_idx].plot(x, fivo_aux_sgr_param_mu[:, _i], c=color_names[1], label='FIVO-Aux-SGR')\n",
    "#         axes[_ax_idx].fill_between(x, fivo_aux_sgr_param_lq[:, _i], fivo_aux_sgr_param_uq[:, _i], color=color_names[1], alpha=fill_alpha)\n",
    "\n",
    "#         axes[_ax_idx].plot([np.min(x), np.max(x)], [true_param[_i], true_param[_i]], c='k', linestyle='--', linewidth=main_line_width, label='True value')\n",
    "\n",
    "#         axes[_ax_idx].grid(True)\n",
    "        \n",
    "#     # Set up x axis.\n",
    "#     axes[0].set_xlim([0, np.max(x)])\n",
    "#     axes[2].set_xlabel('Optimization step, $i$')\n",
    "\n",
    "#     # Set up y axis.\n",
    "#     axes[0].set_ylabel(r'$\\phi_i$')\n",
    "#     plt.yscale('symlog')\n",
    "\n",
    "#     # Set up legend.\n",
    "#     axes[0].legend()\n",
    "\n",
    "#     # Do menial stuff.\n",
    "#     plt.tight_layout()\n",
    "\n",
    "#     # Save out.\n",
    "#     plt.savefig(home + '/Downloads/{}_q_{}.pdf'.format(save_tag, _k))\n",
    "\n",
    "\n"
   ]
  },
  {
   "cell_type": "code",
   "execution_count": null,
   "id": "1836f316",
   "metadata": {},
   "outputs": [],
   "source": []
  },
  {
   "cell_type": "code",
   "execution_count": null,
   "id": "49e2eaa2",
   "metadata": {},
   "outputs": [],
   "source": []
  },
  {
   "cell_type": "code",
   "execution_count": null,
   "id": "a9aa8848",
   "metadata": {},
   "outputs": [],
   "source": []
  }
 ],
 "metadata": {
  "kernelspec": {
   "display_name": "Python 3",
   "language": "python",
   "name": "python3"
  },
  "language_info": {
   "codemirror_mode": {
    "name": "ipython",
    "version": 3
   },
   "file_extension": ".py",
   "mimetype": "text/x-python",
   "name": "python",
   "nbconvert_exporter": "python",
   "pygments_lexer": "ipython3",
   "version": "3.8.8"
  }
 },
 "nbformat": 4,
 "nbformat_minor": 5
}
