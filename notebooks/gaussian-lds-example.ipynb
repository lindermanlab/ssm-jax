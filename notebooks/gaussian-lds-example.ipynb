{
 "cells": [
  {
   "cell_type": "markdown",
   "metadata": {},
   "source": [
    "# Gaussian LDS Example Notebook\n",
    "\n",
    "[![Open In Colab](https://colab.research.google.com/assets/colab-badge.svg)](https://colab.research.google.com/github/lindermanlab/ssm-jax-refactor/blob/main/notebooks/gaussian-lds-example.ipynb)"
   ]
  },
  {
   "cell_type": "code",
   "execution_count": 1,
   "metadata": {},
   "outputs": [],
   "source": [
    "%load_ext autoreload\n",
    "%autoreload 2"
   ]
  },
  {
   "cell_type": "code",
   "execution_count": 2,
   "metadata": {},
   "outputs": [],
   "source": [
    "try:\n",
    "    import ssm\n",
    "except:\n",
    "    import os\n",
    "    from getpass import getpass\n",
    "    user = getpass('GitHub user')\n",
    "    password = getpass('GitHub token')\n",
    "    os.environ['GITHUB_AUTH'] = user + ':' + password\n",
    "    !pip install git+https://$GITHUB_AUTH@github.com/lindermanlab/ssm-jax-refactor.git -qqq\n",
    "    del user, password\n",
    "    import ssm"
   ]
  },
  {
   "cell_type": "markdown",
   "metadata": {},
   "source": [
    "### Imports and Plotting Functions"
   ]
  },
  {
   "cell_type": "code",
   "execution_count": 3,
   "metadata": {},
   "outputs": [
    {
     "name": "stderr",
     "output_type": "stream",
     "text": [
      "/Users/andrew/opt/anaconda3/lib/python3.8/site-packages/jax/experimental/optimizers.py:28: FutureWarning: jax.experimental.optimizers is deprecated, import jax.example_libraries.optimizers instead\n",
      "  warnings.warn('jax.experimental.optimizers is deprecated, '\n"
     ]
    }
   ],
   "source": [
    "import jax.numpy as np\n",
    "import jax.random as jr\n",
    "import jax.experimental.optimizers as optimizers\n",
    "from jax import jit, value_and_grad, vmap\n",
    "from tqdm.auto import trange\n",
    "\n",
    "import matplotlib.pyplot as plt\n",
    "from tensorflow_probability.substrates import jax as tfp\n",
    "\n",
    "from ssm.lds.models import GaussianLDS\n",
    "from ssm.distributions.linreg import GaussianLinearRegression\n",
    "\n",
    "from ssm.utils import random_rotation\n",
    "from ssm.plots import plot_dynamics_2d\n",
    "\n",
    "from matplotlib.gridspec import GridSpec \n",
    "\n",
    "def plot_emissions(states, data):\n",
    "    latent_dim = states.shape[-1]\n",
    "    emissions_dim = data.shape[-1]\n",
    "    num_timesteps = data.shape[0]\n",
    "    \n",
    "    plt.figure(figsize=(8, 6))\n",
    "    gs = GridSpec(2, 1, height_ratios=(1, emissions_dim / latent_dim))\n",
    "\n",
    "    # Plot the continuous latent states\n",
    "    lim = abs(states).max()\n",
    "    plt.subplot(gs[0])\n",
    "    for d in range(latent_dim):\n",
    "        plt.plot(states[:, d] + lim * d, '-')\n",
    "    plt.yticks(np.arange(latent_dim) * lim, [\"$x_{}$\".format(d+1) for d in range(latent_dim)])\n",
    "    plt.xticks([])\n",
    "    plt.xlim(0, num_timesteps)\n",
    "    plt.title(\"Sampled Latent States\")\n",
    "\n",
    "    lim = abs(data).max()\n",
    "    plt.subplot(gs[1])\n",
    "    for n in range(emissions_dim):\n",
    "        plt.plot(data[:, n] - lim * n, '-k')\n",
    "    plt.yticks(-np.arange(emissions_dim) * lim, [\"$y_{{ {} }}$\".format(n+1) for n in range(emissions_dim)])\n",
    "    plt.xlabel(\"time\")\n",
    "    plt.xlim(0, num_timesteps)\n",
    "\n",
    "    plt.title(\"Sampled Emissions\")\n",
    "    plt.tight_layout()\n",
    "    \n",
    "\n",
    "def plot_emissions_poisson(states, data):\n",
    "    \n",
    "    latent_dim = states.shape[-1]\n",
    "    emissions_dim = data.shape[-1]\n",
    "    num_timesteps = data.shape[0]\n",
    "    \n",
    "    plt.figure(figsize=(8, 6))\n",
    "    gs = GridSpec(2, 1, height_ratios=(1, emissions_dim / latent_dim))\n",
    "\n",
    "    # Plot the continuous latent states\n",
    "    lim = abs(states).max()\n",
    "    plt.subplot(gs[0])\n",
    "    for d in range(latent_dim):\n",
    "        plt.plot(states[:, d] + lim * d, '-')\n",
    "    plt.yticks(np.arange(latent_dim) * lim, [\"$x_{}$\".format(d+1) for d in range(latent_dim)])\n",
    "    plt.xticks([])\n",
    "    plt.xlim(0, time_bins)\n",
    "    plt.title(\"Sampled Latent States\")\n",
    "\n",
    "    lim = abs(data).max()\n",
    "    plt.subplot(gs[1])\n",
    "    plt.imshow(data.T, aspect=\"auto\", interpolation=\"none\")\n",
    "    plt.xlabel(\"time\")\n",
    "    plt.xlim(0, time_bins)\n",
    "    plt.yticks(ticks=np.arange(emissions_dim))\n",
    "    plt.ylabel(\"Neuron\")\n",
    "\n",
    "    plt.title(\"Sampled Emissions (Counts / Time Bin)\")\n",
    "    plt.tight_layout()\n",
    "\n",
    "    plt.colorbar()\n",
    "    \n",
    "def plot_dynamics(lds, states):\n",
    "    q = plot_dynamics_2d(lds._dynamics.weights, \n",
    "                         bias_vector=lds._dynamics.bias,\n",
    "                         mins=states.min(axis=0),\n",
    "                         maxs=states.max(axis=0),\n",
    "                         color=\"blue\")\n",
    "    plt.plot(states[:,0], states[:,1], lw=2, label=\"Latent State\")\n",
    "    plt.plot(states[0,0], states[0,1], '*r', markersize=10, label=\"Initial State\")\n",
    "    plt.xlabel(\"$x_1$\")\n",
    "    plt.ylabel(\"$x_2$\")\n",
    "    plt.title(\"Latent States & Dynamics\")\n",
    "    plt.legend(bbox_to_anchor=(1,1))\n",
    "    plt.show()\n",
    "\n",
    "def extract_trial_stats(trial_idx, posterior, all_data, all_states, fitted_lds, true_lds):\n",
    "    # Posterior Mean\n",
    "    Ex = posterior.mean()[trial_idx]\n",
    "    states = all_states[trial_idx]\n",
    "    data = all_data[trial_idx]\n",
    "\n",
    "    # Compute the data predictions\n",
    "    C = fitted_lds.emissions_matrix\n",
    "    d = fitted_lds.emissions_bias\n",
    "\n",
    "    Ey = Ex @ C.T + d\n",
    "    Covy = C @ posterior.covariance()[trial_idx] @ C.T\n",
    "\n",
    "    # basically recover the \"true\" input to the Poisson GLM\n",
    "    Ey_true = states @ true_lds.emissions_matrix.T + true_lds.emissions_bias\n",
    "\n",
    "    return states, data, Ex, Ey, Covy, Ey_true\n",
    "\n",
    "def compare_dynamics(Ex, states, data):\n",
    "    # Plot\n",
    "    fig, axs = plt.subplots(1, 2, figsize=(8, 4))\n",
    "\n",
    "    q = plot_dynamics_2d(true_lds._dynamics.weights, \n",
    "                        bias_vector=true_lds._dynamics.bias,\n",
    "                        mins=states.min(axis=0),\n",
    "                        maxs=states.max(axis=0),\n",
    "                        color=\"blue\",\n",
    "                        axis=axs[0])\n",
    "    axs[0].plot(states[:,0], states[:,1], lw=2)\n",
    "    axs[0].plot(states[0,0], states[0,1], '*r', markersize=10, label=\"$x_{init}$\")\n",
    "    axs[0].set_xlabel(\"$x_1$\")\n",
    "    axs[0].set_ylabel(\"$x_2$\")\n",
    "    axs[0].set_title(\"True Latent States & Dynamics\")\n",
    "\n",
    "    q = plot_dynamics_2d(fitted_lds._dynamics.weights, \n",
    "                        bias_vector=fitted_lds._dynamics.bias,\n",
    "                        mins=Ex.min(axis=0),\n",
    "                        maxs=Ex.max(axis=0),\n",
    "                        color=\"red\",\n",
    "                        axis=axs[1])\n",
    "\n",
    "    axs[1].plot(Ex[:,0], Ex[:,1], lw=2)\n",
    "    axs[1].plot(Ex[0,0], Ex[0,1], '*r', markersize=10, label=\"$x_{init}$\")\n",
    "    axs[1].set_xlabel(\"$x_1$\")\n",
    "    axs[1].set_ylabel(\"$x_2$\")\n",
    "    axs[1].set_title(\"Simulated Latent States & Dynamics\")\n",
    "    plt.tight_layout()\n",
    "    plt.show()\n",
    "\n",
    "def compare_smoothened_predictions(Ey, Ey_true, Covy, data):\n",
    "    data_dim = data.shape[-1]\n",
    "\n",
    "    plt.figure(figsize=(15, 6))\n",
    "    plt.plot(Ey_true + 10 * np.arange(data_dim))\n",
    "    plt.plot(Ey + 10 * np.arange(data_dim), '--k')\n",
    "    for i in range(data_dim):\n",
    "        plt.fill_between(np.arange(len(data)),\n",
    "                        10 * i + Ey[:, i] - 2 * np.sqrt(Covy[:, i, i]),\n",
    "                        10 * i + Ey[:, i] + 2 * np.sqrt(Covy[:, i, i]), \n",
    "                        color='k', alpha=0.25)\n",
    "    plt.xlabel(\"time\")\n",
    "    plt.ylabel(\"data and predictions (for each neuron)\")\n",
    "\n",
    "    plt.plot([0], '--k', label=\"Predicted\") # dummy trace for legend\n",
    "    plt.plot([0], '-k', label=\"True\")\n",
    "    plt.legend(loc=\"upper right\")\n",
    "    plt.show()"
   ]
  },
  {
   "cell_type": "markdown",
   "metadata": {},
   "source": [
    "# 1. Gaussian LDS"
   ]
  },
  {
   "cell_type": "markdown",
   "metadata": {},
   "source": [
    "## Let's instantiate a true LDS and sample synthetic data\n",
    "\n",
    "We sample ground truth latent states and observations (data) from our LDS."
   ]
  },
  {
   "cell_type": "code",
   "execution_count": 30,
   "metadata": {},
   "outputs": [],
   "source": [
    "# define some parameters\n",
    "emissions_dim = 1\n",
    "latent_dim = 1\n",
    "seed = jr.PRNGKey(0)\n",
    "key1, key2 = jr.split(seed, 2)\n",
    "\n",
    "# For the LDS SSM we parameterize the model via an initial distribution, \n",
    "# a dynamics distribution, and an emissions distribution\n",
    "# initial_distribution = tfp.distributions.MultivariateNormalTriL(\n",
    "#     np.zeros(latent_dim), np.eye(latent_dim))\n",
    "\n",
    "# dynamics_distribution = GaussianLinearRegression(\n",
    "#     random_rotation(key1, latent_dim, theta=0.0),\n",
    "#     np.zeros(latent_dim), \n",
    "#     1.0**2 * np.eye(latent_dim))\n",
    "\n",
    "# emissions_distribution = GaussianLinearRegression(\n",
    "#     jr.normal(key2, shape=(emissions_dim, latent_dim)), \n",
    "#     np.zeros(emissions_dim), \n",
    "#     1.0**2 * np.eye(emissions_dim))\n",
    "\n",
    "# initiliaze the model\n",
    "true_lds = GaussianLDS(num_latent_dims=latent_dim,\n",
    "                       num_emission_dims=emissions_dim,\n",
    "                       dynamics_weights=np.eye(1),\n",
    "                       emission_weights=np.eye(1),\n",
    "                       dynamics_scale_tril=np.sqrt(np.sqrt(10)) * np.eye(1),\n",
    "                       emission_scale_tril=np.eye(1),\n",
    "                       seed=seed)"
   ]
  },
  {
   "cell_type": "code",
   "execution_count": 31,
   "metadata": {},
   "outputs": [],
   "source": [
    "# sample 5 independent trials each 200 timesteps long\n",
    "num_trials = 1000\n",
    "num_timesteps = 1\n",
    "\n",
    "rng = jr.PRNGKey(0)\n",
    "all_states, all_data = true_lds.sample(key=rng, num_steps=num_timesteps, num_samples=num_trials)"
   ]
  },
  {
   "cell_type": "code",
   "execution_count": 32,
   "metadata": {},
   "outputs": [
    {
     "name": "stdout",
     "output_type": "stream",
     "text": [
      "(1000, 1, 1)\n",
      "(1000, 1, 1)\n"
     ]
    }
   ],
   "source": [
    "# Notice that we have a batch size of `num_trials`\n",
    "print(all_states.shape)  # (batch_size, time_step, latent_dim)\n",
    "print(all_data.shape)    # (batch_size, time_steps, obs_dim)"
   ]
  },
  {
   "cell_type": "markdown",
   "metadata": {},
   "source": [
    "### Plot the dynamics and a latent state trajectory of the LDS\n",
    "\n",
    "We can visualize the underlying linear dynamical system as a vector field. Then, we can overlay a sampled latent state trajectory on top of that."
   ]
  },
  {
   "cell_type": "code",
   "execution_count": 33,
   "metadata": {},
   "outputs": [],
   "source": [
    "# plot_dynamics(true_lds, all_states[0])"
   ]
  },
  {
   "cell_type": "markdown",
   "metadata": {},
   "source": [
    "### Plot an example sampled emissions trajectory \n",
    "\n",
    "The observed data are the outputs from the emissions of our model."
   ]
  },
  {
   "cell_type": "code",
   "execution_count": 34,
   "metadata": {},
   "outputs": [
    {
     "data": {
      "image/png": "[encoded data removed]",
      "text/plain": [
       "<Figure size 576x432 with 2 Axes>"
      ]
     },
     "metadata": {
      "needs_background": "light"
     },
     "output_type": "display_data"
    }
   ],
   "source": [
    "plot_emissions(all_states[0], all_data[0])"
   ]
  },
  {
   "cell_type": "code",
   "execution_count": 35,
   "metadata": {},
   "outputs": [
    {
     "data": {
      "image/png": "[encoded data removed]",
      "text/plain": [
       "<Figure size 432x288 with 1 Axes>"
      ]
     },
     "metadata": {
      "needs_background": "light"
     },
     "output_type": "display_data"
    }
   ],
   "source": [
    "import numpy as onp\n",
    "\n",
    "plt.hist(onp.asarray(np.squeeze(all_states)), density=True, bins=10)  # density=False would make counts\n",
    "plt.ylabel('Probability')\n",
    "plt.xlabel('Data');"
   ]
  },
  {
   "cell_type": "markdown",
   "metadata": {},
   "source": [
    "## Inference: fit an LDS to our synthetic data"
   ]
  },
  {
   "cell_type": "code",
   "execution_count": 36,
   "metadata": {},
   "outputs": [],
   "source": [
    "# define some parameters for our test_lds\n",
    "emissions_dim = 1\n",
    "latent_dim = 1\n",
    "seed = jr.PRNGKey(32)  # different random seed!\n",
    "\n",
    "# initialize our test lds model\n",
    "test_lds = GaussianLDS(num_latent_dims=latent_dim,\n",
    "                       num_emission_dims=emissions_dim,\n",
    "                       dynamics_weights=np.eye(1),\n",
    "                       emission_weights=np.eye(1),\n",
    "                       dynamics_scale_tril=np.sqrt(np.sqrt(10)) * np.eye(1),\n",
    "                       emission_scale_tril=np.eye(1),\n",
    "                       seed=seed)"
   ]
  },
  {
   "cell_type": "markdown",
   "metadata": {},
   "source": [
    "### Fit using EM\n",
    "\n",
    "We can derive exact M steps for Gaussian LDS (LDS with Gaussian observations). Let's take advantage of those analytical solutions by fitting our `test_lds` using EM."
   ]
  },
  {
   "cell_type": "code",
   "execution_count": 37,
   "metadata": {},
   "outputs": [
    {
     "data": {
      "application/vnd.jupyter.widget-view+json": {
       "model_id": "f6065623bdd14fc1aab94183c5195f04",
       "version_major": 2,
       "version_minor": 0
      },
      "text/plain": [
       "  0%|          | 0/100 [00:00<?, ?it/s]"
      ]
     },
     "metadata": {},
     "output_type": "display_data"
    },
    {
     "data": {
      "image/png": "[encoded data removed]",
      "text/plain": [
       "<Figure size 432x288 with 1 Axes>"
      ]
     },
     "metadata": {
      "needs_background": "light"
     },
     "output_type": "display_data"
    }
   ],
   "source": [
    "lps, fitted_lds, posteriors = test_lds.fit(all_data, method=\"em\")\n",
    "\n",
    "plt.plot(lps / all_data.size)\n",
    "plt.xlabel(\"iteration\")\n",
    "plt.ylabel(\"normalized marginal likelihood\")\n",
    "plt.show()"
   ]
  },
  {
   "cell_type": "code",
   "execution_count": 38,
   "metadata": {},
   "outputs": [
    {
     "data": {
      "text/plain": [
       "DeviceArray(-0.17708044, dtype=float32)"
      ]
     },
     "execution_count": 38,
     "metadata": {},
     "output_type": "execute_result"
    }
   ],
   "source": [
    "lps[-1] / (all_data.size * 10)"
   ]
  },
  {
   "cell_type": "code",
   "execution_count": 12,
   "metadata": {},
   "outputs": [
    {
     "data": {
      "text/plain": [
       "(1000, 10, 1)"
      ]
     },
     "execution_count": 12,
     "metadata": {},
     "output_type": "execute_result"
    },
    {
     "data": {
      "text/plain": [
       "(1000, 10, 1)"
      ]
     },
     "execution_count": 12,
     "metadata": {},
     "output_type": "execute_result"
    }
   ],
   "source": [
    "# note that the posteriors object has a batch dim (1 for each trial in the dataset)\n",
    "posteriors.mean().shape  # (batch_dim, num_timesteps, latent_dim)"
   ]
  },
  {
   "cell_type": "markdown",
   "metadata": {},
   "source": [
    "## Evaluate the inferred dynamics / smoothed predictions"
   ]
  },
  {
   "cell_type": "code",
   "execution_count": 40,
   "metadata": {},
   "outputs": [
    {
     "name": "stdout",
     "output_type": "stream",
     "text": [
      "========== trial_idx: 0 ==========\n"
     ]
    },
    {
     "ename": "AssertionError",
     "evalue": "Must pass a 2 x 2 dynamics matrix to visualize.",
     "output_type": "error",
     "traceback": [
      "\u001b[0;31m---------------------------------------------------------------------------\u001b[0m",
      "\u001b[0;31mAssertionError\u001b[0m                            Traceback (most recent call last)",
      "Input \u001b[0;32mIn [40]\u001b[0m, in \u001b[0;36m<module>\u001b[0;34m\u001b[0m\n\u001b[1;32m      3\u001b[0m \u001b[38;5;28mprint\u001b[39m(\u001b[38;5;124m\"\u001b[39m\u001b[38;5;124m=\u001b[39m\u001b[38;5;124m\"\u001b[39m\u001b[38;5;241m*\u001b[39m\u001b[38;5;241m10\u001b[39m, \u001b[38;5;124mf\u001b[39m\u001b[38;5;124m\"\u001b[39m\u001b[38;5;124mtrial_idx: \u001b[39m\u001b[38;5;132;01m{\u001b[39;00mtrial_idx\u001b[38;5;132;01m}\u001b[39;00m\u001b[38;5;124m\"\u001b[39m, \u001b[38;5;124m\"\u001b[39m\u001b[38;5;124m=\u001b[39m\u001b[38;5;124m\"\u001b[39m\u001b[38;5;241m*\u001b[39m\u001b[38;5;241m10\u001b[39m)\n\u001b[1;32m      4\u001b[0m states, data, Ex, Ey, Covy, Ey_true \u001b[38;5;241m=\u001b[39m extract_trial_stats(trial_idx, posteriors, all_data, all_states, fitted_lds, true_lds)\n\u001b[0;32m----> 5\u001b[0m \u001b[43mcompare_dynamics\u001b[49m\u001b[43m(\u001b[49m\u001b[43mEx\u001b[49m\u001b[43m,\u001b[49m\u001b[43m \u001b[49m\u001b[43mstates\u001b[49m\u001b[43m,\u001b[49m\u001b[43m \u001b[49m\u001b[43mdata\u001b[49m\u001b[43m)\u001b[49m\n\u001b[1;32m      6\u001b[0m compare_smoothened_predictions(Ey, Ey_true, Covy, data)\n",
      "Input \u001b[0;32mIn [3]\u001b[0m, in \u001b[0;36mcompare_dynamics\u001b[0;34m(Ex, states, data)\u001b[0m\n\u001b[1;32m    112\u001b[0m \u001b[38;5;28;01mdef\u001b[39;00m \u001b[38;5;21mcompare_dynamics\u001b[39m(Ex, states, data):\n\u001b[1;32m    113\u001b[0m     \u001b[38;5;66;03m# Plot\u001b[39;00m\n\u001b[1;32m    114\u001b[0m     fig, axs \u001b[38;5;241m=\u001b[39m plt\u001b[38;5;241m.\u001b[39msubplots(\u001b[38;5;241m1\u001b[39m, \u001b[38;5;241m2\u001b[39m, figsize\u001b[38;5;241m=\u001b[39m(\u001b[38;5;241m8\u001b[39m, \u001b[38;5;241m4\u001b[39m))\n\u001b[0;32m--> 116\u001b[0m     q \u001b[38;5;241m=\u001b[39m \u001b[43mplot_dynamics_2d\u001b[49m\u001b[43m(\u001b[49m\u001b[43mtrue_lds\u001b[49m\u001b[38;5;241;43m.\u001b[39;49m\u001b[43m_dynamics\u001b[49m\u001b[38;5;241;43m.\u001b[39;49m\u001b[43mweights\u001b[49m\u001b[43m,\u001b[49m\u001b[43m \u001b[49m\n\u001b[1;32m    117\u001b[0m \u001b[43m                        \u001b[49m\u001b[43mbias_vector\u001b[49m\u001b[38;5;241;43m=\u001b[39;49m\u001b[43mtrue_lds\u001b[49m\u001b[38;5;241;43m.\u001b[39;49m\u001b[43m_dynamics\u001b[49m\u001b[38;5;241;43m.\u001b[39;49m\u001b[43mbias\u001b[49m\u001b[43m,\u001b[49m\n\u001b[1;32m    118\u001b[0m \u001b[43m                        \u001b[49m\u001b[43mmins\u001b[49m\u001b[38;5;241;43m=\u001b[39;49m\u001b[43mstates\u001b[49m\u001b[38;5;241;43m.\u001b[39;49m\u001b[43mmin\u001b[49m\u001b[43m(\u001b[49m\u001b[43maxis\u001b[49m\u001b[38;5;241;43m=\u001b[39;49m\u001b[38;5;241;43m0\u001b[39;49m\u001b[43m)\u001b[49m\u001b[43m,\u001b[49m\n\u001b[1;32m    119\u001b[0m \u001b[43m                        \u001b[49m\u001b[43mmaxs\u001b[49m\u001b[38;5;241;43m=\u001b[39;49m\u001b[43mstates\u001b[49m\u001b[38;5;241;43m.\u001b[39;49m\u001b[43mmax\u001b[49m\u001b[43m(\u001b[49m\u001b[43maxis\u001b[49m\u001b[38;5;241;43m=\u001b[39;49m\u001b[38;5;241;43m0\u001b[39;49m\u001b[43m)\u001b[49m\u001b[43m,\u001b[49m\n\u001b[1;32m    120\u001b[0m \u001b[43m                        \u001b[49m\u001b[43mcolor\u001b[49m\u001b[38;5;241;43m=\u001b[39;49m\u001b[38;5;124;43m\"\u001b[39;49m\u001b[38;5;124;43mblue\u001b[39;49m\u001b[38;5;124;43m\"\u001b[39;49m\u001b[43m,\u001b[49m\n\u001b[1;32m    121\u001b[0m \u001b[43m                        \u001b[49m\u001b[43maxis\u001b[49m\u001b[38;5;241;43m=\u001b[39;49m\u001b[43maxs\u001b[49m\u001b[43m[\u001b[49m\u001b[38;5;241;43m0\u001b[39;49m\u001b[43m]\u001b[49m\u001b[43m)\u001b[49m\n\u001b[1;32m    122\u001b[0m     axs[\u001b[38;5;241m0\u001b[39m]\u001b[38;5;241m.\u001b[39mplot(states[:,\u001b[38;5;241m0\u001b[39m], states[:,\u001b[38;5;241m1\u001b[39m], lw\u001b[38;5;241m=\u001b[39m\u001b[38;5;241m2\u001b[39m)\n\u001b[1;32m    123\u001b[0m     axs[\u001b[38;5;241m0\u001b[39m]\u001b[38;5;241m.\u001b[39mplot(states[\u001b[38;5;241m0\u001b[39m,\u001b[38;5;241m0\u001b[39m], states[\u001b[38;5;241m0\u001b[39m,\u001b[38;5;241m1\u001b[39m], \u001b[38;5;124m'\u001b[39m\u001b[38;5;124m*r\u001b[39m\u001b[38;5;124m'\u001b[39m, markersize\u001b[38;5;241m=\u001b[39m\u001b[38;5;241m10\u001b[39m, label\u001b[38;5;241m=\u001b[39m\u001b[38;5;124m\"\u001b[39m\u001b[38;5;124m$x_\u001b[39m\u001b[38;5;132;01m{init}\u001b[39;00m\u001b[38;5;124m$\u001b[39m\u001b[38;5;124m\"\u001b[39m)\n",
      "File \u001b[0;32m~/Documents/hackathon/ssm-jax-refactor/ssm/plots.py:67\u001b[0m, in \u001b[0;36mplot_dynamics_2d\u001b[0;34m(dynamics_matrix, bias_vector, mins, maxs, npts, axis, **kwargs)\u001b[0m\n\u001b[1;32m     46\u001b[0m \u001b[38;5;28;01mdef\u001b[39;00m \u001b[38;5;21mplot_dynamics_2d\u001b[39m(dynamics_matrix,\n\u001b[1;32m     47\u001b[0m                      bias_vector,\n\u001b[1;32m     48\u001b[0m                      mins\u001b[38;5;241m=\u001b[39m(\u001b[38;5;241m-\u001b[39m\u001b[38;5;241m40\u001b[39m,\u001b[38;5;241m-\u001b[39m\u001b[38;5;241m40\u001b[39m),\n\u001b[0;32m   (...)\u001b[0m\n\u001b[1;32m     51\u001b[0m                      axis\u001b[38;5;241m=\u001b[39m\u001b[38;5;28;01mNone\u001b[39;00m,\n\u001b[1;32m     52\u001b[0m                      \u001b[38;5;241m*\u001b[39m\u001b[38;5;241m*\u001b[39mkwargs):\n\u001b[1;32m     53\u001b[0m     \u001b[38;5;124;03m\"\"\"Utility to visualize the dynamics for a 2 dimensional dynamical system.\u001b[39;00m\n\u001b[1;32m     54\u001b[0m \n\u001b[1;32m     55\u001b[0m \u001b[38;5;124;03m    Args:\u001b[39;00m\n\u001b[0;32m   (...)\u001b[0m\n\u001b[1;32m     65\u001b[0m \u001b[38;5;124;03m        q: quiver object returned by pyplot\u001b[39;00m\n\u001b[1;32m     66\u001b[0m \u001b[38;5;124;03m    \"\"\"\u001b[39;00m\n\u001b[0;32m---> 67\u001b[0m     \u001b[38;5;28;01massert\u001b[39;00m dynamics_matrix\u001b[38;5;241m.\u001b[39mshape \u001b[38;5;241m==\u001b[39m (\u001b[38;5;241m2\u001b[39m, \u001b[38;5;241m2\u001b[39m), \u001b[38;5;124m\"\u001b[39m\u001b[38;5;124mMust pass a 2 x 2 dynamics matrix to visualize.\u001b[39m\u001b[38;5;124m\"\u001b[39m\n\u001b[1;32m     68\u001b[0m     \u001b[38;5;28;01massert\u001b[39;00m \u001b[38;5;28mlen\u001b[39m(bias_vector) \u001b[38;5;241m==\u001b[39m \u001b[38;5;241m2\u001b[39m, \u001b[38;5;124m\"\u001b[39m\u001b[38;5;124mBias vector must have length 2.\u001b[39m\u001b[38;5;124m\"\u001b[39m\n\u001b[1;32m     70\u001b[0m     x_grid, y_grid \u001b[38;5;241m=\u001b[39m np\u001b[38;5;241m.\u001b[39mmeshgrid(np\u001b[38;5;241m.\u001b[39mlinspace(mins[\u001b[38;5;241m0\u001b[39m], maxs[\u001b[38;5;241m0\u001b[39m], npts), np\u001b[38;5;241m.\u001b[39mlinspace(mins[\u001b[38;5;241m1\u001b[39m], maxs[\u001b[38;5;241m1\u001b[39m], npts))\n",
      "\u001b[0;31mAssertionError\u001b[0m: Must pass a 2 x 2 dynamics matrix to visualize."
     ]
    },
    {
     "data": {
      "image/png": "[encoded data removed]",
      "text/plain": [
       "<Figure size 576x288 with 2 Axes>"
      ]
     },
     "metadata": {
      "needs_background": "light"
     },
     "output_type": "display_data"
    }
   ],
   "source": [
    "# compare our outputs for a few trials\n",
    "for trial_idx in range(2):\n",
    "    print(\"=\"*10, f\"trial_idx: {trial_idx}\", \"=\"*10)\n",
    "    states, data, Ex, Ey, Covy, Ey_true = extract_trial_stats(trial_idx, posteriors, all_data, all_states, fitted_lds, true_lds)\n",
    "    compare_dynamics(Ex, states, data)\n",
    "    compare_smoothened_predictions(Ey, Ey_true, Covy, data)"
   ]
  },
  {
   "cell_type": "code",
   "execution_count": null,
   "metadata": {},
   "outputs": [],
   "source": []
  },
  {
   "cell_type": "code",
   "execution_count": null,
   "metadata": {},
   "outputs": [],
   "source": []
  },
  {
   "cell_type": "code",
   "execution_count": null,
   "metadata": {},
   "outputs": [],
   "source": []
  },
  {
   "cell_type": "code",
   "execution_count": 106,
   "metadata": {},
   "outputs": [],
   "source": [
    "from tensorflow_probability.substrates.jax import distributions as tfd"
   ]
  },
  {
   "cell_type": "code",
   "execution_count": 116,
   "metadata": {},
   "outputs": [
    {
     "data": {
      "image/png": "[encoded data removed]",
      "text/plain": [
       "<Figure size 432x288 with 1 Axes>"
      ]
     },
     "metadata": {
      "needs_background": "light"
     },
     "output_type": "display_data"
    }
   ],
   "source": [
    "sig_p = np.sqrt(10.0)\n",
    "sig_y = np.sqrt(1.0)\n",
    "\n",
    "dist = tfd.Normal(0.0, np.sqrt((sig_p ** 2) + (sig_y ** 2)))\n",
    "\n",
    "samples = dist.sample(seed=jr.PRNGKey(0), sample_shape=(10000000, ))\n",
    "\n",
    "plt.hist(onp.asarray(onp.squeeze(samples)), bins=10);"
   ]
  },
  {
   "cell_type": "code",
   "execution_count": 117,
   "metadata": {},
   "outputs": [
    {
     "data": {
      "text/plain": [
       "DeviceArray(-0.26181072, dtype=float32)"
      ]
     },
     "execution_count": 117,
     "metadata": {},
     "output_type": "execute_result"
    }
   ],
   "source": [
    "dist.log_prob(samples).mean() / 10"
   ]
  },
  {
   "cell_type": "code",
   "execution_count": 112,
   "metadata": {},
   "outputs": [
    {
     "data": {
      "text/plain": [
       "DeviceArray(11.012797, dtype=float32)"
      ]
     },
     "execution_count": 112,
     "metadata": {},
     "output_type": "execute_result"
    }
   ],
   "source": [
    "np.square(samples.std())"
   ]
  },
  {
   "cell_type": "code",
   "execution_count": 101,
   "metadata": {},
   "outputs": [
    {
     "data": {
      "text/plain": [
       "DeviceArray([-6.074706  , -0.6452682 , -5.6038594 , -4.4508286 ,\n",
       "              2.4809666 ,  2.072789  , -2.8355224 ,  5.9339566 ,\n",
       "             -0.8294654 ,  0.9963873 , -1.8028594 ,  1.5996326 ,\n",
       "             -3.4697921 , -1.5031486 , -3.194085  ,  2.34553   ,\n",
       "             -1.9343863 , -6.352592  ,  2.8801305 , -2.8591943 ,\n",
       "              0.01181733, -3.2202349 ,  2.276546  , -0.7954243 ,\n",
       "             -1.8947766 ,  2.3377304 ,  5.576463  ,  3.39809   ,\n",
       "              1.4909725 ,  6.034223  , -5.2692604 , -0.38546354,\n",
       "             -1.5649016 ,  4.1546335 , -2.2790077 ,  4.9975553 ,\n",
       "             -3.7879837 ,  3.20708   , -2.1285686 , -1.0871089 ,\n",
       "              0.25791335, -0.6400454 ,  2.139541  ,  2.6382267 ,\n",
       "              2.2315903 ,  0.4687016 , -0.43243873, -4.5199704 ,\n",
       "              3.0719512 , -1.2055047 , -3.1125927 , -0.46093607,\n",
       "             -1.2266254 ,  0.4048688 , -1.0689343 , -8.431377  ,\n",
       "              9.58693   ,  1.2335609 ,  2.2310524 , -1.7511016 ,\n",
       "             -4.6606216 , -2.2342136 ,  3.1904483 , -2.5426044 ,\n",
       "             -1.1952883 , -3.6384368 ,  0.35839564,  1.5435368 ,\n",
       "              0.4314432 ,  3.3855085 , -0.2469076 ,  3.1298747 ,\n",
       "              1.1486635 ,  2.910198  ,  5.4176993 , -1.5309057 ,\n",
       "              2.912044  , -2.1352484 , -0.29132918, -0.29007167,\n",
       "              0.6427384 ,  2.4889224 ,  0.8121007 , -0.60754573,\n",
       "             -5.5883117 , -3.3703065 ,  2.5939798 , -1.0679886 ,\n",
       "             -2.9412057 , -0.54224586, -1.9492129 ,  2.552523  ,\n",
       "              2.0993426 ,  1.7353446 ,  4.515269  , -2.5817416 ,\n",
       "             -8.051563  , -4.8837047 ,  5.5252194 , -0.505586  ],            dtype=float32)"
      ]
     },
     "execution_count": 101,
     "metadata": {},
     "output_type": "execute_result"
    }
   ],
   "source": [
    "samples"
   ]
  },
  {
   "cell_type": "code",
   "execution_count": null,
   "metadata": {},
   "outputs": [],
   "source": []
  }
 ],
 "metadata": {
  "interpreter": {
   "hash": "1c9b7abd99f812592e04518a2dddca5f7bc8ca20b74b8ad7e1b8422bf8e8c0a8"
  },
  "kernelspec": {
   "display_name": "Python 3",
   "language": "python",
   "name": "python3"
  },
  "language_info": {
   "codemirror_mode": {
    "name": "ipython",
    "version": 3
   },
   "file_extension": ".py",
   "mimetype": "text/x-python",
   "name": "python",
   "nbconvert_exporter": "python",
   "pygments_lexer": "ipython3",
   "version": "3.8.8"
  }
 },
 "nbformat": 4,
 "nbformat_minor": 4
}
