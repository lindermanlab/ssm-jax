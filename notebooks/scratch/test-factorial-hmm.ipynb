{
 "cells": [
  {
   "cell_type": "code",
   "execution_count": 21,
   "metadata": {},
   "outputs": [],
   "source": [
    "import jax.numpy as np\n",
    "import jax.random as jr\n",
    "import jax.scipy.special as spsp\n",
    "from jax import value_and_grad\n",
    "\n",
    "from ssm.hmm.posterior import _factorial_hmm_log_normalizer, hmm_log_normalizer"
   ]
  },
  {
   "cell_type": "code",
   "execution_count": 2,
   "metadata": {},
   "outputs": [
    {
     "name": "stderr",
     "output_type": "stream",
     "text": [
      "WARNING:absl:No GPU/TPU found, falling back to CPU. (Set TF_CPP_MIN_LOG_LEVEL=0 and rerun for more info.)\n"
     ]
    }
   ],
   "source": [
    "rng = jr.PRNGKey(0)\n",
    "num_states = (3, 4)\n",
    "num_timesteps = 10\n",
    "\n",
    "log_initial_state_probs = np.zeros(num_states)\n",
    "log_transition_matrices = tuple(\n",
    "    jr.normal(key, (k, k)) for key, k in zip(jr.split(rng, len(num_states)), num_states))\n",
    "log_transition_matrices = tuple(\n",
    "    x - spsp.logsumexp(x, axis=1, keepdims=True)\n",
    "    for x in log_transition_matrices\n",
    ")\n",
    "\n",
    "rng, this_rng = jr.split(rng, 2)\n",
    "log_likelihoods = jr.normal(this_rng, (num_timesteps,) + num_states)"
   ]
  },
  {
   "cell_type": "code",
   "execution_count": 15,
   "metadata": {},
   "outputs": [],
   "source": [
    "log_normalizer, filtered_potentials = \\\n",
    "    _factorial_hmm_log_normalizer(log_initial_state_probs,\n",
    "                                  log_transition_matrices,\n",
    "                                  log_likelihoods)\n",
    "\n"
   ]
  },
  {
   "cell_type": "code",
   "execution_count": 16,
   "metadata": {},
   "outputs": [],
   "source": [
    "big_transition_matrix = np.kron(\n",
    "    np.exp(log_transition_matrices[0]),\n",
    "    np.exp(log_transition_matrices[1]),\n",
    ")\n"
   ]
  },
  {
   "cell_type": "code",
   "execution_count": 17,
   "metadata": {},
   "outputs": [],
   "source": [
    "log_normalizer2, filtered_potentials2 = \\\n",
    "    hmm_log_normalizer(log_initial_state_probs.reshape(-1),\n",
    "                       np.log(big_transition_matrix),\n",
    "                       log_likelihoods.reshape(num_timesteps, -1))\n"
   ]
  },
  {
   "cell_type": "code",
   "execution_count": 18,
   "metadata": {},
   "outputs": [
    {
     "data": {
      "text/plain": [
       "(DeviceArray(5.865858, dtype=float32), DeviceArray(5.865858, dtype=float32))"
      ]
     },
     "execution_count": 18,
     "metadata": {},
     "output_type": "execute_result"
    }
   ],
   "source": [
    "log_normalizer, log_normalizer2"
   ]
  },
  {
   "cell_type": "code",
   "execution_count": 19,
   "metadata": {},
   "outputs": [
    {
     "data": {
      "text/plain": [
       "DeviceArray(True, dtype=bool)"
      ]
     },
     "execution_count": 19,
     "metadata": {},
     "output_type": "execute_result"
    }
   ],
   "source": [
    "np.allclose(filtered_potentials.reshape(num_timesteps, -1), filtered_potentials2)"
   ]
  },
  {
   "cell_type": "markdown",
   "metadata": {},
   "source": [
    "# Test the gradient"
   ]
  },
  {
   "cell_type": "code",
   "execution_count": 22,
   "metadata": {},
   "outputs": [],
   "source": [
    "# _factorial_hmm_log_normalizer(log_initial_state_probs,\n",
    "#                                   log_transition_matrices,\n",
    "#                                   log_likelihoods)\n",
    "\n",
    "f = value_and_grad(_factorial_hmm_log_normalizer, argnums=(1, 2), has_aux=True)\n",
    "(log_normalizer, filtered_potentials), (expected_transitions, expected_states) = \\\n",
    "    f(log_initial_state_probs, log_transition_matrices, log_likelihoods)"
   ]
  },
  {
   "cell_type": "markdown",
   "metadata": {},
   "source": [
    "# Joint distribution for the transitions"
   ]
  },
  {
   "cell_type": "code",
   "execution_count": 31,
   "metadata": {},
   "outputs": [],
   "source": [
    "from tensorflow_probability.substrates import jax as tfp\n",
    "tfd = tfp.distributions"
   ]
  },
  {
   "cell_type": "code",
   "execution_count": 43,
   "metadata": {},
   "outputs": [
    {
     "data": {
      "text/plain": [
       "DeviceArray([-1.1101403, -1.1101403, -1.1101403, -1.587949 , -2.3004153,\n",
       "             -2.5072618, -2.778224 , -1.1101403, -3.746516 , -1.1101403,\n",
       "             -2.5072618, -1.587949 , -2.029453 , -1.587949 , -4.130764 ,\n",
       "             -1.587949 , -1.587949 , -1.1101403, -1.587949 , -2.5072618,\n",
       "             -1.587949 , -2.029453 , -1.587949 , -1.1101403, -2.3004153,\n",
       "             -1.1101403, -2.5072618, -2.778224 , -1.1101403, -1.1101403,\n",
       "             -1.587949 , -1.587949 , -1.1101403, -2.029453 , -2.3004153,\n",
       "             -1.587949 , -2.3004153, -2.3004153, -2.5072618, -2.5072618,\n",
       "             -2.029453 , -1.587949 , -1.1101403, -1.587949 , -1.1101403,\n",
       "             -2.5072618, -1.1101403, -1.1101403, -1.587949 , -2.5072618,\n",
       "             -1.1101403, -1.1101403, -1.1101403, -1.1101403, -2.3004153,\n",
       "             -1.1101403, -2.3004153, -2.778224 , -1.1101403, -1.587949 ,\n",
       "             -1.1101403, -1.587949 , -2.3004153, -1.1101403, -1.1101403,\n",
       "             -1.1101403, -1.1101403, -1.1101403, -1.1101403, -1.587949 ,\n",
       "             -1.587949 , -1.587949 , -1.1101403, -1.1101403, -2.029453 ,\n",
       "             -1.587949 , -3.2687073, -2.5072618, -1.1101403, -1.1101403,\n",
       "             -3.2687073, -1.587949 , -1.587949 , -3.2687073, -1.1101403,\n",
       "             -1.1101403, -2.5072618, -1.1101403, -1.1101403, -1.587949 ,\n",
       "             -1.587949 , -2.3004153, -2.3004153, -1.587949 , -1.587949 ,\n",
       "             -1.1101403, -2.3004153, -2.3004153, -1.1101403, -1.587949 ],            dtype=float32)"
      ]
     },
     "execution_count": 43,
     "metadata": {},
     "output_type": "execute_result"
    }
   ],
   "source": [
    "# In TFP, we can write this as:\n",
    "prev_states = tuple(1 for _ in num_states)\n",
    "\n",
    "    Root = tfd.JointDistributionCoroutine.Root  # Convenient alias.\n",
    "def model():\n",
    "    for prev_state, log_transition_matrix in zip(prev_states, log_transition_matrices):\n",
    "        yield Root(tfd.Categorical(logits=log_transition_matrix[prev_state]))\n",
    "        \n",
    "joint = tfd.JointDistributionCoroutine(model)\n",
    "next_states = tuple(joint.sample(seed=jr.PRNGKey(1), sample_shape=(100,)))\n",
    "joint.log_prob(next_states)\n",
    "# next_states"
   ]
  },
  {
   "cell_type": "code",
   "execution_count": null,
   "metadata": {},
   "outputs": [],
   "source": []
  }
 ],
 "metadata": {
  "interpreter": {
   "hash": "1c9b7abd99f812592e04518a2dddca5f7bc8ca20b74b8ad7e1b8422bf8e8c0a8"
  },
  "kernelspec": {
   "display_name": "Python 3.9.6 64-bit ('ssm_jax': conda)",
   "name": "python3"
  },
  "language_info": {
   "codemirror_mode": {
    "name": "ipython",
    "version": 3
   },
   "file_extension": ".py",
   "mimetype": "text/x-python",
   "name": "python",
   "nbconvert_exporter": "python",
   "pygments_lexer": "ipython3",
   "version": "3.9.6"
  },
  "orig_nbformat": 4
 },
 "nbformat": 4,
 "nbformat_minor": 2
}
