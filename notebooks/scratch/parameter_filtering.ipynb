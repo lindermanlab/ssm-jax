{
 "cells": [
  {
   "cell_type": "code",
   "execution_count": 1,
   "id": "ff62462e-4654-4420-a1cb-bf41fec81478",
   "metadata": {},
   "outputs": [],
   "source": [
    "import jax\n",
    "import jax.numpy as np\n",
    "import jax.random as jr"
   ]
  },
  {
   "cell_type": "code",
   "execution_count": 2,
   "id": "2f2d2334-4566-4fd4-ad42-e47820623580",
   "metadata": {},
   "outputs": [],
   "source": [
    "from jax.tree_util import register_pytree_node_class"
   ]
  },
  {
   "cell_type": "code",
   "execution_count": 14,
   "id": "ec88799f-bc4d-49a7-9d2b-d3a9d95caccc",
   "metadata": {},
   "outputs": [],
   "source": [
    "from collections import namedtuple\n",
    "\n",
    "Children = namedtuple(\"children\", \"a b\")\n",
    "\n",
    "class ParameterProp:\n",
    "    def __init__(self, name, trainable=True):\n",
    "        self.name = name\n",
    "        self.trainable = True\n",
    "\n",
    "@register_pytree_node_class\n",
    "class Model:\n",
    "    def __init__(self, a, b):\n",
    "        self.a = ssm.Variable(a)\n",
    "        self.b = b\n",
    "        \n",
    "        self.parameter_properties = dict(\n",
    "            a = ParameterProp(\"a\", True),\n",
    "            b = ParameterProp(\"b\", False),\n",
    "        )\n",
    "        \n",
    "    def __call__(self, x):\n",
    "        return self.a * x + self.b * x\n",
    "    \n",
    "    def tree_flatten(self):\n",
    "        children = Children(a=self.a, b=self.b)\n",
    "        aux_data = self.parameter_properties\n",
    "        # aux_data = None\n",
    "        return children, aux_data\n",
    "    \n",
    "    @classmethod\n",
    "    def tree_unflatten(cls, aux_data, children):\n",
    "        a, b = children\n",
    "        parameter_properties = aux_data\n",
    "        obj = cls(a, b)\n",
    "        obj.parameter_properties = parameter_properties\n",
    "        return obj\n",
    "    \n",
    "@jax.jit\n",
    "def f(x):\n",
    "    return x\n",
    "\n",
    "model = Model(1, 2)\n",
    "out = f(model)"
   ]
  },
  {
   "cell_type": "code",
   "execution_count": null,
   "id": "3e9173f7-a752-4fc8-b05c-c29f9ff823d8",
   "metadata": {},
   "outputs": [],
   "source": [
    "a = ssm.Variable(a, group=0)\n",
    "\n",
    "model(a, "
   ]
  },
  {
   "cell_type": "code",
   "execution_count": 15,
   "id": "666be35d-799c-454b-9a7b-4fb699ca14dd",
   "metadata": {},
   "outputs": [
    {
     "data": {
      "text/plain": [
       "(children(a=1, b=2),\n",
       " {'a': <__main__.ParameterProp at 0x7fa8214fdcd0>,\n",
       "  'b': <__main__.ParameterProp at 0x7fa8214fdfd0>})"
      ]
     },
     "execution_count": 15,
     "metadata": {},
     "output_type": "execute_result"
    }
   ],
   "source": [
    "model.tree_flatten()"
   ]
  },
  {
   "cell_type": "code",
   "execution_count": 16,
   "id": "c8d2a504-01b5-4649-a097-04f8e598b6aa",
   "metadata": {},
   "outputs": [
    {
     "name": "stdout",
     "output_type": "stream",
     "text": [
      "([DeviceArray(1, dtype=int32, weak_type=True), DeviceArray(2, dtype=int32, weak_type=True)], PyTreeDef(CustomNode(<class '__main__.Model'>[{'a': <__main__.ParameterProp object at 0x7fa8214fdcd0>, 'b': <__main__.ParameterProp object at 0x7fa8214fdfd0>}], [*, *])))\n"
     ]
    }
   ],
   "source": [
    "from jax.tree_util import tree_flatten\n",
    "# print(out.tree_flatten())\n",
    "print(tree_flatten(out))\n",
    "# print(ravel_pytree(out))"
   ]
  },
  {
   "cell_type": "code",
   "execution_count": 17,
   "id": "da9e6378-5ff6-47dd-9804-8d63a7dbf764",
   "metadata": {},
   "outputs": [
    {
     "name": "stdout",
     "output_type": "stream",
     "text": [
      "[10.] [10.]\n"
     ]
    }
   ],
   "source": [
    "import equinox as eqx\n",
    "import jax.random as jr\n",
    "import jax.numpy as np\n",
    "import jax\n",
    "\n",
    "model_key = jr.PRNGKey(0)\n",
    "\n",
    "# model = eqx.nn.MLP(\n",
    "#     in_size=1, out_size=1, width_size=1, depth=1, key=model_key\n",
    "# )\n",
    "\n",
    "class ParameterProp:\n",
    "    def __init__(self, name, trainable=True):\n",
    "        self.name = name\n",
    "        self.trainable = True\n",
    "\n",
    "@register_pytree_node_class\n",
    "class Model:\n",
    "    def __init__(self, a, b):\n",
    "        self.a = a\n",
    "        self.b = b\n",
    "        \n",
    "        self.parameter_properties = dict(\n",
    "            a = ParameterProp(\"a\", True),\n",
    "            b = ParameterProp(\"b\", False),\n",
    "        )\n",
    "        \n",
    "    def __call__(self, x):\n",
    "        return self.a * x + self.b * x\n",
    "    \n",
    "    def tree_flatten(self):\n",
    "        children = (self.a, self.b)\n",
    "        aux_data = self.parameter_properties\n",
    "        return children, aux_data\n",
    "    \n",
    "    @classmethod\n",
    "    def tree_unflatten(cls, aux_data, children):\n",
    "        a, b = children\n",
    "        parameter_properties = aux_data\n",
    "        obj = cls(a, b)\n",
    "        obj.parameter_properties = parameter_properties\n",
    "        return obj\n",
    "    \n",
    "model = Model(np.array([1.]), np.array([5.]))\n",
    "\n",
    "\n",
    "# `filter_jit` and `filter_value_and_grad` are thin wrappers around the usual `jax` functions, that automatically\n",
    "# inspect the arguments of the function, JIT with respect to all JAX arrays, and differentiate with respect to all\n",
    "# floating point JAX arrays (i.e. the parameters of the model).\n",
    "# @eqx.filter_jit\n",
    "@eqx.filter_value_and_grad\n",
    "def loss(model, x, y):\n",
    "    pred_y = model(x)\n",
    "    return np.mean((y - pred_y) ** 2)\n",
    "\n",
    "val, grad = loss(model, np.ones((1,)), np.ones((1,)))\n",
    "print(grad.a, grad.b)"
   ]
  },
  {
   "cell_type": "code",
   "execution_count": 18,
   "id": "3cc14b0a-7ce2-44a8-97b8-660854884b60",
   "metadata": {},
   "outputs": [
    {
     "ename": "TypeError",
     "evalue": "Gradient only defined for scalar-output functions. Output had shape: (1,).",
     "output_type": "error",
     "traceback": [
      "\u001b[0;31m---------------------------------------------------------------------------\u001b[0m",
      "\u001b[0;31mTypeError\u001b[0m                                 Traceback (most recent call last)",
      "\u001b[0;32m/var/folders/kc/slznj52d4p57wn5mdxm530080000gn/T/ipykernel_76313/1832823009.py\u001b[0m in \u001b[0;36m<module>\u001b[0;34m\u001b[0m\n\u001b[1;32m      3\u001b[0m     \u001b[0;32mreturn\u001b[0m \u001b[0mmodel\u001b[0m\u001b[0;34m.\u001b[0m\u001b[0ma\u001b[0m \u001b[0;34m*\u001b[0m \u001b[0mx\u001b[0m \u001b[0;34m+\u001b[0m \u001b[0mmodel\u001b[0m\u001b[0;34m.\u001b[0m\u001b[0mb\u001b[0m \u001b[0;34m*\u001b[0m \u001b[0mx\u001b[0m\u001b[0;34m\u001b[0m\u001b[0;34m\u001b[0m\u001b[0m\n\u001b[1;32m      4\u001b[0m \u001b[0;34m\u001b[0m\u001b[0m\n\u001b[0;32m----> 5\u001b[0;31m \u001b[0mgrad\u001b[0m \u001b[0;34m=\u001b[0m \u001b[0mf\u001b[0m\u001b[0;34m(\u001b[0m\u001b[0mmodel\u001b[0m\u001b[0;34m,\u001b[0m \u001b[0;36m1\u001b[0m\u001b[0;34m)\u001b[0m\u001b[0;34m\u001b[0m\u001b[0;34m\u001b[0m\u001b[0m\n\u001b[0m\u001b[1;32m      6\u001b[0m \u001b[0mprint\u001b[0m\u001b[0;34m(\u001b[0m\u001b[0mgrad\u001b[0m\u001b[0;34m.\u001b[0m\u001b[0ma\u001b[0m\u001b[0;34m,\u001b[0m \u001b[0mgrad\u001b[0m\u001b[0;34m.\u001b[0m\u001b[0mb\u001b[0m\u001b[0;34m)\u001b[0m\u001b[0;34m\u001b[0m\u001b[0;34m\u001b[0m\u001b[0m\n",
      "    \u001b[0;31m[... skipping hidden 4 frame]\u001b[0m\n",
      "\u001b[0;32m/opt/miniconda3/envs/ssmjax/lib/python3.9/site-packages/jax/_src/api.py\u001b[0m in \u001b[0;36m_check_scalar\u001b[0;34m(x)\u001b[0m\n\u001b[1;32m    900\u001b[0m     \u001b[0;32mif\u001b[0m \u001b[0misinstance\u001b[0m\u001b[0;34m(\u001b[0m\u001b[0maval\u001b[0m\u001b[0;34m,\u001b[0m \u001b[0mShapedArray\u001b[0m\u001b[0;34m)\u001b[0m\u001b[0;34m:\u001b[0m\u001b[0;34m\u001b[0m\u001b[0;34m\u001b[0m\u001b[0m\n\u001b[1;32m    901\u001b[0m       \u001b[0;32mif\u001b[0m \u001b[0maval\u001b[0m\u001b[0;34m.\u001b[0m\u001b[0mshape\u001b[0m \u001b[0;34m!=\u001b[0m \u001b[0;34m(\u001b[0m\u001b[0;34m)\u001b[0m\u001b[0;34m:\u001b[0m\u001b[0;34m\u001b[0m\u001b[0;34m\u001b[0m\u001b[0m\n\u001b[0;32m--> 902\u001b[0;31m         \u001b[0;32mraise\u001b[0m \u001b[0mTypeError\u001b[0m\u001b[0;34m(\u001b[0m\u001b[0mmsg\u001b[0m\u001b[0;34m(\u001b[0m\u001b[0;34mf\"had shape: {aval.shape}\"\u001b[0m\u001b[0;34m)\u001b[0m\u001b[0;34m)\u001b[0m\u001b[0;34m\u001b[0m\u001b[0;34m\u001b[0m\u001b[0m\n\u001b[0m\u001b[1;32m    903\u001b[0m     \u001b[0;32melse\u001b[0m\u001b[0;34m:\u001b[0m\u001b[0;34m\u001b[0m\u001b[0;34m\u001b[0m\u001b[0m\n\u001b[1;32m    904\u001b[0m       \u001b[0;32mraise\u001b[0m \u001b[0mTypeError\u001b[0m\u001b[0;34m(\u001b[0m\u001b[0mmsg\u001b[0m\u001b[0;34m(\u001b[0m\u001b[0;34mf\"had abstract value {aval}\"\u001b[0m\u001b[0;34m)\u001b[0m\u001b[0;34m)\u001b[0m\u001b[0;34m\u001b[0m\u001b[0;34m\u001b[0m\u001b[0m\n",
      "\u001b[0;31mTypeError\u001b[0m: Gradient only defined for scalar-output functions. Output had shape: (1,)."
     ]
    }
   ],
   "source": [
    "@jax.grad\n",
    "def f(model, x):\n",
    "    return model.a * x + model.b * x\n",
    "\n",
    "grad = f(model, 1)\n",
    "print(grad.a, grad.b)"
   ]
  },
  {
   "cell_type": "code",
   "execution_count": 19,
   "id": "0ecb7c7b",
   "metadata": {},
   "outputs": [],
   "source": [
    "import jax\n",
    "import jax.numpy as np\n",
    "import jax.random as jr"
   ]
  },
  {
   "cell_type": "code",
   "execution_count": 20,
   "id": "9726510c",
   "metadata": {},
   "outputs": [],
   "source": [
    "from jax.tree_util import register_pytree_node_class"
   ]
  },
  {
   "cell_type": "code",
   "execution_count": 21,
   "id": "1ed4fc0b-aeae-4033-bb59-0b3d8a7181db",
   "metadata": {},
   "outputs": [],
   "source": [
    "from typing import Any, Callable, List, Optional, Tuple, Union\n",
    "from typing_extensions import get_args\n",
    "import functools as ft\n",
    "import jax\n",
    "\n",
    "PyTree = any\n",
    "\n",
    "def _make_filter_tree(mask: Union[bool, Callable[[Any], bool]], arg: Any) -> bool:\n",
    "    if isinstance(mask, bool):\n",
    "        return mask\n",
    "    elif callable(mask):\n",
    "        return jax.tree_map(mask, arg)\n",
    "    else:\n",
    "        raise ValueError(\"`filter_spec` must consist of booleans and callables only.\")\n",
    "\n",
    "def filter(pytree: PyTree, filter_spec: PyTree, inverse: bool = False, replace: Any = None) -> PyTree:\n",
    "    inverse = bool(inverse)  # just in case, to make the != trick below work reliably\n",
    "    filter_tree = jax.tree_map(_make_filter_tree, filter_spec, pytree)\n",
    "    return jax.tree_map(\n",
    "        lambda mask, x: x if bool(mask) != inverse else replace, filter_tree, pytree\n",
    "    )\n",
    "\n",
    "\n",
    "def partition(pytree: PyTree, filter_spec: PyTree, replace: Any = None) -> PyTree:\n",
    "    filter_tree = jax.tree_map(_make_filter_tree, filter_spec, pytree)\n",
    "    left = jax.tree_map(lambda mask, x: x if mask else replace, filter_tree, pytree)\n",
    "    right = jax.tree_map(lambda mask, x: replace if mask else x, filter_tree, pytree)\n",
    "    return left, right\n",
    "\n",
    "def _combine(*args):\n",
    "    for arg in args:\n",
    "        if arg is not None:\n",
    "            return arg\n",
    "    return None\n",
    "\n",
    "def _is_none(x):\n",
    "    return x is None\n",
    "\n",
    "def combine(*pytrees: PyTree):\n",
    "    pytrees = [pytree for pytree in pytrees if pytree is not None]\n",
    "    return jax.tree_map(_combine, *pytrees, is_leaf=_is_none)\n",
    "\n",
    "def filter_value_and_grad(\n",
    "    fun, *, filter_spec=lambda x: True, argnums=None, **gradkwargs\n",
    "):\n",
    "    if argnums is not None:\n",
    "        raise ValueError(\n",
    "            \"`argnums` should not be passed. If you need to differentiate \"\n",
    "            \"multiple objects then collect them into a tuple and pass that \"\n",
    "            \"as the first argument.\"\n",
    "        )\n",
    "\n",
    "    @ft.partial(jax.value_and_grad, argnums=0, **gradkwargs)\n",
    "    def fun_value_and_grad(diff_x, nondiff_x, *args, **kwargs):\n",
    "        x = combine(diff_x, nondiff_x)\n",
    "        return fun(x, *args, **kwargs)\n",
    "\n",
    "    def fun_value_and_grad_wrapper(x, *args, **kwargs):\n",
    "        diff_x, nondiff_x = partition(x, filter_spec)\n",
    "        return fun_value_and_grad(diff_x, nondiff_x, *args, **kwargs)\n",
    "\n",
    "    return fun_value_and_grad_wrapper"
   ]
  },
  {
   "cell_type": "code",
   "execution_count": 22,
   "id": "378b680b-6b16-45af-becf-d146daa31d01",
   "metadata": {},
   "outputs": [],
   "source": [
    "from collections import namedtuple\n",
    "\n",
    "class ParameterProp:\n",
    "    def __init__(self, name, trainable=True):\n",
    "        self.name = name\n",
    "        self.trainable = trainable\n",
    "    def __repr__(self):\n",
    "        return f\"<Parameter name='{self.name}' trainable={self.trainable}>\"\n",
    "        \n",
    "@register_pytree_node_class\n",
    "class Model:\n",
    "    def __init__(self, a, b, c):\n",
    "\n",
    "        self.parameters = dict(a=a, b=b, c=c)\n",
    "        self.a = a\n",
    "        self.b = b\n",
    "        self.c = c\n",
    "        \n",
    "        self.parameter_properties = dict(\n",
    "            a = ParameterProp(\"a\", trainable=True),\n",
    "            b = ParameterProp(\"b\", trainable=False),\n",
    "            c = ParameterProp(\"c\", trainable=False),\n",
    "        )\n",
    "        \n",
    "    def __repr__(self):\n",
    "        return f\"<Model a={self.a} b={self.b} c={self.c}>\"\n",
    "    \n",
    "    def tree_flatten(self): --> (trainable_unconstrained_params, static), aux_data\n",
    "        params = []\n",
    "        static = []\n",
    "        \n",
    "        for param in params:\n",
    "            if param.trainable == True:\n",
    "                put it in params\n",
    "            else:\n",
    "                put it in static\n",
    "        \n",
    "        for param, prop in self.parameter_properties.items():\n",
    "            if prop.trainable:\n",
    "                params.append(self.parameters[param])\n",
    "            else:\n",
    "                static.append(self.parameters[param])\n",
    "        children = (params, static)\n",
    "        aux_data = self.parameter_properties\n",
    "        return children, aux_data\n",
    "    \n",
    "    @classmethod\n",
    "    def tree_unflatten(cls, aux_data, children):\n",
    "        params, static = children\n",
    "        parameter_properties = aux_data\n",
    "        obj = cls(*params, *static)\n",
    "        # obj.parameter_properties = parameter_properties\n",
    "        return obj"
   ]
  },
  {
   "cell_type": "code",
   "execution_count": 23,
   "id": "219b8e5e-f2ce-438f-9756-64a60769243f",
   "metadata": {},
   "outputs": [],
   "source": [
    "model = Model(1., 3., 5.)"
   ]
  },
  {
   "cell_type": "code",
   "execution_count": 24,
   "id": "a3653953-e6b7-4bdf-97da-88a244ea5e1c",
   "metadata": {},
   "outputs": [
    {
     "ename": "NameError",
     "evalue": "name 'tree_util' is not defined",
     "output_type": "error",
     "traceback": [
      "\u001b[0;31m---------------------------------------------------------------------------\u001b[0m",
      "\u001b[0;31mNameError\u001b[0m                                 Traceback (most recent call last)",
      "\u001b[0;32m/var/folders/kc/slznj52d4p57wn5mdxm530080000gn/T/ipykernel_76313/4284410230.py\u001b[0m in \u001b[0;36m<module>\u001b[0;34m\u001b[0m\n\u001b[0;32m----> 1\u001b[0;31m \u001b[0mpytree\u001b[0m\u001b[0;34m,\u001b[0m \u001b[0mstructure\u001b[0m \u001b[0;34m=\u001b[0m \u001b[0mtree_util\u001b[0m\u001b[0;34m.\u001b[0m\u001b[0mtree_flatten\u001b[0m\u001b[0;34m(\u001b[0m\u001b[0mmodel\u001b[0m\u001b[0;34m)\u001b[0m\u001b[0;34m\u001b[0m\u001b[0;34m\u001b[0m\u001b[0m\n\u001b[0m",
      "\u001b[0;31mNameError\u001b[0m: name 'tree_util' is not defined"
     ]
    }
   ],
   "source": [
    "pytree, structure = tree_util.tree_flatten(model)"
   ]
  },
  {
   "cell_type": "code",
   "execution_count": 25,
   "id": "8b9167e2-0206-4c7b-96d1-2a3bd897dba0",
   "metadata": {},
   "outputs": [
    {
     "ename": "NameError",
     "evalue": "name 'structure' is not defined",
     "output_type": "error",
     "traceback": [
      "\u001b[0;31m---------------------------------------------------------------------------\u001b[0m",
      "\u001b[0;31mNameError\u001b[0m                                 Traceback (most recent call last)",
      "\u001b[0;32m/var/folders/kc/slznj52d4p57wn5mdxm530080000gn/T/ipykernel_76313/1466216481.py\u001b[0m in \u001b[0;36m<module>\u001b[0;34m\u001b[0m\n\u001b[0;32m----> 1\u001b[0;31m \u001b[0mstructure\u001b[0m\u001b[0;34m.\u001b[0m\u001b[0mwalk\u001b[0m\u001b[0;34m(\u001b[0m\u001b[0;32mlambda\u001b[0m \u001b[0mx\u001b[0m\u001b[0;34m:\u001b[0m \u001b[0mx\u001b[0m\u001b[0;34m,\u001b[0m \u001b[0;32mlambda\u001b[0m \u001b[0mx\u001b[0m\u001b[0;34m:\u001b[0m \u001b[0mx\u001b[0m\u001b[0;34m+\u001b[0m\u001b[0;36m10\u001b[0m\u001b[0;34m,\u001b[0m \u001b[0mnp\u001b[0m\u001b[0;34m.\u001b[0m\u001b[0marange\u001b[0m\u001b[0;34m(\u001b[0m\u001b[0mstructure\u001b[0m\u001b[0;34m.\u001b[0m\u001b[0mnum_leaves\u001b[0m\u001b[0;34m)\u001b[0m\u001b[0;34m)\u001b[0m\u001b[0;34m\u001b[0m\u001b[0;34m\u001b[0m\u001b[0m\n\u001b[0m",
      "\u001b[0;31mNameError\u001b[0m: name 'structure' is not defined"
     ]
    }
   ],
   "source": [
    "structure.walk(lambda x: x, lambda x: x+10, np.arange(structure.num_leaves))"
   ]
  },
  {
   "cell_type": "code",
   "execution_count": 399,
   "id": "c49e5674-cc64-43d1-85a0-08037eae5c09",
   "metadata": {},
   "outputs": [
    {
     "data": {
      "text/plain": [
       "<Model a=1.0 b=3.0 c=5.0>"
      ]
     },
     "execution_count": 399,
     "metadata": {},
     "output_type": "execute_result"
    }
   ],
   "source": [
    "@jax.jit\n",
    "def f(x):\n",
    "    return x\n",
    "\n",
    "out = f(model)\n",
    "out"
   ]
  },
  {
   "cell_type": "code",
   "execution_count": 396,
   "id": "e2931aa7-1c93-497a-8309-42f081e54df7",
   "metadata": {},
   "outputs": [],
   "source": [
    "from jax import tree_util\n",
    "pytree, pytree_structure = tree_util.tree_flatten(model)\n",
    "left, right = partition(model, True)"
   ]
  },
  {
   "cell_type": "markdown",
   "id": "a8a68e0a-219a-48c2-ab2f-c227098af403",
   "metadata": {},
   "source": [
    "### Question:\n",
    "\n",
    "How to use parameter properties to lookup boolean for `filter_spec`?\n",
    "\n",
    "Issue: we need same `aux_data` for `tree_map` to work..."
   ]
  },
  {
   "cell_type": "code",
   "execution_count": 332,
   "id": "c9eb7ad0-8418-46b0-94a1-37442e0f30be",
   "metadata": {},
   "outputs": [],
   "source": [
    "params, static = partition(model, filter_spec=mask)"
   ]
  },
  {
   "cell_type": "code",
   "execution_count": 26,
   "id": "c6fda839-58a7-4ba9-8297-581494f86ce3",
   "metadata": {},
   "outputs": [
    {
     "ename": "TypeError",
     "evalue": "__init__() missing 1 required positional argument: 'c'",
     "output_type": "error",
     "traceback": [
      "\u001b[0;31m---------------------------------------------------------------------------\u001b[0m",
      "\u001b[0;31mTypeError\u001b[0m                                 Traceback (most recent call last)",
      "\u001b[0;32m/var/folders/kc/slznj52d4p57wn5mdxm530080000gn/T/ipykernel_76313/3412175549.py\u001b[0m in \u001b[0;36m<module>\u001b[0;34m\u001b[0m\n\u001b[0;32m----> 1\u001b[0;31m \u001b[0mmodel\u001b[0m \u001b[0;34m=\u001b[0m \u001b[0mModel\u001b[0m\u001b[0;34m(\u001b[0m\u001b[0;36m1.\u001b[0m\u001b[0;34m,\u001b[0m \u001b[0;36m3.\u001b[0m\u001b[0;34m)\u001b[0m\u001b[0;34m\u001b[0m\u001b[0;34m\u001b[0m\u001b[0m\n\u001b[0m\u001b[1;32m      2\u001b[0m \u001b[0mmask\u001b[0m \u001b[0;34m=\u001b[0m \u001b[0mModel\u001b[0m\u001b[0;34m(\u001b[0m\u001b[0;32mTrue\u001b[0m\u001b[0;34m,\u001b[0m \u001b[0;32mFalse\u001b[0m\u001b[0;34m)\u001b[0m\u001b[0;34m\u001b[0m\u001b[0;34m\u001b[0m\u001b[0m\n\u001b[1;32m      3\u001b[0m \u001b[0;34m\u001b[0m\u001b[0m\n\u001b[1;32m      4\u001b[0m \u001b[0;32mdef\u001b[0m \u001b[0mobjective\u001b[0m\u001b[0;34m(\u001b[0m\u001b[0mmodel\u001b[0m\u001b[0;34m)\u001b[0m\u001b[0;34m:\u001b[0m\u001b[0;34m\u001b[0m\u001b[0;34m\u001b[0m\u001b[0m\n\u001b[1;32m      5\u001b[0m     \u001b[0;32mreturn\u001b[0m \u001b[0mmodel\u001b[0m\u001b[0;34m.\u001b[0m\u001b[0ma\u001b[0m \u001b[0;34m*\u001b[0m \u001b[0mmodel\u001b[0m\u001b[0;34m.\u001b[0m\u001b[0mb\u001b[0m\u001b[0;34m\u001b[0m\u001b[0;34m\u001b[0m\u001b[0m\n",
      "\u001b[0;31mTypeError\u001b[0m: __init__() missing 1 required positional argument: 'c'"
     ]
    }
   ],
   "source": [
    "model = Model(1., 3.)\n",
    "mask = Model(True, False)\n",
    "\n",
    "def objective(model):\n",
    "    return model.a * model.b\n",
    "\n",
    "print(\"regular function\")\n",
    "value, grad = filter_value_and_grad(objective, filter_spec=mask)(model)\n",
    "print(grad.a)\n",
    "print(grad.b)\n",
    "\n",
    "print()\n",
    "print(\"jitted function\")\n",
    "value, grad = jax.jit(filter_value_and_grad(objective, filter_spec=mask))(model)\n",
    "print(grad.a)\n",
    "print(grad.b)"
   ]
  },
  {
   "cell_type": "code",
   "execution_count": null,
   "id": "6eaa735d-200c-465f-8166-148df48fca6a",
   "metadata": {},
   "outputs": [],
   "source": []
  }
 ],
 "metadata": {
  "kernelspec": {
   "display_name": "Python 3 (ipykernel)",
   "language": "python",
   "name": "python3"
  },
  "language_info": {
   "codemirror_mode": {
    "name": "ipython",
    "version": 3
   },
   "file_extension": ".py",
   "mimetype": "text/x-python",
   "name": "python",
   "nbconvert_exporter": "python",
   "pygments_lexer": "ipython3",
   "version": "3.9.7"
  }
 },
 "nbformat": 4,
 "nbformat_minor": 5
}
