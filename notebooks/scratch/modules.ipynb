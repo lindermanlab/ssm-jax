{
 "cells": [
  {
   "cell_type": "markdown",
   "id": "776b8a33-fa9e-41a4-a0e6-6402177485c1",
   "metadata": {},
   "source": [
    "# Modules\n",
    "\n",
    "The purpose of this notebook is to explore a module functionality for JAX."
   ]
  },
  {
   "cell_type": "code",
   "execution_count": 1,
   "id": "380fbe5f-7ab9-42fd-8778-cd2b992f92f3",
   "metadata": {},
   "outputs": [
    {
     "name": "stderr",
     "output_type": "stream",
     "text": [
      "/Users/collinschlager/miniforge3/envs/ssmjax/lib/python3.9/site-packages/jax/_src/lib/__init__.py:33: UserWarning: JAX on Mac ARM machines is experimental and minimally tested. Please see https://github.com/google/jax/issues/5501 in the event of problems.\n",
      "  warnings.warn(\"JAX on Mac ARM machines is experimental and minimally tested. \"\n"
     ]
    }
   ],
   "source": [
    "from flax.core.frozen_dict import FrozenDict, freeze\n",
    "from jax import numpy as np\n",
    "from jax import random as jr\n",
    "\n",
    "from jax.tree_util import register_pytree_node_class\n",
    "import jax\n",
    "\n",
    "from contextlib import contextmanager"
   ]
  },
  {
   "cell_type": "code",
   "execution_count": 2,
   "id": "ea377059",
   "metadata": {},
   "outputs": [],
   "source": [
    "from modules_beta import Parameter, Module"
   ]
  },
  {
   "cell_type": "code",
   "execution_count": 3,
   "id": "8dd473df-da24-435e-aab3-7d180bd34d1f",
   "metadata": {},
   "outputs": [
    {
     "name": "stderr",
     "output_type": "stream",
     "text": [
      "WARNING:absl:No GPU/TPU found, falling back to CPU. (Set TF_CPP_MIN_LOG_LEVEL=0 and rerun for more info.)\n"
     ]
    }
   ],
   "source": [
    "@register_pytree_node_class\n",
    "class Linear(Module):\n",
    "    def __init__(self, in_dim, out_dim, prng_key=jr.PRNGKey(0)):\n",
    "        super().__init__()\n",
    "        \n",
    "        key_1, key_2 = jr.split(prng_key, 2)\n",
    "        self.W = Parameter(jr.normal(key_1, (in_dim, out_dim)))\n",
    "        self.b = Parameter(jr.normal(key_2, (out_dim,)))\n",
    "        \n",
    "        self.eps = Parameter(np.array([0.03]), is_hyperparameter=True)\n",
    "        \n",
    "    def forward(self, x):\n",
    "        return x @ self.W.value + self.b.value + self.eps.value\n",
    "    \n",
    "    @classmethod\n",
    "    def from_parameters(cls, parameters, hyperparameters):\n",
    "        \"\"\"\n",
    "        Assumes:\n",
    "            parameters => \"W\", \"b\"\n",
    "            hyperparameters => \"eps\"\n",
    "        \"\"\"\n",
    "        \n",
    "        obj = object.__new__(cls)\n",
    "        super(cls, obj).__init__()\n",
    "        \n",
    "        # set the params / hyperparameters\n",
    "        obj.W = parameters[\"W\"]\n",
    "        obj.b = parameters[\"b\"]\n",
    "        obj.eps = hyperparameters[\"eps\"]\n",
    "        \n",
    "        return obj"
   ]
  },
  {
   "cell_type": "markdown",
   "id": "3316a9d4-0456-4c3f-ba45-82870c4f5014",
   "metadata": {},
   "source": [
    "### Displaying Parameters and Hyperparameters"
   ]
  },
  {
   "cell_type": "code",
   "execution_count": 4,
   "id": "453f799d-23e6-4244-b0e6-b0764af0efea",
   "metadata": {},
   "outputs": [
    {
     "name": "stdout",
     "output_type": "stream",
     "text": [
      "FrozenDict({\n",
      "    W: <Parameter DeviceArray([[0.59902626, 0.2172144 ],\n",
      "                 [0.660603  , 0.03266738],\n",
      "                 [1.2164948 , 1.1940813 ]], dtype=float32) is_hyperparameter=False>,\n",
      "    b: <Parameter DeviceArray([ 0.19307722, -0.52678293], dtype=float32) is_hyperparameter=False>,\n",
      "})\n",
      "FrozenDict({\n",
      "    eps: <Parameter DeviceArray([0.03], dtype=float32) is_hyperparameter=True>,\n",
      "})\n"
     ]
    }
   ],
   "source": [
    "model = Linear(in_dim=3, out_dim=2)\n",
    "print(model.parameters)\n",
    "print(model.hyperparameters)"
   ]
  },
  {
   "cell_type": "markdown",
   "id": "f1d81a60-324e-412f-b420-1950ba0df0a0",
   "metadata": {},
   "source": [
    "### Changing Parameters"
   ]
  },
  {
   "cell_type": "code",
   "execution_count": 5,
   "id": "682d996a-d6be-4dde-9bb5-dd2ca36a2b82",
   "metadata": {},
   "outputs": [
    {
     "data": {
      "text/plain": [
       "DeviceArray([[2.6992013, 0.9471801],\n",
       "             [2.6992013, 0.9471801],\n",
       "             [2.6992013, 0.9471801],\n",
       "             [2.6992013, 0.9471801],\n",
       "             [2.6992013, 0.9471801],\n",
       "             [2.6992013, 0.9471801]], dtype=float32)"
      ]
     },
     "execution_count": 5,
     "metadata": {},
     "output_type": "execute_result"
    }
   ],
   "source": [
    "# first, a test run\n",
    "x = np.ones((6, 3))\n",
    "model.forward(x)"
   ]
  },
  {
   "cell_type": "code",
   "execution_count": 6,
   "id": "fa9d8c81-61b7-42ab-a16c-11401f96afbf",
   "metadata": {},
   "outputs": [
    {
     "data": {
      "text/plain": [
       "FrozenDict({\n",
       "    W: <Parameter DeviceArray([[0., 0.],\n",
       "                 [0., 0.],\n",
       "                 [0., 0.]], dtype=float32) is_hyperparameter=False>,\n",
       "    b: <Parameter DeviceArray([0., 0.], dtype=float32) is_hyperparameter=False>,\n",
       "})"
      ]
     },
     "execution_count": 6,
     "metadata": {},
     "output_type": "execute_result"
    }
   ],
   "source": [
    "# set params to zero\n",
    "model.W = Parameter(np.zeros((3, 2)))\n",
    "model.b = Parameter(np.zeros((2,)))\n",
    "model.parameters"
   ]
  },
  {
   "cell_type": "code",
   "execution_count": 7,
   "id": "9e5fc0c1-741f-42c4-8b2e-b90572cfefb5",
   "metadata": {},
   "outputs": [
    {
     "data": {
      "text/plain": [
       "DeviceArray([[0.03, 0.03],\n",
       "             [0.03, 0.03],\n",
       "             [0.03, 0.03],\n",
       "             [0.03, 0.03],\n",
       "             [0.03, 0.03],\n",
       "             [0.03, 0.03]], dtype=float32)"
      ]
     },
     "execution_count": 7,
     "metadata": {},
     "output_type": "execute_result"
    }
   ],
   "source": [
    "x = np.ones((6, 3))\n",
    "model.forward(x)"
   ]
  },
  {
   "cell_type": "markdown",
   "id": "eef758bf-03c1-450f-9f72-f3127ffc716b",
   "metadata": {},
   "source": [
    "### Can it JIT?"
   ]
  },
  {
   "cell_type": "code",
   "execution_count": 8,
   "id": "ee5b3cf7-cefd-4c3b-82dd-3a5c9c9f689f",
   "metadata": {},
   "outputs": [],
   "source": [
    "from jax import jit\n",
    "\n",
    "@jit\n",
    "def identity(x):\n",
    "    return x"
   ]
  },
  {
   "cell_type": "code",
   "execution_count": 9,
   "id": "2968a5e5-2d98-45a7-bc0f-2f2d92958cda",
   "metadata": {},
   "outputs": [
    {
     "data": {
      "text/plain": [
       "FrozenDict({\n",
       "    W: <Parameter DeviceArray([[0.59902626, 0.2172144 ],\n",
       "                 [0.660603  , 0.03266738],\n",
       "                 [1.2164948 , 1.1940813 ]], dtype=float32) is_hyperparameter=False>,\n",
       "    b: <Parameter DeviceArray([ 0.19307722, -0.52678293], dtype=float32) is_hyperparameter=False>,\n",
       "})"
      ]
     },
     "execution_count": 9,
     "metadata": {},
     "output_type": "execute_result"
    }
   ],
   "source": [
    "model = Linear(in_dim=3, out_dim=2)\n",
    "model.parameters"
   ]
  },
  {
   "cell_type": "code",
   "execution_count": 10,
   "id": "e5253f6b-dcaa-490a-9b66-5079c38bdfda",
   "metadata": {},
   "outputs": [
    {
     "data": {
      "text/plain": [
       "<__main__.Linear at 0x1470239d0>"
      ]
     },
     "execution_count": 10,
     "metadata": {},
     "output_type": "execute_result"
    }
   ],
   "source": [
    "# yup!\n",
    "identity(model)"
   ]
  },
  {
   "cell_type": "code",
   "execution_count": 11,
   "id": "0fcd35f3-2ecd-4a57-b294-2cf7acfb3cc0",
   "metadata": {},
   "outputs": [
    {
     "data": {
      "text/plain": [
       "FrozenDict({\n",
       "    W: <Parameter DeviceArray([[0.59902626, 0.2172144 ],\n",
       "                 [0.660603  , 0.03266738],\n",
       "                 [1.2164948 , 1.1940813 ]], dtype=float32) is_hyperparameter=False>,\n",
       "    b: <Parameter DeviceArray([ 0.19307722, -0.52678293], dtype=float32) is_hyperparameter=False>,\n",
       "})"
      ]
     },
     "execution_count": 11,
     "metadata": {},
     "output_type": "execute_result"
    }
   ],
   "source": [
    "model.parameters"
   ]
  },
  {
   "cell_type": "markdown",
   "id": "2ee5b1b4-0c5e-4dc8-abe4-0e0d3b59da37",
   "metadata": {},
   "source": [
    "# Optimizing Params with Gradients"
   ]
  },
  {
   "cell_type": "code",
   "execution_count": 12,
   "id": "b1af4e04-0f40-4101-9f57-89a715adba69",
   "metadata": {},
   "outputs": [],
   "source": [
    "import optax\n",
    "from tqdm.auto import tqdm\n",
    "import copy"
   ]
  },
  {
   "cell_type": "code",
   "execution_count": 13,
   "id": "aae929be-76b6-4360-be50-9f01c196a8e3",
   "metadata": {},
   "outputs": [],
   "source": [
    "@register_pytree_node_class\n",
    "class Model(Module):\n",
    "    def __init__(self, a=1.0, b=2.0, c=3.0):\n",
    "        \n",
    "        super().__init__()\n",
    "        \n",
    "        self.a = Parameter(np.array([a]))\n",
    "        self.b = Parameter(np.array([b]))\n",
    "        self.c = Parameter(np.array([c]), is_hyperparameter=True)\n",
    "        \n",
    "    @classmethod\n",
    "    def from_parameters(cls, parameters, hyperparameters):\n",
    "        obj = object.__new__(cls)\n",
    "        super(cls, obj).__init__()\n",
    "        \n",
    "        # set the params / hyperparameters\n",
    "        obj.a = parameters[\"a\"]\n",
    "        obj.b = parameters[\"b\"]\n",
    "        obj.c = hyperparameters[\"c\"]\n",
    "        \n",
    "        return obj\n",
    "    \n",
    "    def loss(self, data):\n",
    "            return ((self.a.value - data[0])**2 + \n",
    "                    (self.b.value - data[1])**2 + \n",
    "                    (self.c.value - data[2])**2)[0]\n",
    "        \n",
    "    def fit(self, data, num_iter=10000):\n",
    "        \n",
    "        params = self.parameters\n",
    "        \n",
    "        optimizer = optax.adam(1e-3)\n",
    "        opt_state = optimizer.init(params)\n",
    "\n",
    "        def objective(params):\n",
    "            with self.inject(params):\n",
    "                return self.loss(data)\n",
    "        \n",
    "        @jax.jit\n",
    "        def step(params, opt_state):\n",
    "            loss_value, grads = jax.value_and_grad(objective)(params)\n",
    "            updates, opt_state = optimizer.update(grads, opt_state, params)\n",
    "            params = optax.apply_updates(params, updates)\n",
    "            return params, opt_state, loss_value\n",
    "        \n",
    "        losses = []\n",
    "        for idx in tqdm(range(num_iter)):\n",
    "            params, opt_state, loss_value = step(params, opt_state)\n",
    "            losses.append(loss_value)\n",
    "            \n",
    "        self.parameters = params\n",
    "        return losses"
   ]
  },
  {
   "cell_type": "code",
   "execution_count": 14,
   "id": "d0ed5fe8-c804-4368-b7f9-df9402763d66",
   "metadata": {},
   "outputs": [
    {
     "data": {
      "text/plain": [
       "FrozenDict({\n",
       "    W: <Parameter DeviceArray([[0.59902626, 0.2172144 ],\n",
       "                 [0.660603  , 0.03266738],\n",
       "                 [1.2164948 , 1.1940813 ]], dtype=float32) is_hyperparameter=False>,\n",
       "    b: <Parameter DeviceArray([ 0.19307722, -0.52678293], dtype=float32) is_hyperparameter=False>,\n",
       "})"
      ]
     },
     "execution_count": 14,
     "metadata": {},
     "output_type": "execute_result"
    }
   ],
   "source": [
    "model.parameters"
   ]
  },
  {
   "cell_type": "code",
   "execution_count": 15,
   "id": "b87c2649-80a2-4a16-8bb4-461c1ad9a783",
   "metadata": {},
   "outputs": [],
   "source": [
    "model = Model()\n",
    "model = identity(model)"
   ]
  },
  {
   "cell_type": "code",
   "execution_count": 16,
   "id": "01023258-0870-41e7-94ff-11af23e909ef",
   "metadata": {},
   "outputs": [],
   "source": [
    "params = model.parameters"
   ]
  },
  {
   "cell_type": "code",
   "execution_count": 17,
   "id": "8b522e4c-56a4-46a2-b392-8a2ebe09e0b1",
   "metadata": {},
   "outputs": [
    {
     "data": {
      "application/vnd.jupyter.widget-view+json": {
       "model_id": "fade3180128e403697f5069b36b9281a",
       "version_major": 2,
       "version_minor": 0
      },
      "text/plain": [
       "  0%|          | 0/10000 [00:00<?, ?it/s]"
      ]
     },
     "metadata": {},
     "output_type": "display_data"
    }
   ],
   "source": [
    "data = np.array([5., 3., 2.])\n",
    "losses = model.fit(data)"
   ]
  },
  {
   "cell_type": "code",
   "execution_count": 18,
   "id": "0dee31ad-c709-4073-b487-d90094b9a0f4",
   "metadata": {},
   "outputs": [
    {
     "data": {
      "text/plain": [
       "[<matplotlib.lines.Line2D at 0x14fe43c70>]"
      ]
     },
     "execution_count": 18,
     "metadata": {},
     "output_type": "execute_result"
    },
    {
     "data": {
      "image/png": "[encoded data removed]",
      "text/plain": [
       "<Figure size 432x288 with 1 Axes>"
      ]
     },
     "metadata": {
      "needs_background": "light"
     },
     "output_type": "display_data"
    }
   ],
   "source": [
    "import matplotlib.pyplot as plt\n",
    "plt.plot(losses)"
   ]
  },
  {
   "cell_type": "code",
   "execution_count": 19,
   "id": "989aaab4-ccc2-48ba-a36f-4838859ca583",
   "metadata": {},
   "outputs": [
    {
     "data": {
      "text/plain": [
       "FrozenDict({\n",
       "    a: <Parameter DeviceArray([4.9999785], dtype=float32) is_hyperparameter=False>,\n",
       "    b: <Parameter DeviceArray([2.9999995], dtype=float32) is_hyperparameter=False>,\n",
       "})"
      ]
     },
     "execution_count": 19,
     "metadata": {},
     "output_type": "execute_result"
    }
   ],
   "source": [
    "model.parameters"
   ]
  },
  {
   "cell_type": "markdown",
   "id": "911734fe-c61c-49c3-ab5a-7ca4d7d83d54",
   "metadata": {},
   "source": [
    "# Nesting Modules\n",
    "\n",
    "__Need:__ \n",
    "- set attribute needs to recognize modules and extract their parameters\n",
    "- `from_parameters()` needs to nest effectively"
   ]
  },
  {
   "cell_type": "code",
   "execution_count": 20,
   "id": "f2e33bb2-0dd0-4fd3-bf1d-4e0a1c674e8d",
   "metadata": {},
   "outputs": [],
   "source": [
    "@register_pytree_node_class\n",
    "class DoubleLinear(Module):\n",
    "    def __init__(self, in_dim, hidden_dim, out_dim, prng_key=jr.PRNGKey(0)):\n",
    "        super().__init__()\n",
    "        \n",
    "        key_1, key_2 = jr.split(prng_key, 2)\n",
    "        self.linear_1 = Linear(in_dim, hidden_dim, key_1)  # setattr of a module\n",
    "        self.linear_2 = Linear(hidden_dim, out_dim, key_2) # setattr of a module\n",
    "        \n",
    "        self.eps = Parameter(np.array([0.03]), is_hyperparameter=True)\n",
    "        \n",
    "    def forward(self, x):\n",
    "        out = self.linear_1(x)\n",
    "        out = self.linear_2(out)\n",
    "        return out\n",
    "    \n",
    "    @classmethod\n",
    "    def from_parameters(cls, parameters, hyperparameters):\n",
    "        \"\"\"\n",
    "        Assumes:\n",
    "            parameters => \"linear_1\", \"linear_2\"\n",
    "            hyperparameters => \"linear_1\", \"linear_2\", \"eps\"\n",
    "        \"\"\"\n",
    "        \n",
    "        obj = object.__new__(cls)\n",
    "        super(cls, obj).__init__()\n",
    "        \n",
    "        # set the params / hyperparameters of sub-modules\n",
    "        # TODO: can you handle this automatically?\n",
    "        obj.linear_1 = Linear.from_parameters(parameters[\"linear_1\"], hyperparameters[\"linear_1\"])\n",
    "        obj.linear_2 = Linear.from_parameters(parameters[\"linear_2\"], hyperparameters[\"linear_2\"])\n",
    "        \n",
    "        # set the hyperparams of this module\n",
    "        obj.eps = hyperparameters[\"eps\"]\n",
    "        \n",
    "        return obj"
   ]
  },
  {
   "cell_type": "code",
   "execution_count": 21,
   "id": "18547608-844b-4768-ab7a-8f01451308d6",
   "metadata": {},
   "outputs": [],
   "source": [
    "model = DoubleLinear(5, 10, 3)"
   ]
  },
  {
   "cell_type": "markdown",
   "id": "d255dbd9",
   "metadata": {},
   "source": [
    "### Test Reconstruction Works"
   ]
  },
  {
   "cell_type": "code",
   "execution_count": 22,
   "id": "38e82ed6-ce75-436e-b444-2bdf88d8c603",
   "metadata": {},
   "outputs": [],
   "source": [
    "params, hypers = model.parameters, model.hyperparameters"
   ]
  },
  {
   "cell_type": "code",
   "execution_count": 23,
   "id": "d65ed5d8-4f6b-490c-af40-34c6246de8de",
   "metadata": {},
   "outputs": [
    {
     "data": {
      "text/plain": [
       "FrozenDict({\n",
       "    linear_1: {\n",
       "        eps: <Parameter DeviceArray([0.03], dtype=float32) is_hyperparameter=True>,\n",
       "    },\n",
       "    linear_2: {\n",
       "        eps: <Parameter DeviceArray([0.03], dtype=float32) is_hyperparameter=True>,\n",
       "    },\n",
       "    eps: <Parameter DeviceArray([0.03], dtype=float32) is_hyperparameter=True>,\n",
       "})"
      ]
     },
     "execution_count": 23,
     "metadata": {},
     "output_type": "execute_result"
    }
   ],
   "source": [
    "hypers"
   ]
  },
  {
   "cell_type": "code",
   "execution_count": 24,
   "id": "fb35444c-3ea8-4151-a04d-8b3d96510466",
   "metadata": {},
   "outputs": [
    {
     "data": {
      "text/plain": [
       "<__main__.DoubleLinear at 0x16cf6eca0>"
      ]
     },
     "execution_count": 24,
     "metadata": {},
     "output_type": "execute_result"
    }
   ],
   "source": [
    "DoubleLinear.from_parameters(params, hypers)"
   ]
  },
  {
   "cell_type": "markdown",
   "id": "6c5750dc-2ec0-4eff-b047-e263ac3eb734",
   "metadata": {},
   "source": [
    "### Does it JIT?"
   ]
  },
  {
   "cell_type": "code",
   "execution_count": 25,
   "id": "1d265854-871e-4dc0-8b9c-c270dfbadbd0",
   "metadata": {},
   "outputs": [
    {
     "data": {
      "text/plain": [
       "<__main__.DoubleLinear at 0x14767a280>"
      ]
     },
     "execution_count": 25,
     "metadata": {},
     "output_type": "execute_result"
    }
   ],
   "source": [
    "identity(model)"
   ]
  },
  {
   "cell_type": "markdown",
   "id": "b9ac3cbb-b236-44ad-bd5e-a27a51990df3",
   "metadata": {},
   "source": [
    "# Scratch Below\n",
    "\n",
    "(Experimenting with stuff that led to this Issue on distrax: https://github.com/deepmind/distrax/issues/162)"
   ]
  },
  {
   "cell_type": "code",
   "execution_count": 26,
   "id": "8685eff2-b8b0-435f-9a4b-4714f2ab7a5a",
   "metadata": {},
   "outputs": [],
   "source": [
    "from typing import NamedTuple"
   ]
  },
  {
   "cell_type": "code",
   "execution_count": 27,
   "id": "8e8e7dd8-bd3a-451d-860a-9cd588081d0a",
   "metadata": {},
   "outputs": [],
   "source": [
    "import abc\n",
    "import jax\n",
    "\n",
    "\n",
    "class Jittable(metaclass=abc.ABCMeta):\n",
    "  \"\"\"ABC that can be passed as an arg to a jitted fn, with readable state.\"\"\"\n",
    "\n",
    "  def __new__(cls, *args, **kwargs):\n",
    "    try:\n",
    "      registered_cls = jax.tree_util.register_pytree_node_class(cls)\n",
    "    except ValueError:\n",
    "      registered_cls = cls  # already registered\n",
    "    instance = super(Jittable, cls).__new__(registered_cls)\n",
    "    instance._args = args\n",
    "    instance._kwargs = kwargs\n",
    "    return instance\n",
    "\n",
    "  def tree_flatten(self):\n",
    "    return ((), ((self._args, self._kwargs), self.__dict__))  # children, aux_data\n",
    "\n",
    "  @classmethod\n",
    "  def tree_unflatten(cls, aux_data, _):\n",
    "    (args, kwargs), state_dict = aux_data\n",
    "    obj = cls(*args, **kwargs)\n",
    "    obj.__dict__ = state_dict\n",
    "    return obj"
   ]
  },
  {
   "cell_type": "code",
   "execution_count": 28,
   "id": "0b6bcb9d-d3d9-48b0-905e-db7a5036c219",
   "metadata": {},
   "outputs": [],
   "source": [
    "class SubModel(Jittable):\n",
    "    def __init__(self, a, b, c=np.array([5., 3.])):\n",
    "        self.a = a\n",
    "        self.b = b\n",
    "        self.c = c"
   ]
  },
  {
   "cell_type": "code",
   "execution_count": 29,
   "id": "d1cd7568-f487-45e3-8551-6a12c827b939",
   "metadata": {},
   "outputs": [],
   "source": [
    "class Model(Jittable):\n",
    "    def __init__(self, a, b, c=np.array([5., 3.])):\n",
    "        self.a = a\n",
    "        self.b = b\n",
    "        self.c = c\n",
    "        self.submodel = SubModel(a, b, c)"
   ]
  },
  {
   "cell_type": "code",
   "execution_count": 30,
   "id": "8c5fc928-8020-4d4f-8038-cbeb5322046b",
   "metadata": {},
   "outputs": [],
   "source": [
    "@jit\n",
    "def identity(x):\n",
    "    print(\"jitting...\")\n",
    "    return x"
   ]
  },
  {
   "cell_type": "code",
   "execution_count": 31,
   "id": "720ce100-4c63-41ef-9a4f-18d4bc997391",
   "metadata": {},
   "outputs": [
    {
     "name": "stdout",
     "output_type": "stream",
     "text": [
      "Requirement already satisfied: distrax in /Users/collinschlager/miniforge3/envs/ssmjax/lib/python3.9/site-packages (0.1.2)\n",
      "Requirement already satisfied: chex>=0.0.7 in /Users/collinschlager/miniforge3/envs/ssmjax/lib/python3.9/site-packages (from distrax) (0.1.2)\n",
      "Requirement already satisfied: jax>=0.1.55 in /Users/collinschlager/miniforge3/envs/ssmjax/lib/python3.9/site-packages (from distrax) (0.3.6)\n",
      "Requirement already satisfied: absl-py>=0.9.0 in /Users/collinschlager/miniforge3/envs/ssmjax/lib/python3.9/site-packages (from distrax) (1.0.0)\n",
      "Requirement already satisfied: tensorflow-probability>=0.15.0 in /Users/collinschlager/miniforge3/envs/ssmjax/lib/python3.9/site-packages (from distrax) (0.16.0)\n",
      "Requirement already satisfied: numpy>=1.18.0 in /Users/collinschlager/miniforge3/envs/ssmjax/lib/python3.9/site-packages (from distrax) (1.22.3)\n",
      "Requirement already satisfied: jaxlib>=0.1.67 in /Users/collinschlager/miniforge3/envs/ssmjax/lib/python3.9/site-packages (from distrax) (0.3.5)\n",
      "Requirement already satisfied: six in /Users/collinschlager/miniforge3/envs/ssmjax/lib/python3.9/site-packages (from absl-py>=0.9.0->distrax) (1.16.0)\n",
      "Requirement already satisfied: toolz>=0.9.0 in /Users/collinschlager/miniforge3/envs/ssmjax/lib/python3.9/site-packages (from chex>=0.0.7->distrax) (0.11.2)\n",
      "Requirement already satisfied: dm-tree>=0.1.5 in /Users/collinschlager/miniforge3/envs/ssmjax/lib/python3.9/site-packages (from chex>=0.0.7->distrax) (0.1.7)\n",
      "Requirement already satisfied: opt-einsum in /Users/collinschlager/miniforge3/envs/ssmjax/lib/python3.9/site-packages (from jax>=0.1.55->distrax) (3.3.0)\n",
      "Requirement already satisfied: scipy>=1.2.1 in /Users/collinschlager/miniforge3/envs/ssmjax/lib/python3.9/site-packages (from jax>=0.1.55->distrax) (1.8.0)\n",
      "Requirement already satisfied: typing-extensions in /Users/collinschlager/miniforge3/envs/ssmjax/lib/python3.9/site-packages (from jax>=0.1.55->distrax) (4.1.1)\n",
      "Requirement already satisfied: flatbuffers<3.0,>=1.12 in /Users/collinschlager/miniforge3/envs/ssmjax/lib/python3.9/site-packages (from jaxlib>=0.1.67->distrax) (2.0)\n",
      "Requirement already satisfied: decorator in /Users/collinschlager/miniforge3/envs/ssmjax/lib/python3.9/site-packages (from tensorflow-probability>=0.15.0->distrax) (5.1.1)\n",
      "Requirement already satisfied: cloudpickle>=1.3 in /Users/collinschlager/miniforge3/envs/ssmjax/lib/python3.9/site-packages (from tensorflow-probability>=0.15.0->distrax) (2.0.0)\n",
      "Requirement already satisfied: gast>=0.3.2 in /Users/collinschlager/miniforge3/envs/ssmjax/lib/python3.9/site-packages (from tensorflow-probability>=0.15.0->distrax) (0.5.3)\n"
     ]
    }
   ],
   "source": [
    "!pip install distrax"
   ]
  },
  {
   "cell_type": "code",
   "execution_count": 32,
   "id": "2ee65f79-568c-4d41-9a5d-26e25dc99e1c",
   "metadata": {},
   "outputs": [
    {
     "name": "stdout",
     "output_type": "stream",
     "text": [
      "jitting...\n",
      "Done!\n",
      "Done!\n"
     ]
    },
    {
     "ename": "ValueError",
     "evalue": "The truth value of an array with more than one element is ambiguous. Use a.any() or a.all()",
     "output_type": "error",
     "traceback": [
      "\u001b[0;31m---------------------------------------------------------------------------\u001b[0m",
      "\u001b[0;31mValueError\u001b[0m                                Traceback (most recent call last)",
      "\u001b[1;32m/Users/collinschlager/Code/ssm-jax/notebooks/scratch/modules.ipynb Cell 41'\u001b[0m in \u001b[0;36m<cell line: 37>\u001b[0;34m()\u001b[0m\n\u001b[1;32m     <a href='vscode-notebook-cell:/Users/collinschlager/Code/ssm-jax/notebooks/scratch/modules.ipynb#X60sZmlsZQ%3D%3D?line=32'>33</a>\u001b[0m \u001b[39mprint\u001b[39m(\u001b[39m\"\u001b[39m\u001b[39mDone!\u001b[39m\u001b[39m\"\u001b[39m)\n\u001b[1;32m     <a href='vscode-notebook-cell:/Users/collinschlager/Code/ssm-jax/notebooks/scratch/modules.ipynb#X60sZmlsZQ%3D%3D?line=34'>35</a>\u001b[0m \u001b[39m# great, now that's compiled so we should be able to run it\u001b[39;00m\n\u001b[1;32m     <a href='vscode-notebook-cell:/Users/collinschlager/Code/ssm-jax/notebooks/scratch/modules.ipynb#X60sZmlsZQ%3D%3D?line=35'>36</a>\u001b[0m \u001b[39m# again on another bern model with same shape (bern_2)\u001b[39;00m\n\u001b[0;32m---> <a href='vscode-notebook-cell:/Users/collinschlager/Code/ssm-jax/notebooks/scratch/modules.ipynb#X60sZmlsZQ%3D%3D?line=36'>37</a>\u001b[0m log_prob(bern_2, data)\n",
      "File \u001b[0;32m~/miniforge3/envs/ssmjax/lib/python3.9/functools.py:387\u001b[0m, in \u001b[0;36mpartialmethod._make_unbound_method.<locals>._method\u001b[0;34m(cls_or_self, *args, **keywords)\u001b[0m\n\u001b[1;32m    385\u001b[0m \u001b[39mdef\u001b[39;00m \u001b[39m_method\u001b[39m(cls_or_self, \u001b[39m/\u001b[39m, \u001b[39m*\u001b[39margs, \u001b[39m*\u001b[39m\u001b[39m*\u001b[39mkeywords):\n\u001b[1;32m    386\u001b[0m     keywords \u001b[39m=\u001b[39m {\u001b[39m*\u001b[39m\u001b[39m*\u001b[39m\u001b[39mself\u001b[39m\u001b[39m.\u001b[39mkeywords, \u001b[39m*\u001b[39m\u001b[39m*\u001b[39mkeywords}\n\u001b[0;32m--> 387\u001b[0m     \u001b[39mreturn\u001b[39;00m \u001b[39mself\u001b[39;49m\u001b[39m.\u001b[39;49mfunc(cls_or_self, \u001b[39m*\u001b[39;49m\u001b[39mself\u001b[39;49m\u001b[39m.\u001b[39;49margs, \u001b[39m*\u001b[39;49margs, \u001b[39m*\u001b[39;49m\u001b[39m*\u001b[39;49mkeywords)\n",
      "File \u001b[0;32m~/miniforge3/envs/ssmjax/lib/python3.9/site-packages/jax/_src/device_array.py:41\u001b[0m, in \u001b[0;36m_forward_method\u001b[0;34m(attrname, self, fun, *args)\u001b[0m\n\u001b[1;32m     40\u001b[0m \u001b[39mdef\u001b[39;00m \u001b[39m_forward_method\u001b[39m(attrname, \u001b[39mself\u001b[39m, fun, \u001b[39m*\u001b[39margs):\n\u001b[0;32m---> 41\u001b[0m   \u001b[39mreturn\u001b[39;00m fun(\u001b[39mgetattr\u001b[39;49m(\u001b[39mself\u001b[39;49m, attrname), \u001b[39m*\u001b[39;49margs)\n",
      "\u001b[0;31mValueError\u001b[0m: The truth value of an array with more than one element is ambiguous. Use a.any() or a.all()"
     ]
    }
   ],
   "source": [
    "from jax import jit\n",
    "from jax import numpy as jnp\n",
    "import distrax\n",
    "\n",
    "# say we have some data\n",
    "data = jnp.zeros(5)\n",
    "\n",
    "# and we have a (jittable) function we want to use\n",
    "# to evaluate our model against that data\n",
    "@jit\n",
    "def log_prob(model, data):\n",
    "    print(\"jitting...\")\n",
    "    return model.log_prob(data)\n",
    "\n",
    "# say we have two models we want to compare\n",
    "# note that the models have the same parameter shapes \n",
    "\n",
    "model_1_probs = jnp.ones(5) / 5\n",
    "bern_1 = distrax.Bernoulli(probs=model_1_probs)  # Note: Bernoulli is a Jittable\n",
    "\n",
    "model_2_probs = jnp.arange(5)\n",
    "model_2_probs /= model_2_probs.sum()\n",
    "bern_2 = distrax.Bernoulli(probs=model_2_probs)\n",
    "\n",
    "# let's run our func using bern_1 model! since this is\n",
    "# the first time running, it should JIT compile \n",
    "# (i.e. print statement should run)\n",
    "log_prob(bern_1, data)\n",
    "print(\"Done!\")\n",
    "\n",
    "# re-run the compiled function as a sanity check\n",
    "log_prob(bern_1, data)\n",
    "print(\"Done!\")\n",
    "\n",
    "# great, now that's compiled so we should be able to run it\n",
    "# again on another bern model with same shape (bern_2)\n",
    "log_prob(bern_2, data)"
   ]
  },
  {
   "cell_type": "code",
   "execution_count": null,
   "id": "ecfc2afa-544c-4955-b730-57b635d7b389",
   "metadata": {},
   "outputs": [
    {
     "name": "stdout",
     "output_type": "stream",
     "text": [
      "> \u001b[0;32m/Users/collinschlager/miniforge3/envs/ssmjax/lib/python3.9/site-packages/jax/_src/device_array.py\u001b[0m(41)\u001b[0;36m_forward_method\u001b[0;34m()\u001b[0m\n",
      "\u001b[0;32m     39 \u001b[0;31m\u001b[0;34m\u001b[0m\u001b[0m\n",
      "\u001b[0m\u001b[0;32m     40 \u001b[0;31m\u001b[0;32mdef\u001b[0m \u001b[0m_forward_method\u001b[0m\u001b[0;34m(\u001b[0m\u001b[0mattrname\u001b[0m\u001b[0;34m,\u001b[0m \u001b[0mself\u001b[0m\u001b[0;34m,\u001b[0m \u001b[0mfun\u001b[0m\u001b[0;34m,\u001b[0m \u001b[0;34m*\u001b[0m\u001b[0margs\u001b[0m\u001b[0;34m)\u001b[0m\u001b[0;34m:\u001b[0m\u001b[0;34m\u001b[0m\u001b[0;34m\u001b[0m\u001b[0m\n",
      "\u001b[0m\u001b[0;32m---> 41 \u001b[0;31m  \u001b[0;32mreturn\u001b[0m \u001b[0mfun\u001b[0m\u001b[0;34m(\u001b[0m\u001b[0mgetattr\u001b[0m\u001b[0;34m(\u001b[0m\u001b[0mself\u001b[0m\u001b[0;34m,\u001b[0m \u001b[0mattrname\u001b[0m\u001b[0;34m)\u001b[0m\u001b[0;34m,\u001b[0m \u001b[0;34m*\u001b[0m\u001b[0margs\u001b[0m\u001b[0;34m)\u001b[0m\u001b[0;34m\u001b[0m\u001b[0;34m\u001b[0m\u001b[0m\n",
      "\u001b[0m\u001b[0;32m     42 \u001b[0;31m\u001b[0m_forward_to_value\u001b[0m \u001b[0;34m=\u001b[0m \u001b[0mpartial\u001b[0m\u001b[0;34m(\u001b[0m\u001b[0m_forward_method\u001b[0m\u001b[0;34m,\u001b[0m \u001b[0;34m\"_value\"\u001b[0m\u001b[0;34m)\u001b[0m\u001b[0;34m\u001b[0m\u001b[0;34m\u001b[0m\u001b[0m\n",
      "\u001b[0m\u001b[0;32m     43 \u001b[0;31m\u001b[0;34m\u001b[0m\u001b[0m\n",
      "\u001b[0m\n"
     ]
    },
    {
     "name": "stdout",
     "output_type": "stream",
     "text": [
      "ipdb>  p fun\n"
     ]
    },
    {
     "name": "stdout",
     "output_type": "stream",
     "text": [
      "<class 'bool'>\n"
     ]
    },
    {
     "name": "stdout",
     "output_type": "stream",
     "text": [
      "ipdb>  getattr(self, attrname)\n"
     ]
    },
    {
     "name": "stdout",
     "output_type": "stream",
     "text": [
      "array([False, False,  True, False, False])\n"
     ]
    },
    {
     "name": "stdout",
     "output_type": "stream",
     "text": [
      "ipdb>  *args\n"
     ]
    },
    {
     "name": "stdout",
     "output_type": "stream",
     "text": [
      "*** SyntaxError: can't use starred expression here\n"
     ]
    },
    {
     "name": "stdout",
     "output_type": "stream",
     "text": [
      "ipdb>  args\n"
     ]
    },
    {
     "name": "stdout",
     "output_type": "stream",
     "text": [
      "attrname = '_value'\n",
      "self = DeviceArray([False, False,  True, False, False], dtype=bool)\n",
      "fun = <class 'bool'>\n",
      "args = ()\n"
     ]
    },
    {
     "name": "stdout",
     "output_type": "stream",
     "text": [
      "ipdb>  up\n"
     ]
    },
    {
     "name": "stdout",
     "output_type": "stream",
     "text": [
      "> \u001b[0;32m/Users/collinschlager/miniforge3/envs/ssmjax/lib/python3.9/functools.py\u001b[0m(387)\u001b[0;36m_method\u001b[0;34m()\u001b[0m\n",
      "\u001b[0;32m    385 \u001b[0;31m        \u001b[0;32mdef\u001b[0m \u001b[0m_method\u001b[0m\u001b[0;34m(\u001b[0m\u001b[0mcls_or_self\u001b[0m\u001b[0;34m,\u001b[0m \u001b[0;34m/\u001b[0m\u001b[0;34m,\u001b[0m \u001b[0;34m*\u001b[0m\u001b[0margs\u001b[0m\u001b[0;34m,\u001b[0m \u001b[0;34m**\u001b[0m\u001b[0mkeywords\u001b[0m\u001b[0;34m)\u001b[0m\u001b[0;34m:\u001b[0m\u001b[0;34m\u001b[0m\u001b[0;34m\u001b[0m\u001b[0m\n",
      "\u001b[0m\u001b[0;32m    386 \u001b[0;31m            \u001b[0mkeywords\u001b[0m \u001b[0;34m=\u001b[0m \u001b[0;34m{\u001b[0m\u001b[0;34m**\u001b[0m\u001b[0mself\u001b[0m\u001b[0;34m.\u001b[0m\u001b[0mkeywords\u001b[0m\u001b[0;34m,\u001b[0m \u001b[0;34m**\u001b[0m\u001b[0mkeywords\u001b[0m\u001b[0;34m}\u001b[0m\u001b[0;34m\u001b[0m\u001b[0;34m\u001b[0m\u001b[0m\n",
      "\u001b[0m\u001b[0;32m--> 387 \u001b[0;31m            \u001b[0;32mreturn\u001b[0m \u001b[0mself\u001b[0m\u001b[0;34m.\u001b[0m\u001b[0mfunc\u001b[0m\u001b[0;34m(\u001b[0m\u001b[0mcls_or_self\u001b[0m\u001b[0;34m,\u001b[0m \u001b[0;34m*\u001b[0m\u001b[0mself\u001b[0m\u001b[0;34m.\u001b[0m\u001b[0margs\u001b[0m\u001b[0;34m,\u001b[0m \u001b[0;34m*\u001b[0m\u001b[0margs\u001b[0m\u001b[0;34m,\u001b[0m \u001b[0;34m**\u001b[0m\u001b[0mkeywords\u001b[0m\u001b[0;34m)\u001b[0m\u001b[0;34m\u001b[0m\u001b[0;34m\u001b[0m\u001b[0m\n",
      "\u001b[0m\u001b[0;32m    388 \u001b[0;31m        \u001b[0m_method\u001b[0m\u001b[0;34m.\u001b[0m\u001b[0m__isabstractmethod__\u001b[0m \u001b[0;34m=\u001b[0m \u001b[0mself\u001b[0m\u001b[0;34m.\u001b[0m\u001b[0m__isabstractmethod__\u001b[0m\u001b[0;34m\u001b[0m\u001b[0;34m\u001b[0m\u001b[0m\n",
      "\u001b[0m\u001b[0;32m    389 \u001b[0;31m        \u001b[0m_method\u001b[0m\u001b[0;34m.\u001b[0m\u001b[0m_partialmethod\u001b[0m \u001b[0;34m=\u001b[0m \u001b[0mself\u001b[0m\u001b[0;34m\u001b[0m\u001b[0;34m\u001b[0m\u001b[0m\n",
      "\u001b[0m\n"
     ]
    },
    {
     "name": "stdout",
     "output_type": "stream",
     "text": [
      "ipdb>  up\n"
     ]
    },
    {
     "name": "stdout",
     "output_type": "stream",
     "text": [
      "> \u001b[0;32m/var/folders/kc/slznj52d4p57wn5mdxm530080000gn/T/ipykernel_42091/2840345409.py\u001b[0m(39)\u001b[0;36m<cell line: 39>\u001b[0;34m()\u001b[0m\n",
      "\u001b[0;32m     35 \u001b[0;31m\u001b[0mprint\u001b[0m\u001b[0;34m(\u001b[0m\u001b[0;34m\"Done!\"\u001b[0m\u001b[0;34m)\u001b[0m\u001b[0;34m\u001b[0m\u001b[0;34m\u001b[0m\u001b[0m\n",
      "\u001b[0m\u001b[0;32m     36 \u001b[0;31m\u001b[0;34m\u001b[0m\u001b[0m\n",
      "\u001b[0m\u001b[0;32m     37 \u001b[0;31m\u001b[0;31m# great, now that's compiled so we should be able to run it\u001b[0m\u001b[0;34m\u001b[0m\u001b[0;34m\u001b[0m\u001b[0m\n",
      "\u001b[0m\u001b[0;32m     38 \u001b[0;31m\u001b[0;31m# again on another bern model with same shape (bern_2)\u001b[0m\u001b[0;34m\u001b[0m\u001b[0;34m\u001b[0m\u001b[0m\n",
      "\u001b[0m\u001b[0;32m---> 39 \u001b[0;31m\u001b[0mlog_prob\u001b[0m\u001b[0;34m(\u001b[0m\u001b[0mbern_2\u001b[0m\u001b[0;34m,\u001b[0m \u001b[0mdata\u001b[0m\u001b[0;34m)\u001b[0m\u001b[0;34m\u001b[0m\u001b[0;34m\u001b[0m\u001b[0m\n",
      "\u001b[0m\n"
     ]
    },
    {
     "name": "stdout",
     "output_type": "stream",
     "text": [
      "ipdb>  down\n"
     ]
    },
    {
     "name": "stdout",
     "output_type": "stream",
     "text": [
      "> \u001b[0;32m/Users/collinschlager/miniforge3/envs/ssmjax/lib/python3.9/functools.py\u001b[0m(387)\u001b[0;36m_method\u001b[0;34m()\u001b[0m\n",
      "\u001b[0;32m    385 \u001b[0;31m        \u001b[0;32mdef\u001b[0m \u001b[0m_method\u001b[0m\u001b[0;34m(\u001b[0m\u001b[0mcls_or_self\u001b[0m\u001b[0;34m,\u001b[0m \u001b[0;34m/\u001b[0m\u001b[0;34m,\u001b[0m \u001b[0;34m*\u001b[0m\u001b[0margs\u001b[0m\u001b[0;34m,\u001b[0m \u001b[0;34m**\u001b[0m\u001b[0mkeywords\u001b[0m\u001b[0;34m)\u001b[0m\u001b[0;34m:\u001b[0m\u001b[0;34m\u001b[0m\u001b[0;34m\u001b[0m\u001b[0m\n",
      "\u001b[0m\u001b[0;32m    386 \u001b[0;31m            \u001b[0mkeywords\u001b[0m \u001b[0;34m=\u001b[0m \u001b[0;34m{\u001b[0m\u001b[0;34m**\u001b[0m\u001b[0mself\u001b[0m\u001b[0;34m.\u001b[0m\u001b[0mkeywords\u001b[0m\u001b[0;34m,\u001b[0m \u001b[0;34m**\u001b[0m\u001b[0mkeywords\u001b[0m\u001b[0;34m}\u001b[0m\u001b[0;34m\u001b[0m\u001b[0;34m\u001b[0m\u001b[0m\n",
      "\u001b[0m\u001b[0;32m--> 387 \u001b[0;31m            \u001b[0;32mreturn\u001b[0m \u001b[0mself\u001b[0m\u001b[0;34m.\u001b[0m\u001b[0mfunc\u001b[0m\u001b[0;34m(\u001b[0m\u001b[0mcls_or_self\u001b[0m\u001b[0;34m,\u001b[0m \u001b[0;34m*\u001b[0m\u001b[0mself\u001b[0m\u001b[0;34m.\u001b[0m\u001b[0margs\u001b[0m\u001b[0;34m,\u001b[0m \u001b[0;34m*\u001b[0m\u001b[0margs\u001b[0m\u001b[0;34m,\u001b[0m \u001b[0;34m**\u001b[0m\u001b[0mkeywords\u001b[0m\u001b[0;34m)\u001b[0m\u001b[0;34m\u001b[0m\u001b[0;34m\u001b[0m\u001b[0m\n",
      "\u001b[0m\u001b[0;32m    388 \u001b[0;31m        \u001b[0m_method\u001b[0m\u001b[0;34m.\u001b[0m\u001b[0m__isabstractmethod__\u001b[0m \u001b[0;34m=\u001b[0m \u001b[0mself\u001b[0m\u001b[0;34m.\u001b[0m\u001b[0m__isabstractmethod__\u001b[0m\u001b[0;34m\u001b[0m\u001b[0;34m\u001b[0m\u001b[0m\n",
      "\u001b[0m\u001b[0;32m    389 \u001b[0;31m        \u001b[0m_method\u001b[0m\u001b[0;34m.\u001b[0m\u001b[0m_partialmethod\u001b[0m \u001b[0;34m=\u001b[0m \u001b[0mself\u001b[0m\u001b[0;34m\u001b[0m\u001b[0;34m\u001b[0m\u001b[0m\n",
      "\u001b[0m\n"
     ]
    },
    {
     "name": "stdout",
     "output_type": "stream",
     "text": [
      "ipdb>  down\n"
     ]
    },
    {
     "name": "stdout",
     "output_type": "stream",
     "text": [
      "> \u001b[0;32m/Users/collinschlager/miniforge3/envs/ssmjax/lib/python3.9/site-packages/jax/_src/device_array.py\u001b[0m(41)\u001b[0;36m_forward_method\u001b[0;34m()\u001b[0m\n",
      "\u001b[0;32m     39 \u001b[0;31m\u001b[0;34m\u001b[0m\u001b[0m\n",
      "\u001b[0m\u001b[0;32m     40 \u001b[0;31m\u001b[0;32mdef\u001b[0m \u001b[0m_forward_method\u001b[0m\u001b[0;34m(\u001b[0m\u001b[0mattrname\u001b[0m\u001b[0;34m,\u001b[0m \u001b[0mself\u001b[0m\u001b[0;34m,\u001b[0m \u001b[0mfun\u001b[0m\u001b[0;34m,\u001b[0m \u001b[0;34m*\u001b[0m\u001b[0margs\u001b[0m\u001b[0;34m)\u001b[0m\u001b[0;34m:\u001b[0m\u001b[0;34m\u001b[0m\u001b[0;34m\u001b[0m\u001b[0m\n",
      "\u001b[0m\u001b[0;32m---> 41 \u001b[0;31m  \u001b[0;32mreturn\u001b[0m \u001b[0mfun\u001b[0m\u001b[0;34m(\u001b[0m\u001b[0mgetattr\u001b[0m\u001b[0;34m(\u001b[0m\u001b[0mself\u001b[0m\u001b[0;34m,\u001b[0m \u001b[0mattrname\u001b[0m\u001b[0;34m)\u001b[0m\u001b[0;34m,\u001b[0m \u001b[0;34m*\u001b[0m\u001b[0margs\u001b[0m\u001b[0;34m)\u001b[0m\u001b[0;34m\u001b[0m\u001b[0;34m\u001b[0m\u001b[0m\n",
      "\u001b[0m\u001b[0;32m     42 \u001b[0;31m\u001b[0m_forward_to_value\u001b[0m \u001b[0;34m=\u001b[0m \u001b[0mpartial\u001b[0m\u001b[0;34m(\u001b[0m\u001b[0m_forward_method\u001b[0m\u001b[0;34m,\u001b[0m \u001b[0;34m\"_value\"\u001b[0m\u001b[0;34m)\u001b[0m\u001b[0;34m\u001b[0m\u001b[0;34m\u001b[0m\u001b[0m\n",
      "\u001b[0m\u001b[0;32m     43 \u001b[0;31m\u001b[0;34m\u001b[0m\u001b[0m\n",
      "\u001b[0m\n"
     ]
    },
    {
     "name": "stdout",
     "output_type": "stream",
     "text": [
      "ipdb>  up\n"
     ]
    },
    {
     "name": "stdout",
     "output_type": "stream",
     "text": [
      "> \u001b[0;32m/Users/collinschlager/miniforge3/envs/ssmjax/lib/python3.9/functools.py\u001b[0m(387)\u001b[0;36m_method\u001b[0;34m()\u001b[0m\n",
      "\u001b[0;32m    385 \u001b[0;31m        \u001b[0;32mdef\u001b[0m \u001b[0m_method\u001b[0m\u001b[0;34m(\u001b[0m\u001b[0mcls_or_self\u001b[0m\u001b[0;34m,\u001b[0m \u001b[0;34m/\u001b[0m\u001b[0;34m,\u001b[0m \u001b[0;34m*\u001b[0m\u001b[0margs\u001b[0m\u001b[0;34m,\u001b[0m \u001b[0;34m**\u001b[0m\u001b[0mkeywords\u001b[0m\u001b[0;34m)\u001b[0m\u001b[0;34m:\u001b[0m\u001b[0;34m\u001b[0m\u001b[0;34m\u001b[0m\u001b[0m\n",
      "\u001b[0m\u001b[0;32m    386 \u001b[0;31m            \u001b[0mkeywords\u001b[0m \u001b[0;34m=\u001b[0m \u001b[0;34m{\u001b[0m\u001b[0;34m**\u001b[0m\u001b[0mself\u001b[0m\u001b[0;34m.\u001b[0m\u001b[0mkeywords\u001b[0m\u001b[0;34m,\u001b[0m \u001b[0;34m**\u001b[0m\u001b[0mkeywords\u001b[0m\u001b[0;34m}\u001b[0m\u001b[0;34m\u001b[0m\u001b[0;34m\u001b[0m\u001b[0m\n",
      "\u001b[0m\u001b[0;32m--> 387 \u001b[0;31m            \u001b[0;32mreturn\u001b[0m \u001b[0mself\u001b[0m\u001b[0;34m.\u001b[0m\u001b[0mfunc\u001b[0m\u001b[0;34m(\u001b[0m\u001b[0mcls_or_self\u001b[0m\u001b[0;34m,\u001b[0m \u001b[0;34m*\u001b[0m\u001b[0mself\u001b[0m\u001b[0;34m.\u001b[0m\u001b[0margs\u001b[0m\u001b[0;34m,\u001b[0m \u001b[0;34m*\u001b[0m\u001b[0margs\u001b[0m\u001b[0;34m,\u001b[0m \u001b[0;34m**\u001b[0m\u001b[0mkeywords\u001b[0m\u001b[0;34m)\u001b[0m\u001b[0;34m\u001b[0m\u001b[0;34m\u001b[0m\u001b[0m\n",
      "\u001b[0m\u001b[0;32m    388 \u001b[0;31m        \u001b[0m_method\u001b[0m\u001b[0;34m.\u001b[0m\u001b[0m__isabstractmethod__\u001b[0m \u001b[0;34m=\u001b[0m \u001b[0mself\u001b[0m\u001b[0;34m.\u001b[0m\u001b[0m__isabstractmethod__\u001b[0m\u001b[0;34m\u001b[0m\u001b[0;34m\u001b[0m\u001b[0m\n",
      "\u001b[0m\u001b[0;32m    389 \u001b[0;31m        \u001b[0m_method\u001b[0m\u001b[0;34m.\u001b[0m\u001b[0m_partialmethod\u001b[0m \u001b[0;34m=\u001b[0m \u001b[0mself\u001b[0m\u001b[0;34m\u001b[0m\u001b[0;34m\u001b[0m\u001b[0m\n",
      "\u001b[0m\n"
     ]
    },
    {
     "name": "stdout",
     "output_type": "stream",
     "text": [
      "ipdb>  self.func\n"
     ]
    },
    {
     "name": "stdout",
     "output_type": "stream",
     "text": [
      "functools.partial(<function _forward_method at 0x10e135160>, '_value')\n"
     ]
    },
    {
     "name": "stdout",
     "output_type": "stream",
     "text": [
      "ipdb>  q\n"
     ]
    }
   ],
   "source": [
    "%debug"
   ]
  },
  {
   "cell_type": "code",
   "execution_count": null,
   "id": "b7a0516f-2f24-4208-8846-d6ad3be16731",
   "metadata": {},
   "outputs": [
    {
     "name": "stdout",
     "output_type": "stream",
     "text": [
      "jitting...\n"
     ]
    },
    {
     "data": {
      "text/plain": [
       "<distrax._src.distributions.bernoulli.Bernoulli at 0x288f3a8b0>"
      ]
     },
     "execution_count": 134,
     "metadata": {},
     "output_type": "execute_result"
    }
   ],
   "source": [
    "identity(bern_1)"
   ]
  },
  {
   "cell_type": "code",
   "execution_count": null,
   "id": "517dd7b2-b499-476c-b981-dc930164f16f",
   "metadata": {},
   "outputs": [
    {
     "ename": "ValueError",
     "evalue": "The truth value of an array with more than one element is ambiguous. Use a.any() or a.all()",
     "output_type": "error",
     "traceback": [
      "\u001b[0;31m---------------------------------------------------------------------------\u001b[0m",
      "\u001b[0;31mValueError\u001b[0m                                Traceback (most recent call last)",
      "Input \u001b[0;32mIn [135]\u001b[0m, in \u001b[0;36m<cell line: 1>\u001b[0;34m()\u001b[0m\n\u001b[0;32m----> 1\u001b[0m \u001b[43midentity\u001b[49m\u001b[43m(\u001b[49m\u001b[43mbern_2\u001b[49m\u001b[43m)\u001b[49m\n",
      "File \u001b[0;32m~/miniforge3/envs/ssmjax/lib/python3.9/functools.py:387\u001b[0m, in \u001b[0;36mpartialmethod._make_unbound_method.<locals>._method\u001b[0;34m(cls_or_self, *args, **keywords)\u001b[0m\n\u001b[1;32m    385\u001b[0m \u001b[38;5;28;01mdef\u001b[39;00m \u001b[38;5;21m_method\u001b[39m(cls_or_self, \u001b[38;5;241m/\u001b[39m, \u001b[38;5;241m*\u001b[39margs, \u001b[38;5;241m*\u001b[39m\u001b[38;5;241m*\u001b[39mkeywords):\n\u001b[1;32m    386\u001b[0m     keywords \u001b[38;5;241m=\u001b[39m {\u001b[38;5;241m*\u001b[39m\u001b[38;5;241m*\u001b[39m\u001b[38;5;28mself\u001b[39m\u001b[38;5;241m.\u001b[39mkeywords, \u001b[38;5;241m*\u001b[39m\u001b[38;5;241m*\u001b[39mkeywords}\n\u001b[0;32m--> 387\u001b[0m     \u001b[38;5;28;01mreturn\u001b[39;00m \u001b[38;5;28;43mself\u001b[39;49m\u001b[38;5;241;43m.\u001b[39;49m\u001b[43mfunc\u001b[49m\u001b[43m(\u001b[49m\u001b[43mcls_or_self\u001b[49m\u001b[43m,\u001b[49m\u001b[43m \u001b[49m\u001b[38;5;241;43m*\u001b[39;49m\u001b[38;5;28;43mself\u001b[39;49m\u001b[38;5;241;43m.\u001b[39;49m\u001b[43margs\u001b[49m\u001b[43m,\u001b[49m\u001b[43m \u001b[49m\u001b[38;5;241;43m*\u001b[39;49m\u001b[43margs\u001b[49m\u001b[43m,\u001b[49m\u001b[43m \u001b[49m\u001b[38;5;241;43m*\u001b[39;49m\u001b[38;5;241;43m*\u001b[39;49m\u001b[43mkeywords\u001b[49m\u001b[43m)\u001b[49m\n",
      "File \u001b[0;32m~/miniforge3/envs/ssmjax/lib/python3.9/site-packages/jax/_src/device_array.py:41\u001b[0m, in \u001b[0;36m_forward_method\u001b[0;34m(attrname, self, fun, *args)\u001b[0m\n\u001b[1;32m     40\u001b[0m \u001b[38;5;28;01mdef\u001b[39;00m \u001b[38;5;21m_forward_method\u001b[39m(attrname, \u001b[38;5;28mself\u001b[39m, fun, \u001b[38;5;241m*\u001b[39margs):\n\u001b[0;32m---> 41\u001b[0m   \u001b[38;5;28;01mreturn\u001b[39;00m \u001b[43mfun\u001b[49m\u001b[43m(\u001b[49m\u001b[38;5;28;43mgetattr\u001b[39;49m\u001b[43m(\u001b[49m\u001b[38;5;28;43mself\u001b[39;49m\u001b[43m,\u001b[49m\u001b[43m \u001b[49m\u001b[43mattrname\u001b[49m\u001b[43m)\u001b[49m\u001b[43m,\u001b[49m\u001b[43m \u001b[49m\u001b[38;5;241;43m*\u001b[39;49m\u001b[43margs\u001b[49m\u001b[43m)\u001b[49m\n",
      "\u001b[0;31mValueError\u001b[0m: The truth value of an array with more than one element is ambiguous. Use a.any() or a.all()"
     ]
    }
   ],
   "source": [
    "identity(bern_2)"
   ]
  },
  {
   "cell_type": "code",
   "execution_count": null,
   "id": "1289dbdf-3aa3-4290-b157-7cf72d46f7c9",
   "metadata": {},
   "outputs": [],
   "source": [
    "model = Model(np.ones((5,3)), np.zeros((5,3)))\n",
    "other_model = Model(np.ones((5,3))+2, np.zeros((5,3))+3)"
   ]
  },
  {
   "cell_type": "code",
   "execution_count": null,
   "id": "fcd77710-ee9d-4df6-81e7-42c2bdb8dca4",
   "metadata": {},
   "outputs": [
    {
     "name": "stdout",
     "output_type": "stream",
     "text": [
      "jitting...\n"
     ]
    }
   ],
   "source": [
    "out = identity(model)"
   ]
  },
  {
   "cell_type": "code",
   "execution_count": null,
   "id": "02458521-c262-4202-9745-55e071c83b1d",
   "metadata": {},
   "outputs": [
    {
     "data": {
      "text/plain": [
       "<__main__.Model at 0x17ca587c0>"
      ]
     },
     "execution_count": 120,
     "metadata": {},
     "output_type": "execute_result"
    }
   ],
   "source": [
    "identity(model)"
   ]
  },
  {
   "cell_type": "code",
   "execution_count": null,
   "id": "82332476-9c0e-4ec6-98c7-6c4d267caeab",
   "metadata": {},
   "outputs": [
    {
     "data": {
      "text/plain": [
       "<__main__.Model at 0x17c3c3700>"
      ]
     },
     "execution_count": 123,
     "metadata": {},
     "output_type": "execute_result"
    }
   ],
   "source": [
    "other_model"
   ]
  },
  {
   "cell_type": "code",
   "execution_count": null,
   "id": "9e9158e7-1a4d-46f2-897f-085339bca511",
   "metadata": {},
   "outputs": [
    {
     "name": "stdout",
     "output_type": "stream",
     "text": [
      "jitting...\n"
     ]
    },
    {
     "ename": "ValueError",
     "evalue": "The truth value of an array with more than one element is ambiguous. Use a.any() or a.all()",
     "output_type": "error",
     "traceback": [
      "\u001b[0;31m---------------------------------------------------------------------------\u001b[0m",
      "\u001b[0;31mValueError\u001b[0m                                Traceback (most recent call last)",
      "Input \u001b[0;32mIn [126]\u001b[0m, in \u001b[0;36m<cell line: 7>\u001b[0;34m()\u001b[0m\n\u001b[1;32m      4\u001b[0m     \u001b[38;5;28;01mreturn\u001b[39;00m x\n\u001b[1;32m      6\u001b[0m identity(other_model)\n\u001b[0;32m----> 7\u001b[0m \u001b[43midentity\u001b[49m\u001b[43m(\u001b[49m\u001b[43mmodel\u001b[49m\u001b[43m)\u001b[49m\n",
      "File \u001b[0;32m~/miniforge3/envs/ssmjax/lib/python3.9/functools.py:387\u001b[0m, in \u001b[0;36mpartialmethod._make_unbound_method.<locals>._method\u001b[0;34m(cls_or_self, *args, **keywords)\u001b[0m\n\u001b[1;32m    385\u001b[0m \u001b[38;5;28;01mdef\u001b[39;00m \u001b[38;5;21m_method\u001b[39m(cls_or_self, \u001b[38;5;241m/\u001b[39m, \u001b[38;5;241m*\u001b[39margs, \u001b[38;5;241m*\u001b[39m\u001b[38;5;241m*\u001b[39mkeywords):\n\u001b[1;32m    386\u001b[0m     keywords \u001b[38;5;241m=\u001b[39m {\u001b[38;5;241m*\u001b[39m\u001b[38;5;241m*\u001b[39m\u001b[38;5;28mself\u001b[39m\u001b[38;5;241m.\u001b[39mkeywords, \u001b[38;5;241m*\u001b[39m\u001b[38;5;241m*\u001b[39mkeywords}\n\u001b[0;32m--> 387\u001b[0m     \u001b[38;5;28;01mreturn\u001b[39;00m \u001b[38;5;28;43mself\u001b[39;49m\u001b[38;5;241;43m.\u001b[39;49m\u001b[43mfunc\u001b[49m\u001b[43m(\u001b[49m\u001b[43mcls_or_self\u001b[49m\u001b[43m,\u001b[49m\u001b[43m \u001b[49m\u001b[38;5;241;43m*\u001b[39;49m\u001b[38;5;28;43mself\u001b[39;49m\u001b[38;5;241;43m.\u001b[39;49m\u001b[43margs\u001b[49m\u001b[43m,\u001b[49m\u001b[43m \u001b[49m\u001b[38;5;241;43m*\u001b[39;49m\u001b[43margs\u001b[49m\u001b[43m,\u001b[49m\u001b[43m \u001b[49m\u001b[38;5;241;43m*\u001b[39;49m\u001b[38;5;241;43m*\u001b[39;49m\u001b[43mkeywords\u001b[49m\u001b[43m)\u001b[49m\n",
      "File \u001b[0;32m~/miniforge3/envs/ssmjax/lib/python3.9/site-packages/jax/_src/device_array.py:41\u001b[0m, in \u001b[0;36m_forward_method\u001b[0;34m(attrname, self, fun, *args)\u001b[0m\n\u001b[1;32m     40\u001b[0m \u001b[38;5;28;01mdef\u001b[39;00m \u001b[38;5;21m_forward_method\u001b[39m(attrname, \u001b[38;5;28mself\u001b[39m, fun, \u001b[38;5;241m*\u001b[39margs):\n\u001b[0;32m---> 41\u001b[0m   \u001b[38;5;28;01mreturn\u001b[39;00m \u001b[43mfun\u001b[49m\u001b[43m(\u001b[49m\u001b[38;5;28;43mgetattr\u001b[39;49m\u001b[43m(\u001b[49m\u001b[38;5;28;43mself\u001b[39;49m\u001b[43m,\u001b[49m\u001b[43m \u001b[49m\u001b[43mattrname\u001b[49m\u001b[43m)\u001b[49m\u001b[43m,\u001b[49m\u001b[43m \u001b[49m\u001b[38;5;241;43m*\u001b[39;49m\u001b[43margs\u001b[49m\u001b[43m)\u001b[49m\n",
      "\u001b[0;31mValueError\u001b[0m: The truth value of an array with more than one element is ambiguous. Use a.any() or a.all()"
     ]
    }
   ],
   "source": [
    "@jit\n",
    "def identity(x):\n",
    "    print(\"jitting...\")\n",
    "    return x\n",
    "\n",
    "identity(other_model)\n",
    "identity(model)"
   ]
  },
  {
   "cell_type": "code",
   "execution_count": null,
   "id": "14d6fa24-5e9b-442e-a34b-9ea6a793d117",
   "metadata": {},
   "outputs": [
    {
     "data": {
      "text/plain": [
       "DeviceArray([[1., 1., 1.],\n",
       "             [1., 1., 1.],\n",
       "             [1., 1., 1.],\n",
       "             [1., 1., 1.],\n",
       "             [1., 1., 1.]], dtype=float32)"
      ]
     },
     "execution_count": 113,
     "metadata": {},
     "output_type": "execute_result"
    }
   ],
   "source": [
    "model = Model(np.ones((5,3)), np.zeros((5,3)))\n",
    "model.submodel.a"
   ]
  },
  {
   "cell_type": "code",
   "execution_count": null,
   "id": "0bf94561-e5a5-45d7-9521-e96fdc13e71a",
   "metadata": {},
   "outputs": [],
   "source": [
    "out_model = identity(model)"
   ]
  },
  {
   "cell_type": "code",
   "execution_count": null,
   "id": "cf6e4f91-563d-42fc-b60f-412e69a85852",
   "metadata": {},
   "outputs": [
    {
     "data": {
      "text/plain": [
       "DeviceArray([[1., 1., 1.],\n",
       "             [1., 1., 1.],\n",
       "             [1., 1., 1.],\n",
       "             [1., 1., 1.],\n",
       "             [1., 1., 1.]], dtype=float32)"
      ]
     },
     "execution_count": 116,
     "metadata": {},
     "output_type": "execute_result"
    }
   ],
   "source": [
    "out_model.submodel.a"
   ]
  },
  {
   "cell_type": "code",
   "execution_count": null,
   "id": "69b8a858-1faa-4628-8b81-8e80ba316bdc",
   "metadata": {},
   "outputs": [],
   "source": [
    "from jax.tree_util import tree_flatten"
   ]
  },
  {
   "cell_type": "code",
   "execution_count": null,
   "id": "faf90642-c4d6-45d2-b70f-5849b9ecf728",
   "metadata": {},
   "outputs": [],
   "source": [
    "children, aux_data = tree_flatten(model)"
   ]
  },
  {
   "cell_type": "code",
   "execution_count": null,
   "id": "6f3569e9-d308-4fce-9df5-55c7898b75dd",
   "metadata": {},
   "outputs": [
    {
     "name": "stdout",
     "output_type": "stream",
     "text": [
      "[]\n",
      "PyTreeDef(CustomNode(<class '__main__.Model'>[(((DeviceArray([[1., 1., 1.],\n",
      "             [1., 1., 1.],\n",
      "             [1., 1., 1.],\n",
      "             [1., 1., 1.],\n",
      "             [1., 1., 1.]], dtype=float32), DeviceArray([[0., 0., 0.],\n",
      "             [0., 0., 0.],\n",
      "             [0., 0., 0.],\n",
      "             [0., 0., 0.],\n",
      "             [0., 0., 0.]], dtype=float32)), {}), {'_args': (DeviceArray([[1., 1., 1.],\n",
      "             [1., 1., 1.],\n",
      "             [1., 1., 1.],\n",
      "             [1., 1., 1.],\n",
      "             [1., 1., 1.]], dtype=float32), DeviceArray([[0., 0., 0.],\n",
      "             [0., 0., 0.],\n",
      "             [0., 0., 0.],\n",
      "             [0., 0., 0.],\n",
      "             [0., 0., 0.]], dtype=float32)), '_kwargs': {}, 'a': DeviceArray([[1., 1., 1.],\n",
      "             [1., 1., 1.],\n",
      "             [1., 1., 1.],\n",
      "             [1., 1., 1.],\n",
      "             [1., 1., 1.]], dtype=float32), 'b': DeviceArray([[0., 0., 0.],\n",
      "             [0., 0., 0.],\n",
      "             [0., 0., 0.],\n",
      "             [0., 0., 0.],\n",
      "             [0., 0., 0.]], dtype=float32), 'c': DeviceArray([5., 3.], dtype=float32)})], []))\n"
     ]
    }
   ],
   "source": [
    "print(children)\n",
    "print(aux_data)"
   ]
  },
  {
   "cell_type": "code",
   "execution_count": null,
   "id": "0da05dcb-fa3a-4500-a505-e27c37c9c1b1",
   "metadata": {},
   "outputs": [],
   "source": []
  }
 ],
 "metadata": {
  "kernelspec": {
   "display_name": "Python 3.9.12 ('ssmjax')",
   "language": "python",
   "name": "python3"
  },
  "language_info": {
   "codemirror_mode": {
    "name": "ipython",
    "version": 3
   },
   "file_extension": ".py",
   "mimetype": "text/x-python",
   "name": "python",
   "nbconvert_exporter": "python",
   "pygments_lexer": "ipython3",
   "version": "3.9.12"
  },
  "vscode": {
   "interpreter": {
    "hash": "ae1f8af8e2f1cceb7133b0d9858f2cfe79ada9d748e0565e3b3fdeb604f14ec7"
   }
  }
 },
 "nbformat": 4,
 "nbformat_minor": 5
}
