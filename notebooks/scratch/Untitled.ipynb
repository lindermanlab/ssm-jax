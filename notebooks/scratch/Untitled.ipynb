{
 "cells": [
  {
   "cell_type": "code",
   "execution_count": 194,
   "id": "fc365945-173c-44b0-9557-0f1ccb924a9c",
   "metadata": {},
   "outputs": [
    {
     "name": "stdout",
     "output_type": "stream",
     "text": [
      "The autoreload extension is already loaded. To reload it, use:\n",
      "  %reload_ext autoreload\n"
     ]
    }
   ],
   "source": [
    "%load_ext autoreload\n",
    "%autoreload 2"
   ]
  },
  {
   "cell_type": "code",
   "execution_count": 195,
   "id": "6064abf1-8258-46ff-97b9-25d36643e08b",
   "metadata": {},
   "outputs": [],
   "source": [
    "from ssm.hmm import GaussianHMM\n",
    "import jax.random as jr"
   ]
  },
  {
   "cell_type": "code",
   "execution_count": 196,
   "id": "cac1d888-1120-4ed8-af02-ef16b5bf81a1",
   "metadata": {},
   "outputs": [],
   "source": [
    "hmm = GaussianHMM(num_states=3, num_emission_dims=5, seed=jr.PRNGKey(0))"
   ]
  },
  {
   "cell_type": "code",
   "execution_count": 197,
   "id": "4a200b3d-3581-436d-a452-66a73e908c46",
   "metadata": {},
   "outputs": [],
   "source": [
    "states, emissions = hmm.sample(jr.PRNGKey(0), num_steps=100)"
   ]
  },
  {
   "cell_type": "code",
   "execution_count": 198,
   "id": "63c06677-5a35-4990-98c6-c895cca002d8",
   "metadata": {},
   "outputs": [],
   "source": [
    "import numpy as onp"
   ]
  },
  {
   "cell_type": "code",
   "execution_count": 199,
   "id": "80a6da7c-b2c1-43ee-8f4d-9b5a6b7f1292",
   "metadata": {},
   "outputs": [],
   "source": [
    "log_initial_probs = hmm._initial_condition.log_initial_probs(emissions)\n",
    "log_transition_matrices = hmm._transitions.log_transition_matrices(emissions)\n",
    "log_likelihoods = hmm._emissions.log_likelihoods(emissions)\n",
    "\n",
    "natural_params = (log_initial_probs, log_transition_matrices, log_likelihoods)\n",
    "natural_params_onp = (onp.array(log_initial_probs), onp.array(log_transition_matrices), onp.array(log_likelihoods))"
   ]
  },
  {
   "cell_type": "code",
   "execution_count": 200,
   "id": "d7502dbe-9494-44cd-a58c-53b50eb341fd",
   "metadata": {},
   "outputs": [],
   "source": [
    "from ssm.hmm.posterior import hmm_log_normalizer\n",
    "\n",
    "log_normalizer, alphas = hmm_log_normalizer(log_initial_probs, log_transition_matrices, log_likelihoods)"
   ]
  },
  {
   "cell_type": "code",
   "execution_count": 227,
   "id": "c03abf91-ba47-4bf3-8850-6dfe039281ec",
   "metadata": {},
   "outputs": [],
   "source": [
    "import jax.numpy as np\n",
    "import jax.scipy.special as spsp\n",
    "from jax import lax\n",
    "\n",
    "import chex\n",
    "\n",
    "def normalize_vector(u):\n",
    "    Z = np.sum(u)\n",
    "    v = u / Z\n",
    "    return v, Z\n",
    "    \n",
    "def log_normalize(log_u):\n",
    "    log_Z = spsp.logsumexp(log_u, axis=1)\n",
    "    log_v = log_u - log_Z\n",
    "    return log_v, log_Z\n",
    "\n",
    "def messages_forwards_normalized(init_state_distn, transition_matrix, log_likelihoods):\n",
    "    T = log_likelihoods.shape[0]\n",
    "\n",
    "    alpha_norm = np.empty_like(log_likelihoods)\n",
    "    \n",
    "    def f(carry, log_likelihood):  # (carry, x)\n",
    "        in_potential, log_total = carry\n",
    "        \n",
    "        cmax = log_likelihood.max()\n",
    "        alpha_norm_t = in_potential * np.exp(log_likelihood - cmax)\n",
    "        norm = alpha_norm_t.sum()\n",
    "        \n",
    "        alpha_norm_t = alpha_norm_t / norm\n",
    "        log_total += np.log(norm) + cmax\n",
    "        \n",
    "        out_potential = alpha_norm_t.dot(transition_matrix)\n",
    "        \n",
    "        return (out_potential, log_total), alpha_norm_t\n",
    "        \n",
    "    log_total = 0.\n",
    "    in_potential = init_state_distn\n",
    "        \n",
    "    final_carry, alphas_norm = lax.scan(f, (in_potential, log_total), log_likelihoods)\n",
    "    _, log_normalizer = final_carry\n",
    "    \n",
    "    return alphas_norm, log_normalizer"
   ]
  },
  {
   "cell_type": "code",
   "execution_count": 228,
   "id": "6cc15baa-2a9c-475c-b4f8-41bf4d506254",
   "metadata": {},
   "outputs": [],
   "source": [
    "def sticky_transitions(num_states, stickiness=0.95):\n",
    "    P = stickiness * np.eye(num_states) \n",
    "    P += (1 - stickiness) / (num_states - 1) * (1 - np.eye(num_states))\n",
    "    return P\n",
    "\n",
    "def random_args(num_timesteps, num_states, seed=0, offset=0, scale=1):\n",
    "    pi = np.ones(num_states) / num_states\n",
    "    P = sticky_transitions(num_states)\n",
    "    log_likes = offset + scale * jr.normal(jr.PRNGKey(seed), (num_timesteps, num_states))\n",
    "    return pi, P, log_likes"
   ]
  },
  {
   "cell_type": "code",
   "execution_count": 229,
   "id": "def4373f-1881-4628-bccc-206402839f62",
   "metadata": {},
   "outputs": [],
   "source": [
    "pi, P, log_likes = random_args(100, 3)"
   ]
  },
  {
   "cell_type": "code",
   "execution_count": 230,
   "id": "97bda8af-bb9f-4a34-aa18-d7f964f3bfa5",
   "metadata": {},
   "outputs": [
    {
     "data": {
      "text/plain": [
       "DeviceArray([[2.87658632e-01, 3.63781899e-02, 6.75963163e-01],\n",
       "             [8.71943355e-01, 5.09060770e-02, 7.71505535e-02],\n",
       "             [4.34230834e-01, 7.67349452e-02, 4.89034176e-01],\n",
       "             [4.41724569e-01, 8.32934305e-02, 4.74981993e-01],\n",
       "             [7.70578921e-01, 1.01892382e-01, 1.27528712e-01],\n",
       "             [7.91063726e-01, 1.14585310e-01, 9.43509564e-02],\n",
       "             [8.29118609e-01, 1.41319511e-02, 1.56749383e-01],\n",
       "             [7.91145265e-01, 2.05210112e-02, 1.88333735e-01],\n",
       "             [9.93438601e-01, 9.45839973e-04, 5.61549747e-03],\n",
       "             [8.61718297e-01, 6.57978430e-02, 7.24838525e-02],\n",
       "             [6.67197227e-01, 1.05501324e-01, 2.27301463e-01],\n",
       "             [7.21345544e-01, 1.01580642e-01, 1.77073762e-01],\n",
       "             [4.24646199e-01, 3.86393070e-02, 5.36714494e-01],\n",
       "             [5.72492659e-01, 2.99103539e-02, 3.97596985e-01],\n",
       "             [2.65077233e-01, 6.74672127e-02, 6.67455494e-01],\n",
       "             [2.77127363e-02, 5.52592389e-02, 9.17028010e-01],\n",
       "             [5.52204065e-02, 6.19460404e-01, 3.25319171e-01],\n",
       "             [1.45068958e-01, 4.98819679e-01, 3.56111348e-01],\n",
       "             [6.58899769e-02, 1.37367517e-01, 7.96742499e-01],\n",
       "             [1.80805042e-01, 3.91809881e-01, 4.27385092e-01],\n",
       "             [5.86111069e-01, 1.78645894e-01, 2.35243052e-01],\n",
       "             [3.24890316e-01, 6.13089323e-01, 6.20203316e-02],\n",
       "             [4.25104558e-01, 5.64405560e-01, 1.04898838e-02],\n",
       "             [5.34773171e-01, 3.42874348e-01, 1.22352429e-01],\n",
       "             [5.36077499e-01, 3.94664884e-01, 6.92576319e-02],\n",
       "             [4.72019434e-01, 4.06150877e-01, 1.21829703e-01],\n",
       "             [5.23804009e-01, 3.92654181e-01, 8.35418180e-02],\n",
       "             [3.49323124e-01, 6.17801070e-01, 3.28758210e-02],\n",
       "             [5.88383913e-01, 2.75474697e-01, 1.36141345e-01],\n",
       "             [7.49990463e-01, 1.10174499e-01, 1.39835015e-01],\n",
       "             [6.96906745e-01, 9.70947817e-02, 2.05998480e-01],\n",
       "             [6.22863293e-01, 4.05135490e-02, 3.36623162e-01],\n",
       "             [2.49912411e-01, 2.68727150e-02, 7.23214865e-01],\n",
       "             [2.59264737e-01, 2.11347584e-02, 7.19600439e-01],\n",
       "             [5.13050079e-01, 9.27150398e-02, 3.94234896e-01],\n",
       "             [4.56661999e-01, 1.27329081e-01, 4.16008890e-01],\n",
       "             [1.25934631e-01, 1.72618061e-01, 7.01447368e-01],\n",
       "             [4.69629541e-02, 1.68647602e-01, 7.84389436e-01],\n",
       "             [2.66405218e-03, 1.58458669e-02, 9.81490135e-01],\n",
       "             [2.04944238e-02, 1.62839086e-03, 9.77877140e-01],\n",
       "             [9.53983441e-02, 1.42840119e-02, 8.90317678e-01],\n",
       "             [6.15883708e-01, 1.88630689e-02, 3.65253299e-01],\n",
       "             [7.03417599e-01, 5.69956750e-02, 2.39586696e-01],\n",
       "             [8.08603108e-01, 1.05166025e-01, 8.62308368e-02],\n",
       "             [7.51751125e-01, 1.95076391e-01, 5.31725213e-02],\n",
       "             [7.63999045e-01, 2.30115414e-01, 5.88553073e-03],\n",
       "             [5.94434977e-01, 3.90888005e-01, 1.46770785e-02],\n",
       "             [2.97708750e-01, 6.86814845e-01, 1.54763330e-02],\n",
       "             [6.40552461e-01, 3.35707545e-01, 2.37400513e-02],\n",
       "             [8.41403186e-01, 1.47088915e-01, 1.15078259e-02],\n",
       "             [7.95455635e-01, 1.71659350e-01, 3.28850411e-02],\n",
       "             [9.49364603e-01, 3.96852307e-02, 1.09501248e-02],\n",
       "             [6.35445118e-01, 8.44011083e-02, 2.80153811e-01],\n",
       "             [8.84408355e-01, 5.48566394e-02, 6.07350096e-02],\n",
       "             [9.53148186e-01, 3.01746037e-02, 1.66771952e-02],\n",
       "             [9.59342360e-01, 2.16974337e-02, 1.89602003e-02],\n",
       "             [9.08702910e-01, 3.55221964e-02, 5.57749048e-02],\n",
       "             [9.01079237e-01, 6.31877407e-02, 3.57329659e-02],\n",
       "             [8.85540903e-01, 1.01671293e-01, 1.27878441e-02],\n",
       "             [8.26644838e-01, 1.36427358e-01, 3.69277783e-02],\n",
       "             [8.25277865e-01, 1.10280536e-01, 6.44415915e-02],\n",
       "             [8.54338288e-01, 1.04538776e-01, 4.11229208e-02],\n",
       "             [6.29329741e-01, 1.37353301e-01, 2.33316913e-01],\n",
       "             [2.52926797e-01, 6.13192320e-01, 1.33880869e-01],\n",
       "             [1.46310687e-01, 6.65219426e-01, 1.88469887e-01],\n",
       "             [5.64881600e-02, 9.25936103e-01, 1.75758004e-02],\n",
       "             [2.32486546e-01, 7.57712901e-01, 9.80051886e-03],\n",
       "             [1.22430734e-01, 8.69802535e-01, 7.76670221e-03],\n",
       "             [1.21443205e-01, 7.63723731e-01, 1.14833035e-01],\n",
       "             [6.38246760e-02, 2.31390417e-01, 7.04784930e-01],\n",
       "             [2.24698577e-02, 5.61933875e-01, 4.15596306e-01],\n",
       "             [2.92347278e-02, 6.63899124e-01, 3.06866169e-01],\n",
       "             [1.08719848e-01, 5.33518612e-01, 3.57761472e-01],\n",
       "             [8.85575414e-02, 7.61616409e-01, 1.49826080e-01],\n",
       "             [8.32993463e-02, 7.04130232e-01, 2.12570474e-01],\n",
       "             [1.60543010e-01, 4.33425069e-01, 4.06031877e-01],\n",
       "             [1.74910948e-01, 7.19036222e-01, 1.06052831e-01],\n",
       "             [3.62185210e-01, 3.71009618e-01, 2.66805112e-01],\n",
       "             [1.73395440e-01, 6.48693860e-01, 1.77910686e-01],\n",
       "             [6.71069741e-01, 2.76383966e-01, 5.25463484e-02],\n",
       "             [8.83443892e-01, 9.98272896e-02, 1.67288743e-02],\n",
       "             [9.36992228e-01, 4.54146378e-02, 1.75931137e-02],\n",
       "             [7.37741649e-01, 2.53522128e-01, 8.73630866e-03],\n",
       "             [4.78921592e-01, 4.94793832e-01, 2.62845773e-02],\n",
       "             [1.62990093e-01, 7.51702666e-01, 8.53072628e-02],\n",
       "             [8.15757141e-02, 7.14158833e-01, 2.04265475e-01],\n",
       "             [5.22351861e-02, 3.86230171e-01, 5.61534643e-01],\n",
       "             [5.56931943e-02, 4.90884073e-02, 8.95218432e-01],\n",
       "             [4.63778824e-01, 2.15575531e-01, 3.20645660e-01],\n",
       "             [3.18450004e-01, 3.03977042e-01, 3.77572924e-01],\n",
       "             [4.94655877e-01, 2.46265307e-01, 2.59078801e-01],\n",
       "             [4.25161064e-01, 4.08532768e-01, 1.66306138e-01],\n",
       "             [3.66820246e-01, 4.94072378e-01, 1.39107347e-01],\n",
       "             [5.56455791e-01, 5.01640737e-02, 3.93380165e-01],\n",
       "             [8.72984469e-01, 7.34777842e-03, 1.19667746e-01],\n",
       "             [7.56801426e-01, 2.94279847e-02, 2.13770613e-01],\n",
       "             [8.70438576e-01, 2.16515977e-02, 1.07909866e-01],\n",
       "             [8.92901659e-01, 3.80474441e-02, 6.90509006e-02],\n",
       "             [6.73895538e-01, 2.74659038e-01, 5.14454246e-02],\n",
       "             [2.10736170e-01, 7.18581200e-01, 7.06825927e-02]],            dtype=float32)"
      ]
     },
     "execution_count": 230,
     "metadata": {},
     "output_type": "execute_result"
    }
   ],
   "source": [
    "alphas, log_Z = messages_forwards_normalized(pi, P, log_likes)\n",
    "alphas"
   ]
  },
  {
   "cell_type": "code",
   "execution_count": 204,
   "id": "9cc4a443-9a71-4f9e-bd40-069c3b145a81",
   "metadata": {},
   "outputs": [
    {
     "ename": "ValueError",
     "evalue": "axis 1 is out of bounds for array of dimension 1",
     "output_type": "error",
     "traceback": [
      "\u001b[0;31m---------------------------------------------------------------------------\u001b[0m",
      "\u001b[0;31mValueError\u001b[0m                                Traceback (most recent call last)",
      "Input \u001b[0;32mIn [204]\u001b[0m, in \u001b[0;36m<cell line: 1>\u001b[0;34m()\u001b[0m\n\u001b[0;32m----> 1\u001b[0m log_Z_norm, alphas_norm \u001b[38;5;241m=\u001b[39m \u001b[43m_stationary_hmm_log_normalizer_noramlized\u001b[49m\u001b[43m(\u001b[49m\u001b[38;5;241;43m*\u001b[39;49m\u001b[43mnatural_params\u001b[49m\u001b[43m)\u001b[49m\n\u001b[1;32m      2\u001b[0m log_Z, alphas \u001b[38;5;241m=\u001b[39m _stationary_hmm_log_normalizer(\u001b[38;5;241m*\u001b[39mnatural_params)\n",
      "Input \u001b[0;32mIn [201]\u001b[0m, in \u001b[0;36m_stationary_hmm_log_normalizer_noramlized\u001b[0;34m(log_initial_state_probs, log_transition_matrix, log_likelihoods)\u001b[0m\n\u001b[1;32m     22\u001b[0m     alpha_norm, log_Z \u001b[38;5;241m=\u001b[39m log_normalize(alpha)\n\u001b[1;32m     23\u001b[0m     \u001b[38;5;28;01mreturn\u001b[39;00m (alpha_norm, prev_log_Z \u001b[38;5;241m+\u001b[39m log_Z), alpha_norm\n\u001b[0;32m---> 25\u001b[0m carry_T, alphas \u001b[38;5;241m=\u001b[39m \u001b[43mlax\u001b[49m\u001b[38;5;241;43m.\u001b[39;49m\u001b[43mscan\u001b[49m\u001b[43m(\u001b[49m\n\u001b[1;32m     26\u001b[0m \u001b[43m    \u001b[49m\u001b[43mmarginalize\u001b[49m\u001b[43m,\u001b[49m\u001b[43m \u001b[49m\u001b[43m(\u001b[49m\u001b[43mlog_initial_state_probs\u001b[49m\u001b[43m,\u001b[49m\u001b[43m \u001b[49m\u001b[38;5;241;43m0\u001b[39;49m\u001b[43m)\u001b[49m\u001b[43m,\u001b[49m\u001b[43m \u001b[49m\u001b[43mlog_likelihoods\u001b[49m\n\u001b[1;32m     27\u001b[0m \u001b[43m\u001b[49m\u001b[43m)\u001b[49m\n\u001b[1;32m     29\u001b[0m alpha_T, log_Z \u001b[38;5;241m=\u001b[39m carry_T\n\u001b[1;32m     31\u001b[0m \u001b[38;5;28;01mreturn\u001b[39;00m log_Z, alphas\n",
      "    \u001b[0;31m[... skipping hidden 13 frame]\u001b[0m\n",
      "Input \u001b[0;32mIn [201]\u001b[0m, in \u001b[0;36m_stationary_hmm_log_normalizer_noramlized.<locals>.marginalize\u001b[0;34m(carry, ll)\u001b[0m\n\u001b[1;32m     20\u001b[0m prev_alpha, prev_log_Z \u001b[38;5;241m=\u001b[39m carry\n\u001b[1;32m     21\u001b[0m alpha \u001b[38;5;241m=\u001b[39m spsp\u001b[38;5;241m.\u001b[39mlogsumexp(prev_alpha \u001b[38;5;241m+\u001b[39m ll \u001b[38;5;241m+\u001b[39m log_transition_matrix\u001b[38;5;241m.\u001b[39mT, axis\u001b[38;5;241m=\u001b[39m\u001b[38;5;241m1\u001b[39m)\n\u001b[0;32m---> 22\u001b[0m alpha_norm, log_Z \u001b[38;5;241m=\u001b[39m \u001b[43mlog_normalize\u001b[49m\u001b[43m(\u001b[49m\u001b[43malpha\u001b[49m\u001b[43m)\u001b[49m\n\u001b[1;32m     23\u001b[0m \u001b[38;5;28;01mreturn\u001b[39;00m (alpha_norm, prev_log_Z \u001b[38;5;241m+\u001b[39m log_Z), alpha_norm\n",
      "Input \u001b[0;32mIn [201]\u001b[0m, in \u001b[0;36mlog_normalize\u001b[0;34m(log_u)\u001b[0m\n\u001b[1;32m      7\u001b[0m \u001b[38;5;28;01mdef\u001b[39;00m \u001b[38;5;21mlog_normalize\u001b[39m(log_u):\n\u001b[0;32m----> 8\u001b[0m     log_Z \u001b[38;5;241m=\u001b[39m \u001b[43mspsp\u001b[49m\u001b[38;5;241;43m.\u001b[39;49m\u001b[43mlogsumexp\u001b[49m\u001b[43m(\u001b[49m\u001b[43mlog_u\u001b[49m\u001b[43m,\u001b[49m\u001b[43m \u001b[49m\u001b[43maxis\u001b[49m\u001b[38;5;241;43m=\u001b[39;49m\u001b[38;5;241;43m1\u001b[39;49m\u001b[43m)\u001b[49m\n\u001b[1;32m      9\u001b[0m     log_v \u001b[38;5;241m=\u001b[39m log_u \u001b[38;5;241m-\u001b[39m log_Z\n\u001b[1;32m     10\u001b[0m     \u001b[38;5;28;01mreturn\u001b[39;00m log_v, log_Z\n",
      "File \u001b[0;32m~/miniforge3/envs/ssmjax/lib/python3.9/site-packages/jax/_src/scipy/special.py:114\u001b[0m, in \u001b[0;36mlogsumexp\u001b[0;34m(a, axis, b, keepdims, return_sign)\u001b[0m\n\u001b[1;32m    112\u001b[0m \u001b[38;5;28;01melse\u001b[39;00m:\n\u001b[1;32m    113\u001b[0m   a, \u001b[38;5;241m=\u001b[39m _promote_args_inexact(\u001b[38;5;124m\"\u001b[39m\u001b[38;5;124mlogsumexp\u001b[39m\u001b[38;5;124m\"\u001b[39m, a)\n\u001b[0;32m--> 114\u001b[0m pos_dims, dims \u001b[38;5;241m=\u001b[39m \u001b[43m_reduction_dims\u001b[49m\u001b[43m(\u001b[49m\u001b[43ma\u001b[49m\u001b[43m,\u001b[49m\u001b[43m \u001b[49m\u001b[43maxis\u001b[49m\u001b[43m)\u001b[49m\n\u001b[1;32m    115\u001b[0m amax \u001b[38;5;241m=\u001b[39m jnp\u001b[38;5;241m.\u001b[39mmax(a, axis\u001b[38;5;241m=\u001b[39mdims, keepdims\u001b[38;5;241m=\u001b[39mkeepdims)\n\u001b[1;32m    116\u001b[0m amax \u001b[38;5;241m=\u001b[39m lax\u001b[38;5;241m.\u001b[39mstop_gradient(lax\u001b[38;5;241m.\u001b[39mselect(jnp\u001b[38;5;241m.\u001b[39misfinite(amax), amax, lax\u001b[38;5;241m.\u001b[39mfull_like(amax, \u001b[38;5;241m0\u001b[39m)))\n",
      "File \u001b[0;32m~/miniforge3/envs/ssmjax/lib/python3.9/site-packages/jax/_src/numpy/reductions.py:113\u001b[0m, in \u001b[0;36m_reduction_dims\u001b[0;34m(a, axis)\u001b[0m\n\u001b[1;32m    111\u001b[0m \u001b[38;5;28;01melif\u001b[39;00m \u001b[38;5;129;01mnot\u001b[39;00m \u001b[38;5;28misinstance\u001b[39m(axis, (np\u001b[38;5;241m.\u001b[39mndarray, \u001b[38;5;28mtuple\u001b[39m, \u001b[38;5;28mlist\u001b[39m)):\n\u001b[1;32m    112\u001b[0m   axis \u001b[38;5;241m=\u001b[39m (axis,)\n\u001b[0;32m--> 113\u001b[0m canon_axis \u001b[38;5;241m=\u001b[39m \u001b[38;5;28;43mtuple\u001b[39;49m\u001b[43m(\u001b[49m\u001b[43m_canonicalize_axis_allow_named\u001b[49m\u001b[43m(\u001b[49m\u001b[43mx\u001b[49m\u001b[43m,\u001b[49m\u001b[43m \u001b[49m\u001b[43mnp\u001b[49m\u001b[38;5;241;43m.\u001b[39;49m\u001b[43mndim\u001b[49m\u001b[43m(\u001b[49m\u001b[43ma\u001b[49m\u001b[43m)\u001b[49m\u001b[43m)\u001b[49m\n\u001b[1;32m    114\u001b[0m \u001b[43m                   \u001b[49m\u001b[38;5;28;43;01mfor\u001b[39;49;00m\u001b[43m \u001b[49m\u001b[43mx\u001b[49m\u001b[43m \u001b[49m\u001b[38;5;129;43;01min\u001b[39;49;00m\u001b[43m \u001b[49m\u001b[43maxis\u001b[49m\u001b[43m)\u001b[49m\n\u001b[1;32m    115\u001b[0m \u001b[38;5;28;01mif\u001b[39;00m \u001b[38;5;28mlen\u001b[39m(canon_axis) \u001b[38;5;241m!=\u001b[39m \u001b[38;5;28mlen\u001b[39m(\u001b[38;5;28mset\u001b[39m(canon_axis)):\n\u001b[1;32m    116\u001b[0m   \u001b[38;5;28;01mraise\u001b[39;00m \u001b[38;5;167;01mValueError\u001b[39;00m(\u001b[38;5;124mf\u001b[39m\u001b[38;5;124m\"\u001b[39m\u001b[38;5;124mduplicate value in \u001b[39m\u001b[38;5;124m'\u001b[39m\u001b[38;5;124maxis\u001b[39m\u001b[38;5;124m'\u001b[39m\u001b[38;5;124m: \u001b[39m\u001b[38;5;132;01m{\u001b[39;00maxis\u001b[38;5;132;01m}\u001b[39;00m\u001b[38;5;124m\"\u001b[39m)\n",
      "File \u001b[0;32m~/miniforge3/envs/ssmjax/lib/python3.9/site-packages/jax/_src/numpy/reductions.py:113\u001b[0m, in \u001b[0;36m<genexpr>\u001b[0;34m(.0)\u001b[0m\n\u001b[1;32m    111\u001b[0m \u001b[38;5;28;01melif\u001b[39;00m \u001b[38;5;129;01mnot\u001b[39;00m \u001b[38;5;28misinstance\u001b[39m(axis, (np\u001b[38;5;241m.\u001b[39mndarray, \u001b[38;5;28mtuple\u001b[39m, \u001b[38;5;28mlist\u001b[39m)):\n\u001b[1;32m    112\u001b[0m   axis \u001b[38;5;241m=\u001b[39m (axis,)\n\u001b[0;32m--> 113\u001b[0m canon_axis \u001b[38;5;241m=\u001b[39m \u001b[38;5;28mtuple\u001b[39m(\u001b[43m_canonicalize_axis_allow_named\u001b[49m\u001b[43m(\u001b[49m\u001b[43mx\u001b[49m\u001b[43m,\u001b[49m\u001b[43m \u001b[49m\u001b[43mnp\u001b[49m\u001b[38;5;241;43m.\u001b[39;49m\u001b[43mndim\u001b[49m\u001b[43m(\u001b[49m\u001b[43ma\u001b[49m\u001b[43m)\u001b[49m\u001b[43m)\u001b[49m\n\u001b[1;32m    114\u001b[0m                    \u001b[38;5;28;01mfor\u001b[39;00m x \u001b[38;5;129;01min\u001b[39;00m axis)\n\u001b[1;32m    115\u001b[0m \u001b[38;5;28;01mif\u001b[39;00m \u001b[38;5;28mlen\u001b[39m(canon_axis) \u001b[38;5;241m!=\u001b[39m \u001b[38;5;28mlen\u001b[39m(\u001b[38;5;28mset\u001b[39m(canon_axis)):\n\u001b[1;32m    116\u001b[0m   \u001b[38;5;28;01mraise\u001b[39;00m \u001b[38;5;167;01mValueError\u001b[39;00m(\u001b[38;5;124mf\u001b[39m\u001b[38;5;124m\"\u001b[39m\u001b[38;5;124mduplicate value in \u001b[39m\u001b[38;5;124m'\u001b[39m\u001b[38;5;124maxis\u001b[39m\u001b[38;5;124m'\u001b[39m\u001b[38;5;124m: \u001b[39m\u001b[38;5;132;01m{\u001b[39;00maxis\u001b[38;5;132;01m}\u001b[39;00m\u001b[38;5;124m\"\u001b[39m)\n",
      "File \u001b[0;32m~/miniforge3/envs/ssmjax/lib/python3.9/site-packages/jax/_src/numpy/reductions.py:106\u001b[0m, in \u001b[0;36m_canonicalize_axis_allow_named\u001b[0;34m(x, rank)\u001b[0m\n\u001b[1;32m    105\u001b[0m \u001b[38;5;28;01mdef\u001b[39;00m \u001b[38;5;21m_canonicalize_axis_allow_named\u001b[39m(x, rank):\n\u001b[0;32m--> 106\u001b[0m   \u001b[38;5;28;01mreturn\u001b[39;00m \u001b[43mmaybe_named_axis\u001b[49m\u001b[43m(\u001b[49m\u001b[43mx\u001b[49m\u001b[43m,\u001b[49m\u001b[43m \u001b[49m\u001b[38;5;28;43;01mlambda\u001b[39;49;00m\u001b[43m \u001b[49m\u001b[43mi\u001b[49m\u001b[43m:\u001b[49m\u001b[43m \u001b[49m\u001b[43m_canonicalize_axis\u001b[49m\u001b[43m(\u001b[49m\u001b[43mi\u001b[49m\u001b[43m,\u001b[49m\u001b[43m \u001b[49m\u001b[43mrank\u001b[49m\u001b[43m)\u001b[49m\u001b[43m,\u001b[49m\u001b[43m \u001b[49m\u001b[38;5;28;43;01mlambda\u001b[39;49;00m\u001b[43m \u001b[49m\u001b[43mname\u001b[49m\u001b[43m:\u001b[49m\u001b[43m \u001b[49m\u001b[43mname\u001b[49m\u001b[43m)\u001b[49m\n",
      "    \u001b[0;31m[... skipping hidden 1 frame]\u001b[0m\n",
      "File \u001b[0;32m~/miniforge3/envs/ssmjax/lib/python3.9/site-packages/jax/_src/numpy/reductions.py:106\u001b[0m, in \u001b[0;36m_canonicalize_axis_allow_named.<locals>.<lambda>\u001b[0;34m(i)\u001b[0m\n\u001b[1;32m    105\u001b[0m \u001b[38;5;28;01mdef\u001b[39;00m \u001b[38;5;21m_canonicalize_axis_allow_named\u001b[39m(x, rank):\n\u001b[0;32m--> 106\u001b[0m   \u001b[38;5;28;01mreturn\u001b[39;00m maybe_named_axis(x, \u001b[38;5;28;01mlambda\u001b[39;00m i: \u001b[43m_canonicalize_axis\u001b[49m\u001b[43m(\u001b[49m\u001b[43mi\u001b[49m\u001b[43m,\u001b[49m\u001b[43m \u001b[49m\u001b[43mrank\u001b[49m\u001b[43m)\u001b[49m, \u001b[38;5;28;01mlambda\u001b[39;00m name: name)\n",
      "File \u001b[0;32m~/miniforge3/envs/ssmjax/lib/python3.9/site-packages/jax/_src/util.py:383\u001b[0m, in \u001b[0;36mcanonicalize_axis\u001b[0;34m(axis, num_dims)\u001b[0m\n\u001b[1;32m    381\u001b[0m axis \u001b[38;5;241m=\u001b[39m operator\u001b[38;5;241m.\u001b[39mindex(axis)\n\u001b[1;32m    382\u001b[0m \u001b[38;5;28;01mif\u001b[39;00m \u001b[38;5;129;01mnot\u001b[39;00m \u001b[38;5;241m-\u001b[39mnum_dims \u001b[38;5;241m<\u001b[39m\u001b[38;5;241m=\u001b[39m axis \u001b[38;5;241m<\u001b[39m num_dims:\n\u001b[0;32m--> 383\u001b[0m   \u001b[38;5;28;01mraise\u001b[39;00m \u001b[38;5;167;01mValueError\u001b[39;00m(\u001b[38;5;124mf\u001b[39m\u001b[38;5;124m\"\u001b[39m\u001b[38;5;124maxis \u001b[39m\u001b[38;5;132;01m{\u001b[39;00maxis\u001b[38;5;132;01m}\u001b[39;00m\u001b[38;5;124m is out of bounds for array of dimension \u001b[39m\u001b[38;5;132;01m{\u001b[39;00mnum_dims\u001b[38;5;132;01m}\u001b[39;00m\u001b[38;5;124m\"\u001b[39m)\n\u001b[1;32m    384\u001b[0m \u001b[38;5;28;01mif\u001b[39;00m axis \u001b[38;5;241m<\u001b[39m \u001b[38;5;241m0\u001b[39m:\n\u001b[1;32m    385\u001b[0m   axis \u001b[38;5;241m=\u001b[39m axis \u001b[38;5;241m+\u001b[39m num_dims\n",
      "\u001b[0;31mValueError\u001b[0m: axis 1 is out of bounds for array of dimension 1"
     ]
    }
   ],
   "source": [
    "log_Z_norm, alphas_norm = _stationary_hmm_log_normalizer_noramlized(*natural_params)\n",
    "log_Z, alphas = _stationary_hmm_log_normalizer(*natural_params)"
   ]
  },
  {
   "cell_type": "code",
   "execution_count": 189,
   "id": "5fc6062c-ff37-483e-9f84-51ddcb816673",
   "metadata": {},
   "outputs": [
    {
     "data": {
      "text/plain": [
       "DeviceArray([0.99999994, 1.        , 1.0000001 , 1.        , 1.        ,\n",
       "             0.99999994, 1.        , 1.0000001 , 1.        , 0.99999994,\n",
       "             0.99999994, 1.        , 0.9999999 , 1.        , 1.0000001 ,\n",
       "             0.9999999 , 1.        , 0.9999999 , 1.        , 1.        ,\n",
       "             0.9999999 , 1.0000001 , 1.0000001 , 1.        , 0.9999999 ,\n",
       "             1.        , 0.9999999 , 1.0000002 , 1.0000001 , 0.99999994,\n",
       "             1.        , 0.99999976, 1.0000001 , 1.        , 0.9999999 ,\n",
       "             0.99999976, 1.        , 1.0000001 , 1.0000002 , 1.0000001 ,\n",
       "             0.99999976, 1.0000004 , 0.99999976, 1.0000004 , 0.9999997 ,\n",
       "             1.0000002 , 1.0000005 , 1.        , 0.9999998 , 1.0000001 ,\n",
       "             1.0000002 , 0.99999964, 0.99999964, 1.        , 0.99999994,\n",
       "             1.0000002 , 0.9999996 , 0.99999976, 0.9999997 , 0.99999976,\n",
       "             1.0000002 , 0.99999964, 1.        , 1.0000004 , 1.        ,\n",
       "             0.99999976, 1.        , 1.0000004 , 0.99999946, 0.9999996 ,\n",
       "             1.0000005 , 1.        , 1.0000002 , 0.9999998 , 1.0000007 ,\n",
       "             1.0000002 , 1.000001  , 0.9999997 , 0.9999998 , 1.0000005 ,\n",
       "             1.0000007 , 1.        , 1.0000005 , 0.99999964, 0.9999997 ,\n",
       "             1.0000004 , 0.9999994 , 1.0000005 , 1.0000005 , 1.000001  ,\n",
       "             0.99999905, 0.99999976, 0.9999994 , 0.9999997 , 0.9999995 ,\n",
       "             0.99999976, 0.99999917, 0.9999998 , 0.99999976, 0.99999905],            dtype=float32)"
      ]
     },
     "execution_count": 189,
     "metadata": {},
     "output_type": "execute_result"
    }
   ],
   "source": [
    "Z = spsp.logsumexp(alphas, axis=1)\n",
    "np.sum(np.exp(alphas - Z[:, None]), axis=1)"
   ]
  }
 ],
 "metadata": {
  "kernelspec": {
   "display_name": "Python 3 (ipykernel)",
   "language": "python",
   "name": "python3"
  },
  "language_info": {
   "codemirror_mode": {
    "name": "ipython",
    "version": 3
   },
   "file_extension": ".py",
   "mimetype": "text/x-python",
   "name": "python",
   "nbconvert_exporter": "python",
   "pygments_lexer": "ipython3",
   "version": "3.9.12"
  }
 },
 "nbformat": 4,
 "nbformat_minor": 5
}
