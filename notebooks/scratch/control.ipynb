{
 "cells": [
  {
   "cell_type": "markdown",
   "metadata": {},
   "source": [
    "# LQR, iLQR, and MPC\n",
    "\n",
    "## A simple LQR problem\n",
    "Suppose we want to penalize difference from a target state and the magnitude of the input. We can write this as a linear-quadratic-regulator (LQR) problem as follows,\n",
    "\n",
    "\\begin{align}\n",
    "c(x, u) &= \\frac{1}{2} \\|x - x^\\star\\|_2^2 + \\frac{1}{2} \\rho \\|u\\|_2^2 \\\\\n",
    "        &= \\frac{1}{2} x^\\top x - x^\\top x^\\star + \\frac{1}{2} \\rho u^\\top u  + \\mathrm{const} \\\\\n",
    "        &= \\frac{1}{2} \n",
    "        \\begin{bmatrix} x & u \\end{bmatrix} \n",
    "        \\begin{bmatrix} Q & 0 \\\\ 0 & R \\end{bmatrix} \n",
    "        \\begin{bmatrix} x \\\\ u \\end{bmatrix}\n",
    "        + \n",
    "        \\begin{bmatrix} x & u \\end{bmatrix}\n",
    "        \\begin{bmatrix} q \\\\ r \\end{bmatrix} \n",
    "        + \\mathrm{const.}\n",
    "\\end{align}\n",
    "where $Q = I$, $q = -x^\\star$, and $R = \\rho I$. (Implicitly, $r = 0$ and $M=0$)\n"
   ]
  },
  {
   "cell_type": "code",
   "execution_count": 1,
   "metadata": {},
   "outputs": [],
   "source": [
    "import collections\n",
    "\n",
    "from jax import lax, grad, jacfwd, jacobian, vmap\n",
    "from jax.tree_util import tree_map\n",
    "import jax.numpy as np\n",
    "\n",
    "import matplotlib.pyplot as plt"
   ]
  },
  {
   "cell_type": "code",
   "execution_count": 2,
   "metadata": {},
   "outputs": [],
   "source": [
    "# Specifies a finite-horizon, time-varying LQR problem. Notation:\n",
    "#\n",
    "#   cost(t, x, u) = sum(\n",
    "#       0.5 * dot(x.T, Q[t], x) + dot(q[t], x) +\n",
    "#       0.5 * dot(u.T, R[t], u) + dot(r[t], u) +\n",
    "#       dot(x.T, M[t], u)\n",
    "#\n",
    "#   dynamics(t, x, u) = dot(A[t], x) + dot(B[t], u)\n",
    "#\n",
    "LqrSpec = collections.namedtuple('LqrSpec', 'Q q R r M A B')\n"
   ]
  },
  {
   "cell_type": "code",
   "execution_count": 3,
   "metadata": {},
   "outputs": [
    {
     "name": "stderr",
     "output_type": "stream",
     "text": [
      "WARNING:absl:No GPU/TPU found, falling back to CPU. (Set TF_CPP_MIN_LOG_LEVEL=0 and rerun for more info.)\n"
     ]
    }
   ],
   "source": [
    "A = np.eye(2)\n",
    "B = np.eye(2)\n",
    "Q = np.eye(2)\n",
    "xstar = np.array([1, 0.5]) #np.ones(2)\n",
    "q = - xstar\n",
    "rho = 100\n",
    "R = rho * np.eye(2)\n",
    "r = np.zeros(2)\n",
    "M = np.zeros((2, 2))\n",
    "\n",
    "T = 100\n",
    "lqr = vmap(lambda t: LqrSpec(Q, q, R, r, M, A, B))(np.arange(T))"
   ]
  },
  {
   "cell_type": "code",
   "execution_count": 4,
   "metadata": {},
   "outputs": [],
   "source": [
    "def trajectory(dynamics, inputs, initial_state):\n",
    "  \"\"\"\n",
    "  compute the (deterministic) trajectory given the\n",
    "  dynamics function, inputs, and initial state\n",
    "  \"\"\"\n",
    "  num_timesteps = len(inputs)\n",
    "  def step(state, args):\n",
    "    t, input = args\n",
    "    next_state = dynamics(t, state, input)\n",
    "    return next_state, state\n",
    "  \n",
    "  states, _ = lax.scan(step, initial_state, (np.arange(num_timesteps), inputs))\n",
    "  return states"
   ]
  },
  {
   "cell_type": "markdown",
   "metadata": {},
   "source": [
    "\n",
    "# LQR"
   ]
  },
  {
   "cell_type": "code",
   "execution_count": 5,
   "metadata": {},
   "outputs": [],
   "source": [
    "def lqr_solve(spec):\n",
    "  EPS = 1e-7\n",
    "  \n",
    "  def step(carry, spec):\n",
    "    P, p = carry\n",
    "    \n",
    "    Q, q, R, r, M, A, B = spec\n",
    "\n",
    "    AtP = A.T @ P\n",
    "    BtP = B.T @ P\n",
    "    G = R + BtP @ B\n",
    "    H = BtP @ A + M.T\n",
    "    h = r + B.T @ p\n",
    "    K = -np.linalg.solve(G + EPS * np.eye(G.shape[0]), H)\n",
    "    k = -np.linalg.solve(G + EPS * np.eye(G.shape[0]), h)\n",
    "    P = Q + AtP @ A + K.T @ H\n",
    "    p = q + A.T @ p + K.T @ h\n",
    "\n",
    "    return (P, p), (K, k)\n",
    "\n",
    "  _, (Ks, ks) = lax.scan(step, \n",
    "                         (np.zeros_like(spec.Q[-1]), np.zeros_like(spec.q[-1])),\n",
    "                         tree_map(lambda x: x[::-1], spec))\n",
    "\n",
    "  return Ks[::-1], ks[::-1]\n"
   ]
  },
  {
   "cell_type": "code",
   "execution_count": 6,
   "metadata": {},
   "outputs": [],
   "source": [
    "# test that it runs\n",
    "Ks, ks = lqr_solve(lqr)"
   ]
  },
  {
   "cell_type": "code",
   "execution_count": 7,
   "metadata": {},
   "outputs": [],
   "source": [
    "def lqr_predict(spec, initial_state):\n",
    "\n",
    "  coefs = lqr_solve(spec)\n",
    "\n",
    "  def step(state, args):\n",
    "    spec, (K, k) = args\n",
    "    A, B = spec.A, spec.B\n",
    "    input = K @ state + k\n",
    "    next_state = A @ state + B @ input\n",
    "    return next_state, (state, input)\n",
    "\n",
    "  final_state, (states, inputs) = lax.scan(step, initial_state, (spec, coefs))\n",
    "  \n",
    "  return np.row_stack([states, final_state]), inputs\n",
    "\n"
   ]
  },
  {
   "cell_type": "code",
   "execution_count": 8,
   "metadata": {},
   "outputs": [],
   "source": [
    "x, u = lqr_predict(lqr, np.zeros(2))"
   ]
  },
  {
   "cell_type": "code",
   "execution_count": 9,
   "metadata": {},
   "outputs": [
    {
     "data": {
      "text/plain": [
       "[<matplotlib.lines.Line2D at 0x7fa418265f10>]"
      ]
     },
     "execution_count": 9,
     "metadata": {},
     "output_type": "execute_result"
    },
    {
     "data": {
      "image/png": "[encoded data removed]",
      "text/plain": [
       "<Figure size 432x288 with 1 Axes>"
      ]
     },
     "metadata": {
      "needs_background": "light"
     },
     "output_type": "display_data"
    },
    {
     "data": {
      "image/png": "[encoded data removed]",
      "text/plain": [
       "<Figure size 432x288 with 1 Axes>"
      ]
     },
     "metadata": {
      "needs_background": "light"
     },
     "output_type": "display_data"
    },
    {
     "data": {
      "image/png": "[encoded data removed]",
      "text/plain": [
       "<Figure size 432x288 with 1 Axes>"
      ]
     },
     "metadata": {
      "needs_background": "light"
     },
     "output_type": "display_data"
    }
   ],
   "source": [
    "plt.plot(x[:, 0], x[:, 1], '-k.')\n",
    "plt.plot(xstar[0], xstar[1], 'r*')\n",
    "plt.xlim(0, 1)\n",
    "plt.ylim(0, 1)\n",
    "\n",
    "plt.figure()\n",
    "plt.plot(x[:, 0])\n",
    "plt.plot(x[:, 1], '--')\n",
    "\n",
    "plt.figure()\n",
    "plt.plot(u[:, 0])\n",
    "plt.plot(u[:, 1], '--')"
   ]
  },
  {
   "cell_type": "markdown",
   "metadata": {},
   "source": [
    "# OLD STUFF: iLQR"
   ]
  },
  {
   "cell_type": "code",
   "execution_count": 10,
   "metadata": {},
   "outputs": [
    {
     "ename": "AssertionError",
     "evalue": "Stop here",
     "output_type": "error",
     "traceback": [
      "\u001b[0;31m---------------------------------------------------------------------------\u001b[0m",
      "\u001b[0;31mAssertionError\u001b[0m                            Traceback (most recent call last)",
      "\u001b[0;32m/var/folders/03/7y894xkj7k7266681pht1hw40000gn/T/ipykernel_60196/4282373589.py\u001b[0m in \u001b[0;36m<module>\u001b[0;34m\u001b[0m\n\u001b[0;32m----> 1\u001b[0;31m \u001b[0;32massert\u001b[0m \u001b[0;32mFalse\u001b[0m\u001b[0;34m,\u001b[0m \u001b[0;34m\"Stop here\"\u001b[0m\u001b[0;34m\u001b[0m\u001b[0;34m\u001b[0m\u001b[0m\n\u001b[0m",
      "\u001b[0;31mAssertionError\u001b[0m: Stop here"
     ]
    }
   ],
   "source": [
    "assert False, \"Stop here\""
   ]
  },
  {
   "cell_type": "code",
   "execution_count": null,
   "metadata": {},
   "outputs": [],
   "source": [
    "# Specifies a general finite-horizon, time-varying control problem. Given cost\n",
    "# function `c`, transition function `f`, and initial state `x0`, the goal is to\n",
    "# compute:\n",
    "#\n",
    "#   argmin(lambda X, U: c(T, X[T]) + sum(c(t, X[t], U[t]) for t in range(T)))\n",
    "#\n",
    "# subject to the constraints that `X[0] == x0` and that:\n",
    "#\n",
    "#   all(X[t + 1] == f(X[t], U[t]) for t in range(T)) .\n",
    "#\n",
    "# The special case in which `c` is quadratic and `f` is linear is the\n",
    "# linear-quadratic regulator (LQR) problem, and can be specified explicitly\n",
    "# further below.\n",
    "#\n",
    "ControlSpec = collections.namedtuple(\n",
    "    'ControlSpec', 'cost dynamics horizon state_dim control_dim')\n"
   ]
  },
  {
   "cell_type": "code",
   "execution_count": null,
   "metadata": {},
   "outputs": [],
   "source": [
    "def make_lqr_approx(p):\n",
    "  T = p.horizon\n",
    "\n",
    "  def approx_timestep(t, x, u):\n",
    "    M = jacfwd(grad(p.cost, argnums=2), argnums=1)(t, x, u).T\n",
    "    Q = jacfwd(grad(p.cost, argnums=1), argnums=1)(t, x, u)\n",
    "    R = jacfwd(grad(p.cost, argnums=2), argnums=2)(t, x, u)\n",
    "    q, r = grad(p.cost, argnums=(1, 2))(t, x, u)\n",
    "    A, B = jacobian(p.dynamics, argnums=(1, 2))(t, x, u)\n",
    "    return Q, q, R, r, M, A, B\n",
    "\n",
    "  _approx = vmap(approx_timestep)\n",
    "\n",
    "  def approx(X, U):\n",
    "    assert X.shape[0] == T + 1 and U.shape[0] == T\n",
    "    U_pad = np.vstack((U, np.zeros((1,) + U.shape[1:])))\n",
    "    Q, q, R, r, M, A, B = _approx(np.arange(T + 1), X, U_pad)\n",
    "    return LqrSpec(Q, q, R[:T], r[:T], M[:T], A[:T], B[:T])\n",
    "\n",
    "  return approx\n",
    "\n",
    "\n",
    "def ilqr(iterations, p, x0, U):\n",
    "  assert x0.ndim == 1 and x0.shape[0] == p.state_dim, x0.shape\n",
    "  assert U.ndim > 0 and U.shape[0] == p.horizon, (U.shape, p.horizon)\n",
    "\n",
    "  lqr_approx = make_lqr_approx(p)\n",
    "\n",
    "  def loop(_, state):\n",
    "    X, U = state\n",
    "    p_lqr = lqr_approx(X, U)\n",
    "    dX, dU = lqr_predict(p_lqr, np.zeros_like(x0))\n",
    "    U = U + dU\n",
    "    X = trajectory(p.dynamics, U, X[0] + dX[0])\n",
    "    return X, U\n",
    "\n",
    "  X = trajectory(p.dynamics, U, x0)\n",
    "  return fori_loop(0, iterations, loop, (X, U))\n"
   ]
  },
  {
   "cell_type": "markdown",
   "metadata": {},
   "source": [
    "# MPC"
   ]
  },
  {
   "cell_type": "code",
   "execution_count": null,
   "metadata": {},
   "outputs": [],
   "source": [
    "\n",
    "\n",
    "def mpc_predict(solver, p, x0, U):\n",
    "  assert x0.ndim == 1 and x0.shape[0] == p.state_dim\n",
    "  T = p.horizon\n",
    "\n",
    "  def zero_padded_controls_window(U, t):\n",
    "    U_pad = np.vstack((U, np.zeros(U.shape)))\n",
    "    return lax.dynamic_slice_in_dim(U_pad, t, T, axis=0)\n",
    "\n",
    "  def loop(t, state):\n",
    "    cost = lambda t_, x, u: p.cost(t + t_, x, u)\n",
    "    dyns = lambda t_, x, u: p.dynamics(t + t_, x, u)\n",
    "\n",
    "    X, U = state\n",
    "    p_ = ControlSpec(cost, dyns, T, p.state_dim, p.control_dim)\n",
    "    xt = X[t]\n",
    "    U_rem = zero_padded_controls_window(U, t)\n",
    "    _, U_ = solver(p_, xt, U_rem)\n",
    "    ut = U_[0]\n",
    "    x = p.dynamics(t, xt, ut)\n",
    "    X = X.at[t + 1].set(x)\n",
    "    U = U.at[t].set(ut)\n",
    "    return X, U\n",
    "\n",
    "  X = np.zeros((T + 1, p.state_dim))\n",
    "  X = X.at[0].set(x0)\n",
    "  return fori_loop(0, T, loop, (X, U))"
   ]
  },
  {
   "cell_type": "code",
   "execution_count": null,
   "metadata": {},
   "outputs": [],
   "source": []
  }
 ],
 "metadata": {
  "interpreter": {
   "hash": "1c9b7abd99f812592e04518a2dddca5f7bc8ca20b74b8ad7e1b8422bf8e8c0a8"
  },
  "kernelspec": {
   "display_name": "Python 3.9.6 64-bit (conda)",
   "language": "python",
   "name": "python3"
  },
  "language_info": {
   "codemirror_mode": {
    "name": "ipython",
    "version": 3
   },
   "file_extension": ".py",
   "mimetype": "text/x-python",
   "name": "python",
   "nbconvert_exporter": "python",
   "pygments_lexer": "ipython3",
   "version": "3.9.6"
  },
  "orig_nbformat": 4
 },
 "nbformat": 4,
 "nbformat_minor": 2
}
