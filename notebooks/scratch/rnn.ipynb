{
 "cells": [
  {
   "cell_type": "code",
   "execution_count": 1,
   "id": "7ba29f67-5268-4e98-98bf-610e75bd13d2",
   "metadata": {},
   "outputs": [],
   "source": [
    "import tensorflow_probability.substrates.jax as tfp  # jax TFP\n",
    "import jax.random as jr\n",
    "tfd = tfp.distributions"
   ]
  },
  {
   "cell_type": "code",
   "execution_count": 3,
   "id": "2b9bfce0-05ca-456b-9eff-c9db11e874a0",
   "metadata": {},
   "outputs": [
    {
     "name": "stdout",
     "output_type": "stream",
     "text": [
      "DeviceArray(5., dtype=float32)\n",
      "DeviceArray(5., dtype=float32)\n",
      "DeviceArray(5., dtype=float32)\n"
     ]
    }
   ],
   "source": [
    "delta = tfd.Deterministic(loc=5)\n",
    "\n",
    "rng = jr.PRNGKey(0)\n",
    "for i in range(3):\n",
    "    rng, seed = jr.split(rng, 2)\n",
    "    print(repr(delta.sample(seed=seed)))"
   ]
  },
  {
   "cell_type": "code",
   "execution_count": 4,
   "id": "08a93a9e-bede-4628-9b4a-c884ea61108a",
   "metadata": {},
   "outputs": [],
   "source": [
    "from ssm.base import SSM"
   ]
  },
  {
   "cell_type": "code",
   "execution_count": 7,
   "id": "f85046f5-fa4f-4b3b-8eee-1c70db0a9829",
   "metadata": {},
   "outputs": [],
   "source": [
    "class DeterministicRNN(SSM):\n",
    "    def __init__(self, rnn_type=\"gru\"):\n",
    "        pass\n",
    "\n",
    "    def dynamics_distribution(self, state):\n",
    "        tfd.Deterministic(rnn_output)"
   ]
  },
  {
   "cell_type": "code",
   "execution_count": 8,
   "id": "63725bc0-dd61-468e-8741-aab682d1b650",
   "metadata": {},
   "outputs": [],
   "source": [
    "import flax.linen as nn\n",
    "import jax.numpy as np"
   ]
  },
  {
   "cell_type": "code",
   "execution_count": 45,
   "id": "096a608b-273d-4b59-b6e0-aacbe3f58d36",
   "metadata": {},
   "outputs": [],
   "source": [
    "# NOTE: no batching yet\n",
    "\n",
    "num_timesteps, obs_dim = 100, 10\n",
    "hidden_dim = 3\n",
    "\n",
    "seed = jr.PRNGKey(0)\n",
    "rngs = jr.split(seed, 3)\n",
    "\n",
    "# generate some data\n",
    "data = jr.normal(rngs[0], shape=(num_timesteps, obs_dim))\n",
    "\n",
    "# initialize a carry with no batch dim\n",
    "carry = nn.LSTMCell().initialize_carry(rngs[1], batch_dims=tuple(), size=hidden_dim)"
   ]
  },
  {
   "cell_type": "code",
   "execution_count": 46,
   "id": "67664222-8b69-495d-bed5-2caaf5e3e998",
   "metadata": {},
   "outputs": [],
   "source": [
    "# initialize our LSTM params using the carry and data\n",
    "initial_params = nn.LSTMCell().init(rngs[2], carry=carry, inputs=data)"
   ]
  },
  {
   "cell_type": "code",
   "execution_count": 47,
   "id": "07588d74-2d4f-4530-acc2-8abb08aeab7f",
   "metadata": {},
   "outputs": [],
   "source": [
    "# in functional formula, pass params of LSTM into this \"apply\" function\n",
    "last_carry, hs = nn.LSTMCell().apply(initial_params, carry, data)"
   ]
  },
  {
   "cell_type": "code",
   "execution_count": 48,
   "id": "c49f6575-18aa-40c6-a7f0-6685a0aa2343",
   "metadata": {},
   "outputs": [
    {
     "data": {
      "text/plain": [
       "(100, 10)"
      ]
     },
     "execution_count": 48,
     "metadata": {},
     "output_type": "execute_result"
    }
   ],
   "source": [
    "data.shape"
   ]
  },
  {
   "cell_type": "code",
   "execution_count": 56,
   "id": "0477d37c-342c-487f-a4d9-721ae034ae87",
   "metadata": {},
   "outputs": [
    {
     "name": "stdout",
     "output_type": "stream",
     "text": [
      "(10,)\n",
      "(3,)\n"
     ]
    }
   ],
   "source": [
    "print(data[0].shape)\n",
    "carry, h = nn.LSTMCell().apply(initial_params, carry, data[0])\n",
    "print(h.shape)"
   ]
  },
  {
   "cell_type": "code",
   "execution_count": 17,
   "id": "77c9b4e4-cb74-4c8f-bd07-4e05e9a9d64a",
   "metadata": {},
   "outputs": [
    {
     "name": "stdout",
     "output_type": "stream",
     "text": [
      "(100, 3) (100, 3)\n",
      "(100, 3)\n"
     ]
    }
   ],
   "source": [
    "print(last_carry[0].shape, last_carry[1].shape)\n",
    "print(hs.shape)"
   ]
  },
  {
   "cell_type": "code",
   "execution_count": 18,
   "id": "d88775c7-6054-47c6-bd75-8daf3b115c54",
   "metadata": {},
   "outputs": [
    {
     "data": {
      "text/plain": [
       "True"
      ]
     },
     "execution_count": 18,
     "metadata": {},
     "output_type": "execute_result"
    }
   ],
   "source": [
    "bool(np.all(carry[1] == h))"
   ]
  },
  {
   "cell_type": "code",
   "execution_count": 35,
   "id": "7835c0d1-3d7d-4fdc-aad9-e7a28b09b80a",
   "metadata": {},
   "outputs": [
    {
     "data": {
      "text/plain": [
       "(3,)"
      ]
     },
     "execution_count": 35,
     "metadata": {},
     "output_type": "execute_result"
    }
   ],
   "source": [
    "carry[1].shape"
   ]
  },
  {
   "cell_type": "code",
   "execution_count": 36,
   "id": "64f566a0-99f7-4f1b-8667-4e6de27bb29a",
   "metadata": {},
   "outputs": [],
   "source": [
    "carry, hs = nn.LSTMCell().apply(initial_params, carry, data[0])"
   ]
  },
  {
   "cell_type": "code",
   "execution_count": 41,
   "id": "bfcd7fc8-3d0d-4f3b-807a-66a3f958720a",
   "metadata": {},
   "outputs": [],
   "source": [
    "import jax\n",
    "scan_f = lambda carry, xs: nn.LSTMCell().apply(initial_params, carry, xs)\n",
    "last_carry, hs = jax.lax.scan(scan_f, carry, data)"
   ]
  },
  {
   "cell_type": "markdown",
   "id": "639bb3b2-d7df-4327-b1fa-bdbf6cb092da",
   "metadata": {},
   "source": [
    "# NOTE: no batching yet\n",
    "\n",
    "#### Reminder: keep in mind that matrices might be transposed from what you would expect (i.e. in TF)"
   ]
  },
  {
   "cell_type": "code",
   "execution_count": 61,
   "id": "87434733-9b9d-4813-a4de-69fc441bb48c",
   "metadata": {},
   "outputs": [
    {
     "name": "stdout",
     "output_type": "stream",
     "text": [
      "(100, 3)\n"
     ]
    }
   ],
   "source": [
    "def run_lstm(params, initial_state, data_over_time):\n",
    "    scan_f = lambda carry, xs: nn.LSTMCell().apply(params, carry, xs)\n",
    "    last_carry, hs = jax.lax.scan(scan_f, initial_state, data_over_time)\n",
    "    return hs\n",
    "\n",
    "\n",
    "num_timesteps, obs_dim = 100, 10\n",
    "hidden_dim = 3\n",
    "\n",
    "seed = jr.PRNGKey(0)\n",
    "rngs = jr.split(seed, 3)\n",
    "\n",
    "# generate some data\n",
    "data = jr.normal(rngs[0], shape=(num_timesteps, obs_dim))\n",
    "\n",
    "# initialize a carry with no batch dim\n",
    "initial_state = nn.LSTMCell().initialize_carry(rngs[1], batch_dims=tuple(), size=hidden_dim)\n",
    "\n",
    "# initialize our LSTM params using the carry and data\n",
    "initial_params = nn.LSTMCell().init(rngs[2], carry=initial_state, inputs=data)\n",
    "\n",
    "hs = run_lstm(initial_params, initial_state, data)\n",
    "print(hs.shape)"
   ]
  },
  {
   "cell_type": "markdown",
   "id": "3461f2db-01f8-4aef-8149-138e55662f67",
   "metadata": {},
   "source": [
    "# Now we batch"
   ]
  },
  {
   "cell_type": "code",
   "execution_count": 67,
   "id": "99b587e6-993d-41c2-a06b-683bf68cfc61",
   "metadata": {},
   "outputs": [
    {
     "name": "stdout",
     "output_type": "stream",
     "text": [
      "(5, 100, 3)\n"
     ]
    }
   ],
   "source": [
    "from jax import vmap\n",
    "\n",
    "batch_dim, num_timesteps, obs_dim = 5, 100, 10\n",
    "hidden_dim = 3\n",
    "\n",
    "seed = jr.PRNGKey(0)\n",
    "rngs = jr.split(seed, 3)\n",
    "\n",
    "# generate some data\n",
    "batched_data = jr.normal(rngs[0], shape=(batch_dim, num_timesteps, obs_dim))\n",
    "\n",
    "# initialize a carry with no batch dim\n",
    "initial_state = nn.LSTMCell().initialize_carry(rngs[1], batch_dims=tuple(), size=hidden_dim)\n",
    "\n",
    "# initialize our LSTM params using the carry and data\n",
    "initial_params = nn.LSTMCell().init(rngs[2], carry=initial_state, inputs=batched_data)\n",
    "\n",
    "hs = vmap(run_lstm, in_axes=(None, None, 0))(initial_params, initial_state, batched_data)\n",
    "print(hs.shape)"
   ]
  }
 ],
 "metadata": {
  "kernelspec": {
   "display_name": "Python 3 (ipykernel)",
   "language": "python",
   "name": "python3"
  },
  "language_info": {
   "codemirror_mode": {
    "name": "ipython",
    "version": 3
   },
   "file_extension": ".py",
   "mimetype": "text/x-python",
   "name": "python",
   "nbconvert_exporter": "python",
   "pygments_lexer": "ipython3",
   "version": "3.9.7"
  }
 },
 "nbformat": 4,
 "nbformat_minor": 5
}
