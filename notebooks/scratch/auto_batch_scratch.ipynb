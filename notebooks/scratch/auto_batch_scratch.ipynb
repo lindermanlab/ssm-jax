{
 "cells": [
  {
   "cell_type": "code",
   "execution_count": 469,
   "id": "7f21f1c3-b3ca-49ef-8db4-33d97f91cd66",
   "metadata": {},
   "outputs": [],
   "source": [
    "import jax\n",
    "import jax.numpy as np\n",
    "import jax.random as jr\n",
    "from jax import tree_util\n",
    "\n",
    "import inspect\n",
    "from functools import wraps, partial"
   ]
  },
  {
   "cell_type": "markdown",
   "id": "519df35a-5a9f-42fb-a28d-666415398143",
   "metadata": {},
   "source": [
    "## Auto Batch Scratch Notebook\n",
    "\n",
    "The `@auto_batch` decorator augments a function with the `_batched` keyword argument. By default, this argument is set to `False` (the function runs as explicitly written); however, by specifying `_batched=True` the function will run in vmapped mode (as specified by the `batched_args` defined in the decorator).\n",
    "\n",
    "This enables quick and syntactically minimal switching between batched and unbatched function behavior. Can we detect batching automatically though?"
   ]
  },
  {
   "cell_type": "code",
   "execution_count": 485,
   "id": "abfffeaa-7257-49cb-8b00-8a9d4feee50b",
   "metadata": {},
   "outputs": [],
   "source": [
    "def auto_batch(batched_args=(\"data\", \"posterior\", \"covariates\", \"metadata\", \"states\")):\n",
    "    \n",
    "    def auto_batch_decorator(f):\n",
    "        sig = inspect.signature(f)\n",
    "        @wraps(f)\n",
    "        def wrapper(*args, _batched=False, **kwargs):  # augment the function signature with _batched kwarg\n",
    "            \n",
    "            # Get the `dataset` argument\n",
    "            bound_args = sig.bind(*args, **kwargs)\n",
    "            bound_args.apply_defaults()\n",
    "\n",
    "            fixed_args = dict([(arg, val) for (arg, val) in bound_args.arguments.items() \n",
    "                               if arg not in batched_args])\n",
    "            batch_args = dict([(arg, val) for (arg, val) in bound_args.arguments.items() \n",
    "                               if arg in batched_args])\n",
    "            \n",
    "            f_partial = partial(f, **fixed_args)  # TODO: consider jax.tree_util.Partial?\n",
    "            \n",
    "            # TODO: can we automatically batch (as the decorator name suggests)?\n",
    "            # NOTE: can't do jax.lax.cond here because both branches need to run \n",
    "            # given the same args (which  won't work for us, since batched v. unbatched)\n",
    "            if _batched:\n",
    "                print(\"vmapping\")\n",
    "                return jax.vmap(f_partial)(**batch_args)\n",
    "            else:\n",
    "                print(\"atomic\")\n",
    "                return f_partial(**batch_args)\n",
    "            \n",
    "        # store this info inside the function object\n",
    "        wrapper.batched_args = batched_args\n",
    "            \n",
    "        return wrapper\n",
    "    return auto_batch_decorator"
   ]
  },
  {
   "cell_type": "code",
   "execution_count": 479,
   "id": "b3276228-3eea-48f7-8610-998fd7d55aa9",
   "metadata": {},
   "outputs": [],
   "source": [
    "# let's see it in action\n",
    "\n",
    "@auto_batch(batched_args=(\"x\", \"y\"))\n",
    "def f(x, y, z):\n",
    "    return np.dot(x, y) + z"
   ]
  },
  {
   "cell_type": "code",
   "execution_count": 480,
   "id": "536af4c5-cb7f-4e13-b334-2f9e397e26a1",
   "metadata": {},
   "outputs": [
    {
     "name": "stdout",
     "output_type": "stream",
     "text": [
      "True\n",
      "('x', 'y')\n"
     ]
    }
   ],
   "source": [
    "# check whether f has auto batching functionality\n",
    "\n",
    "print(hasattr(f, \"batched_args\"))\n",
    "print(f.batched_args)"
   ]
  },
  {
   "cell_type": "code",
   "execution_count": 481,
   "id": "ddeba021-a29a-4625-a4e3-2af15f802b6c",
   "metadata": {},
   "outputs": [
    {
     "name": "stdout",
     "output_type": "stream",
     "text": [
      "atomic\n",
      "(10,)\n"
     ]
    }
   ],
   "source": [
    "# atomic args\n",
    "\n",
    "x = x_batched[0]\n",
    "y = y_batched[0]\n",
    "z = np.ones((10,))\n",
    "\n",
    "print(f(x, y, z).shape)"
   ]
  },
  {
   "cell_type": "code",
   "execution_count": 482,
   "id": "6198d0a3-8051-431f-ba1a-b569c8f058ce",
   "metadata": {},
   "outputs": [
    {
     "name": "stdout",
     "output_type": "stream",
     "text": [
      "vmapping\n",
      "(32, 10)\n"
     ]
    }
   ],
   "source": [
    "#batched args\n",
    "\n",
    "x_batched = np.ones((32, 10))\n",
    "y_batched = np.zeros((32, 10))\n",
    "\n",
    "print(f(x_batched, y_batched, z, _batched=True).shape)"
   ]
  },
  {
   "cell_type": "markdown",
   "id": "1fc918bb-b6c9-44d4-8217-5cc52a653e21",
   "metadata": {},
   "source": [
    "#### what about jit?"
   ]
  },
  {
   "cell_type": "code",
   "execution_count": 483,
   "id": "50deb3fc-ecaf-4252-bccf-b693073833dc",
   "metadata": {},
   "outputs": [
    {
     "name": "stdout",
     "output_type": "stream",
     "text": [
      "atomic\n"
     ]
    }
   ],
   "source": [
    "jitted_f = jax.jit(partial(f, _batched=False))\n",
    "\n",
    "jitted_f(x, y, z)\n",
    "jitted_f(x, y, z)\n",
    "jitted_f(x, y, z);"
   ]
  },
  {
   "cell_type": "code",
   "execution_count": 484,
   "id": "a93f52cf-0981-46d9-b7f9-d0af1cecab19",
   "metadata": {},
   "outputs": [
    {
     "name": "stdout",
     "output_type": "stream",
     "text": [
      "vmapping\n"
     ]
    }
   ],
   "source": [
    "jitted_f_batched = jax.jit(partial(f, _batched=True))\n",
    "\n",
    "jitted_f_batched(x_batched, y_batched, z)\n",
    "jitted_f_batched(x_batched, y_batched, z)\n",
    "jitted_f_batched(x_batched, y_batched, z);"
   ]
  }
 ],
 "metadata": {
  "kernelspec": {
   "display_name": "Python 3 (ipykernel)",
   "language": "python",
   "name": "python3"
  },
  "language_info": {
   "codemirror_mode": {
    "name": "ipython",
    "version": 3
   },
   "file_extension": ".py",
   "mimetype": "text/x-python",
   "name": "python",
   "nbconvert_exporter": "python",
   "pygments_lexer": "ipython3",
   "version": "3.9.7"
  }
 },
 "nbformat": 4,
 "nbformat_minor": 5
}
