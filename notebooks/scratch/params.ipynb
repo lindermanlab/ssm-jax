{
 "cells": [
  {
   "cell_type": "code",
   "execution_count": 1,
   "id": "c6526687",
   "metadata": {},
   "outputs": [],
   "source": [
    "%load_ext autoreload\n",
    "%autoreload 2"
   ]
  },
  {
   "cell_type": "markdown",
   "id": "0f387ac4",
   "metadata": {},
   "source": [
    "# Scott testing NIW parameter_properties"
   ]
  },
  {
   "cell_type": "code",
   "execution_count": 3,
   "id": "3565ae98",
   "metadata": {},
   "outputs": [],
   "source": [
    "import jax\n",
    "import jax.numpy as np\n",
    "\n",
    "from ssm.distributions import NormalInverseWishart\n"
   ]
  },
  {
   "cell_type": "code",
   "execution_count": 4,
   "id": "48e1ab35",
   "metadata": {},
   "outputs": [
    {
     "name": "stderr",
     "output_type": "stream",
     "text": [
      "WARNING:absl:No GPU/TPU found, falling back to CPU. (Set TF_CPP_MIN_LOG_LEVEL=0 and rerun for more info.)\n"
     ]
    },
    {
     "data": {
      "text/plain": [
       "{'loc': ParameterProperties(event_ndims=1, event_ndims_tensor=1, shape_fn=<function ParameterProperties.<lambda> at 0x7fefca671040>, default_constraining_bijector_fn=<function _default_constraining_bijector_fn at 0x7fefca66ea60>, is_preferred=True, is_tensor=True, specifies_shape=False),\n",
       " 'mean_precision': ParameterProperties(event_ndims=0, event_ndims_tensor=0, shape_fn=<function ParameterProperties.<lambda> at 0x7fefca671040>, default_constraining_bijector_fn=<function NormalInverseWishart._parameter_properties.<locals>.<lambda> at 0x7fefc8b1b430>, is_preferred=True, is_tensor=True, specifies_shape=False),\n",
       " 'df': ParameterProperties(event_ndims=0, event_ndims_tensor=0, shape_fn=<function ParameterProperties.<lambda> at 0x7fefca671040>, default_constraining_bijector_fn=<function _default_constraining_bijector_fn at 0x7fefca66ea60>, is_preferred=True, is_tensor=True, specifies_shape=False),\n",
       " 'scale': ParameterProperties(event_ndims=2, event_ndims_tensor=2, shape_fn=<function NormalInverseWishart._parameter_properties.<locals>.<lambda> at 0x7fefcad9dd30>, default_constraining_bijector_fn=<function NormalInverseWishart._parameter_properties.<locals>.<lambda> at 0x7fefcad9ddc0>, is_preferred=True, is_tensor=True, specifies_shape=False)}"
      ]
     },
     "execution_count": 4,
     "metadata": {},
     "output_type": "execute_result"
    }
   ],
   "source": [
    "d = 3\n",
    "niw = NormalInverseWishart(np.zeros(d), 1.0, d+2., np.eye(d))\n",
    "niw.parameter_properties()"
   ]
  },
  {
   "cell_type": "code",
   "execution_count": 5,
   "id": "dab83921",
   "metadata": {},
   "outputs": [
    {
     "data": {
      "text/plain": [
       "{'loc': DeviceArray([0., 0., 0.], dtype=float32),\n",
       " 'mean_precision': DeviceArray(0.54132473, dtype=float32),\n",
       " 'df': DeviceArray(5., dtype=float32),\n",
       " 'scale': DeviceArray([0.5413246, 0.       , 0.       , 0.5413246, 0.5413246,\n",
       "              0.       ], dtype=float32)}"
      ]
     },
     "execution_count": 5,
     "metadata": {},
     "output_type": "execute_result"
    }
   ],
   "source": [
    "from ssm.utils import tfp_dist_to_unconst_params\n",
    "tfp_dist_to_unconst_params(niw)"
   ]
  },
  {
   "cell_type": "markdown",
   "id": "fb6cab24",
   "metadata": {},
   "source": [
    "# Collin\n"
   ]
  },
  {
   "cell_type": "code",
   "execution_count": 2,
   "id": "8768a894-e406-4554-83b1-3eb4cceba97f",
   "metadata": {},
   "outputs": [
    {
     "name": "stderr",
     "output_type": "stream",
     "text": [
      "/Users/collinschlager/miniforge3/envs/ssmjax/lib/python3.9/site-packages/jax/_src/lib/__init__.py:33: UserWarning: JAX on Mac ARM machines is experimental and minimally tested. Please see https://github.com/google/jax/issues/5501 in the event of problems.\n",
      "  warnings.warn(\"JAX on Mac ARM machines is experimental and minimally tested. \"\n",
      "/Users/collinschlager/miniforge3/envs/ssmjax/lib/python3.9/site-packages/jax/experimental/optimizers.py:28: FutureWarning: jax.experimental.optimizers is deprecated, import jax.example_libraries.optimizers instead\n",
      "  warnings.warn('jax.experimental.optimizers is deprecated, '\n"
     ]
    }
   ],
   "source": [
    "import jax\n",
    "import jax.numpy as np\n",
    "\n",
    "from flax.core.frozen_dict import freeze, FrozenDict\n",
    "from jax.flatten_util import ravel_pytree\n",
    "from jax.tree_util import register_pytree_node_class\n",
    "import jax.experimental.optimizers as optimizers\n",
    "from tqdm.auto import tqdm\n",
    "import copy\n",
    "\n",
    "from contextlib import contextmanager\n",
    "\n",
    "@register_pytree_node_class\n",
    "class Model:\n",
    "    def __init__(self, a=1.0, b=2.0, c=3.0):\n",
    "        self.a = a\n",
    "        self.b = b\n",
    "        self.c = c\n",
    "    \n",
    "    @property\n",
    "    def _hyperparameters(self):\n",
    "        return freeze(dict(c=self.c))\n",
    "    \n",
    "    @_hyperparameters.setter\n",
    "    def _hyperparameters(self, hyperparams):\n",
    "        self.c = hyperparams[\"c\"]\n",
    "        \n",
    "    @property\n",
    "    def _parameters(self):\n",
    "        return freeze(dict(a=self.a, b=self.b))\n",
    "    \n",
    "    @_parameters.setter\n",
    "    def _parameters(self, params):\n",
    "        self.a = params[\"a\"]\n",
    "        self.b = params[\"b\"]\n",
    "        \n",
    "    def tree_flatten(self):\n",
    "        children = (self._parameters, self._hyperparameters)\n",
    "        aux_data = None\n",
    "        return children, aux_data\n",
    "    \n",
    "    @classmethod\n",
    "    def tree_unflatten(cls, aux_data, children):\n",
    "        params, hypers = children\n",
    "        return cls(**params, c=hypers)\n",
    "    \n",
    "    @contextmanager\n",
    "    def inject(self, new_parameters):\n",
    "        old_parameters = copy.deepcopy(self._parameters)\n",
    "        self._parameters = new_parameters\n",
    "        yield self\n",
    "        self._parameters = old_parameters\n",
    "    \n",
    "    def loss(self, data):\n",
    "            return ((self.a - data[0])**2 + \n",
    "                    (self.b - data[1])**2 + \n",
    "                    (self.c - data[2])**2)        \n",
    "        \n",
    "    def fit(self, data):\n",
    "        \n",
    "        init_fn, update_fn, get_params = optimizers.adam(1e-3)\n",
    "        opt_state = init_fn(self._parameters)\n",
    "\n",
    "        def objective(params):\n",
    "            with self.inject(params):\n",
    "                return self.loss(data)\n",
    "        \n",
    "        @jax.jit\n",
    "        def step(idx, opt_state):\n",
    "            value, grads = jax.value_and_grad(objective)(get_params(opt_state))\n",
    "            opt_state = update_fn(idx, grads, opt_state)\n",
    "            return value, opt_state\n",
    "        \n",
    "        losses = []\n",
    "        for idx in tqdm(range(10000)):\n",
    "            value, opt_state = step(idx, opt_state)\n",
    "            losses.append(value)\n",
    "            \n",
    "        self._parameters = get_params(opt_state)\n",
    "        return losses"
   ]
  },
  {
   "cell_type": "code",
   "execution_count": 52,
   "id": "e2f813a0",
   "metadata": {},
   "outputs": [],
   "source": [
    "def tfp_dist_to_unconst_params(dist, dtype=np.float32):\n",
    "    \n",
    "    out = {}\n",
    "    parameter_properties = dist.parameter_properties(dtype)\n",
    "    \n",
    "    for parameter_key in dist.parameters:\n",
    "        param = dist.parameters[parameter_key]\n",
    "        if param is not None and parameter_key in parameter_properties:\n",
    "            prop = parameter_properties[parameter_key]\n",
    "            out[parameter_key] = prop.default_constraining_bijector_fn().inverse(param)\n",
    "        \n",
    "    return out\n",
    "\n",
    "def unconst_params_to_tfp_dist(dist_cls, unconstrained_parameters, dtype=np.float32):\n",
    "    \n",
    "    out = {}\n",
    "    parameter_properties = dist_cls.parameter_properties(dtype)\n",
    "    \n",
    "    for parameter_key in unconstrained_parameters:\n",
    "        param = unconstrained_parameters[parameter_key]\n",
    "        prop = parameter_properties[parameter_key]\n",
    "        out[parameter_key] = prop.default_constraining_bijector_fn().forward(param)\n",
    "        \n",
    "    return dist_cls(**out)"
   ]
  },
  {
   "cell_type": "code",
   "execution_count": 53,
   "id": "5d7cd58f",
   "metadata": {},
   "outputs": [],
   "source": [
    "import tensorflow_probability.substrates.jax as tfp\n",
    "dist = tfp.distributions.MultivariateNormalFullCovariance(loc=np.arange(5, dtype=np.float32), covariance_matrix=np.identity(5))\n",
    "\n",
    "unconstrained_params = tfp_dist_to_unconst_params(dist)\n",
    "dist = unconst_params_to_tfp_dist(tfp.distributions.MultivariateNormalFullCovariance, \n",
    "                                     unconstrained_params)"
   ]
  },
  {
   "cell_type": "code",
   "execution_count": 54,
   "id": "5445814c",
   "metadata": {},
   "outputs": [
    {
     "data": {
      "text/plain": [
       "{'loc': ParameterProperties(event_ndims=1, event_ndims_tensor=1, shape_fn=<function ParameterProperties.<lambda> at 0x11f670700>, default_constraining_bijector_fn=<function _default_constraining_bijector_fn at 0x11f670160>, is_preferred=True, is_tensor=True, specifies_shape=False),\n",
       " 'covariance_matrix': ParameterProperties(event_ndims=2, event_ndims_tensor=2, shape_fn=<function MultivariateNormalFullCovariance._parameter_properties.<locals>.<lambda> at 0x148425820>, default_constraining_bijector_fn=<function MultivariateNormalFullCovariance._parameter_properties.<locals>.<lambda> at 0x2b4d475e0>, is_preferred=True, is_tensor=True, specifies_shape=False)}"
      ]
     },
     "execution_count": 54,
     "metadata": {},
     "output_type": "execute_result"
    }
   ],
   "source": [
    "dist._parameter_properties(np.float32)"
   ]
  },
  {
   "cell_type": "code",
   "execution_count": 55,
   "id": "167b3b33",
   "metadata": {},
   "outputs": [
    {
     "data": {
      "text/plain": [
       "DeviceArray([0.5413246, 0.       , 0.       , 0.       , 0.       ,\n",
       "             0.5413246, 0.5413246, 0.       , 0.       , 0.       ,\n",
       "             0.       , 0.5413246, 0.5413246, 0.       , 0.       ],            dtype=float32)"
      ]
     },
     "execution_count": 55,
     "metadata": {},
     "output_type": "execute_result"
    }
   ],
   "source": [
    "bijector = dist._parameter_properties(np.float32)[\"covariance_matrix\"].default_constraining_bijector_fn()\n",
    "bijector.inverse(dist.parameters[\"covariance_matrix\"])"
   ]
  },
  {
   "cell_type": "code",
   "execution_count": 56,
   "id": "2d8b32f2",
   "metadata": {},
   "outputs": [
    {
     "name": "stdout",
     "output_type": "stream",
     "text": [
      "FrozenDict({\n",
      "    a: 1.0,\n",
      "    b: 2.0,\n",
      "})\n"
     ]
    },
    {
     "data": {
      "application/vnd.jupyter.widget-view+json": {
       "model_id": "610683dfd20d4cf9bda2b6ce3a5ab272",
       "version_major": 2,
       "version_minor": 0
      },
      "text/plain": [
       "  0%|          | 0/10000 [00:00<?, ?it/s]"
      ]
     },
     "metadata": {},
     "output_type": "display_data"
    },
    {
     "name": "stdout",
     "output_type": "stream",
     "text": [
      "FrozenDict({\n",
      "    a: DeviceArray(4.9999785, dtype=float32),\n",
      "    b: DeviceArray(9.645768, dtype=float32),\n",
      "})\n"
     ]
    },
    {
     "data": {
      "image/png": "[encoded data removed]",
      "text/plain": [
       "<Figure size 432x288 with 1 Axes>"
      ]
     },
     "metadata": {},
     "output_type": "display_data"
    }
   ],
   "source": [
    "model = Model()\n",
    "\n",
    "print(model._parameters)\n",
    "losses = model.fit(np.array([5., 10., 15.,]))\n",
    "print(model._parameters)\n",
    "\n",
    "import matplotlib.pyplot as plt\n",
    "plt.plot(losses)\n",
    "plt.show()"
   ]
  },
  {
   "cell_type": "code",
   "execution_count": 57,
   "id": "18ef1e89",
   "metadata": {},
   "outputs": [
    {
     "data": {
      "text/plain": [
       "<__main__.Model at 0x119cdb130>"
      ]
     },
     "execution_count": 57,
     "metadata": {},
     "output_type": "execute_result"
    }
   ],
   "source": [
    "@jax.jit\n",
    "def identity(model):\n",
    "    return model\n",
    "\n",
    "identity(model)"
   ]
  },
  {
   "cell_type": "code",
   "execution_count": 58,
   "id": "dc888a95",
   "metadata": {},
   "outputs": [
    {
     "data": {
      "text/plain": [
       "FrozenDict({\n",
       "    a: DeviceArray(4.9999785, dtype=float32),\n",
       "    b: DeviceArray(9.645768, dtype=float32),\n",
       "})"
      ]
     },
     "execution_count": 58,
     "metadata": {},
     "output_type": "execute_result"
    }
   ],
   "source": [
    "model._parameters"
   ]
  },
  {
   "cell_type": "code",
   "execution_count": 59,
   "id": "dd202d17",
   "metadata": {},
   "outputs": [
    {
     "data": {
      "text/plain": [
       "FrozenDict({\n",
       "    c: 3.0,\n",
       "})"
      ]
     },
     "execution_count": 59,
     "metadata": {},
     "output_type": "execute_result"
    }
   ],
   "source": [
    "model._hyperparameters"
   ]
  },
  {
   "cell_type": "code",
   "execution_count": 60,
   "id": "bb406894-2224-4450-be94-32c9ca34ebc7",
   "metadata": {},
   "outputs": [
    {
     "name": "stdout",
     "output_type": "stream",
     "text": [
      "[4.9999785 9.645768 ]\n"
     ]
    }
   ],
   "source": [
    "flattened, unflatten_fn = ravel_pytree(model._parameters)\n",
    "print(flattened)"
   ]
  },
  {
   "cell_type": "code",
   "execution_count": 61,
   "id": "2643f4d8",
   "metadata": {},
   "outputs": [
    {
     "name": "stdout",
     "output_type": "stream",
     "text": [
      "FrozenDict({\n",
      "    a: 1.0,\n",
      "    b: 2.0,\n",
      "})\n",
      "injected params in this scope:  FrozenDict({\n",
      "    a: 10.0,\n",
      "    b: 20.0,\n",
      "})\n",
      "old params are preserved:  FrozenDict({\n",
      "    a: 1.0,\n",
      "    b: 2.0,\n",
      "})\n"
     ]
    }
   ],
   "source": [
    "model = Model()\n",
    "\n",
    "print(model._parameters)\n",
    "\n",
    "with model.inject(new_parameters={\"a\": 10., \"b\": 20.}):\n",
    "    print(\"injected params in this scope: \", model._parameters)\n",
    "\n",
    "print(\"old params are preserved: \", model._parameters)"
   ]
  },
  {
   "cell_type": "markdown",
   "id": "d66b68c8-b49c-4b68-85e1-2aaf08d39800",
   "metadata": {},
   "source": [
    "# Testing with an HMM"
   ]
  },
  {
   "cell_type": "code",
   "execution_count": 3,
   "id": "03da6219-86c5-4df3-9901-c9245f14e250",
   "metadata": {},
   "outputs": [],
   "source": [
    "import jax.random as jr\n",
    "import jax.numpy as np\n",
    "import matplotlib.pyplot as plt\n",
    "from tensorflow_probability.substrates import jax as tfp\n",
    "\n",
    "from ssm.hmm import GaussianHMM\n",
    "from ssm.plots import gradient_cmap\n",
    "from ssm.utils import find_permutation\n",
    "import warnings\n",
    "\n",
    "import seaborn as sns\n",
    "sns.set_style(\"white\")\n",
    "sns.set_context(\"talk\")\n",
    "\n",
    "color_names = [\n",
    "    \"windows blue\",\n",
    "    \"red\",\n",
    "    \"amber\",\n",
    "    \"faded green\",\n",
    "    \"dusty purple\",\n",
    "    \"orange\"\n",
    "    ]\n",
    "\n",
    "colors = sns.xkcd_palette(color_names)\n",
    "cmap = gradient_cmap(colors)\n",
    "\n",
    "def plot_transition_matrix(transition_matrix):\n",
    "    plt.imshow(transition_matrix, vmin=0, vmax=1, cmap=\"Greys\")\n",
    "    plt.xlabel(\"next state\")\n",
    "    plt.ylabel(\"current state\")\n",
    "    plt.colorbar()\n",
    "    plt.show()\n",
    "    \n",
    "def compare_transition_matrix(true_matrix, test_matrix):\n",
    "    fig, axs = plt.subplots(1, 2)\n",
    "    out = axs[0].imshow(true_matrix, vmin=0, vmax=1, cmap=\"Greys\")\n",
    "    axs[1].imshow(test_matrix, vmin=0, vmax=1, cmap=\"Greys\")\n",
    "    axs[0].set_title(\"True Transition Matrix\")\n",
    "    axs[1].set_title(\"Test Transition Matrix\")\n",
    "    cax = fig.add_axes([axs[1].get_position().x1 + 0.07,\n",
    "                        axs[1].get_position().y0,\n",
    "                        0.02,\n",
    "                        axs[1].get_position().y1-axs[1].get_position().y0])\n",
    "    plt.colorbar(out, cax=cax)\n",
    "    plt.show()\n",
    "\n",
    "def plot_hmm_data(obs, states):\n",
    "    lim = 1.01 * abs(obs).max()\n",
    "    time_bins, obs_dim = obs.shape\n",
    "    plt.figure(figsize=(8, 3))\n",
    "    plt.imshow(states[None,:],\n",
    "            aspect=\"auto\",\n",
    "            cmap=cmap,\n",
    "            vmin=0,\n",
    "            vmax=len(colors)-1,\n",
    "            extent=(0, time_bins, -lim, (obs_dim)*lim))\n",
    "\n",
    "    for d in range(obs_dim):\n",
    "        plt.plot(obs[:,d] + lim * d, '-k')\n",
    "\n",
    "    plt.xlim(0, time_bins)\n",
    "    plt.xlabel(\"time\")\n",
    "    plt.yticks(lim * np.arange(obs_dim), [\"$x_{}$\".format(d+1) for d in range(obs_dim)])\n",
    "\n",
    "    plt.title(\"Simulated data from an HMM\")\n",
    "\n",
    "    plt.tight_layout()\n",
    "    \n",
    "def plot_posterior_states(Ez, states, perm):\n",
    "    plt.figure(figsize=(20, 2))\n",
    "    plt.imshow(Ez.T[perm], aspect=\"auto\", interpolation=\"none\", cmap=\"Greys\")\n",
    "    plt.plot(states, label=\"True State\")\n",
    "    plt.plot(Ez.T[perm].argmax(axis=0), '--', label=\"Predicted State\")\n",
    "    plt.xlabel(\"time\")\n",
    "    plt.ylabel(\"latent state\")\n",
    "    plt.legend(bbox_to_anchor=(1,1))\n",
    "    plt.title(\"Predicted vs. Ground Truth Latent State\")\n",
    "    plt.show()"
   ]
  },
  {
   "cell_type": "code",
   "execution_count": 4,
   "id": "1cebcd07-2b6e-49a2-9643-c5de2cdb1daf",
   "metadata": {},
   "outputs": [
    {
     "name": "stderr",
     "output_type": "stream",
     "text": [
      "WARNING:absl:No GPU/TPU found, falling back to CPU. (Set TF_CPP_MIN_LOG_LEVEL=0 and rerun for more info.)\n"
     ]
    },
    {
     "data": {
      "image/png": "[encoded data removed]",
      "text/plain": [
       "<Figure size 432x288 with 2 Axes>"
      ]
     },
     "metadata": {},
     "output_type": "display_data"
    },
    {
     "data": {
      "image/png": "[encoded data removed]",
      "text/plain": [
       "<Figure size 576x216 with 1 Axes>"
      ]
     },
     "metadata": {},
     "output_type": "display_data"
    }
   ],
   "source": [
    "# define some parameters\n",
    "num_states = 3\n",
    "num_emission_dims = 2\n",
    "\n",
    "transition_matrix = 0.9 * np.eye(num_states) \\\n",
    "                    + 0.1 * np.roll(np.eye(num_states), 1, axis=1)\n",
    "\n",
    "emission_means = np.arange(6, dtype=float).reshape((3, 2)) - 3\n",
    "emission_covariance=0.25**2 * np.eye(num_emission_dims)\n",
    "\n",
    "# create the model\n",
    "true_hmm = GaussianHMM(\n",
    "    num_states=num_states,\n",
    "    num_emission_dims=num_emission_dims,\n",
    "    transition_matrix=transition_matrix,\n",
    "    emission_means=emission_means,\n",
    "    emission_covariances=emission_covariance)\n",
    "\n",
    "# sample latent states, observations (data) from the model\n",
    "num_timesteps = 1000\n",
    "states, data = true_hmm.sample(jr.PRNGKey(0), num_timesteps, num_samples=32)\n",
    "\n",
    "# view the sampled data\n",
    "plot_transition_matrix(transition_matrix)\n",
    "plot_hmm_data(data[0], states[0])"
   ]
  },
  {
   "cell_type": "code",
   "execution_count": 5,
   "id": "00555555",
   "metadata": {},
   "outputs": [
    {
     "data": {
      "text/plain": [
       "FrozenDict({\n",
       "    initial_condition: {\n",
       "        logits: DeviceArray([-1.0986123, -1.0986123, -1.0986123], dtype=float32),\n",
       "    },\n",
       "    transitions: {\n",
       "        logits: DeviceArray([[-0.10536055, -2.3025851 ,        -inf],\n",
       "                     [       -inf, -0.10536055, -2.3025851 ],\n",
       "                     [-2.3025851 ,        -inf, -0.10536055]], dtype=float32),\n",
       "    },\n",
       "    emissions: {\n",
       "        loc: DeviceArray([[-3., -2.],\n",
       "                     [-1.,  0.],\n",
       "                     [ 1.,  2.]], dtype=float32),\n",
       "        covariance_matrix: DeviceArray([-1.2586921,  0.       , -1.2586921], dtype=float32),\n",
       "    },\n",
       "})"
      ]
     },
     "execution_count": 5,
     "metadata": {},
     "output_type": "execute_result"
    }
   ],
   "source": [
    "true_hmm._parameters"
   ]
  },
  {
   "cell_type": "code",
   "execution_count": 6,
   "id": "8cfc4f56-1101-4189-9052-1e80cd59796c",
   "metadata": {},
   "outputs": [],
   "source": [
    "# we initialize a random HMM which we will fit to our data\n",
    "seed = jr.PRNGKey(3)\n",
    "num_states_est = 3\n",
    "\n",
    "test_hmm = GaussianHMM(num_states=num_states, num_emission_dims=num_emission_dims, seed=seed)"
   ]
  },
  {
   "cell_type": "code",
   "execution_count": 7,
   "id": "f3beef06-10d6-4b42-95e2-b32039321180",
   "metadata": {},
   "outputs": [
    {
     "data": {
      "text/plain": [
       "<tfp.distributions.StationaryHMMPosterior 'HMMPosterior' batch_shape=[32] event_shape=? dtype=int32>"
      ]
     },
     "execution_count": 7,
     "metadata": {},
     "output_type": "execute_result"
    }
   ],
   "source": [
    "posterior = test_hmm.e_step(data)\n",
    "posterior"
   ]
  },
  {
   "cell_type": "code",
   "execution_count": 18,
   "id": "811bde2d-fd1c-49f5-8312-6bcdf50b9ae1",
   "metadata": {},
   "outputs": [
    {
     "data": {
      "text/plain": [
       "DeviceArray([[1.0333455 , 0.        ],\n",
       "             [0.97259057, 0.34961808]], dtype=float32)"
      ]
     },
     "execution_count": 18,
     "metadata": {},
     "output_type": "execute_result"
    }
   ],
   "source": [
    "np.linalg.cholesky(test_hmm._emissions._distribution.covariance()[0])"
   ]
  },
  {
   "cell_type": "code",
   "execution_count": 14,
   "id": "246e6cf1-3373-43dc-bf2c-c2febbb6eba4",
   "metadata": {},
   "outputs": [
    {
     "data": {
      "text/plain": [
       "DeviceArray(0.34991822, dtype=float32, weak_type=True)"
      ]
     },
     "execution_count": 14,
     "metadata": {},
     "output_type": "execute_result"
    }
   ],
   "source": [
    "import jax.numpy as np\n",
    "np.log(1+np.exp(-0.87))"
   ]
  },
  {
   "cell_type": "code",
   "execution_count": 16,
   "id": "13a6b078-7d2c-4865-81c2-13ee0dfadced",
   "metadata": {},
   "outputs": [
    {
     "data": {
      "text/plain": [
       "FrozenDict({\n",
       "    initial_condition: {\n",
       "        logits: DeviceArray([-1.0986123, -1.0986123, -1.0986123], dtype=float32),\n",
       "    },\n",
       "    transitions: {\n",
       "        logits: DeviceArray([[-1.0986123, -1.0986123, -1.0986123],\n",
       "                     [-1.0986123, -1.0986123, -1.0986123],\n",
       "                     [-1.0986123, -1.0986123, -1.0986123]], dtype=float32),\n",
       "    },\n",
       "    emissions: {\n",
       "        loc: DeviceArray([[-2.2541678 , -1.2616155 ],\n",
       "                     [ 0.08006163,  1.1005621 ],\n",
       "                     [ 0.62988824,  1.6223618 ]], dtype=float32),\n",
       "        covariance_matrix: DeviceArray([[-0.87101793,  0.97259057,  0.59357655],\n",
       "                     [-0.87707996,  1.0218536 ,  0.66431636],\n",
       "                     [-0.8861998 ,  0.7564916 ,  0.2588965 ]], dtype=float32),\n",
       "    },\n",
       "})"
      ]
     },
     "execution_count": 16,
     "metadata": {},
     "output_type": "execute_result"
    }
   ],
   "source": [
    "test_hmm._parameters"
   ]
  },
  {
   "cell_type": "code",
   "execution_count": 19,
   "id": "ec521faf-132f-41f5-9d00-bc50f3e031ea",
   "metadata": {},
   "outputs": [],
   "source": [
    "test_hmm._emissions.generic_m_step(data, posterior)"
   ]
  },
  {
   "cell_type": "code",
   "execution_count": 9,
   "id": "b42bf222-09ad-4fc4-8c45-9772ca494c83",
   "metadata": {},
   "outputs": [
    {
     "data": {
      "text/plain": [
       "FrozenDict({\n",
       "    initial_condition: {\n",
       "        logits: DeviceArray([-1.0986123, -1.0986123, -1.0986123], dtype=float32),\n",
       "    },\n",
       "    transitions: {\n",
       "        logits: DeviceArray([[-1.0986123, -1.0986123, -1.0986123],\n",
       "                     [-1.0986123, -1.0986123, -1.0986123],\n",
       "                     [-1.0986123, -1.0986123, -1.0986123]], dtype=float32),\n",
       "    },\n",
       "    emissions: {\n",
       "        loc: DeviceArray([[-2.2541678 , -1.2616155 ],\n",
       "                     [ 0.08006163,  1.1005621 ],\n",
       "                     [ 0.62988824,  1.6223618 ]], dtype=float32),\n",
       "        covariance_matrix: DeviceArray([[-0.87101793,  0.97259057,  0.59357655],\n",
       "                     [-0.87707996,  1.0218536 ,  0.66431636],\n",
       "                     [-0.8861998 ,  0.7564916 ,  0.2588965 ]], dtype=float32),\n",
       "    },\n",
       "})"
      ]
     },
     "execution_count": 9,
     "metadata": {},
     "output_type": "execute_result"
    }
   ],
   "source": [
    "test_hmm._parameters"
   ]
  },
  {
   "cell_type": "code",
   "execution_count": 40,
   "id": "064d4dfe-b6f7-4eec-a843-e55a3c03cfa2",
   "metadata": {},
   "outputs": [
    {
     "data": {
      "text/plain": [
       "DeviceArray(-4135.6357, dtype=float32)"
      ]
     },
     "execution_count": 40,
     "metadata": {},
     "output_type": "execute_result"
    }
   ],
   "source": [
    "test_hmm.marginal_likelihood(data).mean()"
   ]
  },
  {
   "cell_type": "code",
   "execution_count": 41,
   "id": "263b7390-ec21-4891-ad1a-8c943be06c79",
   "metadata": {},
   "outputs": [
    {
     "data": {
      "application/vnd.jupyter.widget-view+json": {
       "model_id": "62160937f8e24bdaa2a2f41c0bb22224",
       "version_major": 2,
       "version_minor": 0
      },
      "text/plain": [
       "  0%|          | 0/5000 [00:00<?, ?it/s]"
      ]
     },
     "metadata": {},
     "output_type": "display_data"
    }
   ],
   "source": [
    "from jax.experimental.optimizers import adam\n",
    "from jax import jit, value_and_grad\n",
    "\n",
    "opt = adam(1e-3)\n",
    "opt_state = opt.init_fn(test_hmm._parameters)\n",
    "\n",
    "def loss_with_inject(parameters):\n",
    "    with test_hmm.inject(parameters):\n",
    "        lp = test_hmm.marginal_likelihood(data).mean()\n",
    "    return -1 * lp\n",
    "\n",
    "def loss_no_inject(parameters):\n",
    "    # with test_hmm.inject(parameters):\n",
    "    test_hmm._parameters = parameters\n",
    "    lp = test_hmm.marginal_likelihood(data).mean()\n",
    "    return -1 * lp\n",
    "\n",
    "@jit\n",
    "def update(step_idx, opt_state):\n",
    "    # f = value_and_grad(loss_with_inject)\n",
    "    f = value_and_grad(loss_no_inject)\n",
    "    neg_lp, grads = f(opt.params_fn(opt_state))\n",
    "    opt_state = opt.update_fn(step_idx, grads, opt_state)\n",
    "    return opt_state, -1 * neg_lp\n",
    "\n",
    "from tqdm.auto import trange\n",
    "\n",
    "lps = []\n",
    "for i in trange(5000):\n",
    "    opt_state, lp = update(i, opt_state)\n",
    "    lps.append(lp)"
   ]
  },
  {
   "cell_type": "code",
   "execution_count": 43,
   "id": "ee68241a-36e6-4b24-b2c9-3922eec00150",
   "metadata": {},
   "outputs": [
    {
     "data": {
      "image/png": "[encoded data removed]",
      "text/plain": [
       "<Figure size 432x288 with 1 Axes>"
      ]
     },
     "metadata": {},
     "output_type": "display_data"
    }
   ],
   "source": [
    "plt.plot(lps)\n",
    "plt.show()"
   ]
  },
  {
   "cell_type": "code",
   "execution_count": 44,
   "id": "c258c6bd-4f88-40ad-b957-8aca45606e99",
   "metadata": {},
   "outputs": [
    {
     "data": {
      "image/png": "[encoded data removed]",
      "text/plain": [
       "<Figure size 432x288 with 1 Axes>"
      ]
     },
     "metadata": {},
     "output_type": "display_data"
    }
   ],
   "source": [
    "plt.plot(lps)\n",
    "plt.show()"
   ]
  },
  {
   "cell_type": "code",
   "execution_count": 28,
   "id": "1bff724c-5d41-452b-a662-bb98b463db80",
   "metadata": {},
   "outputs": [],
   "source": [
    "fitted_params = opt.params_fn(opt_state)"
   ]
  },
  {
   "cell_type": "code",
   "execution_count": 29,
   "id": "aa127f70-783f-4cc1-99b9-1a04e2a1a490",
   "metadata": {},
   "outputs": [],
   "source": [
    "fitted_hmm = test_hmm\n",
    "fitted_hmm._parameters = fitted_params"
   ]
  },
  {
   "cell_type": "markdown",
   "id": "68c0bbf8-45f9-4ab0-bdc6-e518fd908d51",
   "metadata": {},
   "source": [
    "### Let's inspect the fitted model"
   ]
  },
  {
   "cell_type": "code",
   "execution_count": 45,
   "id": "005c384a-0f09-4c7d-8d0a-25ed25b8b401",
   "metadata": {},
   "outputs": [
    {
     "ename": "UnexpectedTracerError",
     "evalue": "Encountered an unexpected tracer. A function transformed by JAX had a side effect, allowing for a reference to an intermediate value with shape (3, 3) and dtype float32 to escape.\nJAX transformations require that functions explicitly return their outputs, and disallow saving intermediate values to global state.\nTo catch the leak earlier, try setting the environment variable JAX_CHECK_TRACER_LEAKS or using the `jax.checking_leaks` context manager.Detail: Can't lift sublevels 1 to 0\nSee https://jax.readthedocs.io/en/latest/errors.html#jax.errors.UnexpectedTracerError",
     "output_type": "error",
     "traceback": [
      "\u001b[0;31m---------------------------------------------------------------------------\u001b[0m",
      "\u001b[0;31mUnexpectedTracerError\u001b[0m                     Traceback (most recent call last)",
      "Input \u001b[0;32mIn [45]\u001b[0m, in \u001b[0;36m<module>\u001b[0;34m\u001b[0m\n\u001b[1;32m      1\u001b[0m \u001b[38;5;66;03m# Here, we compare the true and inferred transition matrix\u001b[39;00m\n\u001b[0;32m----> 2\u001b[0m compare_transition_matrix(true_hmm\u001b[38;5;241m.\u001b[39mtransition_matrix, \u001b[43mfitted_hmm\u001b[49m\u001b[38;5;241;43m.\u001b[39;49m\u001b[43mtransition_matrix\u001b[49m)\n",
      "File \u001b[0;32m~/Code/ssm-jax-refactor/ssm/hmm/base.py:50\u001b[0m, in \u001b[0;36mHMM.transition_matrix\u001b[0;34m(self)\u001b[0m\n\u001b[1;32m     48\u001b[0m \u001b[38;5;129m@property\u001b[39m\n\u001b[1;32m     49\u001b[0m \u001b[38;5;28;01mdef\u001b[39;00m \u001b[38;5;21mtransition_matrix\u001b[39m(\u001b[38;5;28mself\u001b[39m):\n\u001b[0;32m---> 50\u001b[0m     \u001b[38;5;28;01mreturn\u001b[39;00m \u001b[38;5;28;43mself\u001b[39;49m\u001b[38;5;241;43m.\u001b[39;49m\u001b[43m_transitions\u001b[49m\u001b[38;5;241;43m.\u001b[39;49m\u001b[43mtransition_matrix\u001b[49m\n",
      "File \u001b[0;32m~/Code/ssm-jax-refactor/ssm/hmm/transitions.py:148\u001b[0m, in \u001b[0;36mStationaryTransitions.transition_matrix\u001b[0;34m(self)\u001b[0m\n\u001b[1;32m    146\u001b[0m \u001b[38;5;129m@property\u001b[39m\n\u001b[1;32m    147\u001b[0m \u001b[38;5;28;01mdef\u001b[39;00m \u001b[38;5;21mtransition_matrix\u001b[39m(\u001b[38;5;28mself\u001b[39m):\n\u001b[0;32m--> 148\u001b[0m     \u001b[38;5;28;01mreturn\u001b[39;00m \u001b[38;5;28;43mself\u001b[39;49m\u001b[38;5;241;43m.\u001b[39;49m\u001b[43m_distribution\u001b[49m\u001b[38;5;241;43m.\u001b[39;49m\u001b[43mprobs_parameter\u001b[49m\u001b[43m(\u001b[49m\u001b[43m)\u001b[49m\n",
      "File \u001b[0;32m~/miniforge3/envs/ssmjax/lib/python3.9/site-packages/tensorflow_probability/substrates/jax/distributions/categorical.py:339\u001b[0m, in \u001b[0;36mCategorical.probs_parameter\u001b[0;34m(self, name)\u001b[0m\n\u001b[1;32m    337\u001b[0m \u001b[38;5;124;03m\"\"\"Probs vec computed from non-`None` input arg (`probs` or `logits`).\"\"\"\u001b[39;00m\n\u001b[1;32m    338\u001b[0m \u001b[38;5;28;01mwith\u001b[39;00m \u001b[38;5;28mself\u001b[39m\u001b[38;5;241m.\u001b[39m_name_and_control_scope(name \u001b[38;5;129;01mor\u001b[39;00m \u001b[38;5;124m'\u001b[39m\u001b[38;5;124mprobs_parameter\u001b[39m\u001b[38;5;124m'\u001b[39m):\n\u001b[0;32m--> 339\u001b[0m   \u001b[38;5;28;01mreturn\u001b[39;00m \u001b[38;5;28;43mself\u001b[39;49m\u001b[38;5;241;43m.\u001b[39;49m\u001b[43m_probs_parameter_no_checks\u001b[49m\u001b[43m(\u001b[49m\u001b[43m)\u001b[49m\n",
      "File \u001b[0;32m~/miniforge3/envs/ssmjax/lib/python3.9/site-packages/tensorflow_probability/substrates/jax/distributions/categorical.py:344\u001b[0m, in \u001b[0;36mCategorical._probs_parameter_no_checks\u001b[0;34m(self)\u001b[0m\n\u001b[1;32m    342\u001b[0m \u001b[38;5;28;01mif\u001b[39;00m \u001b[38;5;28mself\u001b[39m\u001b[38;5;241m.\u001b[39m_logits \u001b[38;5;129;01mis\u001b[39;00m \u001b[38;5;28;01mNone\u001b[39;00m:\n\u001b[1;32m    343\u001b[0m   \u001b[38;5;28;01mreturn\u001b[39;00m tensor_util\u001b[38;5;241m.\u001b[39midentity_as_tensor(\u001b[38;5;28mself\u001b[39m\u001b[38;5;241m.\u001b[39m_probs)\n\u001b[0;32m--> 344\u001b[0m \u001b[38;5;28;01mreturn\u001b[39;00m \u001b[43mtf\u001b[49m\u001b[38;5;241;43m.\u001b[39;49m\u001b[43mmath\u001b[49m\u001b[38;5;241;43m.\u001b[39;49m\u001b[43msoftmax\u001b[49m\u001b[43m(\u001b[49m\u001b[38;5;28;43mself\u001b[39;49m\u001b[38;5;241;43m.\u001b[39;49m\u001b[43m_logits\u001b[49m\u001b[43m)\u001b[49m\n",
      "File \u001b[0;32m~/miniforge3/envs/ssmjax/lib/python3.9/site-packages/tensorflow_probability/python/internal/backend/jax/numpy_math.py:352\u001b[0m, in \u001b[0;36m_softmax\u001b[0;34m(logits, axis, name)\u001b[0m\n\u001b[1;32m    350\u001b[0m logits \u001b[38;5;241m=\u001b[39m _convert_to_tensor(logits)\n\u001b[1;32m    351\u001b[0m axis \u001b[38;5;241m=\u001b[39m \u001b[38;5;241m-\u001b[39m\u001b[38;5;241m1\u001b[39m \u001b[38;5;28;01mif\u001b[39;00m axis \u001b[38;5;129;01mis\u001b[39;00m \u001b[38;5;28;01mNone\u001b[39;00m \u001b[38;5;28;01melse\u001b[39;00m axis\n\u001b[0;32m--> 352\u001b[0m y \u001b[38;5;241m=\u001b[39m logits \u001b[38;5;241m-\u001b[39m \u001b[43m_max_mask_non_finite\u001b[49m\u001b[43m(\u001b[49m\u001b[43mlogits\u001b[49m\u001b[43m,\u001b[49m\u001b[43m \u001b[49m\u001b[43maxis\u001b[49m\u001b[38;5;241;43m=\u001b[39;49m\u001b[43maxis\u001b[49m\u001b[43m,\u001b[49m\u001b[43m \u001b[49m\u001b[43mkeepdims\u001b[49m\u001b[38;5;241;43m=\u001b[39;49m\u001b[38;5;28;43;01mTrue\u001b[39;49;00m\u001b[43m)\u001b[49m\n\u001b[1;32m    353\u001b[0m y \u001b[38;5;241m=\u001b[39m np\u001b[38;5;241m.\u001b[39mexp(y)\n\u001b[1;32m    354\u001b[0m y \u001b[38;5;241m=\u001b[39m y \u001b[38;5;241m/\u001b[39m np\u001b[38;5;241m.\u001b[39msum(y, axis\u001b[38;5;241m=\u001b[39m_astuple(axis), keepdims\u001b[38;5;241m=\u001b[39m\u001b[38;5;28;01mTrue\u001b[39;00m)\n",
      "File \u001b[0;32m~/miniforge3/envs/ssmjax/lib/python3.9/site-packages/tensorflow_probability/python/internal/backend/jax/numpy_math.py:287\u001b[0m, in \u001b[0;36m_max_mask_non_finite\u001b[0;34m(x, axis, keepdims, mask)\u001b[0m\n\u001b[1;32m    285\u001b[0m \u001b[38;5;124;03m\"\"\"Returns `max` or `mask` if `max` is not finite.\"\"\"\u001b[39;00m\n\u001b[1;32m    286\u001b[0m x \u001b[38;5;241m=\u001b[39m _convert_to_tensor(x)\n\u001b[0;32m--> 287\u001b[0m m \u001b[38;5;241m=\u001b[39m \u001b[43mnp\u001b[49m\u001b[38;5;241;43m.\u001b[39;49m\u001b[43mmax\u001b[49m\u001b[43m(\u001b[49m\u001b[43mx\u001b[49m\u001b[43m,\u001b[49m\u001b[43m \u001b[49m\u001b[43maxis\u001b[49m\u001b[38;5;241;43m=\u001b[39;49m\u001b[43m_astuple\u001b[49m\u001b[43m(\u001b[49m\u001b[43maxis\u001b[49m\u001b[43m)\u001b[49m\u001b[43m,\u001b[49m\u001b[43m \u001b[49m\u001b[43mkeepdims\u001b[49m\u001b[38;5;241;43m=\u001b[39;49m\u001b[43mkeepdims\u001b[49m\u001b[43m)\u001b[49m\n\u001b[1;32m    288\u001b[0m needs_masking \u001b[38;5;241m=\u001b[39m \u001b[38;5;241m~\u001b[39mnp\u001b[38;5;241m.\u001b[39misfinite(m)\n\u001b[1;32m    289\u001b[0m \u001b[38;5;28;01mif\u001b[39;00m needs_masking\u001b[38;5;241m.\u001b[39mndim \u001b[38;5;241m>\u001b[39m \u001b[38;5;241m0\u001b[39m:\n",
      "File \u001b[0;32m~/miniforge3/envs/ssmjax/lib/python3.9/site-packages/jax/_src/numpy/lax_numpy.py:2597\u001b[0m, in \u001b[0;36mmax\u001b[0;34m(a, axis, out, keepdims, initial, where)\u001b[0m\n\u001b[1;32m   2594\u001b[0m \u001b[38;5;129m@_wraps\u001b[39m(np\u001b[38;5;241m.\u001b[39mmax, skip_params\u001b[38;5;241m=\u001b[39m[\u001b[38;5;124m'\u001b[39m\u001b[38;5;124mout\u001b[39m\u001b[38;5;124m'\u001b[39m])\n\u001b[1;32m   2595\u001b[0m \u001b[38;5;28;01mdef\u001b[39;00m \u001b[38;5;21mmax\u001b[39m(a, axis: Optional[Union[\u001b[38;5;28mint\u001b[39m, Tuple[\u001b[38;5;28mint\u001b[39m, \u001b[38;5;241m.\u001b[39m\u001b[38;5;241m.\u001b[39m\u001b[38;5;241m.\u001b[39m]]] \u001b[38;5;241m=\u001b[39m \u001b[38;5;28;01mNone\u001b[39;00m, out\u001b[38;5;241m=\u001b[39m\u001b[38;5;28;01mNone\u001b[39;00m,\n\u001b[1;32m   2596\u001b[0m         keepdims\u001b[38;5;241m=\u001b[39m\u001b[38;5;28;01mNone\u001b[39;00m, initial\u001b[38;5;241m=\u001b[39m\u001b[38;5;28;01mNone\u001b[39;00m, where\u001b[38;5;241m=\u001b[39m\u001b[38;5;28;01mNone\u001b[39;00m):\n\u001b[0;32m-> 2597\u001b[0m   \u001b[38;5;28;01mreturn\u001b[39;00m \u001b[43m_reduce_max\u001b[49m\u001b[43m(\u001b[49m\u001b[43ma\u001b[49m\u001b[43m,\u001b[49m\u001b[43m \u001b[49m\u001b[43maxis\u001b[49m\u001b[38;5;241;43m=\u001b[39;49m\u001b[43m_ensure_optional_axes\u001b[49m\u001b[43m(\u001b[49m\u001b[43maxis\u001b[49m\u001b[43m)\u001b[49m\u001b[43m,\u001b[49m\u001b[43m \u001b[49m\u001b[43mout\u001b[49m\u001b[38;5;241;43m=\u001b[39;49m\u001b[43mout\u001b[49m\u001b[43m,\u001b[49m\n\u001b[1;32m   2598\u001b[0m \u001b[43m                     \u001b[49m\u001b[43mkeepdims\u001b[49m\u001b[38;5;241;43m=\u001b[39;49m\u001b[43mkeepdims\u001b[49m\u001b[43m,\u001b[49m\u001b[43m \u001b[49m\u001b[43minitial\u001b[49m\u001b[38;5;241;43m=\u001b[39;49m\u001b[43minitial\u001b[49m\u001b[43m,\u001b[49m\u001b[43m \u001b[49m\u001b[43mwhere\u001b[49m\u001b[38;5;241;43m=\u001b[39;49m\u001b[43mwhere\u001b[49m\u001b[43m)\u001b[49m\n",
      "    \u001b[0;31m[... skipping hidden 5 frame]\u001b[0m\n",
      "File \u001b[0;32m~/miniforge3/envs/ssmjax/lib/python3.9/site-packages/jax/core.py:365\u001b[0m, in \u001b[0;36mTrace.full_raise\u001b[0;34m(self, val)\u001b[0m\n\u001b[1;32m    363\u001b[0m     \u001b[38;5;28;01mreturn\u001b[39;00m \u001b[38;5;28mself\u001b[39m\u001b[38;5;241m.\u001b[39msublift(val)\n\u001b[1;32m    364\u001b[0m   \u001b[38;5;28;01melse\u001b[39;00m:\n\u001b[0;32m--> 365\u001b[0m     \u001b[38;5;28;01mraise\u001b[39;00m escaped_tracer_error(\n\u001b[1;32m    366\u001b[0m         val, \u001b[38;5;124mf\u001b[39m\u001b[38;5;124m\"\u001b[39m\u001b[38;5;124mCan\u001b[39m\u001b[38;5;124m'\u001b[39m\u001b[38;5;124mt lift sublevels \u001b[39m\u001b[38;5;132;01m{\u001b[39;00mval\u001b[38;5;241m.\u001b[39m_trace\u001b[38;5;241m.\u001b[39msublevel\u001b[38;5;132;01m}\u001b[39;00m\u001b[38;5;124m to \u001b[39m\u001b[38;5;132;01m{\u001b[39;00msublevel\u001b[38;5;132;01m}\u001b[39;00m\u001b[38;5;124m\"\u001b[39m)\n\u001b[1;32m    367\u001b[0m \u001b[38;5;28;01melif\u001b[39;00m val\u001b[38;5;241m.\u001b[39m_trace\u001b[38;5;241m.\u001b[39mlevel \u001b[38;5;241m<\u001b[39m level:\n\u001b[1;32m    368\u001b[0m   \u001b[38;5;28;01mif\u001b[39;00m val\u001b[38;5;241m.\u001b[39m_trace\u001b[38;5;241m.\u001b[39msublevel \u001b[38;5;241m>\u001b[39m sublevel:\n",
      "\u001b[0;31mUnexpectedTracerError\u001b[0m: Encountered an unexpected tracer. A function transformed by JAX had a side effect, allowing for a reference to an intermediate value with shape (3, 3) and dtype float32 to escape.\nJAX transformations require that functions explicitly return their outputs, and disallow saving intermediate values to global state.\nTo catch the leak earlier, try setting the environment variable JAX_CHECK_TRACER_LEAKS or using the `jax.checking_leaks` context manager.Detail: Can't lift sublevels 1 to 0\nSee https://jax.readthedocs.io/en/latest/errors.html#jax.errors.UnexpectedTracerError"
     ]
    }
   ],
   "source": [
    "# Here, we compare the true and inferred transition matrix\n",
    "compare_transition_matrix(true_hmm.transition_matrix, fitted_hmm.transition_matrix)"
   ]
  },
  {
   "cell_type": "code",
   "execution_count": null,
   "id": "449d6815-cd93-4c08-9ade-a663aff6885f",
   "metadata": {},
   "outputs": [],
   "source": [
    "for trial_idx in range(5):\n",
    "    posterior = fitted_hmm.e_step(data)\n",
    "    Ez = posterior.expected_states[trial_idx]\n",
    "    \n",
    "    perm = find_permutation(states[trial_idx], np.argmax(Ez, axis=-1))\n",
    "    \n",
    "    plot_posterior_states(Ez, states[trial_idx], perm)"
   ]
  },
  {
   "cell_type": "markdown",
   "id": "3246e3d3-787d-4adb-be11-9b722d1748e0",
   "metadata": {},
   "source": [
    "# Unconstrained Params "
   ]
  },
  {
   "cell_type": "code",
   "execution_count": 5,
   "id": "a42f94bf-16ab-48f8-aaa9-9aa43dc0a79d",
   "metadata": {},
   "outputs": [],
   "source": [
    "import tensorflow_probability.substrates.jax as tfp\n",
    "tfd = tfp.distributions\n",
    "\n",
    "import jax.numpy as np"
   ]
  },
  {
   "cell_type": "code",
   "execution_count": 6,
   "id": "f1450d27-6b90-4eda-be51-ca449e985ca5",
   "metadata": {},
   "outputs": [
    {
     "name": "stderr",
     "output_type": "stream",
     "text": [
      "WARNING:absl:No GPU/TPU found, falling back to CPU. (Set TF_CPP_MIN_LOG_LEVEL=0 and rerun for more info.)\n"
     ]
    }
   ],
   "source": [
    "dist = tfd.MultivariateNormalFullCovariance(loc=np.zeros((2,)), covariance_matrix=np.eye(2))"
   ]
  },
  {
   "cell_type": "code",
   "execution_count": 12,
   "id": "3fcb8e7e-544a-4650-875c-7ce7ccdc7fef",
   "metadata": {},
   "outputs": [],
   "source": [
    "from ssm.utils import tfp_dist_to_unconst_params, unconst_params_to_tfp_dist"
   ]
  },
  {
   "cell_type": "code",
   "execution_count": 9,
   "id": "2ab8548c-d083-42d5-928f-c4cac537b2ff",
   "metadata": {},
   "outputs": [],
   "source": [
    "params = tfp_dist_to_unconst_params(dist)"
   ]
  },
  {
   "cell_type": "code",
   "execution_count": 10,
   "id": "978a218b-f2e8-46ea-ae31-16d932552ed0",
   "metadata": {},
   "outputs": [
    {
     "data": {
      "text/plain": [
       "{'loc': DeviceArray([0., 0.], dtype=float32),\n",
       " 'covariance_matrix': DeviceArray([0.5413246, 0.       , 0.5413246], dtype=float32)}"
      ]
     },
     "execution_count": 10,
     "metadata": {},
     "output_type": "execute_result"
    }
   ],
   "source": [
    "params"
   ]
  },
  {
   "cell_type": "code",
   "execution_count": 13,
   "id": "3e675460-c9c5-48d1-a644-a866ee3b7894",
   "metadata": {},
   "outputs": [],
   "source": [
    "out_dist = unconst_params_to_tfp_dist(dist.__class__, params)"
   ]
  },
  {
   "cell_type": "code",
   "execution_count": 16,
   "id": "e21b5c7a-592b-47fe-9b6f-fc322e7a02bd",
   "metadata": {},
   "outputs": [
    {
     "data": {
      "text/plain": [
       "DeviceArray([[1., 0.],\n",
       "             [0., 1.]], dtype=float32)"
      ]
     },
     "execution_count": 16,
     "metadata": {},
     "output_type": "execute_result"
    }
   ],
   "source": [
    "out_dist.covariance()"
   ]
  },
  {
   "cell_type": "code",
   "execution_count": 17,
   "id": "72cc473f-09c6-4c21-b6ed-279978efa84c",
   "metadata": {},
   "outputs": [],
   "source": [
    "param_prop = tfp.distributions.MultivariateNormalFullCovariance.parameter_properties(dtype=np.float32)"
   ]
  },
  {
   "cell_type": "code",
   "execution_count": 22,
   "id": "f717353e-23d2-47a2-992f-d6f80406c58b",
   "metadata": {},
   "outputs": [],
   "source": [
    "psd_to_cov_fn = param_prop[\"covariance_matrix\"].default_constraining_bijector_fn()"
   ]
  },
  {
   "cell_type": "code",
   "execution_count": 33,
   "id": "7603caef-ffff-4f62-ae56-f0d1f0449004",
   "metadata": {},
   "outputs": [],
   "source": [
    "constrained = psd_to_cov_fn.inverse(np.eye(5))"
   ]
  },
  {
   "cell_type": "code",
   "execution_count": 35,
   "id": "e79e91ea-7de4-4d20-90ff-cb8658ab3584",
   "metadata": {},
   "outputs": [
    {
     "data": {
      "text/plain": [
       "DeviceArray([[1., 0., 0., 0., 0.],\n",
       "             [0., 1., 0., 0., 0.],\n",
       "             [0., 0., 1., 0., 0.],\n",
       "             [0., 0., 0., 1., 0.],\n",
       "             [0., 0., 0., 0., 1.]], dtype=float32)"
      ]
     },
     "execution_count": 35,
     "metadata": {},
     "output_type": "execute_result"
    }
   ],
   "source": [
    "psd_to_cov.forward(constrained)"
   ]
  },
  {
   "cell_type": "code",
   "execution_count": 36,
   "id": "7d66dbb8-07bc-449b-bbb1-9cb71dd3d660",
   "metadata": {},
   "outputs": [],
   "source": [
    "import ssm.distributions as ssmd"
   ]
  },
  {
   "cell_type": "code",
   "execution_count": 37,
   "id": "ed438a58-3ecb-4f2d-a05b-bb19bc1aeab1",
   "metadata": {},
   "outputs": [],
   "source": [
    "emissions_dim = 3\n",
    "\n",
    "prior_loc = np.zeros((emissions_dim,))\n",
    "prior_mean_precision = 0.\n",
    "prior_df = -emissions_dim - 2\n",
    "prior_scale = np.zeros((emissions_dim, emissions_dim))\n",
    "\n",
    "dist = ssmd.NormalInverseWishart(prior_loc, prior_mean_precision, prior_df, prior_scale)"
   ]
  },
  {
   "cell_type": "code",
   "execution_count": 40,
   "id": "1545037f-19be-4716-991f-bc502ab8b4e3",
   "metadata": {},
   "outputs": [
    {
     "data": {
      "text/plain": [
       "{'model': {'Sigma': <function ssm.distributions.niw.NormalInverseWishart.__init__.<locals>.<lambda>()>,\n",
       "  'mu': <function ssm.distributions.niw.NormalInverseWishart.__init__.<locals>.<lambda>(Sigma)>},\n",
       " 'batch_ndims': None,\n",
       " 'use_vectorized_map': False,\n",
       " 'validate_args': False,\n",
       " 'experimental_use_kahan_sum': False,\n",
       " 'name': 'JointDistributionNamed',\n",
       " '__class__': tensorflow_probability.substrates.jax.distributions.joint_distribution_sequential.JointDistributionSequential}"
      ]
     },
     "execution_count": 40,
     "metadata": {},
     "output_type": "execute_result"
    }
   ],
   "source": [
    "dist._parameters"
   ]
  },
  {
   "cell_type": "code",
   "execution_count": 41,
   "id": "465008de-0387-41cb-bdc4-203b972d89f8",
   "metadata": {},
   "outputs": [
    {
     "ename": "NameError",
     "evalue": "name 'true_hmm' is not defined",
     "output_type": "error",
     "traceback": [
      "\u001b[0;31m---------------------------------------------------------------------------\u001b[0m",
      "\u001b[0;31mNameError\u001b[0m                                 Traceback (most recent call last)",
      "Input \u001b[0;32mIn [41]\u001b[0m, in \u001b[0;36m<module>\u001b[0;34m\u001b[0m\n\u001b[0;32m----> 1\u001b[0m \u001b[43mtrue_hmm\u001b[49m\n",
      "\u001b[0;31mNameError\u001b[0m: name 'true_hmm' is not defined"
     ]
    }
   ],
   "source": [
    "true_hmm"
   ]
  },
  {
   "cell_type": "code",
   "execution_count": null,
   "id": "7cb21c57-3031-4d54-ae04-91dabb18f759",
   "metadata": {},
   "outputs": [],
   "source": []
  }
 ],
 "metadata": {
  "kernelspec": {
   "display_name": "Python 3 (ipykernel)",
   "language": "python",
   "name": "python3"
  },
  "language_info": {
   "codemirror_mode": {
    "name": "ipython",
    "version": 3
   },
   "file_extension": ".py",
   "mimetype": "text/x-python",
   "name": "python",
   "nbconvert_exporter": "python",
   "pygments_lexer": "ipython3",
   "version": "3.9.12"
  }
 },
 "nbformat": 4,
 "nbformat_minor": 5
}
