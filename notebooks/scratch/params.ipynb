{
 "cells": [
  {
   "cell_type": "code",
   "execution_count": 1,
   "id": "c6526687",
   "metadata": {},
   "outputs": [],
   "source": [
    "%load_ext autoreload\n",
    "%autoreload 2"
   ]
  },
  {
   "cell_type": "code",
   "execution_count": 2,
   "id": "8768a894-e406-4554-83b1-3eb4cceba97f",
   "metadata": {},
   "outputs": [],
   "source": [
    "import jax\n",
    "import jax.numpy as np\n",
    "\n",
    "from flax.core.frozen_dict import freeze, FrozenDict\n",
    "from jax.flatten_util import ravel_pytree\n",
    "from jax.tree_util import register_pytree_node_class\n",
    "import jax.experimental.optimizers as optimizers\n",
    "from tqdm.auto import tqdm\n",
    "import copy\n",
    "\n",
    "from contextlib import contextmanager\n",
    "\n",
    "@register_pytree_node_class\n",
    "class Model:\n",
    "    def __init__(self, a=1.0, b=2.0, c=3.0):\n",
    "        self.a = a\n",
    "        self.b = b\n",
    "        self.c = c\n",
    "    \n",
    "    @property\n",
    "    def _hyperparameters(self):\n",
    "        return freeze(dict(c=self.c))\n",
    "    \n",
    "    @_hyperparameters.setter\n",
    "    def _hyperparameters(self, hyperparams):\n",
    "        self.c = hyperparams[\"c\"]\n",
    "        \n",
    "    @property\n",
    "    def _parameters(self):\n",
    "        return freeze(dict(a=self.a, b=self.b))\n",
    "    \n",
    "    @_parameters.setter\n",
    "    def _parameters(self, params):\n",
    "        self.a = params[\"a\"]\n",
    "        self.b = params[\"b\"]\n",
    "        \n",
    "    def tree_flatten(self):\n",
    "        children = (self._parameters, self._hyperparameters)\n",
    "        aux_data = None\n",
    "        return children, aux_data\n",
    "    \n",
    "    @classmethod\n",
    "    def tree_unflatten(cls, aux_data, children):\n",
    "        params, hypers = children\n",
    "        return cls(**params, c=hypers)\n",
    "    \n",
    "    @contextmanager\n",
    "    def inject(self, new_parameters):\n",
    "        old_parameters = copy.deepcopy(self._parameters)\n",
    "        self._parameters = new_parameters\n",
    "        yield self\n",
    "        self._parameters = old_parameters\n",
    "    \n",
    "    def loss(self, data):\n",
    "            return ((self.a - data[0])**2 + \n",
    "                    (self.b - data[1])**2 + \n",
    "                    (self.c - data[2])**2)        \n",
    "        \n",
    "    def fit(self, data):\n",
    "        \n",
    "        init_fn, update_fn, get_params = optimizers.adam(1e-3)\n",
    "        opt_state = init_fn(self._parameters)\n",
    "\n",
    "        # OPTION 1\n",
    "        # def objective(params):\n",
    "        #     self._parameters = params\n",
    "        #     return self.loss(data)\n",
    "        \n",
    "        # OPTION 2\n",
    "        def objective(params):\n",
    "            with self.inject(params):\n",
    "                return self.loss(data)\n",
    "        \n",
    "        @jax.jit\n",
    "        def step(idx, opt_state):\n",
    "            value, grads = jax.value_and_grad(objective)(get_params(opt_state))\n",
    "            opt_state = update_fn(idx, grads, opt_state)\n",
    "            return value, opt_state\n",
    "        \n",
    "        losses = []\n",
    "        for idx in tqdm(range(10000)):\n",
    "            value, opt_state = step(idx, opt_state)\n",
    "            losses.append(value)\n",
    "            \n",
    "        self._parameters = get_params(opt_state)\n",
    "        return losses"
   ]
  },
  {
   "cell_type": "code",
   "execution_count": 3,
   "id": "2d8b32f2",
   "metadata": {},
   "outputs": [
    {
     "name": "stderr",
     "output_type": "stream",
     "text": [
      "WARNING:absl:No GPU/TPU found, falling back to CPU. (Set TF_CPP_MIN_LOG_LEVEL=0 and rerun for more info.)\n"
     ]
    },
    {
     "name": "stdout",
     "output_type": "stream",
     "text": [
      "FrozenDict({\n",
      "    a: 1.0,\n",
      "    b: 2.0,\n",
      "})\n"
     ]
    },
    {
     "name": "stderr",
     "output_type": "stream",
     "text": [
      "100%|██████████| 10000/10000 [00:00<00:00, 23679.75it/s]\n"
     ]
    },
    {
     "name": "stdout",
     "output_type": "stream",
     "text": [
      "FrozenDict({\n",
      "    a: DeviceArray(4.9999785, dtype=float32),\n",
      "    b: DeviceArray(9.645768, dtype=float32),\n",
      "})\n"
     ]
    },
    {
     "data": {
      "image/png": "[encoded data removed]",
      "text/plain": [
       "<Figure size 432x288 with 1 Axes>"
      ]
     },
     "metadata": {
      "needs_background": "light"
     },
     "output_type": "display_data"
    }
   ],
   "source": [
    "model = Model()\n",
    "\n",
    "print(model._parameters)\n",
    "losses = model.fit(np.array([5., 10., 15.,]))\n",
    "print(model._parameters)\n",
    "\n",
    "import matplotlib.pyplot as plt\n",
    "plt.plot(losses)\n",
    "plt.show()"
   ]
  },
  {
   "cell_type": "code",
   "execution_count": 4,
   "id": "18ef1e89",
   "metadata": {},
   "outputs": [
    {
     "data": {
      "text/plain": [
       "<__main__.Model at 0x7fb50ca6c4c0>"
      ]
     },
     "execution_count": 4,
     "metadata": {},
     "output_type": "execute_result"
    }
   ],
   "source": [
    "@jax.jit\n",
    "def identity(model):\n",
    "    return model\n",
    "\n",
    "identity(model)"
   ]
  },
  {
   "cell_type": "code",
   "execution_count": 5,
   "id": "dc888a95",
   "metadata": {},
   "outputs": [
    {
     "data": {
      "text/plain": [
       "FrozenDict({\n",
       "    a: DeviceArray(4.9999785, dtype=float32),\n",
       "    b: DeviceArray(9.645768, dtype=float32),\n",
       "})"
      ]
     },
     "execution_count": 5,
     "metadata": {},
     "output_type": "execute_result"
    }
   ],
   "source": [
    "model._parameters"
   ]
  },
  {
   "cell_type": "code",
   "execution_count": 6,
   "id": "dd202d17",
   "metadata": {},
   "outputs": [
    {
     "data": {
      "text/plain": [
       "FrozenDict({\n",
       "    c: 3.0,\n",
       "})"
      ]
     },
     "execution_count": 6,
     "metadata": {},
     "output_type": "execute_result"
    }
   ],
   "source": [
    "model._hyperparameters"
   ]
  },
  {
   "cell_type": "code",
   "execution_count": 7,
   "id": "bb406894-2224-4450-be94-32c9ca34ebc7",
   "metadata": {},
   "outputs": [
    {
     "name": "stdout",
     "output_type": "stream",
     "text": [
      "[4.9999785 9.645768 ]\n"
     ]
    }
   ],
   "source": [
    "flattened, unflatten_fn = ravel_pytree(model._parameters)\n",
    "print(flattened)"
   ]
  },
  {
   "cell_type": "code",
   "execution_count": 8,
   "id": "2643f4d8",
   "metadata": {},
   "outputs": [
    {
     "name": "stdout",
     "output_type": "stream",
     "text": [
      "FrozenDict({\n",
      "    a: 1.0,\n",
      "    b: 2.0,\n",
      "})\n",
      "injected params in this scope:  FrozenDict({\n",
      "    a: 10.0,\n",
      "    b: 20.0,\n",
      "})\n",
      "old params are preserved:  FrozenDict({\n",
      "    a: 1.0,\n",
      "    b: 2.0,\n",
      "})\n"
     ]
    }
   ],
   "source": [
    "model = Model()\n",
    "\n",
    "print(model._parameters)\n",
    "\n",
    "with model.inject(new_parameters={\"a\": 10., \"b\": 20.}):\n",
    "    print(\"injected params in this scope: \", model._parameters)\n",
    "\n",
    "print(\"old params are preserved: \", model._parameters)"
   ]
  },
  {
   "cell_type": "code",
   "execution_count": 3,
   "id": "05d96556",
   "metadata": {},
   "outputs": [],
   "source": [
    "from ssm.hmm import GaussianHMM\n",
    "import jax.random as jr"
   ]
  },
  {
   "cell_type": "code",
   "execution_count": 5,
   "id": "0df702a5",
   "metadata": {},
   "outputs": [
    {
     "name": "stdout",
     "output_type": "stream",
     "text": [
      "Parameters = FrozenDict({\n",
      "    initial_condition: {\n",
      "        distribution: {\n",
      "            logits: DeviceArray([-1.0986123, -1.0986123, -1.0986123], dtype=float32),\n",
      "        },\n",
      "    },\n",
      "    transitions: {\n",
      "        distribution: {\n",
      "            logits: DeviceArray([[-1.0986123, -1.0986123, -1.0986123],\n",
      "                         [-1.0986123, -1.0986123, -1.0986123],\n",
      "                         [-1.0986123, -1.0986123, -1.0986123]], dtype=float32),\n",
      "        },\n",
      "    },\n",
      "    emissions: {\n",
      "        distribution: {\n",
      "            loc: DeviceArray([[-0.28371075,  0.9368161 , -1.0050074 ,  1.4165013 ,\n",
      "                           1.05433   ,  0.9108126 , -0.42656714,  0.98618793,\n",
      "                          -0.5575325 ,  0.01532494],\n",
      "                         [-2.0785687 ,  0.554837  ,  0.9142364 ,  0.57445955,\n",
      "                           0.72278625,  0.12106168, -0.32373545,  1.6234994 ,\n",
      "                           0.24500382, -1.3809782 ],\n",
      "                         [-0.6111238 ,  0.14037243,  0.8410042 , -1.094358  ,\n",
      "                          -1.0775021 , -1.1396459 , -0.5933381 , -0.15576522,\n",
      "                          -0.38321453, -1.1144515 ]], dtype=float32),\n",
      "            scale_tril: DeviceArray([[[1., 0., 0., 0., 0., 0., 0., 0., 0., 0.],\n",
      "                          [0., 1., 0., 0., 0., 0., 0., 0., 0., 0.],\n",
      "                          [0., 0., 1., 0., 0., 0., 0., 0., 0., 0.],\n",
      "                          [0., 0., 0., 1., 0., 0., 0., 0., 0., 0.],\n",
      "                          [0., 0., 0., 0., 1., 0., 0., 0., 0., 0.],\n",
      "                          [0., 0., 0., 0., 0., 1., 0., 0., 0., 0.],\n",
      "                          [0., 0., 0., 0., 0., 0., 1., 0., 0., 0.],\n",
      "                          [0., 0., 0., 0., 0., 0., 0., 1., 0., 0.],\n",
      "                          [0., 0., 0., 0., 0., 0., 0., 0., 1., 0.],\n",
      "                          [0., 0., 0., 0., 0., 0., 0., 0., 0., 1.]],\n",
      "            \n",
      "                         [[1., 0., 0., 0., 0., 0., 0., 0., 0., 0.],\n",
      "                          [0., 1., 0., 0., 0., 0., 0., 0., 0., 0.],\n",
      "                          [0., 0., 1., 0., 0., 0., 0., 0., 0., 0.],\n",
      "                          [0., 0., 0., 1., 0., 0., 0., 0., 0., 0.],\n",
      "                          [0., 0., 0., 0., 1., 0., 0., 0., 0., 0.],\n",
      "                          [0., 0., 0., 0., 0., 1., 0., 0., 0., 0.],\n",
      "                          [0., 0., 0., 0., 0., 0., 1., 0., 0., 0.],\n",
      "                          [0., 0., 0., 0., 0., 0., 0., 1., 0., 0.],\n",
      "                          [0., 0., 0., 0., 0., 0., 0., 0., 1., 0.],\n",
      "                          [0., 0., 0., 0., 0., 0., 0., 0., 0., 1.]],\n",
      "            \n",
      "                         [[1., 0., 0., 0., 0., 0., 0., 0., 0., 0.],\n",
      "                          [0., 1., 0., 0., 0., 0., 0., 0., 0., 0.],\n",
      "                          [0., 0., 1., 0., 0., 0., 0., 0., 0., 0.],\n",
      "                          [0., 0., 0., 1., 0., 0., 0., 0., 0., 0.],\n",
      "                          [0., 0., 0., 0., 1., 0., 0., 0., 0., 0.],\n",
      "                          [0., 0., 0., 0., 0., 1., 0., 0., 0., 0.],\n",
      "                          [0., 0., 0., 0., 0., 0., 1., 0., 0., 0.],\n",
      "                          [0., 0., 0., 0., 0., 0., 0., 1., 0., 0.],\n",
      "                          [0., 0., 0., 0., 0., 0., 0., 0., 1., 0.],\n",
      "                          [0., 0., 0., 0., 0., 0., 0., 0., 0., 1.]]], dtype=float32),\n",
      "        },\n",
      "    },\n",
      "})\n"
     ]
    }
   ],
   "source": [
    "hmm = GaussianHMM(3, 10, seed=jr.PRNGKey(0))\n",
    "\n",
    "print(\"Parameters =\", hmm._parameters)"
   ]
  },
  {
   "cell_type": "code",
   "execution_count": null,
   "id": "5d8c7dbb",
   "metadata": {},
   "outputs": [],
   "source": []
  }
 ],
 "metadata": {
  "kernelspec": {
   "display_name": "Python 3 (ipykernel)",
   "language": "python",
   "name": "python3"
  },
  "language_info": {
   "codemirror_mode": {
    "name": "ipython",
    "version": 3
   },
   "file_extension": ".py",
   "mimetype": "text/x-python",
   "name": "python",
   "nbconvert_exporter": "python",
   "pygments_lexer": "ipython3",
   "version": "3.9.7"
  }
 },
 "nbformat": 4,
 "nbformat_minor": 5
}
