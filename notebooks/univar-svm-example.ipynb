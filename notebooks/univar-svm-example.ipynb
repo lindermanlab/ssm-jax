{
 "cells": [
  {
   "cell_type": "markdown",
   "metadata": {},
   "source": [
    "# X. Univariate Stochastic Volatility Model (SVM)\n",
    "\n",
    "[![Open In Colab](https://colab.research.google.com/assets/colab-badge.svg)](https://colab.research.google.com/github/lindermanlab/ssm-jax-refactor/blob/main/notebooks/poisson-lds-example.ipynb)\n",
    "\n",
    "Linear latent process with a state-dependent emission scale."
   ]
  },
  {
   "cell_type": "code",
   "execution_count": 1,
   "metadata": {},
   "outputs": [],
   "source": [
    "try:\n",
    "    import ssm\n",
    "except:\n",
    "    import os\n",
    "    from getpass import getpass\n",
    "    user = getpass('GitHub user')\n",
    "    password = getpass('GitHub token')\n",
    "    os.environ['GITHUB_AUTH'] = user + ':' + password\n",
    "    !pip install git+https://$GITHUB_AUTH@github.com/lindermanlab/ssm-jax-refactor.git -qqq\n",
    "    del user, password\n",
    "    import ssm"
   ]
  },
  {
   "cell_type": "code",
   "execution_count": 2,
   "metadata": {},
   "outputs": [
    {
     "name": "stderr",
     "output_type": "stream",
     "text": [
      "WARNING:absl:No GPU/TPU found, falling back to CPU. (Set TF_CPP_MIN_LOG_LEVEL=0 and rerun for more info.)\n"
     ]
    },
    {
     "ename": "TypeError",
     "evalue": "got an unexpected keyword argument 'rng'",
     "output_type": "error",
     "traceback": [
      "\u001b[0;31m---------------------------------------------------------------------------\u001b[0m",
      "\u001b[0;31mTypeError\u001b[0m                                 Traceback (most recent call last)",
      "\u001b[0;32m<ipython-input-2-1abd3d3af9d6>\u001b[0m in \u001b[0;36m<module>\u001b[0;34m\u001b[0m\n\u001b[1;32m      8\u001b[0m \u001b[0;32mfrom\u001b[0m \u001b[0mtensorflow_probability\u001b[0m\u001b[0;34m.\u001b[0m\u001b[0msubstrates\u001b[0m \u001b[0;32mimport\u001b[0m \u001b[0mjax\u001b[0m \u001b[0;32mas\u001b[0m \u001b[0mtfp\u001b[0m\u001b[0;34m\u001b[0m\u001b[0;34m\u001b[0m\u001b[0m\n\u001b[1;32m      9\u001b[0m \u001b[0;34m\u001b[0m\u001b[0m\n\u001b[0;32m---> 10\u001b[0;31m \u001b[0;32mfrom\u001b[0m \u001b[0mssm\u001b[0m\u001b[0;34m.\u001b[0m\u001b[0msvm\u001b[0m\u001b[0;34m.\u001b[0m\u001b[0mmodels\u001b[0m \u001b[0;32mimport\u001b[0m \u001b[0mUnivariateSVM\u001b[0m\u001b[0;34m\u001b[0m\u001b[0;34m\u001b[0m\u001b[0m\n\u001b[0m\u001b[1;32m     11\u001b[0m \u001b[0;34m\u001b[0m\u001b[0m\n\u001b[1;32m     12\u001b[0m \u001b[0;32mfrom\u001b[0m \u001b[0mssm\u001b[0m\u001b[0;34m.\u001b[0m\u001b[0mutils\u001b[0m \u001b[0;32mimport\u001b[0m \u001b[0mrandom_rotation\u001b[0m\u001b[0;34m\u001b[0m\u001b[0;34m\u001b[0m\u001b[0m\n",
      "\u001b[0;32m~/Documents/hackathon/ssm-jax-refactor/ssm/svm/models.py\u001b[0m in \u001b[0;36m<module>\u001b[0;34m\u001b[0m\n\u001b[1;32m    298\u001b[0m \u001b[0;34m\u001b[0m\u001b[0m\n\u001b[1;32m    299\u001b[0m \u001b[0mrng\u001b[0m \u001b[0;34m=\u001b[0m \u001b[0mjr\u001b[0m\u001b[0;34m.\u001b[0m\u001b[0mPRNGKey\u001b[0m\u001b[0;34m(\u001b[0m\u001b[0;36m10\u001b[0m\u001b[0;34m)\u001b[0m\u001b[0;34m\u001b[0m\u001b[0;34m\u001b[0m\u001b[0m\n\u001b[0;32m--> 300\u001b[0;31m \u001b[0melbos\u001b[0m\u001b[0;34m,\u001b[0m \u001b[0mfitted_svm\u001b[0m\u001b[0;34m,\u001b[0m \u001b[0mposteriors\u001b[0m \u001b[0;34m=\u001b[0m \u001b[0mtest_svm\u001b[0m\u001b[0;34m.\u001b[0m\u001b[0mfit\u001b[0m\u001b[0;34m(\u001b[0m\u001b[0mall_data\u001b[0m\u001b[0;34m,\u001b[0m \u001b[0mmethod\u001b[0m\u001b[0;34m=\u001b[0m\u001b[0;34m\"laplace_em\"\u001b[0m\u001b[0;34m,\u001b[0m \u001b[0mrng\u001b[0m\u001b[0;34m=\u001b[0m\u001b[0mrng\u001b[0m\u001b[0;34m,\u001b[0m \u001b[0mnum_iters\u001b[0m\u001b[0;34m=\u001b[0m\u001b[0;36m25\u001b[0m\u001b[0;34m)\u001b[0m\u001b[0;34m\u001b[0m\u001b[0;34m\u001b[0m\u001b[0m\n\u001b[0m\u001b[1;32m    301\u001b[0m \u001b[0;34m\u001b[0m\u001b[0m\n\u001b[1;32m    302\u001b[0m \u001b[0;31m# NOTE: you could also call the laplace_em routine directly like this\u001b[0m\u001b[0;34m\u001b[0m\u001b[0;34m\u001b[0m\u001b[0;34m\u001b[0m\u001b[0m\n",
      "\u001b[0;32m~/Documents/hackathon/ssm-jax-refactor/ssm/utils.py\u001b[0m in \u001b[0;36mwrapper\u001b[0;34m(*args, **kwargs)\u001b[0m\n\u001b[1;32m    225\u001b[0m         \u001b[0;34m@\u001b[0m\u001b[0mwraps\u001b[0m\u001b[0;34m(\u001b[0m\u001b[0mf\u001b[0m\u001b[0;34m)\u001b[0m\u001b[0;34m\u001b[0m\u001b[0;34m\u001b[0m\u001b[0m\n\u001b[1;32m    226\u001b[0m         \u001b[0;32mdef\u001b[0m \u001b[0mwrapper\u001b[0m\u001b[0;34m(\u001b[0m\u001b[0;34m*\u001b[0m\u001b[0margs\u001b[0m\u001b[0;34m,\u001b[0m \u001b[0;34m**\u001b[0m\u001b[0mkwargs\u001b[0m\u001b[0;34m)\u001b[0m\u001b[0;34m:\u001b[0m\u001b[0;34m\u001b[0m\u001b[0;34m\u001b[0m\u001b[0m\n\u001b[0;32m--> 227\u001b[0;31m             \u001b[0mbound_args\u001b[0m \u001b[0;34m=\u001b[0m \u001b[0msig\u001b[0m\u001b[0;34m.\u001b[0m\u001b[0mbind\u001b[0m\u001b[0;34m(\u001b[0m\u001b[0;34m*\u001b[0m\u001b[0margs\u001b[0m\u001b[0;34m,\u001b[0m \u001b[0;34m**\u001b[0m\u001b[0mkwargs\u001b[0m\u001b[0;34m)\u001b[0m\u001b[0;34m\u001b[0m\u001b[0;34m\u001b[0m\u001b[0m\n\u001b[0m\u001b[1;32m    228\u001b[0m             \u001b[0mbound_args\u001b[0m\u001b[0;34m.\u001b[0m\u001b[0mapply_defaults\u001b[0m\u001b[0;34m(\u001b[0m\u001b[0;34m)\u001b[0m\u001b[0;34m\u001b[0m\u001b[0;34m\u001b[0m\u001b[0m\n\u001b[1;32m    229\u001b[0m \u001b[0;34m\u001b[0m\u001b[0m\n",
      "\u001b[0;32m~/opt/anaconda3/lib/python3.8/inspect.py\u001b[0m in \u001b[0;36mbind\u001b[0;34m(self, *args, **kwargs)\u001b[0m\n\u001b[1;32m   3035\u001b[0m         \u001b[0;32mif\u001b[0m \u001b[0mthe\u001b[0m \u001b[0mpassed\u001b[0m \u001b[0marguments\u001b[0m \u001b[0mcan\u001b[0m \u001b[0;32mnot\u001b[0m \u001b[0mbe\u001b[0m \u001b[0mbound\u001b[0m\u001b[0;34m.\u001b[0m\u001b[0;34m\u001b[0m\u001b[0;34m\u001b[0m\u001b[0m\n\u001b[1;32m   3036\u001b[0m         \"\"\"\n\u001b[0;32m-> 3037\u001b[0;31m         \u001b[0;32mreturn\u001b[0m \u001b[0mself\u001b[0m\u001b[0;34m.\u001b[0m\u001b[0m_bind\u001b[0m\u001b[0;34m(\u001b[0m\u001b[0margs\u001b[0m\u001b[0;34m,\u001b[0m \u001b[0mkwargs\u001b[0m\u001b[0;34m)\u001b[0m\u001b[0;34m\u001b[0m\u001b[0;34m\u001b[0m\u001b[0m\n\u001b[0m\u001b[1;32m   3038\u001b[0m \u001b[0;34m\u001b[0m\u001b[0m\n\u001b[1;32m   3039\u001b[0m     \u001b[0;32mdef\u001b[0m \u001b[0mbind_partial\u001b[0m\u001b[0;34m(\u001b[0m\u001b[0mself\u001b[0m\u001b[0;34m,\u001b[0m \u001b[0;34m/\u001b[0m\u001b[0;34m,\u001b[0m \u001b[0;34m*\u001b[0m\u001b[0margs\u001b[0m\u001b[0;34m,\u001b[0m \u001b[0;34m**\u001b[0m\u001b[0mkwargs\u001b[0m\u001b[0;34m)\u001b[0m\u001b[0;34m:\u001b[0m\u001b[0;34m\u001b[0m\u001b[0;34m\u001b[0m\u001b[0m\n",
      "\u001b[0;32m~/opt/anaconda3/lib/python3.8/inspect.py\u001b[0m in \u001b[0;36m_bind\u001b[0;34m(self, args, kwargs, partial)\u001b[0m\n\u001b[1;32m   3024\u001b[0m                 \u001b[0marguments\u001b[0m\u001b[0;34m[\u001b[0m\u001b[0mkwargs_param\u001b[0m\u001b[0;34m.\u001b[0m\u001b[0mname\u001b[0m\u001b[0;34m]\u001b[0m \u001b[0;34m=\u001b[0m \u001b[0mkwargs\u001b[0m\u001b[0;34m\u001b[0m\u001b[0;34m\u001b[0m\u001b[0m\n\u001b[1;32m   3025\u001b[0m             \u001b[0;32melse\u001b[0m\u001b[0;34m:\u001b[0m\u001b[0;34m\u001b[0m\u001b[0;34m\u001b[0m\u001b[0m\n\u001b[0;32m-> 3026\u001b[0;31m                 raise TypeError(\n\u001b[0m\u001b[1;32m   3027\u001b[0m                     'got an unexpected keyword argument {arg!r}'.format(\n\u001b[1;32m   3028\u001b[0m                         arg=next(iter(kwargs))))\n",
      "\u001b[0;31mTypeError\u001b[0m: got an unexpected keyword argument 'rng'"
     ]
    }
   ],
   "source": [
    "import jax.numpy as np\n",
    "import jax.random as jr\n",
    "import jax.experimental.optimizers as optimizers\n",
    "from jax import jit, value_and_grad, vmap\n",
    "from tqdm.auto import trange\n",
    "\n",
    "import matplotlib.pyplot as plt\n",
    "from tensorflow_probability.substrates import jax as tfp\n",
    "\n",
    "from ssm.svm.models import UnivariateSVM\n",
    "\n",
    "from ssm.utils import random_rotation\n",
    "from ssm.plots import plot_dynamics_2d\n",
    "\n",
    "from matplotlib.gridspec import GridSpec "
   ]
  },
  {
   "cell_type": "markdown",
   "metadata": {},
   "source": [
    "### Imports and Plotting Functions"
   ]
  },
  {
   "cell_type": "code",
   "execution_count": null,
   "metadata": {},
   "outputs": [],
   "source": [
    "\n",
    "def plot_emissions(states, data):\n",
    "    latent_dim = states.shape[-1]\n",
    "    emissions_dim = data.shape[-1]\n",
    "    num_timesteps = data.shape[0]\n",
    "    \n",
    "    fig, ax = plt.subplots(2, 1, figsize=(8, 6), sharex=True, sharey=True)\n",
    "\n",
    "    # Plot the continuous latent states\n",
    "    lim = abs(states).max()\n",
    "    for d in range(latent_dim):\n",
    "        ax[0].plot(states[:, d] + lim * d, '-')\n",
    "    ax[0].set_xlim(0, num_timesteps)\n",
    "    ax[0].grid(True)\n",
    "    ax[0].set_ylabel(r'Latent state, $x_t$')\n",
    "\n",
    "    lim = abs(data).max()\n",
    "    for n in range(emissions_dim):\n",
    "        ax[1].plot(data[:, n] - lim * n, '-k')\n",
    "    ax[1].set_xlim(0, num_timesteps)\n",
    "    ax[1].grid(True)\n",
    "    ax[1].set_xlabel('Time')\n",
    "    ax[1].set_ylabel(r'Observed value, $y_t$')\n",
    "\n",
    "    plt.tight_layout()\n",
    "    \n",
    "    \n",
    "def plot_dynamics(lds, states):\n",
    "    q = plot_dynamics_2d(lds._dynamics.weights, \n",
    "                         bias_vector=lds._dynamics.bias,\n",
    "                         mins=states.min(axis=0),\n",
    "                         maxs=states.max(axis=0),\n",
    "                         color=\"blue\")\n",
    "    plt.plot(states[:,0], states[:,1], lw=2, label=\"Latent State\")\n",
    "    plt.plot(states[0,0], states[0,1], '*r', markersize=10, label=\"Initial State\")\n",
    "    plt.xlabel(\"$x_1$\")\n",
    "    plt.ylabel(\"$x_2$\")\n",
    "    plt.title(\"Latent States & Dynamics\")\n",
    "    plt.legend(bbox_to_anchor=(1,1))\n",
    "    plt.show()\n",
    "\n",
    "def extract_trial_stats(trial_idx, posterior, all_data, all_states, fitted_lds, true_lds):\n",
    "    # Posterior Mean\n",
    "    Ex = posterior.mean()[trial_idx]\n",
    "    states = all_states[trial_idx]\n",
    "    data = all_data[trial_idx]\n",
    "\n",
    "    # Compute the data predictions\n",
    "    C = fitted_lds.emissions_matrix\n",
    "    d = fitted_lds.emissions_bias\n",
    "\n",
    "    Ey = Ex @ C.T + d\n",
    "    Covy = C @ posterior.covariance()[trial_idx] @ C.T\n",
    "\n",
    "    # basically recover the \"true\" input to the Poisson GLM\n",
    "    Ey_true = states @ true_lds.emissions_matrix.T + true_lds.emissions_bias\n",
    "\n",
    "    return states, data, Ex, Ey, Covy, Ey_true\n",
    "\n",
    "def compare_dynamics(Ex, states, data):\n",
    "    # Plot\n",
    "    fig, axs = plt.subplots(1, 2, figsize=(8, 4))\n",
    "\n",
    "    q = plot_dynamics_2d(true_lds._dynamics.weights, \n",
    "                        bias_vector=true_lds._dynamics.bias,\n",
    "                        mins=states.min(axis=0),\n",
    "                        maxs=states.max(axis=0),\n",
    "                        color=\"blue\",\n",
    "                        axis=axs[0])\n",
    "    axs[0].plot(states[:,0], states[:,1], lw=2)\n",
    "    axs[0].plot(states[0,0], states[0,1], '*r', markersize=10, label=\"$x_{init}$\")\n",
    "    axs[0].set_xlabel(\"$x_1$\")\n",
    "    axs[0].set_ylabel(\"$x_2$\")\n",
    "    axs[0].set_title(\"True Latent States & Dynamics\")\n",
    "\n",
    "    q = plot_dynamics_2d(fitted_lds._dynamics.weights, \n",
    "                        bias_vector=fitted_lds._dynamics.bias,\n",
    "                        mins=Ex.min(axis=0),\n",
    "                        maxs=Ex.max(axis=0),\n",
    "                        color=\"red\",\n",
    "                        axis=axs[1])\n",
    "\n",
    "    axs[1].plot(Ex[:,0], Ex[:,1], lw=2)\n",
    "    axs[1].plot(Ex[0,0], Ex[0,1], '*r', markersize=10, label=\"$x_{init}$\")\n",
    "    axs[1].set_xlabel(\"$x_1$\")\n",
    "    axs[1].set_ylabel(\"$x_2$\")\n",
    "    axs[1].set_title(\"Simulated Latent States & Dynamics\")\n",
    "    plt.tight_layout()\n",
    "    plt.show()\n",
    "\n",
    "def compare_smoothened_predictions(Ey, Ey_true, Covy, data):\n",
    "    data_dim = data.shape[-1]\n",
    "\n",
    "    plt.figure(figsize=(15, 6))\n",
    "    plt.plot(Ey_true + 10 * np.arange(data_dim))\n",
    "    plt.plot(Ey + 10 * np.arange(data_dim), '--k')\n",
    "    for i in range(data_dim):\n",
    "        plt.fill_between(np.arange(len(data)),\n",
    "                        10 * i + Ey[:, i] - 2 * np.sqrt(Covy[:, i, i]),\n",
    "                        10 * i + Ey[:, i] + 2 * np.sqrt(Covy[:, i, i]), \n",
    "                        color='k', alpha=0.25)\n",
    "    plt.xlabel(\"time\")\n",
    "    plt.ylabel(\"data and predictions (for each neuron)\")\n",
    "\n",
    "    plt.plot([0], '--k', label=\"Predicted\") # dummy trace for legend\n",
    "    plt.plot([0], '-k', label=\"True\")\n",
    "    plt.legend(loc=\"upper right\")\n",
    "    plt.show()"
   ]
  },
  {
   "cell_type": "code",
   "execution_count": null,
   "metadata": {},
   "outputs": [],
   "source": [
    "# Initialize our true SVM model\n",
    "true_svm = UnivariateSVM()"
   ]
  },
  {
   "cell_type": "markdown",
   "metadata": {},
   "source": [
    "### Sample some synthetic data from the Poisson LDS"
   ]
  },
  {
   "cell_type": "code",
   "execution_count": null,
   "metadata": {},
   "outputs": [],
   "source": [
    "import warnings\n",
    "\n",
    "num_trials = 5\n",
    "time_bins = 200\n",
    "\n",
    "# catch annoying warnings of tfp Poisson sampling\n",
    "rng = jr.PRNGKey(0)\n",
    "with warnings.catch_warnings():\n",
    "    warnings.filterwarnings('ignore', category=UserWarning)\n",
    "    all_states, all_data = true_svm.sample(key=rng, num_steps=time_bins, num_samples=num_trials)"
   ]
  },
  {
   "cell_type": "code",
   "execution_count": null,
   "metadata": {},
   "outputs": [],
   "source": [
    "plot_emissions(all_states[0], all_data[0])"
   ]
  },
  {
   "cell_type": "markdown",
   "metadata": {},
   "source": [
    "## Inference: let's fit a SVM to our data\n",
    "\n",
    "Since we have a non-linear emissions model, we can no longer perform exact EM.\n",
    "\n",
    "Instead, we perform Laplace EM, in which we approximate the posterior using a Laplace (Gaussian) approximation."
   ]
  },
  {
   "cell_type": "code",
   "execution_count": null,
   "metadata": {},
   "outputs": [],
   "source": [
    "latent_dim = 2\n",
    "seed = jr.PRNGKey(32) # NOTE: different seed!\n",
    "\n",
    "sig_init = np.asarray([[np.log(0.5)]])\n",
    "test_svm = UnivariateSVM(log_sigma=sig_init)"
   ]
  },
  {
   "cell_type": "code",
   "execution_count": null,
   "metadata": {},
   "outputs": [],
   "source": [
    "rng = jr.PRNGKey(10)\n",
    "elbos, fitted_svm, posteriors = test_svm.fit(all_data, method=\"laplace_em\", key=rng, num_iters=25)\n",
    "\n",
    "# NOTE: you could also call the laplace_em routine directly like this\n",
    "\n",
    "# from ssm.inference.laplace_em import laplace_em\n",
    "# elbos, fitted_lds, posteriors = laplace_em(rng, \n",
    "#                                           test_lds,\n",
    "#                                           all_data,\n",
    "#                                           num_iters=25, \n",
    "#                                           laplace_mode_fit_method=\"BFGS\")"
   ]
  },
  {
   "cell_type": "code",
   "execution_count": null,
   "metadata": {},
   "outputs": [],
   "source": [
    "plt.plot(elbos)\n",
    "plt.show()"
   ]
  },
  {
   "cell_type": "code",
   "execution_count": null,
   "metadata": {},
   "outputs": [],
   "source": [
    "num_emissions_channels_to_view = 5\n",
    "num_trials_to_view = 2\n",
    "\n",
    "for trial_idx in range(num_trials_to_view):\n",
    "    states, data, Ex, Ey, Covy, Ey_true = extract_trial_stats(trial_idx, posteriors, all_data, all_states, fitted_lds, true_lds)\n",
    "    compare_dynamics(Ex, states, data)\n",
    "    compare_smoothened_predictions(Ey[:, :num_emissions_channels_to_view],\n",
    "                                   Ey_true[:, :num_emissions_channels_to_view],\n",
    "                                   Covy, data[:, :num_emissions_channels_to_view])"
   ]
  },
  {
   "cell_type": "code",
   "execution_count": 6,
   "metadata": {},
   "outputs": [
    {
     "data": {
      "image/png": "[encoded data removed]",
      "text/plain": [
       "<Figure size 432x288 with 1 Axes>"
      ]
     },
     "metadata": {
      "needs_background": "light"
     },
     "output_type": "display_data"
    }
   ],
   "source": [
    "opt_steps = 100000\n",
    "a = 5.0\n",
    "tilt_temperatures = - (1.0 - (a / np.linspace(0.1, a, num=opt_steps + 1))) + 1.0\n",
    "plt.plot(tilt_temperatures)\n",
    "plt.yscale('log')\n",
    "plt.grid(True)"
   ]
  },
  {
   "cell_type": "code",
   "execution_count": 10,
   "metadata": {},
   "outputs": [
    {
     "data": {
      "text/plain": [
       "DeviceArray(8.474577, dtype=float32)"
      ]
     },
     "execution_count": 10,
     "metadata": {},
     "output_type": "execute_result"
    }
   ],
   "source": [
    "tilt_temperatures[10000]"
   ]
  },
  {
   "cell_type": "code",
   "execution_count": null,
   "metadata": {},
   "outputs": [],
   "source": []
  }
 ],
 "metadata": {
  "interpreter": {
   "hash": "1c9b7abd99f812592e04518a2dddca5f7bc8ca20b74b8ad7e1b8422bf8e8c0a8"
  },
  "kernelspec": {
   "display_name": "Python 3",
   "language": "python",
   "name": "python3"
  },
  "language_info": {
   "codemirror_mode": {
    "name": "ipython",
    "version": 3
   },
   "file_extension": ".py",
   "mimetype": "text/x-python",
   "name": "python",
   "nbconvert_exporter": "python",
   "pygments_lexer": "ipython3",
   "version": "3.8.8"
  }
 },
 "nbformat": 4,
 "nbformat_minor": 4
}
