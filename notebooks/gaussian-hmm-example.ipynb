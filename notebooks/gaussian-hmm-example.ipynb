{
 "cells": [
  {
   "cell_type": "markdown",
   "metadata": {},
   "source": [
    "# HMM Example Notebook"
   ]
  },
  {
   "cell_type": "code",
   "execution_count": 1,
   "metadata": {},
   "outputs": [],
   "source": [
    "%load_ext autoreload\n",
    "%autoreload 2"
   ]
  },
  {
   "cell_type": "markdown",
   "metadata": {},
   "source": [
    "#### Imports and Plotting Functions "
   ]
  },
  {
   "cell_type": "code",
   "execution_count": 2,
   "metadata": {},
   "outputs": [
    {
     "ename": "NameError",
     "evalue": "name 'Transitions' is not defined",
     "output_type": "error",
     "traceback": [
      "\u001b[0;31m---------------------------------------------------------------------------\u001b[0m",
      "\u001b[0;31mNameError\u001b[0m                                 Traceback (most recent call last)",
      "\u001b[0;32m<ipython-input-2-248d9159fbf3>\u001b[0m in \u001b[0;36m<module>\u001b[0;34m\u001b[0m\n\u001b[1;32m      4\u001b[0m \u001b[0;32mfrom\u001b[0m \u001b[0mtensorflow_probability\u001b[0m\u001b[0;34m.\u001b[0m\u001b[0msubstrates\u001b[0m \u001b[0;32mimport\u001b[0m \u001b[0mjax\u001b[0m \u001b[0;32mas\u001b[0m \u001b[0mtfp\u001b[0m\u001b[0;34m\u001b[0m\u001b[0;34m\u001b[0m\u001b[0m\n\u001b[1;32m      5\u001b[0m \u001b[0;34m\u001b[0m\u001b[0m\n\u001b[0;32m----> 6\u001b[0;31m \u001b[0;32mfrom\u001b[0m \u001b[0mssm\u001b[0m\u001b[0;34m.\u001b[0m\u001b[0mhmm\u001b[0m \u001b[0;32mimport\u001b[0m \u001b[0mGaussianHMM\u001b[0m\u001b[0;34m\u001b[0m\u001b[0;34m\u001b[0m\u001b[0m\n\u001b[0m\u001b[1;32m      7\u001b[0m \u001b[0;32mfrom\u001b[0m \u001b[0mssm\u001b[0m\u001b[0;34m.\u001b[0m\u001b[0mplots\u001b[0m \u001b[0;32mimport\u001b[0m \u001b[0mgradient_cmap\u001b[0m\u001b[0;34m\u001b[0m\u001b[0;34m\u001b[0m\u001b[0m\n\u001b[1;32m      8\u001b[0m \u001b[0;32mfrom\u001b[0m \u001b[0mssm\u001b[0m\u001b[0;34m.\u001b[0m\u001b[0mutils\u001b[0m \u001b[0;32mimport\u001b[0m \u001b[0mfind_permutation\u001b[0m\u001b[0;34m\u001b[0m\u001b[0;34m\u001b[0m\u001b[0m\n",
      "\u001b[0;32m~/code/ssm-jax-refactor/ssm/hmm/__init__.py\u001b[0m in \u001b[0;36m<module>\u001b[0;34m\u001b[0m\n\u001b[1;32m      4\u001b[0m \u001b[0;34m\u001b[0m\u001b[0m\n\u001b[1;32m      5\u001b[0m \u001b[0;32mfrom\u001b[0m \u001b[0mssm\u001b[0m\u001b[0;34m.\u001b[0m\u001b[0mhmm\u001b[0m\u001b[0;34m.\u001b[0m\u001b[0mbase\u001b[0m \u001b[0;32mimport\u001b[0m \u001b[0mHMM\u001b[0m\u001b[0;34m\u001b[0m\u001b[0;34m\u001b[0m\u001b[0m\n\u001b[0;32m----> 6\u001b[0;31m \u001b[0;32mfrom\u001b[0m \u001b[0mssm\u001b[0m\u001b[0;34m.\u001b[0m\u001b[0mhmm\u001b[0m\u001b[0;34m.\u001b[0m\u001b[0mmodels\u001b[0m \u001b[0;32mimport\u001b[0m \u001b[0mGaussianHMM\u001b[0m\u001b[0;34m,\u001b[0m \u001b[0mPoissonHMM\u001b[0m\u001b[0;34m,\u001b[0m \u001b[0mBernoulliHMM\u001b[0m\u001b[0;34m\u001b[0m\u001b[0;34m\u001b[0m\u001b[0m\n\u001b[0m\u001b[1;32m      7\u001b[0m \u001b[0;32mfrom\u001b[0m \u001b[0mssm\u001b[0m\u001b[0;34m.\u001b[0m\u001b[0mhmm\u001b[0m\u001b[0;34m.\u001b[0m\u001b[0mposterior\u001b[0m \u001b[0;32mimport\u001b[0m \u001b[0mStationaryHMMPosterior\u001b[0m\u001b[0;34m,\u001b[0m \u001b[0mNonstationaryHMMPosterior\u001b[0m\u001b[0;34m\u001b[0m\u001b[0;34m\u001b[0m\u001b[0m\n",
      "\u001b[0;32m~/code/ssm-jax-refactor/ssm/hmm/models.py\u001b[0m in \u001b[0;36m<module>\u001b[0;34m\u001b[0m\n\u001b[1;32m     71\u001b[0m \u001b[0;34m\u001b[0m\u001b[0m\n\u001b[1;32m     72\u001b[0m \u001b[0;34m@\u001b[0m\u001b[0mregister_pytree_node_class\u001b[0m\u001b[0;34m\u001b[0m\u001b[0;34m\u001b[0m\u001b[0m\n\u001b[0;32m---> 73\u001b[0;31m \u001b[0;32mclass\u001b[0m \u001b[0mGaussianHMM\u001b[0m\u001b[0;34m(\u001b[0m\u001b[0mHMM\u001b[0m\u001b[0;34m)\u001b[0m\u001b[0;34m:\u001b[0m\u001b[0;34m\u001b[0m\u001b[0;34m\u001b[0m\u001b[0m\n\u001b[0m\u001b[1;32m     74\u001b[0m     \"\"\"HMM with Gaussian emissions.\n\u001b[1;32m     75\u001b[0m     \"\"\"\n",
      "\u001b[0;32m~/code/ssm-jax-refactor/ssm/hmm/models.py\u001b[0m in \u001b[0;36mGaussianHMM\u001b[0;34m()\u001b[0m\n\u001b[1;32m     78\u001b[0m                  \u001b[0mnum_emission_dims\u001b[0m\u001b[0;34m:\u001b[0m \u001b[0mint\u001b[0m\u001b[0;34m=\u001b[0m\u001b[0;32mNone\u001b[0m\u001b[0;34m,\u001b[0m\u001b[0;34m\u001b[0m\u001b[0;34m\u001b[0m\u001b[0m\n\u001b[1;32m     79\u001b[0m                  \u001b[0minitial_state_probs\u001b[0m\u001b[0;34m:\u001b[0m \u001b[0mnp\u001b[0m\u001b[0;34m.\u001b[0m\u001b[0mndarray\u001b[0m\u001b[0;34m=\u001b[0m\u001b[0;32mNone\u001b[0m\u001b[0;34m,\u001b[0m\u001b[0;34m\u001b[0m\u001b[0;34m\u001b[0m\u001b[0m\n\u001b[0;32m---> 80\u001b[0;31m                  \u001b[0mtransitions\u001b[0m\u001b[0;34m:\u001b[0m \u001b[0mTransitions\u001b[0m\u001b[0;34m=\u001b[0m\u001b[0;32mNone\u001b[0m\u001b[0;34m,\u001b[0m\u001b[0;34m\u001b[0m\u001b[0;34m\u001b[0m\u001b[0m\n\u001b[0m\u001b[1;32m     81\u001b[0m                  \u001b[0mtransition_matrix\u001b[0m\u001b[0;34m:\u001b[0m \u001b[0mnp\u001b[0m\u001b[0;34m.\u001b[0m\u001b[0mndarray\u001b[0m\u001b[0;34m=\u001b[0m\u001b[0;32mNone\u001b[0m\u001b[0;34m,\u001b[0m\u001b[0;34m\u001b[0m\u001b[0;34m\u001b[0m\u001b[0m\n\u001b[1;32m     82\u001b[0m                  \u001b[0memission_means\u001b[0m\u001b[0;34m:\u001b[0m \u001b[0mnp\u001b[0m\u001b[0;34m.\u001b[0m\u001b[0mndarray\u001b[0m\u001b[0;34m=\u001b[0m\u001b[0;32mNone\u001b[0m\u001b[0;34m,\u001b[0m\u001b[0;34m\u001b[0m\u001b[0;34m\u001b[0m\u001b[0m\n",
      "\u001b[0;31mNameError\u001b[0m: name 'Transitions' is not defined"
     ]
    }
   ],
   "source": [
    "import jax.random as jr\n",
    "import jax.numpy as np\n",
    "import matplotlib.pyplot as plt\n",
    "from tensorflow_probability.substrates import jax as tfp\n",
    "\n",
    "from ssm.hmm import GaussianHMM\n",
    "from ssm.plots import gradient_cmap\n",
    "from ssm.utils import find_permutation\n",
    "import warnings\n",
    "\n",
    "import seaborn as sns\n",
    "sns.set_style(\"white\")\n",
    "sns.set_context(\"talk\")\n",
    "\n",
    "color_names = [\n",
    "    \"windows blue\",\n",
    "    \"red\",\n",
    "    \"amber\",\n",
    "    \"faded green\",\n",
    "    \"dusty purple\",\n",
    "    \"orange\"\n",
    "    ]\n",
    "\n",
    "colors = sns.xkcd_palette(color_names)\n",
    "cmap = gradient_cmap(colors)\n",
    "\n",
    "def plot_transition_matrix(transition_matrix):\n",
    "    plt.imshow(transition_matrix, vmin=0, vmax=1, cmap=\"Greys\")\n",
    "    plt.xlabel(\"next state\")\n",
    "    plt.ylabel(\"current state\")\n",
    "    plt.colorbar()\n",
    "    plt.show()\n",
    "    \n",
    "def compare_transition_matrix(true_matrix, test_matrix):\n",
    "    fig, axs = plt.subplots(1, 2)\n",
    "    out = axs[0].imshow(true_matrix, vmin=0, vmax=1, cmap=\"Greys\")\n",
    "    axs[1].imshow(test_matrix, vmin=0, vmax=1, cmap=\"Greys\")\n",
    "    axs[0].set_title(\"True Transition Matrix\")\n",
    "    axs[1].set_title(\"Test Transition Matrix\")\n",
    "    cax = fig.add_axes([axs[1].get_position().x1 + 0.07,\n",
    "                        axs[1].get_position().y0,\n",
    "                        0.02,\n",
    "                        axs[1].get_position().y1-axs[1].get_position().y0])\n",
    "    plt.colorbar(out, cax=cax)\n",
    "    plt.show()\n",
    "\n",
    "def plot_hmm_data(obs, states):\n",
    "    lim = 1.01 * abs(obs).max()\n",
    "    time_bins, obs_dim = obs.shape\n",
    "    plt.figure(figsize=(8, 3))\n",
    "    plt.imshow(states[None,:],\n",
    "            aspect=\"auto\",\n",
    "            cmap=cmap,\n",
    "            vmin=0,\n",
    "            vmax=len(colors)-1,\n",
    "            extent=(0, time_bins, -lim, (obs_dim)*lim))\n",
    "\n",
    "    for d in range(obs_dim):\n",
    "        plt.plot(obs[:,d] + lim * d, '-k')\n",
    "\n",
    "    plt.xlim(0, time_bins)\n",
    "    plt.xlabel(\"time\")\n",
    "    plt.yticks(lim * np.arange(obs_dim), [\"$x_{}$\".format(d+1) for d in range(obs_dim)])\n",
    "\n",
    "    plt.title(\"Simulated data from an HMM\")\n",
    "\n",
    "    plt.tight_layout()\n",
    "    \n",
    "def plot_posterior_states(Ez, states, perm):\n",
    "    plt.figure(figsize=(20, 2))\n",
    "    plt.imshow(Ez.T[perm], aspect=\"auto\", interpolation=\"none\", cmap=\"Greys\")\n",
    "    plt.plot(states, label=\"True State\")\n",
    "    plt.plot(Ez.T[perm].argmax(axis=0), '--', label=\"Predicted State\")\n",
    "    plt.xlabel(\"time\")\n",
    "    plt.ylabel(\"latent state\")\n",
    "    plt.legend(bbox_to_anchor=(1,1))\n",
    "    plt.title(\"Predicted vs. Ground Truth Latent State\")\n",
    "    plt.show()"
   ]
  },
  {
   "cell_type": "markdown",
   "metadata": {},
   "source": [
    "# 1: Gaussian HMM"
   ]
  },
  {
   "cell_type": "markdown",
   "metadata": {},
   "source": [
    "#### First, let's create a ground truth HMM model"
   ]
  },
  {
   "cell_type": "code",
   "execution_count": null,
   "metadata": {},
   "outputs": [],
   "source": [
    "# define some parameters\n",
    "num_states = 3\n",
    "num_emission_dims = 2\n",
    "\n",
    "transition_matrix = 0.9 * np.eye(num_states) \\\n",
    "                    + 0.1 * np.roll(np.eye(num_states), 1, axis=1)\n",
    "\n",
    "emission_means = np.arange(6, dtype=float).reshape((3, 2)) - 3\n",
    "emission_covariance=0.25**2 * np.eye(num_emission_dims)\n",
    "\n",
    "# create the model\n",
    "true_hmm = GaussianHMM(\n",
    "    num_states=num_states, \n",
    "    num_emission_dims=num_emission_dims,\n",
    "    transition_matrix=transition_matrix,\n",
    "    emission_means=emission_means,\n",
    "    emission_covariances=emission_covariance)\n",
    "\n",
    "# sample latent states, observations (data) from the model\n",
    "num_timesteps = 1000\n",
    "states, data = true_hmm.sample(jr.PRNGKey(0), num_timesteps)\n",
    "\n",
    "# view the sampled data\n",
    "plot_transition_matrix(transition_matrix)\n",
    "plot_hmm_data(data, states)"
   ]
  },
  {
   "cell_type": "markdown",
   "metadata": {},
   "source": [
    "## Fit Gaussian HMM using EM on a single trial"
   ]
  },
  {
   "cell_type": "code",
   "execution_count": null,
   "metadata": {},
   "outputs": [],
   "source": [
    "# we initialize a random HMM which we will fit to our data\n",
    "seed = jr.PRNGKey(1)\n",
    "num_states_est = 3\n",
    "\n",
    "test_hmm = GaussianHMM(\n",
    "    num_states=num_states, \n",
    "    num_emission_dims=num_emission_dims,\n",
    "    seed=seed)"
   ]
  },
  {
   "cell_type": "code",
   "execution_count": null,
   "metadata": {},
   "outputs": [],
   "source": [
    "# fit the model using EM (for Gaussian HMM, we can perform exact EM)\n",
    "log_probs, fitted_hmm, posterior = test_hmm.fit(data, method=\"em\", tol=1e-5)\n",
    "\n",
    "# plot the marginal log probability of the data as a function of number of fit steps\n",
    "plt.plot(log_probs)\n",
    "plt.ylabel(\"Log probability\")\n",
    "plt.xlabel(\"Iteration\")\n",
    "plt.show()"
   ]
  },
  {
   "cell_type": "markdown",
   "metadata": {},
   "source": [
    "### Let's inspect the fitted model"
   ]
  },
  {
   "cell_type": "code",
   "execution_count": null,
   "metadata": {},
   "outputs": [],
   "source": [
    "# We can obtain the expected states from the posterior over latent states\n",
    "Ez = posterior.expected_states[0]\n",
    "\n",
    "# For discrete states, we can freely permute the state identity\n",
    "# here, we find the best permutation to match up to our known states\n",
    "# so that it's easier to compare our inferred states with the ground truth.\n",
    "perm = find_permutation(states, np.argmax(Ez, axis=-1))"
   ]
  },
  {
   "cell_type": "code",
   "execution_count": null,
   "metadata": {},
   "outputs": [],
   "source": [
    "# Here, we compare the true and inferred transition matrix\n",
    "compare_transition_matrix(true_hmm.transition_matrix, fitted_hmm.transition_matrix)"
   ]
  },
  {
   "cell_type": "code",
   "execution_count": null,
   "metadata": {},
   "outputs": [],
   "source": [
    "# Here, we plot the inferred state against the true state as a function of time. \n",
    "# The black rectangles represent the probability of the inferred state. We can \n",
    "# see that the model is very confident about the different state assignments.\n",
    "\n",
    "plt.figure(figsize=(10, 2))\n",
    "plt.imshow(Ez.T[perm, :], aspect=\"auto\", interpolation=\"none\", vmin=0, vmax=1, cmap=\"Greys\")\n",
    "plt.plot(states, '-', label=\"True State\")\n",
    "# plt.plot(Ez.T[perm, :].argmax(axis=0), '--', label=\"Predicted State\")\n",
    "plt.legend(bbox_to_anchor=(1,1))\n",
    "plt.xlabel(\"Time\")\n",
    "plt.ylabel(\"State\")\n",
    "plt.show()"
   ]
  },
  {
   "cell_type": "markdown",
   "metadata": {},
   "source": [
    "## Fit Gaussian HMM on Multiple Trials"
   ]
  },
  {
   "cell_type": "code",
   "execution_count": null,
   "metadata": {},
   "outputs": [],
   "source": [
    "rng = jr.PRNGKey(0)\n",
    "num_steps = 1000\n",
    "num_trials = 5\n",
    "\n",
    "all_states, all_data = true_hmm.sample(rng, num_steps=num_steps, num_samples=num_trials)"
   ]
  },
  {
   "cell_type": "code",
   "execution_count": null,
   "metadata": {},
   "outputs": [],
   "source": [
    "# here, we fit across the entire dataset using EM\n",
    "# this is implemented by vmapping over the batch dim of our dataset\n",
    "lps, fitted_hmm, posteriors = test_hmm.fit(all_data, method=\"em\")"
   ]
  },
  {
   "cell_type": "code",
   "execution_count": null,
   "metadata": {},
   "outputs": [],
   "source": [
    "# notice that our posteriors object has a batch dim for it's properties\n",
    "# (one for each of the trials in our dataset)\n",
    "print(posteriors.expected_states.shape)"
   ]
  },
  {
   "cell_type": "markdown",
   "metadata": {},
   "source": [
    "### Let's inspect our fitted model\n",
    "\n",
    "With the additional trial examples, we notice that our model has recovered more of the true transition matrix!"
   ]
  },
  {
   "cell_type": "code",
   "execution_count": null,
   "metadata": {},
   "outputs": [],
   "source": [
    "# Here, we compare the true and inferred transition matrix\n",
    "Ez = posteriors.expected_states\n",
    "perm = find_permutation(all_states[0], np.argmax(Ez[0], axis=-1))\n",
    "compare_transition_matrix(true_hmm.transition_matrix, fitted_hmm.transition_matrix[np.ix_(perm, perm)])"
   ]
  }
 ],
 "metadata": {
  "interpreter": {
   "hash": "1c9b7abd99f812592e04518a2dddca5f7bc8ca20b74b8ad7e1b8422bf8e8c0a8"
  },
  "kernelspec": {
   "display_name": "Python 3",
   "language": "python",
   "name": "python3"
  },
  "language_info": {
   "codemirror_mode": {
    "name": "ipython",
    "version": 3
   },
   "file_extension": ".py",
   "mimetype": "text/x-python",
   "name": "python",
   "nbconvert_exporter": "python",
   "pygments_lexer": "ipython3",
   "version": "3.8.10"
  }
 },
 "nbformat": 4,
 "nbformat_minor": 4
}
