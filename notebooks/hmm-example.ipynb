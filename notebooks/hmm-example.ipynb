{
 "cells": [
  {
   "cell_type": "markdown",
   "metadata": {},
   "source": [
    "# HMM Example Notebook\n",
    "\n",
    "* Gaussian HMM\n",
    "* Poisson HMM"
   ]
  },
  {
   "cell_type": "code",
   "execution_count": 1,
   "metadata": {},
   "outputs": [],
   "source": [
    "%load_ext autoreload\n",
    "%autoreload 2"
   ]
  },
  {
   "cell_type": "markdown",
   "metadata": {},
   "source": [
    "#### Imports and Plotting Functions "
   ]
  },
  {
   "cell_type": "code",
   "execution_count": 2,
   "metadata": {},
   "outputs": [
    {
     "ename": "AttributeError",
     "evalue": "module 'ssm' has no attribute 'hmm'",
     "output_type": "error",
     "traceback": [
      "\u001b[0;31m---------------------------------------------------------------------------\u001b[0m",
      "\u001b[0;31mAttributeError\u001b[0m                            Traceback (most recent call last)",
      "\u001b[0;32m/var/folders/03/7y894xkj7k7266681pht1hw40000gn/T/ipykernel_18097/3831379207.py\u001b[0m in \u001b[0;36m<module>\u001b[0;34m\u001b[0m\n\u001b[1;32m      4\u001b[0m \u001b[0;32mfrom\u001b[0m \u001b[0mtensorflow_probability\u001b[0m\u001b[0;34m.\u001b[0m\u001b[0msubstrates\u001b[0m \u001b[0;32mimport\u001b[0m \u001b[0mjax\u001b[0m \u001b[0;32mas\u001b[0m \u001b[0mtfp\u001b[0m\u001b[0;34m\u001b[0m\u001b[0;34m\u001b[0m\u001b[0m\n\u001b[1;32m      5\u001b[0m \u001b[0;34m\u001b[0m\u001b[0m\n\u001b[0;32m----> 6\u001b[0;31m \u001b[0;32mfrom\u001b[0m \u001b[0mssm\u001b[0m\u001b[0;34m.\u001b[0m\u001b[0mhmm\u001b[0m \u001b[0;32mimport\u001b[0m \u001b[0mGaussianHMM\u001b[0m\u001b[0;34m\u001b[0m\u001b[0;34m\u001b[0m\u001b[0m\n\u001b[0m\u001b[1;32m      7\u001b[0m \u001b[0;32mfrom\u001b[0m \u001b[0mssm\u001b[0m\u001b[0;34m.\u001b[0m\u001b[0mplots\u001b[0m \u001b[0;32mimport\u001b[0m \u001b[0mgradient_cmap\u001b[0m\u001b[0;34m\u001b[0m\u001b[0;34m\u001b[0m\u001b[0m\n\u001b[1;32m      8\u001b[0m \u001b[0;32mfrom\u001b[0m \u001b[0mssm\u001b[0m\u001b[0;34m.\u001b[0m\u001b[0mutils\u001b[0m \u001b[0;32mimport\u001b[0m \u001b[0mfind_permutation\u001b[0m\u001b[0;34m\u001b[0m\u001b[0;34m\u001b[0m\u001b[0m\n",
      "\u001b[0;32m~/Projects/ssm-jax-refactor/ssm/hmm/__init__.py\u001b[0m in \u001b[0;36m<module>\u001b[0;34m\u001b[0m\n\u001b[0;32m----> 1\u001b[0;31m \u001b[0;32mfrom\u001b[0m \u001b[0mssm\u001b[0m\u001b[0;34m.\u001b[0m\u001b[0mhmm\u001b[0m\u001b[0;34m.\u001b[0m\u001b[0mbase\u001b[0m \u001b[0;32mimport\u001b[0m \u001b[0mHMM\u001b[0m\u001b[0;34m,\u001b[0m \u001b[0mAutoregressiveHMM\u001b[0m\u001b[0;34m\u001b[0m\u001b[0;34m\u001b[0m\u001b[0m\n\u001b[0m\u001b[1;32m      2\u001b[0m \u001b[0;32mfrom\u001b[0m \u001b[0mssm\u001b[0m\u001b[0;34m.\u001b[0m\u001b[0mhmm\u001b[0m\u001b[0;34m.\u001b[0m\u001b[0memissions\u001b[0m \u001b[0;32mimport\u001b[0m \u001b[0mEmissions\u001b[0m\u001b[0;34m,\u001b[0m \u001b[0mGaussianEmissions\u001b[0m\u001b[0;34m,\u001b[0m \u001b[0mPoissonEmissions\u001b[0m\u001b[0;34m,\u001b[0m \u001b[0mAutoregressiveEmissions\u001b[0m\u001b[0;34m\u001b[0m\u001b[0;34m\u001b[0m\u001b[0m\n\u001b[1;32m      3\u001b[0m \u001b[0;32mfrom\u001b[0m \u001b[0mssm\u001b[0m\u001b[0;34m.\u001b[0m\u001b[0mhmm\u001b[0m\u001b[0;34m.\u001b[0m\u001b[0minitial\u001b[0m \u001b[0;32mimport\u001b[0m \u001b[0mInitialCondition\u001b[0m\u001b[0;34m,\u001b[0m \u001b[0mStandardInitialCondition\u001b[0m\u001b[0;34m\u001b[0m\u001b[0;34m\u001b[0m\u001b[0m\n\u001b[1;32m      4\u001b[0m \u001b[0;32mfrom\u001b[0m \u001b[0mssm\u001b[0m\u001b[0;34m.\u001b[0m\u001b[0mhmm\u001b[0m\u001b[0;34m.\u001b[0m\u001b[0mmodels\u001b[0m \u001b[0;32mimport\u001b[0m \u001b[0mGaussianHMM\u001b[0m\u001b[0;34m\u001b[0m\u001b[0;34m\u001b[0m\u001b[0m\n\u001b[1;32m      5\u001b[0m \u001b[0;32mfrom\u001b[0m \u001b[0mssm\u001b[0m\u001b[0;34m.\u001b[0m\u001b[0mhmm\u001b[0m\u001b[0;34m.\u001b[0m\u001b[0mtransitions\u001b[0m \u001b[0;32mimport\u001b[0m \u001b[0mTransitions\u001b[0m\u001b[0;34m,\u001b[0m \u001b[0mStationaryTransitions\u001b[0m\u001b[0;34m\u001b[0m\u001b[0;34m\u001b[0m\u001b[0m\n",
      "\u001b[0;32m~/Projects/ssm-jax-refactor/ssm/hmm/base.py\u001b[0m in \u001b[0;36m<module>\u001b[0;34m\u001b[0m\n\u001b[1;32m     30\u001b[0m \u001b[0;32mimport\u001b[0m \u001b[0mssm\u001b[0m\u001b[0;34m.\u001b[0m\u001b[0mhmm\u001b[0m\u001b[0;34m.\u001b[0m\u001b[0memissions\u001b[0m\u001b[0;34m\u001b[0m\u001b[0;34m\u001b[0m\u001b[0m\n\u001b[1;32m     31\u001b[0m \u001b[0;34m\u001b[0m\u001b[0m\n\u001b[0;32m---> 32\u001b[0;31m \u001b[0;32mclass\u001b[0m \u001b[0mHMM\u001b[0m\u001b[0;34m(\u001b[0m\u001b[0mSSM\u001b[0m\u001b[0;34m)\u001b[0m\u001b[0;34m:\u001b[0m\u001b[0;34m\u001b[0m\u001b[0;34m\u001b[0m\u001b[0m\n\u001b[0m\u001b[1;32m     33\u001b[0m \u001b[0;34m\u001b[0m\u001b[0m\n\u001b[1;32m     34\u001b[0m     def __init__(self, num_states: int,\n",
      "\u001b[0;32m~/Projects/ssm-jax-refactor/ssm/hmm/base.py\u001b[0m in \u001b[0;36mHMM\u001b[0;34m()\u001b[0m\n\u001b[1;32m     33\u001b[0m \u001b[0;34m\u001b[0m\u001b[0m\n\u001b[1;32m     34\u001b[0m     def __init__(self, num_states: int,\n\u001b[0;32m---> 35\u001b[0;31m                  \u001b[0minitial_condition\u001b[0m\u001b[0;34m:\u001b[0m \u001b[0mssm\u001b[0m\u001b[0;34m.\u001b[0m\u001b[0mhmm\u001b[0m\u001b[0;34m.\u001b[0m\u001b[0minitial\u001b[0m\u001b[0;34m.\u001b[0m\u001b[0mInitialCondition\u001b[0m\u001b[0;34m,\u001b[0m\u001b[0;34m\u001b[0m\u001b[0;34m\u001b[0m\u001b[0m\n\u001b[0m\u001b[1;32m     36\u001b[0m                  \u001b[0mtransitions\u001b[0m\u001b[0;34m:\u001b[0m \u001b[0mssm\u001b[0m\u001b[0;34m.\u001b[0m\u001b[0mhmm\u001b[0m\u001b[0;34m.\u001b[0m\u001b[0mtransitions\u001b[0m\u001b[0;34m.\u001b[0m\u001b[0mTransitions\u001b[0m\u001b[0;34m,\u001b[0m\u001b[0;34m\u001b[0m\u001b[0;34m\u001b[0m\u001b[0m\n\u001b[1;32m     37\u001b[0m                  \u001b[0memissions\u001b[0m\u001b[0;34m:\u001b[0m \u001b[0mssm\u001b[0m\u001b[0;34m.\u001b[0m\u001b[0mhmm\u001b[0m\u001b[0;34m.\u001b[0m\u001b[0memissions\u001b[0m\u001b[0;34m.\u001b[0m\u001b[0mEmissions\u001b[0m\u001b[0;34m,\u001b[0m\u001b[0;34m\u001b[0m\u001b[0;34m\u001b[0m\u001b[0m\n",
      "\u001b[0;31mAttributeError\u001b[0m: module 'ssm' has no attribute 'hmm'"
     ]
    }
   ],
   "source": [
    "import jax.random as jr\n",
    "import jax.numpy as np\n",
    "import matplotlib.pyplot as plt\n",
    "from tensorflow_probability.substrates import jax as tfp\n",
    "\n",
    "from ssm.hmm import GaussianHMM\n",
    "from ssm.plots import gradient_cmap\n",
    "from ssm.utils import find_permutation\n",
    "import warnings\n",
    "\n",
    "import seaborn as sns\n",
    "sns.set_style(\"white\")\n",
    "sns.set_context(\"talk\")\n",
    "\n",
    "color_names = [\n",
    "    \"windows blue\",\n",
    "    \"red\",\n",
    "    \"amber\",\n",
    "    \"faded green\",\n",
    "    \"dusty purple\",\n",
    "    \"orange\"\n",
    "    ]\n",
    "\n",
    "colors = sns.xkcd_palette(color_names)\n",
    "cmap = gradient_cmap(colors)\n",
    "\n",
    "def plot_transition_matrix(transition_matrix):\n",
    "    plt.imshow(transition_matrix, vmin=0, vmax=1, cmap=\"Greys\")\n",
    "    plt.xlabel(\"next state\")\n",
    "    plt.ylabel(\"current state\")\n",
    "    plt.colorbar()\n",
    "    plt.show()\n",
    "    \n",
    "def compare_transition_matrix(true_matrix, test_matrix):\n",
    "    fig, axs = plt.subplots(1, 2)\n",
    "    out = axs[0].imshow(true_matrix, vmin=0, vmax=1, cmap=\"Greys\")\n",
    "    axs[1].imshow(test_matrix, vmin=0, vmax=1, cmap=\"Greys\")\n",
    "    axs[0].set_title(\"True Transition Matrix\")\n",
    "    axs[1].set_title(\"Test Transition Matrix\")\n",
    "    cax = fig.add_axes([axs[1].get_position().x1 + 0.07,\n",
    "                        axs[1].get_position().y0,\n",
    "                        0.02,\n",
    "                        axs[1].get_position().y1-axs[1].get_position().y0])\n",
    "    plt.colorbar(out, cax=cax)\n",
    "    plt.show()\n",
    "\n",
    "def plot_hmm_data(obs, states):\n",
    "    lim = 1.01 * abs(obs).max()\n",
    "    time_bins, obs_dim = obs.shape\n",
    "    plt.figure(figsize=(8, 3))\n",
    "    plt.imshow(states[None,:],\n",
    "            aspect=\"auto\",\n",
    "            cmap=cmap,\n",
    "            vmin=0,\n",
    "            vmax=len(colors)-1,\n",
    "            extent=(0, time_bins, -lim, (obs_dim)*lim))\n",
    "\n",
    "    for d in range(obs_dim):\n",
    "        plt.plot(obs[:,d] + lim * d, '-k')\n",
    "\n",
    "    plt.xlim(0, time_bins)\n",
    "    plt.xlabel(\"time\")\n",
    "    plt.yticks(lim * np.arange(obs_dim), [\"$x_{}$\".format(d+1) for d in range(obs_dim)])\n",
    "\n",
    "    plt.title(\"Simulated data from an HMM\")\n",
    "\n",
    "    plt.tight_layout()\n",
    "    \n",
    "def plot_posterior_states(Ez, states, perm):\n",
    "    plt.figure(figsize=(20, 2))\n",
    "    plt.imshow(Ez.T[perm], aspect=\"auto\", interpolation=\"none\", cmap=\"Greys\")\n",
    "    plt.plot(states, label=\"True State\")\n",
    "    plt.plot(Ez.T[perm].argmax(axis=0), '--', label=\"Predicted State\")\n",
    "    plt.xlabel(\"time\")\n",
    "    plt.ylabel(\"latent state\")\n",
    "    plt.legend(bbox_to_anchor=(1,1))\n",
    "    plt.title(\"Predicted vs. Ground Truth Latent State\")\n",
    "    plt.show()"
   ]
  },
  {
   "cell_type": "markdown",
   "metadata": {},
   "source": [
    "# 1: Gaussian HMM"
   ]
  },
  {
   "cell_type": "markdown",
   "metadata": {},
   "source": [
    "#### First, let's create a ground truth HMM model"
   ]
  },
  {
   "cell_type": "code",
   "execution_count": null,
   "metadata": {},
   "outputs": [],
   "source": [
    "# define some parameters\n",
    "num_states = 3\n",
    "emission_dim = 2\n",
    "initial_distribution = tfp.distributions.Categorical(logits=np.zeros(num_states))\n",
    "\n",
    "transition_matrix = 0.9 * np.eye(num_states) \\\n",
    "                    + 0.1 * np.roll(np.eye(num_states), 1, axis=1)\n",
    "transition_distribution = tfp.distributions.Categorical(probs=transition_matrix)\n",
    "\n",
    "emission_means = np.arange(6, dtype=float).reshape((3, 2)) - 3\n",
    "emission_scale_trils=0.25 * np.eye(emission_dim)\n",
    "emission_distribution = tfp.distributions.MultivariateNormalTriL(emission_means, emission_scale_trils)\n",
    "\n",
    "# create the model\n",
    "true_hmm = GaussianHMM(\n",
    "    num_states=num_states, \n",
    "    initial_distribution=initial_distribution,\n",
    "    transition_distribution=transition_distribution,\n",
    "    emission_distribution=emission_distribution,\n",
    "    )\n",
    "\n",
    "# sample latent states, observations (data) from the model\n",
    "num_timesteps = 1000\n",
    "states, data = true_hmm.sample(jr.PRNGKey(0), num_timesteps)\n",
    "\n",
    "# view the sampled data\n",
    "plot_transition_matrix(transition_matrix)\n",
    "plot_hmm_data(data, states)"
   ]
  },
  {
   "cell_type": "markdown",
   "metadata": {},
   "source": [
    "## Fit Gaussian HMM using EM on a single trial"
   ]
  },
  {
   "cell_type": "code",
   "execution_count": null,
   "metadata": {},
   "outputs": [],
   "source": [
    "# we initialize a random HMM which we will fit to our data\n",
    "seed = jr.PRNGKey(1)\n",
    "num_states_est = 3\n",
    "\n",
    "initial_distribution = tfp.distributions.Categorical(logits=np.zeros(num_states))\n",
    "transition_distribution = tfp.distributions.Categorical(logits=np.zeros((num_states, num_states)))\n",
    "\n",
    "emission_means = 3 * jr.normal(seed, shape=(num_states_est, 2))\n",
    "emission_scale_trils = np.eye(emission_dim)\n",
    "emission_distribution = tfp.distributions.MultivariateNormalTriL(emission_means, emission_scale_trils)\n",
    "\n",
    "test_hmm = GaussianHMM(\n",
    "    num_states=num_states, \n",
    "    initial_distribution=initial_distribution,\n",
    "    transition_distribution=transition_distribution,\n",
    "    emission_distribution=emission_distribution,\n",
    "    )\n",
    "\n",
    "# fit the model using EM (for Gaussian HMM, we can perform exact EM)\n",
    "log_probs, fitted_hmm, posterior = test_hmm.fit(data, method=\"em\", tol=1e-5)\n",
    "\n",
    "# plot the marginal log probability of the data as a function of number of fit steps\n",
    "plt.plot(log_probs)\n",
    "plt.ylabel(\"Log probability\")\n",
    "plt.xlabel(\"Iteration\")\n",
    "plt.show()"
   ]
  },
  {
   "cell_type": "markdown",
   "metadata": {},
   "source": [
    "### Let's inspect the fitted model"
   ]
  },
  {
   "cell_type": "code",
   "execution_count": null,
   "metadata": {},
   "outputs": [],
   "source": [
    "# We can obtain the expected states from the posterior over latent states\n",
    "Ez = posterior.expected_states[0]\n",
    "\n",
    "# For discrete states, we can freely permute the state identity\n",
    "# here, we find the best permutation to match up to our known states\n",
    "# so that it's easier to compare our inferred states with the ground truth.\n",
    "perm = find_permutation(states, np.argmax(Ez, axis=-1))"
   ]
  },
  {
   "cell_type": "code",
   "execution_count": null,
   "metadata": {},
   "outputs": [],
   "source": [
    "# Here, we compare the true and inferred transition matrix\n",
    "compare_transition_matrix(true_hmm.transition_matrix, fitted_hmm.transition_matrix)"
   ]
  },
  {
   "cell_type": "code",
   "execution_count": null,
   "metadata": {},
   "outputs": [],
   "source": [
    "# Here, we plot the inferred state against the true state as a function of time. \n",
    "# The black rectangles represent the probability of the inferred state. We can \n",
    "# see that the model is very confident about the different state assignments.\n",
    "\n",
    "plt.figure(figsize=(10, 2))\n",
    "plt.imshow(Ez.T[perm, :], aspect=\"auto\", interpolation=\"none\", vmin=0, vmax=1, cmap=\"Greys\")\n",
    "plt.plot(states, '-', label=\"True State\")\n",
    "plt.plot(Ez.T[perm, :].argmax(axis=0), '--', label=\"Predicted State\")\n",
    "plt.legend(bbox_to_anchor=(1,1))\n",
    "plt.xlabel(\"Time\")\n",
    "plt.ylabel(\"State\")\n",
    "plt.show()"
   ]
  },
  {
   "cell_type": "markdown",
   "metadata": {},
   "source": [
    "## Fit Gaussian HMM on Multiple Trials"
   ]
  },
  {
   "cell_type": "code",
   "execution_count": null,
   "metadata": {},
   "outputs": [],
   "source": [
    "rng = jr.PRNGKey(0)\n",
    "num_steps = 1000\n",
    "num_trials = 5\n",
    "\n",
    "all_states, all_data = true_hmm.sample(rng, num_steps=num_steps, num_samples=num_trials)"
   ]
  },
  {
   "cell_type": "code",
   "execution_count": null,
   "metadata": {},
   "outputs": [],
   "source": [
    "# now we have a batch dim of `num_trials`\n",
    "print(all_states.shape)\n",
    "print(all_data.shape)"
   ]
  },
  {
   "cell_type": "code",
   "execution_count": null,
   "metadata": {},
   "outputs": [],
   "source": [
    "# here, we fit across the entire dataset using EM\n",
    "# this is implemented by vmapping over the batch dim of our dataset\n",
    "lps, fitted_hmm, posteriors = test_hmm.fit(all_data, method=\"em\")"
   ]
  },
  {
   "cell_type": "code",
   "execution_count": null,
   "metadata": {},
   "outputs": [],
   "source": [
    "# notice that our posteriors object has a batch dim for it's properties\n",
    "# (one for each of the trials in our dataset)\n",
    "print(posteriors.expected_states.shape)"
   ]
  },
  {
   "cell_type": "markdown",
   "metadata": {},
   "source": [
    "### Let's inspect our fitted model\n",
    "\n",
    "With the additional trial examples, we notice that our model has recovered more of the true transition matrix!"
   ]
  },
  {
   "cell_type": "code",
   "execution_count": null,
   "metadata": {},
   "outputs": [],
   "source": [
    "posteriors.expected_transitions.sum(axis=0).round(1)"
   ]
  },
  {
   "cell_type": "code",
   "execution_count": null,
   "metadata": {},
   "outputs": [],
   "source": [
    "# Here, we compare the true and inferred transition matrix\n",
    "compare_transition_matrix(true_hmm.transition_matrix, fitted_hmm.transition_matrix[np.ix_(perm, perm)])"
   ]
  },
  {
   "cell_type": "markdown",
   "metadata": {},
   "source": [
    "# 2. Poisson HMM"
   ]
  },
  {
   "cell_type": "markdown",
   "metadata": {},
   "source": [
    "### As before, let's create a true model"
   ]
  },
  {
   "cell_type": "code",
   "execution_count": null,
   "metadata": {},
   "outputs": [],
   "source": [
    "num_states = 5\n",
    "num_channels = 10\n",
    "initial_distribution = tfp.distributions.Categorical(logits=np.zeros(num_states))\n",
    "\n",
    "transition_matrix = 0.90 * np.eye(num_states) + 0.10 * np.ones((num_states, num_states)) / num_states\n",
    "transition_distribution = tfp.distributions.Categorical(probs=transition_matrix)\n",
    "\n",
    "emission_means = tfp.distributions.Gamma(3.0, 1.0).sample(seed=jr.PRNGKey(0), sample_shape=(num_states, num_channels))\n",
    "emission_distribution = tfp.distributions.Independent(tfp.distributions.Poisson(emission_means), reinterpreted_batch_ndims=1)\n",
    "\n",
    "poisson_hmm = PoissonHMM(num_states, initial_distribution, transition_distribution, emission_distribution)"
   ]
  },
  {
   "cell_type": "markdown",
   "metadata": {},
   "source": [
    "### From the true model, we can sample synthetic data"
   ]
  },
  {
   "cell_type": "code",
   "execution_count": null,
   "metadata": {},
   "outputs": [],
   "source": [
    "rng = jr.PRNGKey(0)\n",
    "num_timesteps = 500\n",
    "\n",
    "# There's an annoying warning/bug when sampling from Poisson TFP distributions currently\n",
    "# We can suppress the warning here for convenience\n",
    "with warnings.catch_warnings():\n",
    "    warnings.filterwarnings(\"ignore\", \"Explicitly requested dtype\")\n",
    "    states, data = poisson_hmm.sample(rng, num_timesteps)"
   ]
  },
  {
   "cell_type": "markdown",
   "metadata": {},
   "source": [
    "### Let's view the synthetic data"
   ]
  },
  {
   "cell_type": "code",
   "execution_count": null,
   "metadata": {},
   "outputs": [],
   "source": [
    "plot_transition_matrix(poisson_hmm.transition_matrix)\n",
    "\n",
    "fig, axs = plt.subplots(2, 1, sharex=True, figsize=(20, 8))\n",
    "axs[0].imshow(data.T, aspect=\"auto\", interpolation=\"none\")\n",
    "axs[0].set_ylabel(\"neuron\")\n",
    "axs[0].set_title(\"Neuron Spiking Activity\")\n",
    "axs[1].plot(states)\n",
    "axs[1].set_title(\"Latent State\")\n",
    "axs[1].set_xlabel(\"time\")\n",
    "axs[1].set_ylabel(\"state\")\n",
    "plt.show()"
   ]
  },
  {
   "cell_type": "markdown",
   "metadata": {},
   "source": [
    "## Fit HMM using exact EM update"
   ]
  },
  {
   "cell_type": "code",
   "execution_count": null,
   "metadata": {},
   "outputs": [],
   "source": [
    "initial_distribution = tfp.distributions.Categorical(logits=np.zeros(num_states))\n",
    "transition_distribution = tfp.distributions.Categorical(logits=np.zeros((num_states, num_states)))\n",
    "emission_means = tfp.distributions.Gamma(3.0, 1.0).sample(seed=jr.PRNGKey(0), sample_shape=(num_states, num_channels))\n",
    "emission_distribution = tfp.distributions.Independent(tfp.distributions.Poisson(emission_means), reinterpreted_batch_ndims=1)\n",
    "\n",
    "test_hmm = PoissonHMM(num_states, initial_distribution, transition_distribution, emission_distribution)\n",
    "\n",
    "\n",
    "lps, test_hmm, posterior = test_hmm.fit(data, method=\"em\")"
   ]
  },
  {
   "cell_type": "code",
   "execution_count": null,
   "metadata": {},
   "outputs": [],
   "source": [
    "# Plot the log probabilities\n",
    "plt.plot(lps)\n",
    "plt.xlabel(\"iteration\")\n",
    "plt.ylabel(\"log likelihood\")\n",
    "\n",
    "# Compare the transition matrices\n",
    "compare_transition_matrix(poisson_hmm.transition_matrix, test_hmm.transition_matrix)"
   ]
  },
  {
   "cell_type": "code",
   "execution_count": null,
   "metadata": {},
   "outputs": [],
   "source": [
    "# Posterior distribution\n",
    "Ez = posterior.expected_states.reshape(-1, num_states)\n",
    "perm = find_permutation(states, np.argmax(Ez, axis=-1))\n",
    "plot_posterior_states(Ez, states, perm)"
   ]
  },
  {
   "cell_type": "markdown",
   "metadata": {},
   "source": [
    "## Fit Poisson HMM over multiple trials"
   ]
  },
  {
   "cell_type": "code",
   "execution_count": null,
   "metadata": {},
   "outputs": [],
   "source": [
    "rng = jr.PRNGKey(0)\n",
    "num_timesteps = 500\n",
    "num_trials = 5\n",
    "\n",
    "# once again, we suppress the warnings\n",
    "with warnings.catch_warnings():\n",
    "    warnings.filterwarnings(\"ignore\", \"Explicitly requested dtype\")\n",
    "    all_states, all_data = poisson_hmm.sample(rng, num_timesteps, num_samples=num_trials)"
   ]
  },
  {
   "cell_type": "code",
   "execution_count": null,
   "metadata": {},
   "outputs": [],
   "source": [
    "# Now we have a batch dimension of size `num_trials`\n",
    "print(all_states.shape)\n",
    "print(all_data.shape)"
   ]
  },
  {
   "cell_type": "code",
   "execution_count": null,
   "metadata": {},
   "outputs": [],
   "source": [
    "initial_distribution = tfp.distributions.Categorical(logits=np.zeros(num_states))\n",
    "transition_distribution = tfp.distributions.Categorical(logits=np.zeros((num_states, num_states)))\n",
    "emission_means = tfp.distributions.Gamma(3.0, 1.0).sample(seed=jr.PRNGKey(0), sample_shape=(num_states, num_channels))\n",
    "emission_distribution = tfp.distributions.Independent(tfp.distributions.Poisson(emission_means), reinterpreted_batch_ndims=1)\n",
    "test_hmm = GaussianHMM(num_states, initial_distribution, transition_distribution, emission_distribution)\n",
    "\n",
    "lps, test_hmm, posterior = test_hmm.fit(all_data, method=\"em\")"
   ]
  },
  {
   "cell_type": "code",
   "execution_count": null,
   "metadata": {},
   "outputs": [],
   "source": [
    "initial_distribution = tfp.distributions.Categorical(logits=np.zeros(num_states))\n",
    "transition_distribution = tfp.distributions.Categorical(logits=np.zeros((num_states, num_states)))\n",
    "emission_means = tfp.distributions.Gamma(3.0, 1.0).sample(seed=jr.PRNGKey(0), sample_shape=(num_states, num_channels))\n",
    "emission_distribution = tfp.distributions.Independent(tfp.distributions.Poisson(emission_means), reinterpreted_batch_ndims=1)\n",
    "test_hmm = PoissonHMM(num_states, initial_distribution, transition_distribution, emission_distribution)\n",
    "\n",
    "lps, test_hmm, posterior = test_hmm.fit(all_data, method=\"em\")"
   ]
  },
  {
   "cell_type": "code",
   "execution_count": null,
   "metadata": {},
   "outputs": [],
   "source": [
    "# plot marginal log probabilities\n",
    "plt.title(\"Marginal Log Probability\")\n",
    "plt.ylabel(\"lp\")\n",
    "plt.xlabel(\"idx\")\n",
    "plt.plot(lps / data.size)\n",
    "\n",
    "compare_transition_matrix(poisson_hmm.transition_matrix, test_hmm.transition_matrix)"
   ]
  },
  {
   "cell_type": "code",
   "execution_count": null,
   "metadata": {},
   "outputs": [],
   "source": [
    "for trial_idx in range(3):\n",
    "    print(\"=\"*5, f\"Trial: {trial_idx}\", \"=\"*5)\n",
    "    Ez = posterior.expected_states[trial_idx]\n",
    "    states = all_states[trial_idx]\n",
    "    perm = find_permutation(states, np.argmax(Ez, axis=-1))\n",
    "    plot_posterior_states(Ez, states, perm)"
   ]
  },
  {
   "cell_type": "code",
   "execution_count": null,
   "metadata": {},
   "outputs": [],
   "source": []
  }
 ],
 "metadata": {
  "interpreter": {
   "hash": "1c9b7abd99f812592e04518a2dddca5f7bc8ca20b74b8ad7e1b8422bf8e8c0a8"
  },
  "kernelspec": {
   "display_name": "Python 3.9.6 64-bit ('ssm_jax': conda)",
   "name": "python3"
  },
  "language_info": {
   "codemirror_mode": {
    "name": "ipython",
    "version": 3
   },
   "file_extension": ".py",
   "mimetype": "text/x-python",
   "name": "python",
   "nbconvert_exporter": "python",
   "pygments_lexer": "ipython3",
   "version": "3.9.6"
  }
 },
 "nbformat": 4,
 "nbformat_minor": 4
}
