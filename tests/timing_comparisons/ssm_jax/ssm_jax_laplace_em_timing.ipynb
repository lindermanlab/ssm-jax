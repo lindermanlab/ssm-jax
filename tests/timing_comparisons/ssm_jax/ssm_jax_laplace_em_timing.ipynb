{
 "cells": [
  {
   "cell_type": "code",
   "execution_count": 9,
   "metadata": {},
   "outputs": [],
   "source": [
    "import jax.experimental.optimizers as optimizers\n",
    "import jax.numpy as np\n",
    "import jax.random as jr\n",
    "import matplotlib.pyplot as plt\n",
    "from jax import jit, value_and_grad, vmap\n",
    "from matplotlib.gridspec import GridSpec\n",
    "from ssm.distributions.glm import GaussianGLM, PoissonGLM\n",
    "from ssm.distributions.linreg import GaussianLinearRegression\n",
    "from ssm.models.lds import LDS, GaussianLDS\n",
    "from ssm.plots import plot_dynamics_2d\n",
    "from ssm.utils import random_rotation\n",
    "from tensorflow_probability.substrates import jax as tfp\n",
    "from tqdm.auto import trange\n",
    "import warnings\n",
    "\n",
    "def create_random_plds(emissions_dim=10, latent_dim=2, rng=jr.PRNGKey(0)):\n",
    "    key1, key2 = jr.split(rng, 2)\n",
    "    \n",
    "    initial_distribution = tfp.distributions.MultivariateNormalTriL(\n",
    "        np.zeros(latent_dim), np.eye(latent_dim))\n",
    "\n",
    "    dynamics_distribution = GaussianLinearRegression(\n",
    "        random_rotation(key1, latent_dim, theta=np.pi/20),\n",
    "        np.zeros(latent_dim), \n",
    "        0.1**2 * np.eye(latent_dim))\n",
    "\n",
    "    emissions_distribution = PoissonGLM(\n",
    "        jr.normal(key2, shape=(emissions_dim, latent_dim)), \n",
    "        np.ones(emissions_dim))\n",
    "\n",
    "    # Initialize our true Poisson LDS model\n",
    "    lds = LDS(initial_distribution, \n",
    "                dynamics_distribution,\n",
    "                emissions_distribution)\n",
    "    \n",
    "    return lds\n",
    "\n",
    "def sample_plds(lds, num_trials=5, time_bins=200, rng=jr.PRNGKey(0)):\n",
    "    with warnings.catch_warnings():\n",
    "        warnings.filterwarnings('ignore', category=UserWarning)\n",
    "        all_states, all_data = lds.sample(key=rng, num_steps=time_bins, num_samples=num_trials)\n",
    "    return all_states, all_data\n",
    "\n",
    "from time import time\n",
    "def timer(func):\n",
    "    def wrap_func(*args, **kwargs):\n",
    "        t1 = time()\n",
    "        result = func(*args, **kwargs)\n",
    "        t2 = time()\n",
    "        t_elapsed = t2-t1\n",
    "        print(f'Function {func.__name__!r} executed in {t_elapsed:.4f}s')\n",
    "        return result, t_elapsed\n",
    "    return wrap_func\n",
    "\n",
    "def prep_laplace_em_test(emission_dim=10, latent_dim=2, num_trials=5, time_bins=200, rng=jr.PRNGKey(0)):\n",
    "    true_rng, sample_rng, test_rng = jr.split(rng, 3)\n",
    "\n",
    "    # create and sample from true_lds\n",
    "    true_lds = create_random_plds(emission_dim, latent_dim, rng=true_rng)\n",
    "    states, data = sample_plds(true_lds, num_trials, time_bins, rng=sample_rng)\n",
    "    \n",
    "    # create test_lds and fit\n",
    "    test_lds = create_random_plds(emission_dim, latent_dim, rng=test_rng)\n",
    "    return true_lds, test_lds, states, data\n",
    "\n",
    "def time_laplace_em(emission_dim=10, latent_dim=2, num_trials=5, time_bins=200, rng=jr.PRNGKey(0)):\n",
    "    rng_prep, rng_fit = jr.split(rng, 2)\n",
    "    true_lds, test_lds, states, data = prep_laplace_em_test(emission_dim, latent_dim, num_trials, time_bins, rng_prep)\n",
    "    (elbos, fitted_lds, posteriors), fit_time = timer(test_lds.fit)(data, method=\"laplace_em\", rng=rng_fit)\n",
    "    return (elbos, fitted_lds, posteriors), fit_time"
   ]
  },
  {
   "cell_type": "code",
   "execution_count": null,
   "metadata": {},
   "outputs": [
    {
     "data": {
      "application/vnd.jupyter.widget-view+json": {
       "model_id": "e7726aa8de604e69b5129e2a48c12bea",
       "version_major": 2,
       "version_minor": 0
      },
      "text/plain": [
       "  0%|          | 0/1 [00:00<?, ?it/s]"
      ]
     },
     "metadata": {},
     "output_type": "display_data"
    },
    {
     "data": {
      "application/vnd.jupyter.widget-view+json": {
       "model_id": "8f102a68ad9b4f30acf8eeadf1a6e30d",
       "version_major": 2,
       "version_minor": 0
      },
      "text/plain": [
       "  0%|          | 0/100 [00:00<?, ?it/s]"
      ]
     },
     "metadata": {},
     "output_type": "display_data"
    }
   ],
   "source": [
    "from tqdm.auto import trange\n",
    "\n",
    "times = dict()\n",
    "for i in trange(0, 31, 5):\n",
    "    if i == 0: i += 1\n",
    "    _, elapsed_time = time_laplace_em(num_trials=i)\n",
    "    times[i] = elapsed_time"
   ]
  },
  {
   "cell_type": "code",
   "execution_count": 8,
   "metadata": {},
   "outputs": [
    {
     "data": {
      "image/png": "[encoded data removed]",
      "text/plain": [
       "<Figure size 432x288 with 1 Axes>"
      ]
     },
     "metadata": {
      "needs_background": "light"
     },
     "output_type": "display_data"
    }
   ],
   "source": [
    "x = list(times.keys())\n",
    "y = list(times.values())\n",
    "out = np.array([x, y])\n",
    "\n",
    "np.save(\"../data/ssm_jax/laplace_em_num_trials.npz\", out)\n",
    "out_from_file = np.load(\"../data/ssm_jax/laplace_em_num_trials.npy\")\n",
    "plt.plot(*out_from_file, '.-')\n",
    "plt.xlabel(\"Number of Independent Trials in Fit\")\n",
    "plt.ylabel(\"Time Elapsed (s)\")\n",
    "plt.show()"
   ]
  },
  {
   "cell_type": "code",
   "execution_count": null,
   "metadata": {},
   "outputs": [],
   "source": []
  }
 ],
 "metadata": {
  "interpreter": {
   "hash": "b6376f36d2a576cb3aa96bdc8604fd3c48ab4175c4f0714c2dd2fe4ec268050b"
  },
  "kernelspec": {
   "display_name": "Python 3 (ipykernel)",
   "language": "python",
   "name": "python3"
  },
  "language_info": {
   "codemirror_mode": {
    "name": "ipython",
    "version": 3
   },
   "file_extension": ".py",
   "mimetype": "text/x-python",
   "name": "python",
   "nbconvert_exporter": "python",
   "pygments_lexer": "ipython3",
   "version": "3.9.7"
  }
 },
 "nbformat": 4,
 "nbformat_minor": 4
}
