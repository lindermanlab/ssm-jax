{
 "cells": [
  {
   "cell_type": "code",
   "execution_count": 113,
   "id": "01cd5fe5-d376-4d87-95e6-5ac00726c30b",
   "metadata": {},
   "outputs": [],
   "source": [
    "import matplotlib.pyplot as plt\n",
    "import numpy as np\n",
    "import glob\n",
    "import json\n",
    "import os"
   ]
  },
  {
   "cell_type": "code",
   "execution_count": 114,
   "id": "16d99d05-7e12-410f-8487-030fe0767a7e",
   "metadata": {},
   "outputs": [],
   "source": [
    "plt.style.use(\"ggplot\")"
   ]
  },
  {
   "cell_type": "code",
   "execution_count": 119,
   "id": "624564fd-1108-434e-b3b3-f51221b87a79",
   "metadata": {},
   "outputs": [],
   "source": [
    "def _load_data(file_name, repo, use_most_recent_file=True, parameter=None):\n",
    "    if use_most_recent_file:\n",
    "        try:\n",
    "            file_name = sorted(glob.glob(f\"./data/{repo}/{file_name}\" + \"*.json\" ))[-1]\n",
    "        except IndexError:\n",
    "            raise ValueError(f\"Data file {file_name} not found for {repo}.\")\n",
    "        assert os.path.exists(file_name), \"no file found\"\n",
    "    else:\n",
    "        file_name = \"./data/{repo}/{file_name}.json\"\n",
    "        assert os.path.exists(file_name), \"no file found\"\n",
    "\n",
    "    print(f\"Loaded {repo} data from \", file_name)\n",
    "\n",
    "    with open(file_name, \"r\") as f:\n",
    "        data = json.load(f)\n",
    "\n",
    "    # if not specified, load the first we encounter in the JSON\n",
    "    if parameter is None:\n",
    "        parameter = list(data[0][\"params\"].keys())[0]\n",
    "    param_values = np.array([dat[\"params\"][parameter] for dat in data])\n",
    "    time_values = np.array([dat[\"time\"] for dat in data])\n",
    "    return param_values, time_values\n",
    "\n",
    "def compare_plot(file_name, time_units=\"min\", use_most_recent_file=True, parameter=None):\n",
    "    \n",
    "    def _plot(x, y, label=\"\"):\n",
    "        if time_units == \"min\": y /= 60.\n",
    "        plt.plot(x, y, '.', label=label)\n",
    "        m, b = np.polyfit(x, y, 1)\n",
    "        plt.plot(x, m*x+b, '-', label=label)\n",
    "\n",
    "    ssm_old = _load_data(file_name, \"ssm_old\", use_most_recent_file, parameter)\n",
    "    ssm_jax = _load_data(file_name, \"ssm_jax\", use_most_recent_file, parameter)\n",
    "\n",
    "    plt.figure(figsize=(8, 5))\n",
    "    _plot(*ssm_old, label=\"SSM\")\n",
    "    _plot(*ssm_jax, label=\"SSM JAX\")\n",
    "\n",
    "    plt.xlabel(parameter)\n",
    "    plt.ylabel(f\"Time Elapsed ({time_units})\")\n",
    "    plt.legend()\n",
    "    plt.show()"
   ]
  },
  {
   "cell_type": "code",
   "execution_count": 120,
   "metadata": {},
   "outputs": [
    {
     "name": "stdout",
     "output_type": "stream",
     "text": [
      "Loaded ssm_old data from  ./data/ssm_old/laplace_em.time_laplace_em.num_trials-20211019-151357.json\n",
      "Loaded ssm_jax data from  ./data/ssm_jax/laplace_em.time_laplace_em.num_trials-20211019-150943.json\n"
     ]
    },
    {
     "data": {
      "image/png": "[encoded data removed]",
      "text/plain": [
       "<Figure size 576x360 with 1 Axes>"
      ]
     },
     "metadata": {},
     "output_type": "display_data"
    }
   ],
   "source": [
    "compare_plot(\"laplace_em\")"
   ]
  }
 ],
 "metadata": {
  "interpreter": {
   "hash": "b6376f36d2a576cb3aa96bdc8604fd3c48ab4175c4f0714c2dd2fe4ec268050b"
  },
  "kernelspec": {
   "display_name": "Python 3.9.7 64-bit ('ssmjax': conda)",
   "name": "python3"
  },
  "language_info": {
   "codemirror_mode": {
    "name": "ipython",
    "version": 3
   },
   "file_extension": ".py",
   "mimetype": "text/x-python",
   "name": "python",
   "nbconvert_exporter": "python",
   "pygments_lexer": "ipython3",
   "version": "3.9.7"
  }
 },
 "nbformat": 4,
 "nbformat_minor": 5
}
