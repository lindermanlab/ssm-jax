{
 "cells": [
  {
   "cell_type": "code",
   "execution_count": 1,
   "id": "7c2cbb33-594a-4b33-bc0e-a1d3ba94161c",
   "metadata": {},
   "outputs": [
    {
     "data": {
      "text/plain": [
       "'/Users/collinschlager/Code/ssm/ssm/__init__.py'"
      ]
     },
     "execution_count": 1,
     "metadata": {},
     "output_type": "execute_result"
    }
   ],
   "source": [
    "import ssm\n",
    "ssm.__file__"
   ]
  },
  {
   "cell_type": "code",
   "execution_count": 2,
   "id": "fdade9f7-c4fc-4063-aadd-259154d12fcb",
   "metadata": {},
   "outputs": [],
   "source": [
    "import matplotlib.pyplot as plt"
   ]
  },
  {
   "cell_type": "code",
   "execution_count": 3,
   "id": "28ab3e4d-a979-4d44-8327-9b2487b5d7a0",
   "metadata": {},
   "outputs": [],
   "source": [
    "from ssm import LDS\n",
    "import numpy as np"
   ]
  },
  {
   "cell_type": "code",
   "execution_count": 16,
   "id": "c0fc4a26-c971-4f6c-95d1-788ee4f44d98",
   "metadata": {},
   "outputs": [],
   "source": [
    "from time import time\n",
    "def timer(func):\n",
    "    def wrap_func(*args, **kwargs):\n",
    "        t1 = time()\n",
    "        result = func(*args, **kwargs)\n",
    "        t2 = time()\n",
    "        t_elapsed = t2-t1\n",
    "        print(f'Function {func.__name__!r} executed in {t_elapsed:.4f}s')\n",
    "        return result, t_elapsed\n",
    "    return wrap_func"
   ]
  },
  {
   "cell_type": "code",
   "execution_count": 17,
   "id": "60c98cfa-dc69-4063-a0f6-452f80f75775",
   "metadata": {},
   "outputs": [],
   "source": [
    "N = 10\n",
    "D = 2\n",
    "true_lds = LDS(N, D, dynamics=\"gaussian\", emissions=\"poisson\")"
   ]
  },
  {
   "cell_type": "code",
   "execution_count": 47,
   "id": "3fb619be-8555-4a99-90e5-552c86f8209c",
   "metadata": {},
   "outputs": [],
   "source": [
    "def sample_lds(true_lds, num_trials):\n",
    "    all_states, all_data = [], []\n",
    "    for i in range(num_trials):\n",
    "        states, data = true_lds.sample(T=200)\n",
    "        all_states.append(states)\n",
    "        all_data.append(data)\n",
    "    return all_states, all_data\n",
    "\n",
    "def test_laplace_em(N=10, D=2, T=200, num_trials=1):\n",
    "    true_lds = LDS(N, D, dynamics=\"gaussian\", emissions=\"poisson\")\n",
    "    all_states, all_data = sample_lds(true_lds, num_trials=num_trials)\n",
    "    test_lds = LDS(N, D, dynamics=\"gaussian\", emissions=\"poisson\")\n",
    "    (q_elbos_lem_train, q_lem_train), time_elapsed = timer(test_lds.fit)(\n",
    "        datas=all_data,\n",
    "        method=\"laplace_em\",\n",
    "        variational_posterior=\"structured_meanfield\",\n",
    "        num_init_iters=0, num_iters=100, verbose=False\n",
    "    )\n",
    "    return (q_elbos_lem_train, q_lem_train), time_elapsed"
   ]
  },
  {
   "cell_type": "code",
   "execution_count": 48,
   "id": "b26455ec-0a24-4a8c-b297-53a690466972",
   "metadata": {},
   "outputs": [
    {
     "data": {
      "application/vnd.jupyter.widget-view+json": {
       "model_id": "78767822c5eb433daad98338e0324286",
       "version_major": 2,
       "version_minor": 0
      },
      "text/plain": [
       "  0%|          | 0/7 [00:00<?, ?it/s]"
      ]
     },
     "metadata": {},
     "output_type": "display_data"
    },
    {
     "name": "stdout",
     "output_type": "stream",
     "text": [
      "Function 'wrapper' executed in 5.1781s\n",
      "Function 'wrapper' executed in 19.5819s\n",
      "Function 'wrapper' executed in 30.8551s\n",
      "Function 'wrapper' executed in 39.2042s\n",
      "Function 'wrapper' executed in 53.7339s\n",
      "Function 'wrapper' executed in 80.0159s\n",
      "Function 'wrapper' executed in 100.2803s\n"
     ]
    }
   ],
   "source": [
    "from tqdm.auto import trange\n",
    "\n",
    "times = dict()\n",
    "for t in trange(0, 31, 5):\n",
    "    if t==0: t+=1\n",
    "    _, time_elapsed = test_laplace_em(num_trials=t)\n",
    "    times[t] = time_elapsed"
   ]
  },
  {
   "cell_type": "code",
   "execution_count": 54,
   "id": "d741d207-1774-4471-8eec-1f5a1dab333a",
   "metadata": {},
   "outputs": [
    {
     "data": {
      "text/plain": [
       "dict_items([(1, 5.178060054779053), (5, 19.5818989276886), (10, 30.855133056640625), (15, 39.204230070114136), (20, 53.7339301109314), (25, 80.01592803001404), (30, 100.28030014038086)])"
      ]
     },
     "execution_count": 54,
     "metadata": {},
     "output_type": "execute_result"
    }
   ],
   "source": [
    "times.items()"
   ]
  },
  {
   "cell_type": "code",
   "execution_count": 75,
   "id": "e212f4be-c4c3-4aa2-a99f-d8f116ea2bd8",
   "metadata": {},
   "outputs": [
    {
     "data": {
      "image/png": "[encoded data removed]",
      "text/plain": [
       "<Figure size 432x288 with 1 Axes>"
      ]
     },
     "metadata": {
      "needs_background": "light"
     },
     "output_type": "display_data"
    }
   ],
   "source": [
    "x = list(times.keys())\n",
    "y = list(times.values())\n",
    "out = np.array([x, y])\n",
    "\n",
    "np.save(\"../data/ssm_old/laplace_em_num_trials\", out)\n",
    "out_from_file = np.load(\"../data/ssm_old/laplace_em_num_trials.npy\")\n",
    "plt.plot(*out_from_file)\n",
    "plt.xlabel(\"Number of Independent Trials in Fit\")\n",
    "plt.ylabel(\"Time Elapsed (s)\")\n",
    "plt.show()"
   ]
  }
 ],
 "metadata": {
  "kernelspec": {
   "display_name": "Python 3 (ipykernel)",
   "language": "python",
   "name": "python3"
  },
  "language_info": {
   "codemirror_mode": {
    "name": "ipython",
    "version": 3
   },
   "file_extension": ".py",
   "mimetype": "text/x-python",
   "name": "python",
   "nbconvert_exporter": "python",
   "pygments_lexer": "ipython3",
   "version": "3.9.7"
  }
 },
 "nbformat": 4,
 "nbformat_minor": 5
}
