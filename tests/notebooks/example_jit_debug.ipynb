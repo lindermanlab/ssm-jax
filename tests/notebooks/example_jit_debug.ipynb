{
 "cells": [
  {
   "cell_type": "markdown",
   "metadata": {},
   "source": [
    "# Debugging Re-JIT Bugs\n",
    "\n",
    "Occasionally, you may notice a function is being re-jitted against your intentions. Oftentimes, this is due to a PyTree shape or structure mismatch; however, it can be challenging to diagnose exactly which component is to blame (especially if you have nested PyTrees!).\n",
    "\n",
    "This notebook introduces a decorator that helps diagnose re-jitting bugs: `@debug_rejit`.\n",
    "\n",
    "By simply adding this decorator to the problematic function (either above the `@jit` decorator OR replacing it), the wrapped function will print diagnostics when it detects a change in the PyTree shape/structure from one function call to the next. Please see the real-life example code cells below to see it in action!\n",
    "\n",
    "__Note: these debugging utility functions can be found in `ssm.utils`__\n",
    "\n",
    "## Quickstart\n",
    "\n",
    "```python\n",
    "@debug_rejit    # <--- ADD DEBUG DECORATOR HERE\n",
    "@jax\n",
    "def f(x)\n",
    "    # problematic function is being re-jitted!\n",
    "    ...\n",
    "    return y\n",
    "\n",
    "...\n",
    "\n",
    "# run f(x) as you normally would\n",
    "```"
   ]
  },
  {
   "cell_type": "code",
   "execution_count": 1,
   "id": "42675fd9-b8d4-40a6-a808-fcfa60bd6d53",
   "metadata": {},
   "outputs": [],
   "source": [
    "from ssm.utils import debug_rejit"
   ]
  },
  {
   "cell_type": "markdown",
   "id": "5eff83fa-e59c-4fc5-b402-8481a5f29027",
   "metadata": {},
   "source": [
    "# Examples\n",
    "\n",
    "## 1) Shape mismatch"
   ]
  },
  {
   "cell_type": "code",
   "execution_count": 2,
   "id": "444e1bc8-08f2-4a54-98ab-286538e5e3e0",
   "metadata": {},
   "outputs": [
    {
     "name": "stderr",
     "output_type": "stream",
     "text": [
      "WARNING:absl:No GPU/TPU found, falling back to CPU. (Set TF_CPP_MIN_LOG_LEVEL=0 and rerun for more info.)\n"
     ]
    },
    {
     "name": "stdout",
     "output_type": "stream",
     "text": [
      "jit compiling!\n",
      "jit compiling!\n",
      "\u001b[91m[[PyTree Leaf Shape mismatch found for input at index 0]]\n",
      "prev=(2,)\n",
      "curr=(3,) \u001b[0m\n",
      "\u001b[91m[input pytree leaf [0]]\n",
      "prev= DeviceArray([0, 1], dtype=int32)\n",
      "curr= DeviceArray([1, 2, 3], dtype=int32) \u001b[0m\n",
      "\u001b[91m[[PyTree Leaf Shape mismatch found for output at index 0]]\n",
      "prev=(2,)\n",
      "curr=(3,) \u001b[0m\n",
      "\u001b[91m[output pytree leaf [0]]\n",
      "prev= DeviceArray([1, 2], dtype=int32)\n",
      "curr= DeviceArray([2, 3, 4], dtype=int32) \u001b[0m\n"
     ]
    }
   ],
   "source": [
    "import jax.random as jr\n",
    "import jax.numpy as np\n",
    "from jax import jit\n",
    "\n",
    "@debug_rejit\n",
    "@jit\n",
    "def f(x):\n",
    "    print(\"jit compiling!\")\n",
    "    x += 1\n",
    "    return x\n",
    "\n",
    "x = np.array([0, 1, 2])\n",
    "x = f(x)  # NOTE: compiles for input shape (3,) and output shape (3,)\n",
    "x = f(x)  # runs the compiled function\n",
    "\n",
    "x = np.array([0, 1])\n",
    "x = f(x)  # NOTE: has to re-compile for input shape (2,) and output shape (2,)\n",
    "x = f(x)  # runs the new-compiled function"
   ]
  },
  {
   "cell_type": "markdown",
   "id": "34fa6e4f-2a35-4e86-9088-3ea235e537ff",
   "metadata": {},
   "source": [
    "## 2) PyTree Structure Mismatch"
   ]
  },
  {
   "cell_type": "code",
   "execution_count": 3,
   "id": "b2ed14ef-442d-4ce4-b486-8886174a06b2",
   "metadata": {},
   "outputs": [
    {
     "name": "stdout",
     "output_type": "stream",
     "text": [
      "jit compiling!\n",
      "jit compiling!\n",
      "\u001b[91m[[PyTreeDef Structure mismatch found for input at index 0 (arg=my_dist)]]\n",
      "prev=PyTreeDef(CustomNode(<class 'tensorflow_probability.substrates.jax.distributions.categorical.Categorical'>[(('logits', 'probs'), {'dtype': <class 'jax._src.numpy.lax_numpy.int32'>, 'validate_args': False, 'allow_nan_stats': True, 'name': 'Categorical'})], [None, *]))\n",
      "curr=PyTreeDef(CustomNode(<class 'tensorflow_probability.substrates.jax.distributions.categorical.Categorical'>[(('logits', 'probs'), {'dtype': <class 'jax._src.numpy.lax_numpy.int32'>, 'validate_args': False, 'allow_nan_stats': True, 'name': 'Categorical'})], [*, None])) \u001b[0m\n",
      "\u001b[91m[input pytree structure [0]]\n",
      "prev= Traced<ShapedArray(float32[5])>with<DynamicJaxprTrace(level=0/1)>\n",
      "curr= Traced<ShapedArray(float32[5])>with<DynamicJaxprTrace(level=0/1)> \u001b[0m\n"
     ]
    }
   ],
   "source": [
    "import tensorflow_probability.substrates.jax as tfp\n",
    "\n",
    "# initialize distribution\n",
    "my_dist = tfp.distributions.Categorical(logits=np.ones((5,)))  # NOTE: parameterize using logits\n",
    "\n",
    "@debug_rejit\n",
    "@jit\n",
    "def m_step(my_dist, rng):\n",
    "    print(\"jit compiling!\")\n",
    "    new_probs = jr.normal(rng, (5,))\n",
    "    return tfp.distributions.Categorical(probs=new_probs)  # NOTE: parameterize using probs!\n",
    "m_step = jit(m_step)\n",
    "\n",
    "rng = jr.PRNGKey(0)\n",
    "num_updates = 3\n",
    "for _ in range(num_updates):\n",
    "    this_rng, rng = jr.split(rng, 2)\n",
    "    my_dist = m_step(my_dist, this_rng)"
   ]
  },
  {
   "cell_type": "markdown",
   "id": "e146d972",
   "metadata": {},
   "source": [
    "# Weak Type Promotion Issue"
   ]
  },
  {
   "cell_type": "code",
   "execution_count": 4,
   "id": "50723f57",
   "metadata": {},
   "outputs": [
    {
     "name": "stdout",
     "output_type": "stream",
     "text": [
      "Arrays are equal?  True\n",
      "\n",
      "----- Under the Hood ------\n",
      "DeviceArray(5, dtype=int32, weak_type=True)\n",
      "DeviceArray(5., dtype=float32)\n",
      "\n",
      "----- Simple Jitted Function (1x jit) ------\n",
      "jit!\n",
      "\n",
      "----- Unravel Jitted Function (2x jit) ------\n",
      "jit!\n",
      "jit!\n"
     ]
    }
   ],
   "source": [
    "from jax import jit\n",
    "from jax.flatten_util import ravel_pytree\n",
    "from ssm.utils import debug_rejit\n",
    "from jax import tree_util\n",
    "\n",
    "print(\"Arrays are equal? \", np.array(5) == np.array(5, dtype=\"float32\"))\n",
    "\n",
    "print(\"\\n----- Under the Hood ------\")\n",
    "print(repr(np.array(5)))\n",
    "print(repr(np.array(5, dtype=np.float32)))\n",
    "\n",
    "# doesn't rejit\n",
    "print(\"\\n----- Simple Jitted Function (1x jit) ------\")\n",
    "@jit\n",
    "def f(x):\n",
    "    print(\"jit!\")\n",
    "    return x\n",
    "\n",
    "x = np.array(5)\n",
    "x = f(x)\n",
    "x = f(x)\n",
    "x = f(x)\n",
    "\n",
    "# ravel / unravel seems to mess up weak typed arrays \n",
    "print(\"\\n----- Unravel Jitted Function (2x jit) ------\")\n",
    "@jit\n",
    "def f(x):\n",
    "    print(\"jit!\")\n",
    "    flat_x, unflatten_fn = ravel_pytree(x)\n",
    "    return unflatten_fn(flat_x)\n",
    "\n",
    "x = np.array(5)\n",
    "x = f(x)\n",
    "x = f(x)\n",
    "x = f(x)"
   ]
  },
  {
   "cell_type": "code",
   "execution_count": 5,
   "id": "99b30716",
   "metadata": {},
   "outputs": [
    {
     "name": "stdout",
     "output_type": "stream",
     "text": [
      "jit!\n",
      "jit!\n",
      "\u001b[91m[[Pytree Leaf Device Array Weak Type mismatch found for input at index 0]]\n",
      "prev=False\n",
      "curr=True \u001b[0m\n",
      "\u001b[91m[input pytree leaf [0]]\n",
      "prev= DeviceArray(5, dtype=int32)\n",
      "curr= DeviceArray(5, dtype=int32, weak_type=True) \u001b[0m\n"
     ]
    }
   ],
   "source": [
    "# let's use our debugger to find what's going wrong!\n",
    "@debug_rejit\n",
    "@jit\n",
    "def f(x):\n",
    "    print(\"jit!\")\n",
    "    flat_x, unflatten_fn = ravel_pytree(x)\n",
    "    return unflatten_fn(flat_x)\n",
    "\n",
    "x = np.array(5)\n",
    "x = f(x)\n",
    "x = f(x)\n",
    "x = f(x)"
   ]
  },
  {
   "cell_type": "code",
   "execution_count": null,
   "id": "77960454",
   "metadata": {},
   "outputs": [],
   "source": []
  }
 ],
 "metadata": {
  "interpreter": {
   "hash": "b6376f36d2a576cb3aa96bdc8604fd3c48ab4175c4f0714c2dd2fe4ec268050b"
  },
  "kernelspec": {
   "display_name": "Python 3.9.7 64-bit ('ssmjax': conda)",
   "name": "python3"
  },
  "language_info": {
   "codemirror_mode": {
    "name": "ipython",
    "version": 3
   },
   "file_extension": ".py",
   "mimetype": "text/x-python",
   "name": "python",
   "nbconvert_exporter": "python",
   "pygments_lexer": "ipython3",
   "version": "3.9.7"
  }
 },
 "nbformat": 4,
 "nbformat_minor": 5
}
