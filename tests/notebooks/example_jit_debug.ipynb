{
 "cells": [
  {
   "cell_type": "markdown",
   "id": "69b0c149",
   "metadata": {},
   "source": [
    "# Debugging Re-JIT Bugs\n",
    "\n",
    "[![Open In Colab](https://colab.research.google.com/assets/colab-badge.svg)](https://colab.research.google.com/github/lindermanlab/ssm-jax-refactor/blob/main/tests/notebooks/example_jit_debug.ipynb)\n",
    "\n",
    "Occasionally, you may notice a function is being re-jitted against your intentions. Oftentimes, this is due to a PyTree shape or structure mismatch; however, it can be challenging to diagnose exactly which component is to blame (especially if you have nested PyTrees!).\n",
    "\n",
    "This notebook introduces a decorator that helps diagnose re-jitting bugs: `@debug_rejit`.\n",
    "\n",
    "By simply adding this decorator to the problematic function (either above the `@jit` decorator OR replacing it), the wrapped function will print diagnostics when it detects a change in the PyTree shape/structure from one function call to the next. Please see the real-life example code cells below to see it in action!\n",
    "\n",
    "__Note: these debugging utility functions can be found in `ssm.utils`__\n",
    "\n",
    "## Quickstart\n",
    "\n",
    "```python\n",
    "@debug_rejit    # <--- ADD DEBUG DECORATOR HERE\n",
    "@jax\n",
    "def f(x)\n",
    "    # problematic function is being re-jitted!\n",
    "    ...\n",
    "    return y\n",
    "\n",
    "...\n",
    "\n",
    "# run f(x) as you normally would\n",
    "```"
   ]
  },
  {
   "cell_type": "code",
   "execution_count": 2,
   "id": "f3db8a5d-dce9-4290-baac-3947727d815d",
   "metadata": {},
   "outputs": [],
   "source": [
    "# install ssm-jax if you don't have it (need to authenticate because it's a private repo)\n",
    "try:\n",
    "    import ssm\n",
    "except:\n",
    "    import os\n",
    "    from getpass import getpass\n",
    "    user = getpass('GitHub user')\n",
    "    password = getpass('GitHub token')\n",
    "    os.environ['GITHUB_AUTH'] = user + ':' + password\n",
    "    !pip install git+https://$GITHUB_AUTH@github.com/lindermanlab/ssm-jax-refactor.git -qqq\n",
    "    del user, password\n",
    "    import ssm"
   ]
  },
  {
   "cell_type": "code",
   "execution_count": 3,
   "id": "42675fd9-b8d4-40a6-a808-fcfa60bd6d53",
   "metadata": {},
   "outputs": [],
   "source": [
    "from ssm.utils import debug_rejit"
   ]
  },
  {
   "cell_type": "markdown",
   "id": "5eff83fa-e59c-4fc5-b402-8481a5f29027",
   "metadata": {},
   "source": [
    "# Examples\n",
    "\n",
    "## 1) Shape mismatch"
   ]
  },
  {
   "cell_type": "code",
   "execution_count": 4,
   "id": "444e1bc8-08f2-4a54-98ab-286538e5e3e0",
   "metadata": {},
   "outputs": [
    {
     "name": "stderr",
     "output_type": "stream",
     "text": [
      "WARNING:absl:No GPU/TPU found, falling back to CPU. (Set TF_CPP_MIN_LOG_LEVEL=0 and rerun for more info.)\n"
     ]
    },
    {
     "name": "stdout",
     "output_type": "stream",
     "text": [
      "jit compiling!\n",
      "jit compiling!\n",
      "\u001b[91m[[PyTree Leaf Shape mismatch found for input at index 0]]\n",
      "prev=(2,)\n",
      "curr=(3,) \u001b[0m\n",
      "\u001b[91m[input pytree leaf [0]]\n",
      "prev= DeviceArray([0, 1], dtype=int32)\n",
      "curr= DeviceArray([1, 2, 3], dtype=int32) \u001b[0m\n",
      "\u001b[91m[[PyTree Leaf Shape mismatch found for output at index 0]]\n",
      "prev=(2,)\n",
      "curr=(3,) \u001b[0m\n",
      "\u001b[91m[output pytree leaf [0]]\n",
      "prev= DeviceArray([1, 2], dtype=int32)\n",
      "curr= DeviceArray([2, 3, 4], dtype=int32) \u001b[0m\n"
     ]
    }
   ],
   "source": [
    "import jax.random as jr\n",
    "import jax.numpy as np\n",
    "from jax import jit\n",
    "\n",
    "@debug_rejit\n",
    "@jit\n",
    "def f(x):\n",
    "    print(\"jit compiling!\")\n",
    "    x += 1\n",
    "    return x\n",
    "\n",
    "x = np.array([0, 1, 2])\n",
    "x = f(x)  # NOTE: compiles for input shape (3,) and output shape (3,)\n",
    "x = f(x)  # runs the compiled function\n",
    "\n",
    "x = np.array([0, 1])\n",
    "x = f(x)  # NOTE: has to re-compile for input shape (2,) and output shape (2,)\n",
    "x = f(x)  # runs the new-compiled function"
   ]
  },
  {
   "cell_type": "markdown",
   "id": "34fa6e4f-2a35-4e86-9088-3ea235e537ff",
   "metadata": {},
   "source": [
    "## 2) PyTree Structure Mismatch"
   ]
  },
  {
   "cell_type": "code",
   "execution_count": 5,
   "id": "b2ed14ef-442d-4ce4-b486-8886174a06b2",
   "metadata": {},
   "outputs": [
    {
     "name": "stdout",
     "output_type": "stream",
     "text": [
      "jit compiling!\n",
      "jit compiling!\n",
      "\u001b[91m[[PyTreeDef Structure mismatch found for input at index 0 (arg=my_dist)]]\n",
      "prev=PyTreeDef(CustomNode(<class 'tensorflow_probability.substrates.jax.distributions.categorical.Categorical'>[(('logits', 'probs'), {'dtype': <class 'jax._src.numpy.lax_numpy.int32'>, 'validate_args': False, 'allow_nan_stats': True, 'name': 'Categorical'})], [None, *]))\n",
      "curr=PyTreeDef(CustomNode(<class 'tensorflow_probability.substrates.jax.distributions.categorical.Categorical'>[(('logits', 'probs'), {'dtype': <class 'jax._src.numpy.lax_numpy.int32'>, 'validate_args': False, 'allow_nan_stats': True, 'name': 'Categorical'})], [*, None])) \u001b[0m\n",
      "\u001b[91m[input pytree structure [0]]\n",
      "prev= Traced<ShapedArray(float32[5])>with<DynamicJaxprTrace(level=0/1)>\n",
      "curr= Traced<ShapedArray(float32[5])>with<DynamicJaxprTrace(level=0/1)> \u001b[0m\n"
     ]
    }
   ],
   "source": [
    "import tensorflow_probability.substrates.jax as tfp\n",
    "\n",
    "# initialize distribution\n",
    "my_dist = tfp.distributions.Categorical(logits=np.ones((5,)))  # NOTE: parameterize using logits\n",
    "\n",
    "@debug_rejit\n",
    "@jit\n",
    "def m_step(my_dist, rng):\n",
    "    print(\"jit compiling!\")\n",
    "    new_probs = jr.normal(rng, (5,))\n",
    "    return tfp.distributions.Categorical(probs=new_probs)  # NOTE: parameterize using probs!\n",
    "m_step = jit(m_step)\n",
    "\n",
    "rng = jr.PRNGKey(0)\n",
    "num_updates = 3\n",
    "for _ in range(num_updates):\n",
    "    this_rng, rng = jr.split(rng, 2)\n",
    "    my_dist = m_step(my_dist, this_rng)"
   ]
  },
  {
   "cell_type": "markdown",
   "id": "e146d972",
   "metadata": {},
   "source": [
    "## 3) Weak Type Promotion Issue\n",
    "\n",
    "When DeviceArrays are initiailized without explicit dtype, the resulting array is \"weakly typed.\"\n",
    "\n",
    "Normally this is fine, but we noticed there is an issue with ravelling/unravelling these arrays inside of a jitted function that causes the funciton to be jitted twice.\n",
    "\n",
    "This is a subtle thing, because `==` considers the arrays equal [see below], and the problem only arises when you're doing something akin to ravelling/unravelling inside a jitted function (seems like the unravel function is doing type promotion in a way that isn't in agreement with how the array was initialized).\n",
    "\n",
    "Take a look below!"
   ]
  },
  {
   "cell_type": "code",
   "execution_count": 15,
   "id": "71b5c418-f47e-4a36-9b90-7ea7378eff89",
   "metadata": {},
   "outputs": [
    {
     "name": "stdout",
     "output_type": "stream",
     "text": [
      "Arrays are equal?  True\n",
      "\n",
      "----- Though, Under the Hood... ------\n",
      "DeviceArray(5, dtype=int32, weak_type=True)\n",
      "DeviceArray(5., dtype=float32)\n"
     ]
    }
   ],
   "source": [
    "from jax import jit\n",
    "from jax.flatten_util import ravel_pytree\n",
    "from ssm.utils import debug_rejit\n",
    "from jax import tree_util\n",
    "\n",
    "print(\"Arrays are equal? \", np.array(5) == np.array(5, dtype=\"float32\"))\n",
    "\n",
    "print(\"\\n----- Though, Under the Hood... ------\")\n",
    "print(repr(np.array(5)))\n",
    "print(repr(np.array(5, dtype=np.float32)))"
   ]
  },
  {
   "cell_type": "code",
   "execution_count": 16,
   "id": "575d6fb3-9e71-4b74-b13a-a94dca30681d",
   "metadata": {},
   "outputs": [
    {
     "name": "stdout",
     "output_type": "stream",
     "text": [
      "\n",
      "----- Simple Jitted Function (1x jit) ------\n",
      "jit!\n"
     ]
    }
   ],
   "source": [
    "# doesn't rejit\n",
    "print(\"\\n----- Simple Jitted Function (1x jit) ------\")\n",
    "@jit\n",
    "def f(x):\n",
    "    print(\"jit!\")\n",
    "    return x\n",
    "\n",
    "x = np.array(5)\n",
    "x = f(x)\n",
    "x = f(x)\n",
    "x = f(x)"
   ]
  },
  {
   "cell_type": "code",
   "execution_count": 17,
   "id": "21a08c6e-1aac-4238-863f-0395e414a4e5",
   "metadata": {},
   "outputs": [
    {
     "name": "stdout",
     "output_type": "stream",
     "text": [
      "\n",
      "----- Unravel Jitted Function (2x jit) ------\n",
      "jit!\n",
      "jit!\n"
     ]
    }
   ],
   "source": [
    "# ravel / unravel seems to mess up weak typed arrays \n",
    "print(\"\\n----- Unravel Jitted Function (2x jit) ------\")\n",
    "@jit\n",
    "def f(x):\n",
    "    print(\"jit!\")\n",
    "    flat_x, unflatten_fn = ravel_pytree(x)\n",
    "    return unflatten_fn(flat_x)\n",
    "\n",
    "x = np.array(5)\n",
    "x = f(x)\n",
    "x = f(x)\n",
    "x = f(x)"
   ]
  },
  {
   "cell_type": "markdown",
   "id": "10295ca2-db8a-4cfa-a3fc-bb60ee3c3182",
   "metadata": {},
   "source": [
    "### We can use our debugger to diagnose the problem!"
   ]
  },
  {
   "cell_type": "code",
   "execution_count": 13,
   "id": "99b30716",
   "metadata": {},
   "outputs": [
    {
     "name": "stdout",
     "output_type": "stream",
     "text": [
      "jit!\n",
      "jit!\n",
      "\u001b[91m[[Pytree Leaf Device Array Weak Type mismatch found for input at index 0]]\n",
      "prev=False\n",
      "curr=True \u001b[0m\n",
      "\u001b[91m[input pytree leaf [0]]\n",
      "prev= DeviceArray(5, dtype=int32)\n",
      "curr= DeviceArray(5, dtype=int32, weak_type=True) \u001b[0m\n"
     ]
    }
   ],
   "source": [
    "# let's use our debugger to find what's going wrong!\n",
    "@debug_rejit\n",
    "@jit\n",
    "def f(x):\n",
    "    print(\"jit!\")\n",
    "    flat_x, unflatten_fn = ravel_pytree(x)\n",
    "    return unflatten_fn(flat_x)\n",
    "\n",
    "x = np.array(5)\n",
    "x = f(x)\n",
    "x = f(x)\n",
    "x = f(x)"
   ]
  }
 ],
 "metadata": {
  "interpreter": {
   "hash": "b6376f36d2a576cb3aa96bdc8604fd3c48ab4175c4f0714c2dd2fe4ec268050b"
  },
  "kernelspec": {
   "display_name": "Python 3 (ipykernel)",
   "language": "python",
   "name": "python3"
  },
  "language_info": {
   "codemirror_mode": {
    "name": "ipython",
    "version": 3
   },
   "file_extension": ".py",
   "mimetype": "text/x-python",
   "name": "python",
   "nbconvert_exporter": "python",
   "pygments_lexer": "ipython3",
   "version": "3.9.7"
  }
 },
 "nbformat": 4,
 "nbformat_minor": 5
}
